{
  "cells": [
    {
      "cell_type": "markdown",
      "metadata": {
        "pycharm": {}
      },
      "source": [
        "# TFM: Selección del modelo de predicción\n",
        "## Diego Sanz Alonso"
      ]
    },
    {
      "cell_type": "markdown",
      "metadata": {
        "pycharm": {}
      },
      "source": [
        "### 1) Importar librerías y creación de funciones auxiliares"
      ]
    },
    {
      "cell_type": "code",
      "execution_count": 2,
      "metadata": {
        "pycharm": {
          "is_executing": false
        }
      },
      "outputs": [],
      "source": [
        "#Only show warnings once\n",
        "import warnings\n",
        "warnings.filterwarnings(action\u003d\u0027ignore\u0027)"
      ]
    },
    {
      "cell_type": "code",
      "execution_count": 3,
      "metadata": {
        "pycharm": {
          "is_executing": false
        }
      },
      "outputs": [],
      "source": [
        "import numpy as np\n",
        "import pandas as pd\n",
        "from sklearn.model_selection import train_test_split\n",
        "from sklearn.model_selection import cross_val_score\n",
        "from sklearn.model_selection import cross_val_predict\n",
        "from sklearn import neighbors, tree\n",
        "from sklearn import linear_model\n",
        "from sklearn import svm\n",
        "import pickle\n",
        "from math import ceil\n",
        "\n",
        "from sklearn.metrics import accuracy_score\n",
        "from sklearn.metrics import precision_score\n",
        "from sklearn.metrics import recall_score\n",
        "from sklearn.metrics import f1_score\n",
        "from sklearn.metrics import roc_auc_score\n",
        "from sklearn.utils import check_array\n",
        "\n",
        "import matplotlib as mpl\n",
        "import matplotlib.pyplot as plt\n",
        "\n",
        "import seaborn as sns\n",
        "sns.set(color_codes\u003dTrue)"
      ]
    },
    {
      "cell_type": "markdown",
      "metadata": {
        "pycharm": {}
      },
      "source": [
        "### 2) Leer datos y crear conjunto de entrenamiento y test"
      ]
    },
    {
      "cell_type": "code",
      "execution_count": 25,
      "metadata": {
        "pycharm": {
          "is_executing": false
        }
      },
      "outputs": [
        {
          "name": "stdout",
          "text": [
            "Reading data\nE:\\Dropbox\\DOCENCIA\\TFM\\Diego Fermin\\tfm-repositorio\\Modelo de predicción\\datasets\\dataframes\\\nantlr4_classes.csv\n",
            "Clases sin bugs (negativos):  2664\nClases con bugs (positivos):  100\nProporcion de clases con bugs:  3.75 %\n"
          ],
          "output_type": "stream"
        }
      ],
      "source": "import os\n#print(os.getcwd())\ninput_data \u003d  os.getcwd()+os.sep+\"Modelo de predicción\"+os.sep+\"datasets\"+os.sep+\"dataframes\"+os.sep\n#df_file \u003d \"elasticsearch_classes.csv\"\ndf_file \u003d \"antlr4_classes.csv\"\n\nprint(\"Reading data\")\nprint(input_data)\nprint(df_file)\n\n# Classes dataframe\nclasses_df \u003d pd.read_csv(input_data + df_file,engine\u003d\u0027python\u0027)\n\nclasses_df[\u0027Has bugs\u0027] \u003d np.where(classes_df[\"Number of bugs\"]\u003e0, 1, 0)\nclasses_df.drop([\"Number of bugs\"], axis\u003d1, inplace\u003dTrue)\n\nlabel \u003d \u0027Has bugs\u0027\nclasses_df_atts \u003d classes_df.drop([label], axis \u003d 1)\nserie \u003d pd.Series(classes_df[label].copy())\nclasses_df_label \u003d pd.DataFrame(serie)\n\n\npos\u003dnp.count_nonzero(classes_df_label)\nneg\u003dlen(classes_df_label)-pos\nprint(\"Clases sin bugs (negativos): \",neg)\nprint(\"Clases con bugs (positivos): \",pos)\nprint(\"Proporcion de clases con bugs: \", round((pos/neg)*100,2),\u0027%\u0027)\n\n\n# Train / Test split\nX_train, X_test, y_train, y_test \u003d train_test_split(classes_df_atts, classes_df_label, test_size\u003d0.33, stratify\u003dclasses_df_label)\n\n# Train and test df\ntrain_df \u003d X_train.copy()\ntrain_df[label] \u003d y_train\n\ntest_df \u003d X_test.copy()\ntest_df[label] \u003d y_test\n"
    },
    {
      "cell_type": "markdown",
      "metadata": {
        "pycharm": {}
      },
      "source": [
        "### 3) Árbol de decisión"
      ]
    },
    {
      "cell_type": "code",
      "execution_count": 26,
      "metadata": {
        "pycharm": {
          "is_executing": false
        }
      },
      "outputs": [],
      "source": [
        "def tryModel(model, X_train, y_train, X_test, y_test):\n",
        "    \n",
        "    clf \u003d model.fit(X_train, y_train)\n",
        "    prediction \u003d clf.predict(X_test)\n",
        "    precision \u003d precision_score(np.array(y_test),prediction)\n",
        "    recall \u003d recall_score(y_test,prediction)\n",
        "    f1 \u003d f1_score(y_test,prediction)\n",
        "    roc \u003d roc_auc_score(y_test, prediction)\n",
        "    return precision, recall, f1, roc"
      ]
    },
    {
      "cell_type": "code",
      "execution_count": 27,
      "metadata": {
        "pycharm": {
          "is_executing": false
        }
      },
      "outputs": [
        {
          "data": {
            "text/plain": "(0.16326530612244897,\n 0.24242424242424243,\n 0.1951219512195122,\n 0.5979166666666667)"
          },
          "metadata": {},
          "output_type": "execute_result",
          "execution_count": 27
        }
      ],
      "source": [
        "# Dado un modelo, realiza la validacion cruzada\n",
        "model \u003d tree.DecisionTreeClassifier()\n",
        "tryModel(model, X_train, y_train, X_test, y_test)"
      ]
    },
    {
      "cell_type": "markdown",
      "metadata": {
        "pycharm": {}
      },
      "source": [
        "Vamos a intentar optimizar 2 de los muchos parámetros que puede tener el árbol de decisión:\n",
        "\n",
        "* **Profundidad máxima** que pueda alcanzar el árbol. Por defecto el árbol se expande entero (**None**), pero debemos evitar ramificar demasiadas hojas y controlar el sobreajuste.\n",
        "* **Número mínimo de ejemplos que debe tener en una hoja** para poder particionarse. En caso de que se llegue a un nodo que no sea hoja pero número de instancias es menor al requerido, entonces el algoritmo no ramifica y lo convierte en hoja.\n"
      ]
    },
    {
      "cell_type": "code",
      "execution_count": 10,
      "metadata": {
        "pycharm": {
          "is_executing": false
        }
      },
      "outputs": [],
      "source": [
        "def bruteTree(X_train, y_train, X_test, y_test):\n",
        "    \"\"\"Obtener la mejor configuración para un clasificador de\n",
        "    árbol de predicción mediante búsqueda por fuerza bruta.\"\"\"\n",
        "    # Puntuación inicial\n",
        "    mejorScore \u003d 0\n",
        "    mejorconf \u003d None\n",
        "\n",
        "    # Iterar configuraciones\n",
        "    for i, j in [(i, j) for i in [None] + list(range(1,20,2)) for j in list(range(2,20,3))]:\n",
        "        temp_tree \u003d tree.DecisionTreeClassifier(max_depth \u003d i, min_samples_split \u003d j)\n",
        "        # Validacion cruzada para testear parametros\n",
        "        scores \u003d cross_val_score(temp_tree, X_train, y_train, cv \u003d 5, scoring\u003d\"f1\")\n",
        "        score \u003d scores.mean()\n",
        "        # Actualizar puntuación\n",
        "        if (score \u003e mejorScore):\n",
        "            mejorScore \u003d score\n",
        "            mejorconf \u003d (i,j)\n",
        "    # Devolve mejor configuración\n",
        "    return mejorconf"
      ]
    },
    {
      "cell_type": "code",
      "execution_count": 9,
      "metadata": {
        "collapsed": true,
        "pycharm": {
          "is_executing": false
        }
      },
      "outputs": [
        {
          "name": "stderr",
          "output_type": "stream",
          "text": [
            "E:\\Dropbox\\DOCENCIA\\TFM\\Diego Fermin\\tfm-repositorio\\env\\lib\\site-packages\\sklearn\\metrics\\classification.py:1143: UndefinedMetricWarning: F-score is ill-defined and being set to 0.0 due to no predicted samples.\n",
            "  \u0027precision\u0027, \u0027predicted\u0027, average, warn_for)\n",
            "E:\\Dropbox\\DOCENCIA\\TFM\\Diego Fermin\\tfm-repositorio\\env\\lib\\site-packages\\sklearn\\metrics\\classification.py:1143: UndefinedMetricWarning: F-score is ill-defined and being set to 0.0 due to no predicted samples.\n",
            "  \u0027precision\u0027, \u0027predicted\u0027, average, warn_for)\n",
            "E:\\Dropbox\\DOCENCIA\\TFM\\Diego Fermin\\tfm-repositorio\\env\\lib\\site-packages\\sklearn\\metrics\\classification.py:1143: UndefinedMetricWarning: F-score is ill-defined and being set to 0.0 due to no predicted samples.\n",
            "  \u0027precision\u0027, \u0027predicted\u0027, average, warn_for)\n",
            "E:\\Dropbox\\DOCENCIA\\TFM\\Diego Fermin\\tfm-repositorio\\env\\lib\\site-packages\\sklearn\\metrics\\classification.py:1143: UndefinedMetricWarning: F-score is ill-defined and being set to 0.0 due to no predicted samples.\n",
            "  \u0027precision\u0027, \u0027predicted\u0027, average, warn_for)\n",
            "E:\\Dropbox\\DOCENCIA\\TFM\\Diego Fermin\\tfm-repositorio\\env\\lib\\site-packages\\sklearn\\metrics\\classification.py:1143: UndefinedMetricWarning: F-score is ill-defined and being set to 0.0 due to no predicted samples.\n",
            "  \u0027precision\u0027, \u0027predicted\u0027, average, warn_for)\n",
            "E:\\Dropbox\\DOCENCIA\\TFM\\Diego Fermin\\tfm-repositorio\\env\\lib\\site-packages\\sklearn\\metrics\\classification.py:1143: UndefinedMetricWarning: F-score is ill-defined and being set to 0.0 due to no predicted samples.\n",
            "  \u0027precision\u0027, \u0027predicted\u0027, average, warn_for)\n",
            "E:\\Dropbox\\DOCENCIA\\TFM\\Diego Fermin\\tfm-repositorio\\env\\lib\\site-packages\\sklearn\\metrics\\classification.py:1143: UndefinedMetricWarning: F-score is ill-defined and being set to 0.0 due to no predicted samples.\n",
            "  \u0027precision\u0027, \u0027predicted\u0027, average, warn_for)\n",
            "E:\\Dropbox\\DOCENCIA\\TFM\\Diego Fermin\\tfm-repositorio\\env\\lib\\site-packages\\sklearn\\metrics\\classification.py:1143: UndefinedMetricWarning: F-score is ill-defined and being set to 0.0 due to no predicted samples.\n",
            "  \u0027precision\u0027, \u0027predicted\u0027, average, warn_for)\n",
            "E:\\Dropbox\\DOCENCIA\\TFM\\Diego Fermin\\tfm-repositorio\\env\\lib\\site-packages\\sklearn\\metrics\\classification.py:1143: UndefinedMetricWarning: F-score is ill-defined and being set to 0.0 due to no predicted samples.\n",
            "  \u0027precision\u0027, \u0027predicted\u0027, average, warn_for)\n",
            "E:\\Dropbox\\DOCENCIA\\TFM\\Diego Fermin\\tfm-repositorio\\env\\lib\\site-packages\\sklearn\\metrics\\classification.py:1143: UndefinedMetricWarning: F-score is ill-defined and being set to 0.0 due to no predicted samples.\n",
            "  \u0027precision\u0027, \u0027predicted\u0027, average, warn_for)\n",
            "E:\\Dropbox\\DOCENCIA\\TFM\\Diego Fermin\\tfm-repositorio\\env\\lib\\site-packages\\sklearn\\metrics\\classification.py:1143: UndefinedMetricWarning: F-score is ill-defined and being set to 0.0 due to no predicted samples.\n",
            "  \u0027precision\u0027, \u0027predicted\u0027, average, warn_for)\n",
            "E:\\Dropbox\\DOCENCIA\\TFM\\Diego Fermin\\tfm-repositorio\\env\\lib\\site-packages\\sklearn\\metrics\\classification.py:1143: UndefinedMetricWarning: F-score is ill-defined and being set to 0.0 due to no predicted samples.\n",
            "  \u0027precision\u0027, \u0027predicted\u0027, average, warn_for)\n",
            "E:\\Dropbox\\DOCENCIA\\TFM\\Diego Fermin\\tfm-repositorio\\env\\lib\\site-packages\\sklearn\\metrics\\classification.py:1143: UndefinedMetricWarning: F-score is ill-defined and being set to 0.0 due to no predicted samples.\n",
            "  \u0027precision\u0027, \u0027predicted\u0027, average, warn_for)\n",
            "E:\\Dropbox\\DOCENCIA\\TFM\\Diego Fermin\\tfm-repositorio\\env\\lib\\site-packages\\sklearn\\metrics\\classification.py:1143: UndefinedMetricWarning: F-score is ill-defined and being set to 0.0 due to no predicted samples.\n",
            "  \u0027precision\u0027, \u0027predicted\u0027, average, warn_for)\n",
            "E:\\Dropbox\\DOCENCIA\\TFM\\Diego Fermin\\tfm-repositorio\\env\\lib\\site-packages\\sklearn\\metrics\\classification.py:1143: UndefinedMetricWarning: F-score is ill-defined and being set to 0.0 due to no predicted samples.\n",
            "  \u0027precision\u0027, \u0027predicted\u0027, average, warn_for)\n",
            "E:\\Dropbox\\DOCENCIA\\TFM\\Diego Fermin\\tfm-repositorio\\env\\lib\\site-packages\\sklearn\\metrics\\classification.py:1143: UndefinedMetricWarning: F-score is ill-defined and being set to 0.0 due to no predicted samples.\n",
            "  \u0027precision\u0027, \u0027predicted\u0027, average, warn_for)\n",
            "E:\\Dropbox\\DOCENCIA\\TFM\\Diego Fermin\\tfm-repositorio\\env\\lib\\site-packages\\sklearn\\metrics\\classification.py:1143: UndefinedMetricWarning: F-score is ill-defined and being set to 0.0 due to no predicted samples.\n",
            "  \u0027precision\u0027, \u0027predicted\u0027, average, warn_for)\n",
            "E:\\Dropbox\\DOCENCIA\\TFM\\Diego Fermin\\tfm-repositorio\\env\\lib\\site-packages\\sklearn\\metrics\\classification.py:1143: UndefinedMetricWarning: F-score is ill-defined and being set to 0.0 due to no predicted samples.\n",
            "  \u0027precision\u0027, \u0027predicted\u0027, average, warn_for)\n",
            "E:\\Dropbox\\DOCENCIA\\TFM\\Diego Fermin\\tfm-repositorio\\env\\lib\\site-packages\\sklearn\\metrics\\classification.py:1143: UndefinedMetricWarning: F-score is ill-defined and being set to 0.0 due to no predicted samples.\n",
            "  \u0027precision\u0027, \u0027predicted\u0027, average, warn_for)\n",
            "E:\\Dropbox\\DOCENCIA\\TFM\\Diego Fermin\\tfm-repositorio\\env\\lib\\site-packages\\sklearn\\metrics\\classification.py:1143: UndefinedMetricWarning: F-score is ill-defined and being set to 0.0 due to no predicted samples.\n",
            "  \u0027precision\u0027, \u0027predicted\u0027, average, warn_for)\n",
            "E:\\Dropbox\\DOCENCIA\\TFM\\Diego Fermin\\tfm-repositorio\\env\\lib\\site-packages\\sklearn\\metrics\\classification.py:1143: UndefinedMetricWarning: F-score is ill-defined and being set to 0.0 due to no predicted samples.\n",
            "  \u0027precision\u0027, \u0027predicted\u0027, average, warn_for)\n",
            "E:\\Dropbox\\DOCENCIA\\TFM\\Diego Fermin\\tfm-repositorio\\env\\lib\\site-packages\\sklearn\\metrics\\classification.py:1143: UndefinedMetricWarning: F-score is ill-defined and being set to 0.0 due to no predicted samples.\n",
            "  \u0027precision\u0027, \u0027predicted\u0027, average, warn_for)\n",
            "E:\\Dropbox\\DOCENCIA\\TFM\\Diego Fermin\\tfm-repositorio\\env\\lib\\site-packages\\sklearn\\metrics\\classification.py:1143: UndefinedMetricWarning: F-score is ill-defined and being set to 0.0 due to no predicted samples.\n",
            "  \u0027precision\u0027, \u0027predicted\u0027, average, warn_for)\n",
            "E:\\Dropbox\\DOCENCIA\\TFM\\Diego Fermin\\tfm-repositorio\\env\\lib\\site-packages\\sklearn\\metrics\\classification.py:1143: UndefinedMetricWarning: F-score is ill-defined and being set to 0.0 due to no predicted samples.\n",
            "  \u0027precision\u0027, \u0027predicted\u0027, average, warn_for)\n",
            "E:\\Dropbox\\DOCENCIA\\TFM\\Diego Fermin\\tfm-repositorio\\env\\lib\\site-packages\\sklearn\\metrics\\classification.py:1143: UndefinedMetricWarning: F-score is ill-defined and being set to 0.0 due to no predicted samples.\n",
            "  \u0027precision\u0027, \u0027predicted\u0027, average, warn_for)\n",
            "E:\\Dropbox\\DOCENCIA\\TFM\\Diego Fermin\\tfm-repositorio\\env\\lib\\site-packages\\sklearn\\metrics\\classification.py:1143: UndefinedMetricWarning: F-score is ill-defined and being set to 0.0 due to no predicted samples.\n",
            "  \u0027precision\u0027, \u0027predicted\u0027, average, warn_for)\n",
            "E:\\Dropbox\\DOCENCIA\\TFM\\Diego Fermin\\tfm-repositorio\\env\\lib\\site-packages\\sklearn\\metrics\\classification.py:1143: UndefinedMetricWarning: F-score is ill-defined and being set to 0.0 due to no predicted samples.\n",
            "  \u0027precision\u0027, \u0027predicted\u0027, average, warn_for)\n",
            "E:\\Dropbox\\DOCENCIA\\TFM\\Diego Fermin\\tfm-repositorio\\env\\lib\\site-packages\\sklearn\\metrics\\classification.py:1143: UndefinedMetricWarning: F-score is ill-defined and being set to 0.0 due to no predicted samples.\n",
            "  \u0027precision\u0027, \u0027predicted\u0027, average, warn_for)\n",
            "E:\\Dropbox\\DOCENCIA\\TFM\\Diego Fermin\\tfm-repositorio\\env\\lib\\site-packages\\sklearn\\metrics\\classification.py:1143: UndefinedMetricWarning: F-score is ill-defined and being set to 0.0 due to no predicted samples.\n",
            "  \u0027precision\u0027, \u0027predicted\u0027, average, warn_for)\n",
            "E:\\Dropbox\\DOCENCIA\\TFM\\Diego Fermin\\tfm-repositorio\\env\\lib\\site-packages\\sklearn\\metrics\\classification.py:1143: UndefinedMetricWarning: F-score is ill-defined and being set to 0.0 due to no predicted samples.\n",
            "  \u0027precision\u0027, \u0027predicted\u0027, average, warn_for)\n",
            "E:\\Dropbox\\DOCENCIA\\TFM\\Diego Fermin\\tfm-repositorio\\env\\lib\\site-packages\\sklearn\\metrics\\classification.py:1143: UndefinedMetricWarning: F-score is ill-defined and being set to 0.0 due to no predicted samples.\n",
            "  \u0027precision\u0027, \u0027predicted\u0027, average, warn_for)\n",
            "E:\\Dropbox\\DOCENCIA\\TFM\\Diego Fermin\\tfm-repositorio\\env\\lib\\site-packages\\sklearn\\metrics\\classification.py:1143: UndefinedMetricWarning: F-score is ill-defined and being set to 0.0 due to no predicted samples.\n",
            "  \u0027precision\u0027, \u0027predicted\u0027, average, warn_for)\n",
            "E:\\Dropbox\\DOCENCIA\\TFM\\Diego Fermin\\tfm-repositorio\\env\\lib\\site-packages\\sklearn\\metrics\\classification.py:1143: UndefinedMetricWarning: F-score is ill-defined and being set to 0.0 due to no predicted samples.\n",
            "  \u0027precision\u0027, \u0027predicted\u0027, average, warn_for)\n",
            "E:\\Dropbox\\DOCENCIA\\TFM\\Diego Fermin\\tfm-repositorio\\env\\lib\\site-packages\\sklearn\\metrics\\classification.py:1143: UndefinedMetricWarning: F-score is ill-defined and being set to 0.0 due to no predicted samples.\n",
            "  \u0027precision\u0027, \u0027predicted\u0027, average, warn_for)\n",
            "E:\\Dropbox\\DOCENCIA\\TFM\\Diego Fermin\\tfm-repositorio\\env\\lib\\site-packages\\sklearn\\metrics\\classification.py:1143: UndefinedMetricWarning: F-score is ill-defined and being set to 0.0 due to no predicted samples.\n",
            "  \u0027precision\u0027, \u0027predicted\u0027, average, warn_for)\n",
            "E:\\Dropbox\\DOCENCIA\\TFM\\Diego Fermin\\tfm-repositorio\\env\\lib\\site-packages\\sklearn\\metrics\\classification.py:1143: UndefinedMetricWarning: F-score is ill-defined and being set to 0.0 due to no predicted samples.\n",
            "  \u0027precision\u0027, \u0027predicted\u0027, average, warn_for)\n",
            "E:\\Dropbox\\DOCENCIA\\TFM\\Diego Fermin\\tfm-repositorio\\env\\lib\\site-packages\\sklearn\\metrics\\classification.py:1143: UndefinedMetricWarning: F-score is ill-defined and being set to 0.0 due to no predicted samples.\n",
            "  \u0027precision\u0027, \u0027predicted\u0027, average, warn_for)\n",
            "E:\\Dropbox\\DOCENCIA\\TFM\\Diego Fermin\\tfm-repositorio\\env\\lib\\site-packages\\sklearn\\metrics\\classification.py:1143: UndefinedMetricWarning: F-score is ill-defined and being set to 0.0 due to no predicted samples.\n",
            "  \u0027precision\u0027, \u0027predicted\u0027, average, warn_for)\n",
            "E:\\Dropbox\\DOCENCIA\\TFM\\Diego Fermin\\tfm-repositorio\\env\\lib\\site-packages\\sklearn\\metrics\\classification.py:1143: UndefinedMetricWarning: F-score is ill-defined and being set to 0.0 due to no predicted samples.\n",
            "  \u0027precision\u0027, \u0027predicted\u0027, average, warn_for)\n",
            "E:\\Dropbox\\DOCENCIA\\TFM\\Diego Fermin\\tfm-repositorio\\env\\lib\\site-packages\\sklearn\\metrics\\classification.py:1143: UndefinedMetricWarning: F-score is ill-defined and being set to 0.0 due to no predicted samples.\n",
            "  \u0027precision\u0027, \u0027predicted\u0027, average, warn_for)\n",
            "E:\\Dropbox\\DOCENCIA\\TFM\\Diego Fermin\\tfm-repositorio\\env\\lib\\site-packages\\sklearn\\metrics\\classification.py:1143: UndefinedMetricWarning: F-score is ill-defined and being set to 0.0 due to no predicted samples.\n",
            "  \u0027precision\u0027, \u0027predicted\u0027, average, warn_for)\n",
            "E:\\Dropbox\\DOCENCIA\\TFM\\Diego Fermin\\tfm-repositorio\\env\\lib\\site-packages\\sklearn\\metrics\\classification.py:1143: UndefinedMetricWarning: F-score is ill-defined and being set to 0.0 due to no predicted samples.\n",
            "  \u0027precision\u0027, \u0027predicted\u0027, average, warn_for)\n",
            "E:\\Dropbox\\DOCENCIA\\TFM\\Diego Fermin\\tfm-repositorio\\env\\lib\\site-packages\\sklearn\\metrics\\classification.py:1143: UndefinedMetricWarning: F-score is ill-defined and being set to 0.0 due to no predicted samples.\n",
            "  \u0027precision\u0027, \u0027predicted\u0027, average, warn_for)\n",
            "E:\\Dropbox\\DOCENCIA\\TFM\\Diego Fermin\\tfm-repositorio\\env\\lib\\site-packages\\sklearn\\metrics\\classification.py:1143: UndefinedMetricWarning: F-score is ill-defined and being set to 0.0 due to no predicted samples.\n",
            "  \u0027precision\u0027, \u0027predicted\u0027, average, warn_for)\n",
            "E:\\Dropbox\\DOCENCIA\\TFM\\Diego Fermin\\tfm-repositorio\\env\\lib\\site-packages\\sklearn\\metrics\\classification.py:1143: UndefinedMetricWarning: F-score is ill-defined and being set to 0.0 due to no predicted samples.\n",
            "  \u0027precision\u0027, \u0027predicted\u0027, average, warn_for)\n",
            "E:\\Dropbox\\DOCENCIA\\TFM\\Diego Fermin\\tfm-repositorio\\env\\lib\\site-packages\\sklearn\\metrics\\classification.py:1143: UndefinedMetricWarning: F-score is ill-defined and being set to 0.0 due to no predicted samples.\n",
            "  \u0027precision\u0027, \u0027predicted\u0027, average, warn_for)\n",
            "E:\\Dropbox\\DOCENCIA\\TFM\\Diego Fermin\\tfm-repositorio\\env\\lib\\site-packages\\sklearn\\metrics\\classification.py:1143: UndefinedMetricWarning: F-score is ill-defined and being set to 0.0 due to no predicted samples.\n",
            "  \u0027precision\u0027, \u0027predicted\u0027, average, warn_for)\n",
            "E:\\Dropbox\\DOCENCIA\\TFM\\Diego Fermin\\tfm-repositorio\\env\\lib\\site-packages\\sklearn\\metrics\\classification.py:1143: UndefinedMetricWarning: F-score is ill-defined and being set to 0.0 due to no predicted samples.\n",
            "  \u0027precision\u0027, \u0027predicted\u0027, average, warn_for)\n",
            "E:\\Dropbox\\DOCENCIA\\TFM\\Diego Fermin\\tfm-repositorio\\env\\lib\\site-packages\\sklearn\\metrics\\classification.py:1143: UndefinedMetricWarning: F-score is ill-defined and being set to 0.0 due to no predicted samples.\n",
            "  \u0027precision\u0027, \u0027predicted\u0027, average, warn_for)\n",
            "E:\\Dropbox\\DOCENCIA\\TFM\\Diego Fermin\\tfm-repositorio\\env\\lib\\site-packages\\sklearn\\metrics\\classification.py:1143: UndefinedMetricWarning: F-score is ill-defined and being set to 0.0 due to no predicted samples.\n",
            "  \u0027precision\u0027, \u0027predicted\u0027, average, warn_for)\n",
            "E:\\Dropbox\\DOCENCIA\\TFM\\Diego Fermin\\tfm-repositorio\\env\\lib\\site-packages\\sklearn\\metrics\\classification.py:1143: UndefinedMetricWarning: F-score is ill-defined and being set to 0.0 due to no predicted samples.\n",
            "  \u0027precision\u0027, \u0027predicted\u0027, average, warn_for)\n",
            "E:\\Dropbox\\DOCENCIA\\TFM\\Diego Fermin\\tfm-repositorio\\env\\lib\\site-packages\\sklearn\\metrics\\classification.py:1143: UndefinedMetricWarning: F-score is ill-defined and being set to 0.0 due to no predicted samples.\n",
            "  \u0027precision\u0027, \u0027predicted\u0027, average, warn_for)\n",
            "E:\\Dropbox\\DOCENCIA\\TFM\\Diego Fermin\\tfm-repositorio\\env\\lib\\site-packages\\sklearn\\metrics\\classification.py:1143: UndefinedMetricWarning: F-score is ill-defined and being set to 0.0 due to no predicted samples.\n",
            "  \u0027precision\u0027, \u0027predicted\u0027, average, warn_for)\n",
            "E:\\Dropbox\\DOCENCIA\\TFM\\Diego Fermin\\tfm-repositorio\\env\\lib\\site-packages\\sklearn\\metrics\\classification.py:1143: UndefinedMetricWarning: F-score is ill-defined and being set to 0.0 due to no predicted samples.\n",
            "  \u0027precision\u0027, \u0027predicted\u0027, average, warn_for)\n",
            "E:\\Dropbox\\DOCENCIA\\TFM\\Diego Fermin\\tfm-repositorio\\env\\lib\\site-packages\\sklearn\\metrics\\classification.py:1143: UndefinedMetricWarning: F-score is ill-defined and being set to 0.0 due to no predicted samples.\n",
            "  \u0027precision\u0027, \u0027predicted\u0027, average, warn_for)\n",
            "E:\\Dropbox\\DOCENCIA\\TFM\\Diego Fermin\\tfm-repositorio\\env\\lib\\site-packages\\sklearn\\metrics\\classification.py:1143: UndefinedMetricWarning: F-score is ill-defined and being set to 0.0 due to no predicted samples.\n",
            "  \u0027precision\u0027, \u0027predicted\u0027, average, warn_for)\n",
            "E:\\Dropbox\\DOCENCIA\\TFM\\Diego Fermin\\tfm-repositorio\\env\\lib\\site-packages\\sklearn\\metrics\\classification.py:1143: UndefinedMetricWarning: F-score is ill-defined and being set to 0.0 due to no predicted samples.\n",
            "  \u0027precision\u0027, \u0027predicted\u0027, average, warn_for)\n",
            "E:\\Dropbox\\DOCENCIA\\TFM\\Diego Fermin\\tfm-repositorio\\env\\lib\\site-packages\\sklearn\\metrics\\classification.py:1143: UndefinedMetricWarning: F-score is ill-defined and being set to 0.0 due to no predicted samples.\n",
            "  \u0027precision\u0027, \u0027predicted\u0027, average, warn_for)\n",
            "E:\\Dropbox\\DOCENCIA\\TFM\\Diego Fermin\\tfm-repositorio\\env\\lib\\site-packages\\sklearn\\metrics\\classification.py:1143: UndefinedMetricWarning: F-score is ill-defined and being set to 0.0 due to no predicted samples.\n",
            "  \u0027precision\u0027, \u0027predicted\u0027, average, warn_for)\n",
            "E:\\Dropbox\\DOCENCIA\\TFM\\Diego Fermin\\tfm-repositorio\\env\\lib\\site-packages\\sklearn\\metrics\\classification.py:1143: UndefinedMetricWarning: F-score is ill-defined and being set to 0.0 due to no predicted samples.\n",
            "  \u0027precision\u0027, \u0027predicted\u0027, average, warn_for)\n"
          ]
        },
        {
          "data": {
            "text/plain": [
              "(None, 2)"
            ]
          },
          "execution_count": 9,
          "metadata": {},
          "output_type": "execute_result"
        }
      ],
      "source": [
        "#bruteTree(X_train, y_train, X_test, y_test)\n",
        "# Resultados: (None, 2)"
      ]
    },
    {
      "cell_type": "markdown",
      "metadata": {
        "pycharm": {}
      },
      "source": [
        "Vemos que ha tomado los valores por defecto de este modelo. Ahora, vamos a intentar seleccionar algunas variables en lugar de utilizar todas.\n",
        "\n",
        "\n",
        "\n"
      ]
    },
    {
      "cell_type": "code",
      "execution_count": 68,
      "metadata": {
        "pycharm": {}
      },
      "outputs": [
        {
          "name": "stdout",
          "output_type": "stream",
          "text": [
            "Atributos en X: 106\n",
            "Atributos tras selección: 20\n",
            "Ranking: [ 45  23  49  16  48  19  47  55   4  53  20  75  27 100  65  82  86  88\n",
            "  77  83]\n",
            "(0.3217027215631542, 0.3239634574841883, 0.322829131652661, 0.6394973428989297)\n",
            "(0.30008453085376163, 0.2494729444834856, 0.2724481964696854, 0.6055831065234916)\n"
          ]
        },
        {
          "data": {
            "image/png": "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\u003d\u003d\n",
            "text/plain": [
              "\u003cFigure size 1152x144 with 1 Axes\u003e"
            ]
          },
          "metadata": {
            "needs_background": "light"
          },
          "output_type": "display_data"
        }
      ],
      "source": [
        "#PABLO\n",
        "#SELECTED K BEST WITH ANOVA\n",
        "\n",
        "from sklearn.feature_selection import SelectKBest\n",
        "from sklearn.model_selection import train_test_split\n",
        "from sklearn.feature_selection import f_classif\n",
        "%matplotlib inline\n",
        "import pylab\n",
        "\n",
        "K \u003d 20\n",
        "ranking \u003d SelectKBest(score_func\u003df_classif,k\u003dK)\n",
        "ranking.fit(X_train, y_train)\n",
        "X_t_proyec \u003d ranking.transform(X_train)\n",
        "X_T_proyec \u003d ranking.transform(X_test)\n",
        "print(\"Atributos en X: {}\".format(X_train.shape[1]))\n",
        "print(\"Atributos tras selección: {}\".format(X_t_proyec.shape[1]))\n",
        "\n",
        "# ver qué variables han sido seleccionadas\n",
        "print(\"Ranking: {}\".format(np.argsort(ranking.scores_)[::-1][:K]))\n",
        "seleccionados \u003d ranking.get_support()\n",
        "pylab.matshow(seleccionados.reshape(1,-1), cmap\u003d\u0027prism\u0027)\n",
        "pylab.xlabel(\"Índice de la variable\")\n",
        "\n",
        "#validar\n",
        "model \u003d tree.DecisionTreeClassifier()\n",
        "#model \u003d linear_model.LogisticRegression()\n",
        "antes\u003dtryModel(model, X_train, y_train, X_test, y_test)\n",
        "despues\u003dtryModel(model, X_t_proyec, y_train, X_T_proyec, y_test)\n",
        "print(antes)\n",
        "print(despues)"
      ]
    },
    {
      "cell_type": "code",
      "execution_count": 31,
      "metadata": {
        "pycharm": {}
      },
      "outputs": [
        {
          "name": "stdout",
          "output_type": "stream",
          "text": [
            "Atributos en X: 106\n",
            "Atributos tras selección: 20\n",
            "Ranking: [ 82  93  75  83  55 100  80  42  53   4   9  43  27 103  67  88  65  90\n",
            "  22  20]\n",
            "(0.3170197224251278, 0.3049894588896697, 0.3108882521489971, 0.6308662307170996)\n",
            "(0.2972972972972973, 0.23963457484188336, 0.26536964980544747, 0.6011728275551078)\n"
          ]
        },
        {
          "data": {
            "image/png": "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\u003d\u003d\n",
            "text/plain": [
              "\u003cFigure size 1152x144 with 1 Axes\u003e"
            ]
          },
          "metadata": {
            "needs_background": "light"
          },
          "output_type": "display_data"
        }
      ],
      "source": [
        "#PABLO\n",
        "#SELECTED K BEST WITH MI\n",
        "from  sklearn.feature_selection import mutual_info_classif\n",
        "from sklearn.feature_selection import SelectKBest\n",
        "from sklearn.model_selection import train_test_split\n",
        "from sklearn.feature_selection import f_classif\n",
        "%matplotlib inline\n",
        "import pylab\n",
        "\n",
        "K \u003d 20\n",
        "ranking_MI \u003d SelectKBest(score_func\u003dmutual_info_classif, k\u003dK)\n",
        "ranking_MI.fit(X_train, y_train)\n",
        "X_seleccionMI \u003d ranking_MI.transform(X_train)\n",
        "X_t_proyec \u003d ranking_MI.transform(X_train)\n",
        "X_T_proyec \u003d ranking_MI.transform(X_test)\n",
        "print(\"Atributos en X: {}\".format(X_train.shape[1]))\n",
        "print(\"Atributos tras selección: {}\".format(X_t_proyec.shape[1]))\n",
        "\n",
        "# ver qué variables han sido seleccionadas\n",
        "print(\"Ranking: {}\".format(np.argsort(ranking_MI.scores_)[::-1][:K]))\n",
        "seleccionados \u003d ranking_MI.get_support()\n",
        "pylab.matshow(seleccionados.reshape(1,-1), cmap\u003d\u0027prism\u0027)\n",
        "pylab.xlabel(\"Índice de la variable\")\n",
        "\n",
        "#validar\n",
        "model \u003d tree.DecisionTreeClassifier()\n",
        "#model \u003d linear_model.LogisticRegression()\n",
        "antes\u003dtryModel(model, X_train, y_train, X_test, y_test)\n",
        "despues\u003dtryModel(model, X_t_proyec, y_train, X_T_proyec, y_test)\n",
        "print(antes)\n",
        "print(despues)"
      ]
    },
    {
      "cell_type": "code",
      "execution_count": 69,
      "metadata": {
        "pycharm": {}
      },
      "outputs": [
        {
          "data": {
            "text/plain": [
              "Text(0, 0.5, \u0027F1-measure\u0027)"
            ]
          },
          "execution_count": 69,
          "metadata": {},
          "output_type": "execute_result"
        },
        {
          "data": {
            "image/png": "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\u003d\n",
            "text/plain": [
              "\u003cFigure size 432x288 with 1 Axes\u003e"
            ]
          },
          "metadata": {
            "needs_background": "light"
          },
          "output_type": "display_data"
        }
      ],
      "source": [
        "#PABLO\n",
        "#CV REGRESION LOGISTICA, F1 VS NUM VARIABLES con anova\n",
        "import pylab\n",
        "from sklearn.feature_selection import f_classif, SelectPercentile\n",
        "from sklearn.linear_model import LogisticRegression\n",
        "from sklearn.model_selection import cross_val_score\n",
        "from sklearn.model_selection import StratifiedKFold\n",
        "\n",
        "from sklearn.pipeline import Pipeline\n",
        "\n",
        "\n",
        "seleccion \u003d SelectPercentile(f_classif)\n",
        "pipe \u003d Pipeline([(\u0027seleccion\u0027, seleccion), \n",
        "                 (\u0027lr\u0027, LogisticRegression())])\n",
        "\n",
        "score_means \u003d list()\n",
        "score_stds \u003d list()\n",
        "porcentajes \u003d list(np.linspace(10,100,5))\n",
        "\n",
        "for p in porcentajes:\n",
        "    pipe.set_params(seleccion__percentile\u003dp)\n",
        "    this_scores \u003d cross_val_score(pipe, classes_df_atts, classes_df_label, cv\u003dStratifiedKFold(5),scoring\u003d\"f1\",n_jobs\u003d-1)\n",
        "    score_means.append(this_scores.mean())\n",
        "    score_stds.append(this_scores.std())\n",
        "\n",
        "pylab.errorbar(porcentajes, \n",
        "               score_means, np.array(score_stds))\n",
        "\n",
        "pylab.title(\u0027Bondad de LR aumentando el número de variables\u0027)\n",
        "pylab.xlabel(\u0027Porcentaje\u0027)\n",
        "pylab.ylabel(\u0027F1-measure\u0027)"
      ]
    },
    {
      "cell_type": "code",
      "execution_count": 6,
      "metadata": {
        "collapsed": true,
        "pycharm": {}
      },
      "outputs": [],
      "source": [
        "\n",
        "\n",
        "\n",
        "\n",
        "\n",
        "from sklearn.feature_selection import chi2\n",
        "from sklearn.feature_selection import SelectKBest\n",
        "\n",
        "def bestNAtts(X_train, y_train, X_test, y_test):\n",
        "    n_atts \u003d 0\n",
        "    best_K \u003d None\n",
        "    best_score \u003d 0\n",
        "    for i in range(len(X_train.columns)):\n",
        "        n_atts \u003d i + 1\n",
        "        X_train_transformed \u003d SelectKBest(chi2, k\u003dn_atts).fit_transform(X_train,y_train)\n",
        "        model \u003d tree.DecisionTreeClassifier()\n",
        "        scores \u003d cross_val_score(model, X_train_transformed, y_train, cv \u003d 10, scoring\u003d\"f1\")\n",
        "        score \u003d scores.mean()\n",
        "        if (score \u003e best_score):\n",
        "            print(\"Mejora con \", n_atts, \"atributos, consiguiendo un F1-Score en la validación cruzada de \", score)\n",
        "            best_score \u003d scores.mean()\n",
        "            best_K \u003d n_atts\n",
        "    return best_K, best_score"
      ]
    },
    {
      "cell_type": "code",
      "execution_count": 8,
      "metadata": {
        "collapsed": true,
        "pycharm": {}
      },
      "outputs": [],
      "source": [
        "# bestNAtts(X_train, y_train, X_test, y_test)\n",
        "# Resultado: 69"
      ]
    },
    {
      "cell_type": "code",
      "execution_count": 70,
      "metadata": {
        "pycharm": {}
      },
      "outputs": [
        {
          "ename": "NameError",
          "evalue": "name \u0027chi2\u0027 is not defined",
          "output_type": "error",
          "traceback": [
            "\u001b[1;31m---------------------------------------------------------------------------\u001b[0m",
            "\u001b[1;31mNameError\u001b[0m                                 Traceback (most recent call last)",
            "\u001b[1;32m\u003cipython-input-70-b8c796081a0a\u003e\u001b[0m in \u001b[0;36m\u003cmodule\u003e\u001b[1;34m\u001b[0m\n\u001b[0;32m      1\u001b[0m \u001b[1;31m# Dado un modelo, realiza la validacion cruzada\u001b[0m\u001b[1;33m\u001b[0m\u001b[1;33m\u001b[0m\u001b[1;33m\u001b[0m\u001b[0m\n\u001b[1;32m----\u003e 2\u001b[1;33m \u001b[0mtransformer\u001b[0m \u001b[1;33m\u003d\u001b[0m \u001b[0mSelectKBest\u001b[0m\u001b[1;33m(\u001b[0m\u001b[0mchi2\u001b[0m\u001b[1;33m,\u001b[0m \u001b[0mk\u001b[0m\u001b[1;33m\u003d\u001b[0m\u001b[1;36m69\u001b[0m\u001b[1;33m)\u001b[0m\u001b[1;33m\u001b[0m\u001b[1;33m\u001b[0m\u001b[0m\n\u001b[0m\u001b[0;32m      3\u001b[0m \u001b[0mX_train_transformed\u001b[0m \u001b[1;33m\u003d\u001b[0m \u001b[0mtransformer\u001b[0m\u001b[1;33m.\u001b[0m\u001b[0mfit_transform\u001b[0m\u001b[1;33m(\u001b[0m\u001b[0mX_train\u001b[0m\u001b[1;33m,\u001b[0m\u001b[0my_train\u001b[0m\u001b[1;33m)\u001b[0m\u001b[1;33m\u001b[0m\u001b[1;33m\u001b[0m\u001b[0m\n\u001b[0;32m      4\u001b[0m \u001b[0mX_test_transformed\u001b[0m \u001b[1;33m\u003d\u001b[0m \u001b[0mtransformer\u001b[0m\u001b[1;33m.\u001b[0m\u001b[0mtransform\u001b[0m\u001b[1;33m(\u001b[0m\u001b[0mX_test\u001b[0m\u001b[1;33m)\u001b[0m\u001b[1;33m\u001b[0m\u001b[1;33m\u001b[0m\u001b[0m\n\u001b[0;32m      5\u001b[0m \u001b[0mmodel\u001b[0m \u001b[1;33m\u003d\u001b[0m \u001b[0mtree\u001b[0m\u001b[1;33m.\u001b[0m\u001b[0mDecisionTreeClassifier\u001b[0m\u001b[1;33m(\u001b[0m\u001b[1;33m)\u001b[0m\u001b[1;33m\u001b[0m\u001b[1;33m\u001b[0m\u001b[0m\n",
            "\u001b[1;31mNameError\u001b[0m: name \u0027chi2\u0027 is not defined"
          ]
        }
      ],
      "source": [
        "# Dado un modelo, realiza la validacion cruzada\n",
        "transformer \u003d SelectKBest(chi2, k\u003d69)\n",
        "X_train_transformed \u003d transformer.fit_transform(X_train,y_train)\n",
        "X_test_transformed \u003d transformer.transform(X_test)\n",
        "model \u003d tree.DecisionTreeClassifier()\n",
        "tryModel(model, X_train_transformed, y_train, X_test_transformed, y_test)"
      ]
    },
    {
      "cell_type": "markdown",
      "metadata": {
        "pycharm": {}
      },
      "source": [
        "#### 3.1) Undersampling"
      ]
    },
    {
      "cell_type": "markdown",
      "metadata": {
        "pycharm": {}
      },
      "source": [
        "Vamos a eliminar parte de los casos positivos de entrenamiento para intentar tener un mejor modelo."
      ]
    },
    {
      "cell_type": "code",
      "execution_count": 82,
      "metadata": {
        "pycharm": {}
      },
      "outputs": [],
      "source": "def undersampling(df, frac_negatives \u003d 0.5):\n    # Positive cases\n    train_df_positive \u003d df[df[label]]\n    print(train_df_positive)\n    # Negative cases -\u003e Delete some cases\n    train_df_negative \u003d df[~df[label]]\n    train_df_negative \u003d train_df_negative.sample(frac \u003d (frac_negatives))\n    # Join negative and positives cases\n    train_df_undersampling \u003d train_df_positive.append(train_df_negative).sample(frac\u003d1)\n    # Separate in attributes and label\n    X_undersampling \u003d train_df_undersampling.drop(label, 1)\n    y_undersampling \u003d train_df_undersampling[label]\n    return X_undersampling, y_undersampling"
    },
    {
      "cell_type": "code",
      "execution_count": 32,
      "metadata": {
        "pycharm": {
          "is_executing": false
        }
      },
      "outputs": [
        {
          "name": "stdout",
          "text": [
            "0.10891089108910891 0.6666666666666666 0.18723404255319148 0.731060606060606\n"
          ],
          "output_type": "stream"
        }
      ],
      "source": "#forzar 100% balanceado\nfrom sklearn.linear_model import LogisticRegression\n_X_train, _X_test, _y_train, _y_test \u003d train_test_split(classes_df_atts, classes_df_label, test_size\u003d0.33, stratify\u003dclasses_df_label)\n\npositive_indices\u003dnp.where(_y_train\u003d\u003d1)[0]\nnegative_indices\u003dnp.where(_y_train\u003d\u003d0)[0]\nselected\u003dnp.random.choice(negative_indices,len(positive_indices),replace\u003dFalse)\nselected\u003dnp.append(selected,positive_indices)\n\nmodel \u003d tree.DecisionTreeClassifier()\n#model \u003d LogisticRegression()\np, r, s, a \u003d tryModel(model, _X_train.iloc[selected], _y_train.iloc[selected], _X_test, _y_test)\nprint(p,r,s,a)"
    },
    {
      "cell_type": "code",
      "execution_count": 81,
      "metadata": {
        "pycharm": {}
      },
      "outputs": [
        {
          "ename": "KeyError",
          "evalue": "\"None of [Int64Index([0, 0, 0, 0, 1, 1, 0, 0, 0, 0,\\n            ...\\n            0, 0, 0, 0, 0, 0, 0, 0, 0, 0],\\n           dtype\u003d\u0027int64\u0027, length\u003d46772)] are in the [columns]\"",
          "output_type": "error",
          "traceback": [
            "\u001b[1;31m---------------------------------------------------------------------------\u001b[0m",
            "\u001b[1;31mKeyError\u001b[0m                                  Traceback (most recent call last)",
            "\u001b[1;32m\u003cipython-input-81-d39c44d52e8a\u003e\u001b[0m in \u001b[0;36m\u003cmodule\u003e\u001b[1;34m\u001b[0m\n\u001b[0;32m     21\u001b[0m             \u001b[0mbest_score\u001b[0m \u001b[1;33m\u003d\u001b[0m \u001b[0mscore\u001b[0m\u001b[1;33m\u001b[0m\u001b[1;33m\u001b[0m\u001b[0m\n\u001b[0;32m     22\u001b[0m     \u001b[1;32mreturn\u001b[0m \u001b[0mbest_frac\u001b[0m\u001b[1;33m\u001b[0m\u001b[1;33m\u001b[0m\u001b[0m\n\u001b[1;32m---\u003e 23\u001b[1;33m \u001b[0mbestNegFrac\u001b[0m\u001b[1;33m(\u001b[0m\u001b[0mtrain_df\u001b[0m\u001b[1;33m)\u001b[0m\u001b[1;33m\u001b[0m\u001b[1;33m\u001b[0m\u001b[0m\n\u001b[0m",
            "\u001b[1;32m\u003cipython-input-81-d39c44d52e8a\u003e\u001b[0m in \u001b[0;36mbestNegFrac\u001b[1;34m(df)\u001b[0m\n\u001b[0;32m     12\u001b[0m     \u001b[0mbest_score\u001b[0m \u001b[1;33m\u003d\u001b[0m \u001b[1;36m0\u001b[0m\u001b[1;33m\u001b[0m\u001b[1;33m\u001b[0m\u001b[0m\n\u001b[0;32m     13\u001b[0m     \u001b[1;32mfor\u001b[0m \u001b[0mfrac\u001b[0m \u001b[1;32min\u001b[0m \u001b[0mfrac_negatives\u001b[0m\u001b[1;33m:\u001b[0m\u001b[1;33m\u001b[0m\u001b[1;33m\u001b[0m\u001b[0m\n\u001b[1;32m---\u003e 14\u001b[1;33m         \u001b[0m_X_under\u001b[0m\u001b[1;33m,\u001b[0m \u001b[0m_y_under\u001b[0m \u001b[1;33m\u003d\u001b[0m \u001b[0mundersampling\u001b[0m\u001b[1;33m(\u001b[0m\u001b[0m_train_df\u001b[0m\u001b[1;33m,\u001b[0m \u001b[0mfrac_negatives\u001b[0m \u001b[1;33m\u003d\u001b[0m \u001b[0mfrac\u001b[0m\u001b[1;33m)\u001b[0m\u001b[1;33m\u001b[0m\u001b[1;33m\u001b[0m\u001b[0m\n\u001b[0m\u001b[0;32m     15\u001b[0m         \u001b[0mmodel\u001b[0m \u001b[1;33m\u003d\u001b[0m \u001b[0mtree\u001b[0m\u001b[1;33m.\u001b[0m\u001b[0mDecisionTreeClassifier\u001b[0m\u001b[1;33m(\u001b[0m\u001b[1;33m)\u001b[0m\u001b[1;33m\u001b[0m\u001b[1;33m\u001b[0m\u001b[0m\n\u001b[0;32m     16\u001b[0m         \u001b[0mp\u001b[0m\u001b[1;33m,\u001b[0m \u001b[0mr\u001b[0m\u001b[1;33m,\u001b[0m \u001b[0ms\u001b[0m\u001b[1;33m,\u001b[0m \u001b[0ma\u001b[0m \u001b[1;33m\u003d\u001b[0m \u001b[0mtryModel\u001b[0m\u001b[1;33m(\u001b[0m\u001b[0mmodel\u001b[0m\u001b[1;33m,\u001b[0m \u001b[0m_X_under\u001b[0m\u001b[1;33m,\u001b[0m \u001b[0m_y_under\u001b[0m\u001b[1;33m,\u001b[0m \u001b[0m_X_test\u001b[0m\u001b[1;33m,\u001b[0m \u001b[0m_y_test\u001b[0m\u001b[1;33m)\u001b[0m\u001b[1;33m\u001b[0m\u001b[1;33m\u001b[0m\u001b[0m\n",
            "\u001b[1;32m\u003cipython-input-74-1014f1354f52\u003e\u001b[0m in \u001b[0;36mundersampling\u001b[1;34m(df, frac_negatives)\u001b[0m\n\u001b[0;32m      1\u001b[0m \u001b[1;32mdef\u001b[0m \u001b[0mundersampling\u001b[0m\u001b[1;33m(\u001b[0m\u001b[0mdf\u001b[0m\u001b[1;33m,\u001b[0m \u001b[0mfrac_negatives\u001b[0m \u001b[1;33m\u003d\u001b[0m \u001b[1;36m0.5\u001b[0m\u001b[1;33m)\u001b[0m\u001b[1;33m:\u001b[0m\u001b[1;33m\u001b[0m\u001b[1;33m\u001b[0m\u001b[0m\n\u001b[0;32m      2\u001b[0m     \u001b[1;31m# Positive cases\u001b[0m\u001b[1;33m\u001b[0m\u001b[1;33m\u001b[0m\u001b[1;33m\u001b[0m\u001b[0m\n\u001b[1;32m----\u003e 3\u001b[1;33m     \u001b[0mtrain_df_positive\u001b[0m \u001b[1;33m\u003d\u001b[0m \u001b[0mdf\u001b[0m\u001b[1;33m[\u001b[0m\u001b[0mdf\u001b[0m\u001b[1;33m[\u001b[0m\u001b[0mlabel\u001b[0m\u001b[1;33m]\u001b[0m\u001b[1;33m]\u001b[0m\u001b[1;33m\u001b[0m\u001b[1;33m\u001b[0m\u001b[0m\n\u001b[0m\u001b[0;32m      4\u001b[0m     \u001b[1;31m# Negative cases -\u003e Delete some cases\u001b[0m\u001b[1;33m\u001b[0m\u001b[1;33m\u001b[0m\u001b[1;33m\u001b[0m\u001b[0m\n\u001b[0;32m      5\u001b[0m     \u001b[0mtrain_df_negative\u001b[0m \u001b[1;33m\u003d\u001b[0m \u001b[0mdf\u001b[0m\u001b[1;33m[\u001b[0m\u001b[1;33m~\u001b[0m\u001b[0mdf\u001b[0m\u001b[1;33m[\u001b[0m\u001b[0mlabel\u001b[0m\u001b[1;33m]\u001b[0m\u001b[1;33m]\u001b[0m\u001b[1;33m\u001b[0m\u001b[1;33m\u001b[0m\u001b[0m\n",
            "\u001b[1;32mE:\\Dropbox\\DOCENCIA\\TFM\\Diego Fermin\\tfm-repositorio\\env\\lib\\site-packages\\pandas\\core\\frame.py\u001b[0m in \u001b[0;36m__getitem__\u001b[1;34m(self, key)\u001b[0m\n\u001b[0;32m   2922\u001b[0m                 \u001b[0mkey\u001b[0m \u001b[1;33m\u003d\u001b[0m \u001b[0mlist\u001b[0m\u001b[1;33m(\u001b[0m\u001b[0mkey\u001b[0m\u001b[1;33m)\u001b[0m\u001b[1;33m\u001b[0m\u001b[1;33m\u001b[0m\u001b[0m\n\u001b[0;32m   2923\u001b[0m             indexer \u003d self.loc._convert_to_indexer(key, axis\u003d1,\n\u001b[1;32m-\u003e 2924\u001b[1;33m                                                    raise_missing\u003dTrue)\n\u001b[0m\u001b[0;32m   2925\u001b[0m \u001b[1;33m\u001b[0m\u001b[0m\n\u001b[0;32m   2926\u001b[0m         \u001b[1;31m# take() does not accept boolean indexers\u001b[0m\u001b[1;33m\u001b[0m\u001b[1;33m\u001b[0m\u001b[1;33m\u001b[0m\u001b[0m\n",
            "\u001b[1;32mE:\\Dropbox\\DOCENCIA\\TFM\\Diego Fermin\\tfm-repositorio\\env\\lib\\site-packages\\pandas\\core\\indexing.py\u001b[0m in \u001b[0;36m_convert_to_indexer\u001b[1;34m(self, obj, axis, is_setter, raise_missing)\u001b[0m\n\u001b[0;32m   1352\u001b[0m                 kwargs \u003d {\u0027raise_missing\u0027: True if is_setter else\n\u001b[0;32m   1353\u001b[0m                           raise_missing}\n\u001b[1;32m-\u003e 1354\u001b[1;33m                 \u001b[1;32mreturn\u001b[0m \u001b[0mself\u001b[0m\u001b[1;33m.\u001b[0m\u001b[0m_get_listlike_indexer\u001b[0m\u001b[1;33m(\u001b[0m\u001b[0mobj\u001b[0m\u001b[1;33m,\u001b[0m \u001b[0maxis\u001b[0m\u001b[1;33m,\u001b[0m \u001b[1;33m**\u001b[0m\u001b[0mkwargs\u001b[0m\u001b[1;33m)\u001b[0m\u001b[1;33m[\u001b[0m\u001b[1;36m1\u001b[0m\u001b[1;33m]\u001b[0m\u001b[1;33m\u001b[0m\u001b[1;33m\u001b[0m\u001b[0m\n\u001b[0m\u001b[0;32m   1355\u001b[0m         \u001b[1;32melse\u001b[0m\u001b[1;33m:\u001b[0m\u001b[1;33m\u001b[0m\u001b[1;33m\u001b[0m\u001b[0m\n\u001b[0;32m   1356\u001b[0m             \u001b[1;32mtry\u001b[0m\u001b[1;33m:\u001b[0m\u001b[1;33m\u001b[0m\u001b[1;33m\u001b[0m\u001b[0m\n",
            "\u001b[1;32mE:\\Dropbox\\DOCENCIA\\TFM\\Diego Fermin\\tfm-repositorio\\env\\lib\\site-packages\\pandas\\core\\indexing.py\u001b[0m in \u001b[0;36m_get_listlike_indexer\u001b[1;34m(self, key, axis, raise_missing)\u001b[0m\n\u001b[0;32m   1159\u001b[0m         self._validate_read_indexer(keyarr, indexer,\n\u001b[0;32m   1160\u001b[0m                                     \u001b[0mo\u001b[0m\u001b[1;33m.\u001b[0m\u001b[0m_get_axis_number\u001b[0m\u001b[1;33m(\u001b[0m\u001b[0maxis\u001b[0m\u001b[1;33m)\u001b[0m\u001b[1;33m,\u001b[0m\u001b[1;33m\u001b[0m\u001b[1;33m\u001b[0m\u001b[0m\n\u001b[1;32m-\u003e 1161\u001b[1;33m                                     raise_missing\u003draise_missing)\n\u001b[0m\u001b[0;32m   1162\u001b[0m         \u001b[1;32mreturn\u001b[0m \u001b[0mkeyarr\u001b[0m\u001b[1;33m,\u001b[0m \u001b[0mindexer\u001b[0m\u001b[1;33m\u001b[0m\u001b[1;33m\u001b[0m\u001b[0m\n\u001b[0;32m   1163\u001b[0m \u001b[1;33m\u001b[0m\u001b[0m\n",
            "\u001b[1;32mE:\\Dropbox\\DOCENCIA\\TFM\\Diego Fermin\\tfm-repositorio\\env\\lib\\site-packages\\pandas\\core\\indexing.py\u001b[0m in \u001b[0;36m_validate_read_indexer\u001b[1;34m(self, key, indexer, axis, raise_missing)\u001b[0m\n\u001b[0;32m   1244\u001b[0m                 raise KeyError(\n\u001b[0;32m   1245\u001b[0m                     u\"None of [{key}] are in the [{axis}]\".format(\n\u001b[1;32m-\u003e 1246\u001b[1;33m                         key\u003dkey, axis\u003dself.obj._get_axis_name(axis)))\n\u001b[0m\u001b[0;32m   1247\u001b[0m \u001b[1;33m\u001b[0m\u001b[0m\n\u001b[0;32m   1248\u001b[0m             \u001b[1;31m# We (temporarily) allow for some missing keys with .loc, except in\u001b[0m\u001b[1;33m\u001b[0m\u001b[1;33m\u001b[0m\u001b[1;33m\u001b[0m\u001b[0m\n",
            "\u001b[1;31mKeyError\u001b[0m: \"None of [Int64Index([0, 0, 0, 0, 1, 1, 0, 0, 0, 0,\\n            ...\\n            0, 0, 0, 0, 0, 0, 0, 0, 0, 0],\\n           dtype\u003d\u0027int64\u0027, length\u003d46772)] are in the [columns]\""
          ]
        }
      ],
      "source": [
        "def bestNegFrac(df):\n",
        "    # Dividir conjunto de entrenamiento en otro conjunto de entrenamiento y test\n",
        "    _X_train, _X_test, _y_train, _y_test \u003d train_test_split(classes_df_atts, classes_df_label, test_size\u003d0.33, stratify\u003dclasses_df_label)\n",
        "    _train_df \u003d _X_train.copy()\n",
        "    _train_df[label] \u003d _y_train.copy()\n",
        "    _test_df \u003d _X_test.copy()\n",
        "    _test_df[label] \u003d _y_test.copy()\n",
        "    \n",
        "    # Para cada porcentaje de casos negativos entrenar y ver score\n",
        "    frac_negatives \u003d [0.9, 0.8, 0.7, 0.6, 0.5, 0.4, 0.3, 0.25, 0.2, 0.15, 0.1, 0.05, 0.025, 0]\n",
        "    best_frac \u003d None\n",
        "    best_score \u003d 0\n",
        "    for frac in frac_negatives:\n",
        "        _X_under, _y_under \u003d undersampling(_train_df, frac_negatives \u003d frac)\n",
        "        model \u003d tree.DecisionTreeClassifier()\n",
        "        p, r, s, a \u003d tryModel(model, _X_under, _y_under, _X_test, _y_test)\n",
        "        score \u003d s\n",
        "        if (score \u003e best_score):\n",
        "            print(\"Eligiendo\", frac*100, \u0027% de los datos negativos. Precisión\u0027,round(p,4),\u0027;Recall\u0027,round(r,4),\u0027;F1\u0027,round(s,4),\u0027;ROC \u0027,round(a,4))\n",
        "            best_frac \u003d frac\n",
        "            best_score \u003d score\n",
        "    return best_frac\n",
        "bestNegFrac(train_df)"
      ]
    },
    {
      "cell_type": "code",
      "execution_count": 36,
      "metadata": {
        "pycharm": {}
      },
      "outputs": [
        {
          "name": "stdout",
          "output_type": "stream",
          "text": [
            "Clases sin bugs (negativos):  81792\n",
            "Clases con bugs (positivos):  5544\n",
            "Proporcion de clases con bugs:  6.35 %\n"
          ]
        }
      ],
      "source": [
        "X_undersampling, y_undersampling \u003d undersampling(train_df, frac_negatives \u003d 0.7)\n",
        "print(\"Clases sin bugs (negativos): \",len(y_undersampling[~y_undersampling]))\n",
        "print(\"Clases con bugs (positivos): \", len(y_undersampling[y_undersampling]))\n",
        "print(\"Proporcion de clases con bugs: \", round(len(y_undersampling[y_undersampling])/len(y_undersampling)*100,2),\u0027%\u0027)"
      ]
    },
    {
      "cell_type": "code",
      "execution_count": 37,
      "metadata": {
        "pycharm": {}
      },
      "outputs": [
        {
          "data": {
            "text/plain": [
              "(0.2605612998522895,\n",
              " 0.32295862321493957,\n",
              " 0.2884238064094179,\n",
              " 0.6397333819103316)"
            ]
          },
          "execution_count": 37,
          "metadata": {},
          "output_type": "execute_result"
        }
      ],
      "source": [
        "# Dado un modelo, realiza la validacion cruzada\n",
        "model \u003d tree.DecisionTreeClassifier()\n",
        "tryModel(model, X_undersampling, y_undersampling, X_test, y_test)"
      ]
    },
    {
      "cell_type": "markdown",
      "metadata": {
        "pycharm": {}
      },
      "source": [
        "#### 3.2) Replicar casos positivos"
      ]
    },
    {
      "cell_type": "markdown",
      "metadata": {
        "pycharm": {}
      },
      "source": [
        "Ahora vamos a intentar lo inverso: aumentar el número de casos positivos."
      ]
    },
    {
      "cell_type": "code",
      "execution_count": 8,
      "metadata": {
        "collapsed": true,
        "pycharm": {}
      },
      "outputs": [],
      "source": [
        "def oversampling(df, frac_positives \u003d 2):\n",
        "    # Positive cases -\u003e Add some cases\n",
        "    train_df_positive \u003d df[df[label]]\n",
        "    train_df_positive \u003d train_df_positive.append(train_df_positive.sample(frac\u003dfrac_positives-1))\n",
        "    # Negative cases \n",
        "    train_df_negative \u003d df[~df[label]]\n",
        "    # Join negative and positives cases\n",
        "    train_df_undersampling \u003d train_df_positive.append(train_df_negative).sample(frac\u003d1)\n",
        "    # Separate in attributes and label\n",
        "    X_undersampling \u003d train_df_undersampling.drop(label, 1)\n",
        "    y_undersampling \u003d train_df_undersampling[label]\n",
        "\n",
        "    return X_undersampling, y_undersampling"
      ]
    },
    {
      "cell_type": "code",
      "execution_count": 41,
      "metadata": {
        "pycharm": {}
      },
      "outputs": [
        {
          "name": "stdout",
          "output_type": "stream",
          "text": [
            "Eligiendo 100 % de los datos positivos. Precisión 0.3047 Recall 0.2896 F1 0.297 ROC  0.6291\n",
            "Eligiendo 110 % de los datos positivos. Precisión 0.3139 Recall 0.3017 F1 0.3077 ROC  0.6352\n",
            "Eligiendo 140 % de los datos positivos. Precisión 0.3102 Recall 0.3149 F1 0.3126 ROC  0.6408\n"
          ]
        },
        {
          "data": {
            "text/plain": [
              "1.4"
            ]
          },
          "execution_count": 41,
          "metadata": {},
          "output_type": "execute_result"
        }
      ],
      "source": [
        "def bestPosFrac(df):\n",
        "    # Dividir conjunto de entrenamiento en otro conjunto de entrenamiento y test\n",
        "    _X_train, _X_test, _y_train, _y_test \u003d train_test_split(classes_df_atts, classes_df_label, test_size\u003d0.33, stratify\u003dclasses_df_label)\n",
        "    _train_df \u003d _X_train.copy()\n",
        "    _train_df[label] \u003d _y_train.copy()\n",
        "    _test_df \u003d _X_test.copy()\n",
        "    _test_df[label] \u003d _y_test.copy()\n",
        "    \n",
        "    # Para cada porcentaje de casos positivos entrenar y ver score\n",
        "    frac_positives \u003d [1, 1.1, 1.2, 1.3, 1.4, 1.5, 1.6, 1.7, 1.8, 1.9, 2]\n",
        "    best_frac \u003d None\n",
        "    best_score \u003d 0\n",
        "    for frac in frac_positives:\n",
        "        _X_under, _y_under \u003d oversampling(_train_df, frac_positives \u003d frac)\n",
        "        model \u003d tree.DecisionTreeClassifier()\n",
        "        p, r, s, a \u003d tryModel(model, _X_under, _y_under, _X_test, _y_test)\n",
        "        score \u003d s\n",
        "        if (score \u003e best_score):\n",
        "            print(\"Eligiendo\", round(frac*100), \u0027% de los datos positivos. Precisión\u0027,round(p,4),\u0027Recall\u0027,round(r,4),\u0027F1\u0027,round(s,4),\u0027ROC \u0027,round(a,4))\n",
        "            best_frac \u003d frac\n",
        "            best_score \u003d score\n",
        "    return best_frac\n",
        "bestPosFrac(train_df)"
      ]
    },
    {
      "cell_type": "code",
      "execution_count": 42,
      "metadata": {
        "pycharm": {}
      },
      "outputs": [
        {
          "name": "stdout",
          "output_type": "stream",
          "text": [
            "Clases sin bugs (negativos):  116845\n",
            "Clases con bugs (positivos):  7762\n",
            "Proporcion de clases con bugs:  6.23 %\n"
          ]
        }
      ],
      "source": [
        "X_oversampling, y_oversampling \u003d oversampling(train_df, frac_positives \u003d 1.4)\n",
        "print(\"Clases sin bugs (negativos): \",len(y_oversampling[~y_oversampling]))\n",
        "print(\"Clases con bugs (positivos): \", len(y_oversampling[y_oversampling]))\n",
        "print(\"Proporcion de clases con bugs: \", round(len(y_oversampling[y_oversampling])/len(y_oversampling)*100,2),\u0027%\u0027)\n"
      ]
    },
    {
      "cell_type": "code",
      "execution_count": 43,
      "metadata": {
        "pycharm": {}
      },
      "outputs": [
        {
          "data": {
            "text/plain": [
              "(0.29933481152993346,\n",
              " 0.2965946539729037,\n",
              " 0.2979584329593526,\n",
              " 0.6318249807196624)"
            ]
          },
          "execution_count": 43,
          "metadata": {},
          "output_type": "execute_result"
        }
      ],
      "source": [
        "# Dado un modelo, realiza la validacion cruzada\n",
        "model \u003d tree.DecisionTreeClassifier()\n",
        "tryModel(model, X_oversampling, y_oversampling, X_test, y_test)"
      ]
    },
    {
      "cell_type": "code",
      "execution_count": 56,
      "metadata": {
        "pycharm": {}
      },
      "outputs": [
        {
          "data": {
            "text/plain": [
              "(0.2776782515227517,\n",
              " 0.28377883559135847,\n",
              " 0.28069540021731254,\n",
              " 0.6243745179677005)"
            ]
          },
          "execution_count": 56,
          "metadata": {},
          "output_type": "execute_result"
        }
      ],
      "source": [
        "max_depth, min_samples \u003d bruteTree(X_oversampling, y_oversampling, X_test, y_test)\n",
        "model \u003d tree.DecisionTreeClassifier(max_depth \u003d max_depth, min_samples_split \u003d min_samples)\n",
        "tryModel(model, X_oversampling, y_oversampling, X_test, y_test)"
      ]
    },
    {
      "cell_type": "markdown",
      "metadata": {
        "pycharm": {}
      },
      "source": [
        "#### 3.4) Combinar ambas opciones"
      ]
    },
    {
      "cell_type": "markdown",
      "metadata": {
        "pycharm": {}
      },
      "source": [
        "Ahora vamos a bajar el número de casos negativos y subir el de positivos de manera simultánea."
      ]
    },
    {
      "cell_type": "code",
      "execution_count": 9,
      "metadata": {
        "collapsed": true,
        "pycharm": {}
      },
      "outputs": [],
      "source": [
        "def overundersampling(df, frac_positives \u003d 2, frac_negatives \u003d 0.5):\n",
        "    # Positive cases -\u003e Add some cases\n",
        "    train_df_positive \u003d df[df[label]]\n",
        "    train_df_positive \u003d train_df_positive.append(train_df_positive.sample(frac\u003dfrac_positives-1))\n",
        "    # Negative cases -\u003e Delete some cases\n",
        "    train_df_negative \u003d df[~df[label]]\n",
        "    train_df_negative \u003d train_df_negative.sample(frac \u003d frac_negatives)\n",
        "    # Join negative and positives cases\n",
        "    train_df_overundersampling \u003d train_df_positive.append(train_df_negative).sample(frac\u003d1)\n",
        "    # Separate in attributes and label\n",
        "    X_overundersampling \u003d train_df_overundersampling.drop(label, 1)\n",
        "    y_overundersampling \u003d train_df_overundersampling[label]\n",
        "\n",
        "    return X_overundersampling, y_overundersampling"
      ]
    },
    {
      "cell_type": "code",
      "execution_count": 61,
      "metadata": {
        "pycharm": {}
      },
      "outputs": [
        {
          "name": "stdout",
          "output_type": "stream",
          "text": [
            "Eligiendo 100 % de los datos positivos y 100 % de negativos: Precisión 0.3018 Recall 0.2992 F1 0.3005 ROC 0.6332\n",
            "Eligiendo 100 % de los datos positivos y 80 % de negativos: Precisión 0.2831 Recall 0.3255 F1 0.3028 ROC 0.6432\n",
            "Eligiendo 110 % de los datos positivos y 80 % de negativos: Precisión 0.2822 Recall 0.3317 F1 0.3049 ROC 0.6458\n",
            "Eligiendo 140 % de los datos positivos y 100 % de negativos: Precisión 0.3093 Recall 0.3101 F1 0.3097 ROC 0.6386\n",
            "Eligiendo 150 % de los datos positivos y 80 % de negativos: Precisión 0.2862 Recall 0.3435 F1 0.3123 ROC 0.6514\n"
          ]
        },
        {
          "data": {
            "text/plain": [
              "(1.5, 0.8)"
            ]
          },
          "execution_count": 61,
          "metadata": {},
          "output_type": "execute_result"
        }
      ],
      "source": [
        "def bestFracs(df):\n",
        "    # Dividir conjunto de entrenamiento en otro conjunto de entrenamiento y test\n",
        "    _X_train, _X_test, _y_train, _y_test \u003d train_test_split(classes_df_atts, classes_df_label, test_size\u003d0.33, stratify\u003dclasses_df_label)\n",
        "    _train_df \u003d _X_train.copy()\n",
        "    _train_df[label] \u003d _y_train.copy()\n",
        "    _test_df \u003d _X_test.copy()\n",
        "    _test_df[label] \u003d _y_test.copy()\n",
        "    \n",
        "    # Para cada porcentaje de casos positivos entrenar y ver score\n",
        "    frac_positives \u003d [1, 1.1, 1.2, 1.3, 1.4, 1.5, 1.6, 1.7, 1.8, 1.9, 2]\n",
        "    frac_negatives \u003d [1, 0.9, 0.8, 0.7, 0.6, 0.5, 0.4, 0.3, 0.25, 0.2, 0.15, 0.1, 0.05, 0.025, 0]\n",
        "    \n",
        "    best_frac \u003d None\n",
        "    best_score \u003d 0\n",
        "    for frac in frac_positives:\n",
        "        for frac2 in frac_negatives:\n",
        "            _X_overunder, _y_overunder \u003d overundersampling(_train_df, frac_positives \u003d frac, frac_negatives\u003dfrac2)\n",
        "            model \u003d tree.DecisionTreeClassifier()\n",
        "            p, r, s, a \u003d tryModel(model, _X_overunder, _y_overunder, _X_test, _y_test)\n",
        "            score \u003d s\n",
        "            if (score \u003e best_score):\n",
        "                print(\"Eligiendo\", round(frac*100), \u0027% de los datos positivos y\u0027,round(frac2*100),\u0027% de negativos: Precisión\u0027,round(p,4),\u0027Recall\u0027,round(r,4),\u0027F1\u0027,round(s,4),\u0027ROC\u0027,round(a,4))\n",
        "                best_frac \u003d (frac, frac2)\n",
        "                best_score \u003d score\n",
        "    return best_frac\n",
        "bestFracs(train_df)"
      ]
    },
    {
      "cell_type": "code",
      "execution_count": 62,
      "metadata": {
        "pycharm": {}
      },
      "outputs": [
        {
          "name": "stdout",
          "output_type": "stream",
          "text": [
            "Clases sin bugs (negativos):  93476\n",
            "Clases con bugs (positivos):  8316\n",
            "Proporcion de clases con bugs:  8.17 %\n"
          ]
        }
      ],
      "source": [
        "X_overundersampling, y_overundersampling \u003d overundersampling(train_df, frac_positives \u003d 1.5, frac_negatives \u003d 0.8)\n",
        "print(\"Clases sin bugs (negativos): \",len(y_overundersampling[~y_overundersampling]))\n",
        "print(\"Clases con bugs (positivos): \", len(y_overundersampling[y_overundersampling]))\n",
        "print(\"Proporcion de clases con bugs: \", round(len(y_overundersampling[y_overundersampling])/len(y_overundersampling)*100,2),\u0027%\u0027)\n"
      ]
    },
    {
      "cell_type": "code",
      "execution_count": 63,
      "metadata": {
        "pycharm": {}
      },
      "outputs": [
        {
          "data": {
            "text/plain": [
              "(0.2732861973562865,\n",
              " 0.3255217868912486,\n",
              " 0.29712566844919786,\n",
              " 0.642222588290197)"
            ]
          },
          "execution_count": 63,
          "metadata": {},
          "output_type": "execute_result"
        }
      ],
      "source": [
        "# Dado un modelo, realiza la validacion cruzada\n",
        "model \u003d tree.DecisionTreeClassifier()\n",
        "tryModel(model, X_overundersampling, y_overundersampling, X_test, y_test)"
      ]
    },
    {
      "cell_type": "markdown",
      "metadata": {
        "collapsed": true,
        "pycharm": {}
      },
      "source": [
        "### 4) Regresión Lasso"
      ]
    },
    {
      "cell_type": "code",
      "execution_count": 23,
      "metadata": {
        "collapsed": true,
        "pycharm": {}
      },
      "outputs": [],
      "source": [
        "def evalLasso(model, X_train, y_train, X_test, y_test, threshold):\n",
        "    clf \u003d model.fit(X_train, y_train)\n",
        "    prediction \u003d clf.predict(X_test)\n",
        "    prediction \u003d prediction \u003e\u003d threshold\n",
        "    precision \u003d precision_score(y_test,prediction)\n",
        "    recall \u003d recall_score(y_test,prediction)\n",
        "    f1 \u003d f1_score(y_test,prediction)\n",
        "    roc \u003d roc_auc_score(y_test, prediction)\n",
        "    return precision, recall, f1, roc"
      ]
    },
    {
      "cell_type": "code",
      "execution_count": 9,
      "metadata": {
        "pycharm": {}
      },
      "outputs": [
        {
          "data": {
            "text/plain": [
              "(0.4329896907216495,\n",
              " 0.015378982057854266,\n",
              " 0.029702970297029705,\n",
              " 0.5072116539800487)"
            ]
          },
          "execution_count": 9,
          "metadata": {},
          "output_type": "execute_result"
        }
      ],
      "source": [
        "model \u003d linear_model.Lasso(alpha\u003d0.01)\n",
        "evalLasso(model, X_train, y_train, X_test, y_test, 0.5)"
      ]
    },
    {
      "cell_type": "markdown",
      "metadata": {
        "pycharm": {}
      },
      "source": [
        "Vamos a intentar optimizar el valor de alfa y el umbral a partir del cual consideramos que una clase es positiva (ya que usar un valor distinto del 0.5 que es el valor común puede darnos resultados mejores)"
      ]
    },
    {
      "cell_type": "code",
      "execution_count": 11,
      "metadata": {
        "collapsed": true,
        "pycharm": {}
      },
      "outputs": [],
      "source": [
        "def bestLasso(X_train, y_train, X_test, y_test):\n",
        "    alphas \u003d [0.001, 0.01] + [x for x in np.arange(0.1, 1.1, 0.1)]\n",
        "    thresholds \u003d [x for x in np.arange(0,1.1,0.1)]\n",
        "    bestConfig \u003d None\n",
        "    bestScore \u003d 0\n",
        "    for alpha in alphas:\n",
        "        for threshold in thresholds:\n",
        "            model \u003d linear_model.Lasso(alpha\u003dalpha)\n",
        "            _, _, score, _ \u003d evalLasso(model, X_train, y_train, X_test, y_test, threshold)\n",
        "            if (score \u003e bestScore):\n",
        "                print(\"Alpha \", alpha, \" + Threshold \", threshold, \" Score \", score)\n",
        "                bestScore \u003d score\n",
        "                bestConfig \u003d (alpha, threshold)\n",
        "                \n",
        "    return bestConfig, bestScore"
      ]
    },
    {
      "cell_type": "code",
      "execution_count": 18,
      "metadata": {
        "collapsed": true,
        "pycharm": {}
      },
      "outputs": [],
      "source": [
        "# bestLasso(X_train, y_train, X_test, y_test)"
      ]
    },
    {
      "cell_type": "code",
      "execution_count": 19,
      "metadata": {
        "pycharm": {}
      },
      "outputs": [
        {
          "data": {
            "text/plain": [
              "(0.1917129560126107,\n",
              " 0.46759428780666423,\n",
              " 0.2719335604770017,\n",
              " 0.6870212407913098)"
            ]
          },
          "execution_count": 19,
          "metadata": {},
          "output_type": "execute_result"
        }
      ],
      "source": [
        "model \u003d linear_model.Lasso(alpha\u003d0.001)\n",
        "evalLasso(model, X_train, y_train, X_test, y_test, 0.1)"
      ]
    },
    {
      "cell_type": "code",
      "execution_count": 21,
      "metadata": {
        "pycharm": {}
      },
      "outputs": [
        {
          "data": {
            "image/png": "iVBORw0KGgoAAAANSUhEUgAAAYAAAAEFCAYAAADqujDUAAAABHNCSVQICAgIfAhkiAAAAAlwSFlz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\u003d\n",
            "text/plain": [
              "\u003cmatplotlib.figure.Figure at 0x20207ec9d68\u003e"
            ]
          },
          "metadata": {},
          "output_type": "display_data"
        }
      ],
      "source": [
        "def printRecallPrecision():\n",
        "    alpha \u003d 0.001\n",
        "    thresholds \u003d [0.001, 0.005, 0.01, 0.025, 0.05, 0.075, 0.1, 0.125, 0.15, 0.175, 0.2, 0.25, 0.3, 0.35, 0.4, 0.45, 0.5, 0.55, 0.6, 0.65, 0.7]\n",
        "    precisions \u003d []\n",
        "    recalls \u003d []\n",
        "    for threshold in thresholds:\n",
        "        model \u003d linear_model.Lasso(alpha\u003dalpha)\n",
        "        precision, recall, score, roc \u003d evalLasso(model, X_train, y_train, X_test, y_test, threshold)\n",
        "        precisions.append(precision)\n",
        "        recalls.append(recall)\n",
        "        \n",
        "    plt.plot(thresholds, precisions, color\u003d\u0027green\u0027)\n",
        "    plt.plot(thresholds, recalls, color\u003d\u0027orange\u0027)\n",
        "    plt.xlabel(\u0027Thresholds\u0027)\n",
        "    plt.ylabel(\u0027Precision and recall\u0027)\n",
        "    plt.show();\n",
        "printRecallPrecision()"
      ]
    },
    {
      "cell_type": "markdown",
      "metadata": {
        "pycharm": {}
      },
      "source": [
        "Vemos como, si tomamos como clases con Bugs aquellas con una probabilidad mayor que 0.1, en función del valor de la regularización escogida, iremos bajando el recall pero aumentando la precisión a medida que lo aumentemos. Aquí habría que valorar si es conveniente asegurar una buen precisión, para que siempre que avisemos sea por un fallo muy posible; o tenemos en cuenta los dos criterios."
      ]
    },
    {
      "cell_type": "code",
      "execution_count": 37,
      "metadata": {
        "pycharm": {}
      },
      "outputs": [
        {
          "data": {
            "text/plain": [
              "(0.11285395370696745,\n",
              " 0.7034053460270963,\n",
              " 0.19450210094669165,\n",
              " 0.7205059952842299)"
            ]
          },
          "execution_count": 37,
          "metadata": {},
          "output_type": "execute_result"
        }
      ],
      "source": [
        "model \u003d linear_model.Lasso(alpha\u003d0.01)\n",
        "evalLasso(model, X_train, y_train, X_test, y_test, 0.05)"
      ]
    },
    {
      "cell_type": "code",
      "execution_count": 23,
      "metadata": {
        "pycharm": {}
      },
      "outputs": [
        {
          "data": {
            "text/plain": [
              "(0.07086773280988395,\n",
              " 0.8989381179055291,\n",
              " 0.13137826773339042,\n",
              " 0.6698301300027898)"
            ]
          },
          "execution_count": 23,
          "metadata": {},
          "output_type": "execute_result"
        }
      ],
      "source": [
        "model \u003d linear_model.Lasso(alpha\u003d0.01)\n",
        "evalLasso(model, X_train, y_train, X_test, y_test, 0.025)"
      ]
    },
    {
      "cell_type": "code",
      "execution_count": 24,
      "metadata": {
        "pycharm": {}
      },
      "outputs": [
        {
          "data": {
            "text/plain": [
              "(0.47368421052631576,\n",
              " 0.013181984621017943,\n",
              " 0.025650160313501962,\n",
              " 0.5062434744567793)"
            ]
          },
          "execution_count": 24,
          "metadata": {},
          "output_type": "execute_result"
        }
      ],
      "source": [
        "model \u003d linear_model.Lasso(alpha\u003d0.1)\n",
        "evalLasso(model, X_train, y_train, X_test, y_test, 0.4)"
      ]
    },
    {
      "cell_type": "code",
      "execution_count": 22,
      "metadata": {
        "pycharm": {}
      },
      "outputs": [
        {
          "data": {
            "text/plain": [
              "(0.11897889808222692,\n",
              " 0.6792383742218967,\n",
              " 0.20248881126514573,\n",
              " 0.7202815561401573)"
            ]
          },
          "execution_count": 22,
          "metadata": {},
          "output_type": "execute_result"
        }
      ],
      "source": [
        "X_transformed, y_transformed \u003d undersampling(train_df, frac_negatives\u003d0.5)\n",
        "model \u003d linear_model.Lasso(alpha\u003d0.01)\n",
        "evalLasso(model, X_transformed, y_transformed, X_test, y_test, 0.1)"
      ]
    },
    {
      "cell_type": "code",
      "execution_count": 26,
      "metadata": {
        "pycharm": {}
      },
      "outputs": [
        {
          "data": {
            "text/plain": [
              "(0.15024232633279483,\n",
              " 0.5789088246063713,\n",
              " 0.23856948845631507,\n",
              " 0.7117667961019033)"
            ]
          },
          "execution_count": 26,
          "metadata": {},
          "output_type": "execute_result"
        }
      ],
      "source": [
        "X_transformed, y_transformed \u003d oversampling(train_df, frac_positives\u003d1.5)\n",
        "model \u003d linear_model.Lasso(alpha\u003d0.01)\n",
        "evalLasso(model, X_transformed, y_transformed, X_test, y_test, 0.1)"
      ]
    },
    {
      "cell_type": "code",
      "execution_count": 36,
      "metadata": {
        "pycharm": {}
      },
      "outputs": [
        {
          "data": {
            "text/plain": [
              "(0.12694593829606568,\n",
              " 0.6569022336140607,\n",
              " 0.212773527842021,\n",
              " 0.7212592348240934)"
            ]
          },
          "execution_count": 36,
          "metadata": {},
          "output_type": "execute_result"
        }
      ],
      "source": [
        "X_transformed, y_transformed \u003d overundersampling(train_df, frac_positives \u003d 1.5, frac_negatives\u003d0.5)\n",
        "model \u003d linear_model.Lasso(alpha\u003d0.01)\n",
        "evalLasso(model, X_transformed, y_transformed, X_test, y_test, 0.15)"
      ]
    },
    {
      "cell_type": "markdown",
      "metadata": {
        "collapsed": true,
        "pycharm": {}
      },
      "source": [
        "### 5) SVM"
      ]
    },
    {
      "cell_type": "code",
      "execution_count": 78,
      "metadata": {
        "pycharm": {}
      },
      "outputs": [
        {
          "data": {
            "text/plain": [
              "(0.43333333333333335,\n",
              " 0.04760161113145368,\n",
              " 0.08578027053777632,\n",
              " 0.5223238546873754)"
            ]
          },
          "execution_count": 78,
          "metadata": {},
          "output_type": "execute_result"
        }
      ],
      "source": [
        "# Tarda mucho en ejecutarse\n",
        "# model \u003d svm.SVC()\n",
        "# tryModel(model, X_train, y_train, X_test, y_test)\n",
        "# Resultados: (0.43333333333333335, 0.04760161113145368, 0.08578027053777632, 0.5223238546873754)"
      ]
    },
    {
      "cell_type": "markdown",
      "metadata": {
        "pycharm": {}
      },
      "source": [
        "Se puede ver que no clasifica casi datos como positivos."
      ]
    },
    {
      "cell_type": "code",
      "execution_count": 14,
      "metadata": {
        "pycharm": {}
      },
      "outputs": [
        {
          "data": {
            "text/plain": [
              "(0.37449392712550605,\n",
              " 0.06774075430245331,\n",
              " 0.11472868217054263,\n",
              " 0.5311858017311645)"
            ]
          },
          "execution_count": 14,
          "metadata": {},
          "output_type": "execute_result"
        }
      ],
      "source": [
        "# model \u003d svm.SVC()\n",
        "# tryModel(model, X_undersampling, y_undersampling, X_test, y_test)\n",
        "# Reultados: (0.37449392712550605, 0.06774075430245331, 0.11472868217054263, 0.5311858017311645)"
      ]
    },
    {
      "cell_type": "code",
      "execution_count": 15,
      "metadata": {
        "pycharm": {}
      },
      "outputs": [
        {
          "data": {
            "text/plain": [
              "(0.3569553805774278,\n",
              " 0.09959721713658001,\n",
              " 0.15574005153163473,\n",
              " 0.5455415148601007)"
            ]
          },
          "execution_count": 15,
          "metadata": {},
          "output_type": "execute_result"
        }
      ],
      "source": [
        "# model \u003d svm.SVC()\n",
        "# tryModel(model, X_oversampling, y_oversampling, X_test, y_test)\n",
        "# Resultados: (0.3569553805774278, 0.09959721713658001, 0.15574005153163473, 0.5455415148601007)"
      ]
    },
    {
      "cell_type": "code",
      "execution_count": 16,
      "metadata": {
        "pycharm": {}
      },
      "outputs": [
        {
          "data": {
            "text/plain": [
              "(0.29074074074074074,\n",
              " 0.11497619919443428,\n",
              " 0.16478614536866967,\n",
              " 0.5508331326982927)"
            ]
          },
          "execution_count": 16,
          "metadata": {},
          "output_type": "execute_result"
        }
      ],
      "source": [
        "# model \u003d svm.SVC()\n",
        "# tryModel(model, X_overundersampling, y_overundersampling, X_test, y_test)\n",
        "# Resultados: (0.29074074074074074, 0.11497619919443428, 0.16478614536866967, 0.5508331326982927)"
      ]
    },
    {
      "cell_type": "markdown",
      "metadata": {
        "pycharm": {}
      },
      "source": [
        "### 6) XGBoost"
      ]
    },
    {
      "cell_type": "code",
      "execution_count": 3,
      "metadata": {
        "pycharm": {
          "is_executing": false
        }
      },
      "outputs": [
        {
          "ename": "ModuleNotFoundError",
          "evalue": "No module named \u0027xgboost\u0027",
          "output_type": "error",
          "traceback": [
            "\u001b[1;31m---------------------------------------------------------------------------\u001b[0m",
            "\u001b[1;31mModuleNotFoundError\u001b[0m                       Traceback (most recent call last)",
            "\u001b[1;32m\u003cipython-input-3-83661f389c58\u003e\u001b[0m in \u001b[0;36m\u003cmodule\u003e\u001b[1;34m\u001b[0m\n\u001b[1;32m----\u003e 1\u001b[1;33m \u001b[1;32mfrom\u001b[0m \u001b[0mxgboost\u001b[0m \u001b[1;32mimport\u001b[0m \u001b[0mXGBClassifier\u001b[0m\u001b[1;33m\u001b[0m\u001b[1;33m\u001b[0m\u001b[0m\n\u001b[0m\u001b[0;32m      2\u001b[0m \u001b[0mmodel\u001b[0m \u001b[1;33m\u003d\u001b[0m \u001b[0mXGBClassifier\u001b[0m\u001b[1;33m(\u001b[0m\u001b[1;33m)\u001b[0m\u001b[1;33m\u001b[0m\u001b[1;33m\u001b[0m\u001b[0m\n\u001b[0;32m      3\u001b[0m \u001b[0mtryModel\u001b[0m\u001b[1;33m(\u001b[0m\u001b[0mmodel\u001b[0m\u001b[1;33m,\u001b[0m \u001b[0mX_train\u001b[0m\u001b[1;33m,\u001b[0m \u001b[0my_train\u001b[0m\u001b[1;33m,\u001b[0m \u001b[0mX_test\u001b[0m\u001b[1;33m,\u001b[0m \u001b[0my_test\u001b[0m\u001b[1;33m)\u001b[0m\u001b[1;33m\u001b[0m\u001b[1;33m\u001b[0m\u001b[0m\n",
            "\u001b[1;31mModuleNotFoundError\u001b[0m: No module named \u0027xgboost\u0027"
          ]
        }
      ],
      "source": [
        "from xgboost import XGBClassifier\n",
        "model \u003d XGBClassifier()\n",
        "tryModel(model, X_train, y_train, X_test, y_test)"
      ]
    },
    {
      "cell_type": "code",
      "execution_count": null,
      "metadata": {
        "collapsed": true,
        "pycharm": {}
      },
      "outputs": [],
      "source": []
    }
  ],
  "metadata": {
    "kernelspec": {
      "display_name": "PyCharm (tfm-repositorio)",
      "language": "python",
      "name": "pycharm-7e82875a"
    },
    "language_info": {
      "codemirror_mode": {
        "name": "ipython",
        "version": 3
      },
      "file_extension": ".py",
      "mimetype": "text/x-python",
      "name": "python",
      "nbconvert_exporter": "python",
      "pygments_lexer": "ipython3",
      "version": "3.7.2"
    }
  },
  "nbformat": 4,
  "nbformat_minor": 2
}