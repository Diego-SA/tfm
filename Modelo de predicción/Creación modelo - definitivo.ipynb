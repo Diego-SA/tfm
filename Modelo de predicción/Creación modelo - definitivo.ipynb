{
 "cells": [
  {
   "cell_type": "markdown",
   "metadata": {},
   "source": [
    "# TFM: Selección del modelo de predicción\n",
    "## Diego Sanz Alonso"
   ]
  },
  {
   "cell_type": "markdown",
   "metadata": {},
   "source": [
    "### 1) Importar librerías y creación de funciones auxiliares"
   ]
  },
  {
   "cell_type": "code",
   "execution_count": 1,
   "metadata": {
    "collapsed": true
   },
   "outputs": [],
   "source": [
    "#Only show warnings once\n",
    "import warnings\n",
    "warnings.filterwarnings(action='ignore')"
   ]
  },
  {
   "cell_type": "code",
   "execution_count": 2,
   "metadata": {
    "collapsed": true
   },
   "outputs": [],
   "source": [
    "import numpy as np\n",
    "import pandas as pd\n",
    "from sklearn.model_selection import train_test_split\n",
    "from sklearn.model_selection import cross_val_score\n",
    "from sklearn.model_selection import cross_val_predict\n",
    "from sklearn import neighbors, tree\n",
    "from sklearn import linear_model\n",
    "from sklearn import svm\n",
    "import pickle\n",
    "from math import ceil\n",
    "\n",
    "from sklearn.metrics import accuracy_score\n",
    "from sklearn.metrics import precision_score\n",
    "from sklearn.metrics import recall_score\n",
    "from sklearn.metrics import f1_score\n",
    "from sklearn.metrics import roc_auc_score\n",
    "\n",
    "import matplotlib as mpl\n",
    "import matplotlib.pyplot as plt\n",
    "\n",
    "import seaborn as sns\n",
    "sns.set(color_codes=True)"
   ]
  },
  {
   "cell_type": "markdown",
   "metadata": {},
   "source": [
    "### 2) Leer datos y crear conjunto de entrenamiento y test"
   ]
  },
  {
   "cell_type": "code",
   "execution_count": 3,
   "metadata": {},
   "outputs": [
    {
     "name": "stdout",
     "output_type": "stream",
     "text": [
      "Reading data\n",
      "Clases sin bugs (negativos):  174396\n",
      "Clases con bugs (positivos):  8275\n",
      "Proporcion de clases con bugs:  4.53 %\n"
     ]
    }
   ],
   "source": [
    "input_data = \"datasets/dataframes/\"\n",
    "df_file = \"classes_processed_v1.csv\"\n",
    "\n",
    "print(\"Reading data\")\n",
    "\n",
    "# Classes dataframe\n",
    "classes_df = pd.read_csv(input_data + df_file)\n",
    "\n",
    "label = \"Has bugs\"\n",
    "\n",
    "# Atts and label(binary -> False: no bugs, True: bugs)\n",
    "classes_df_atts = classes_df.drop([label], axis = 1)\n",
    "classes_df_label = classes_df[label]\n",
    "\n",
    "print(\"Clases sin bugs (negativos): \",len(classes_df_label[~classes_df_label]))\n",
    "print(\"Clases con bugs (positivos): \", len(classes_df_label[classes_df_label]))\n",
    "print(\"Proporcion de clases con bugs: \", round(len(classes_df_label[classes_df_label])/len(classes_df_label)*100,2),'%')\n",
    "\n",
    "# Train / Test split\n",
    "X_train, X_test, y_train, y_test = train_test_split(classes_df_atts, classes_df_label, test_size=0.33, stratify=classes_df_label)\n",
    "\n",
    "\n",
    "# Train and test df\n",
    "train_df = X_train.copy()\n",
    "train_df[label] = y_train.copy()\n",
    "\n",
    "test_df = X_test.copy()\n",
    "test_df[label] = y_test.copy()"
   ]
  },
  {
   "cell_type": "markdown",
   "metadata": {},
   "source": [
    "### 3) Árbol de decisión"
   ]
  },
  {
   "cell_type": "code",
   "execution_count": 28,
   "metadata": {
    "collapsed": true
   },
   "outputs": [],
   "source": [
    "def tryModel(model, X_train, y_train, X_test, y_test):\n",
    "    clf = model.fit(X_train, y_train)\n",
    "    prediction = clf.predict(X_test) \n",
    "    precision = precision_score(y_test,prediction)\n",
    "    recall = recall_score(y_test,prediction)\n",
    "    f1 = f1_score(y_test,prediction)\n",
    "    roc = roc_auc_score(y_test, prediction)\n",
    "    return precision, recall, f1, roc"
   ]
  },
  {
   "cell_type": "code",
   "execution_count": 5,
   "metadata": {},
   "outputs": [
    {
     "data": {
      "text/plain": [
       "(0.3075117370892019,\n",
       " 0.2878066642255584,\n",
       " 0.2973330811424248,\n",
       " 0.6285256670852384)"
      ]
     },
     "execution_count": 5,
     "metadata": {},
     "output_type": "execute_result"
    }
   ],
   "source": [
    "# Dado un modelo, realiza la validacion cruzada\n",
    "model = tree.DecisionTreeClassifier()\n",
    "tryModel(model, X_train, y_train, X_test, y_test)"
   ]
  },
  {
   "cell_type": "markdown",
   "metadata": {},
   "source": [
    "Vamos a intentar optimizar 2 de los muchos parámetros que puede tener el árbol de decisión:\n",
    "\n",
    "* **Profundidad máxima** que pueda alcanzar el árbol. Por defecto el árbol se expande entero (**None**), pero debemos evitar ramificar demasiadas hojas y controlar el sobreajuste.\n",
    "* **Número mínimo de ejemplos que debe tener en una hoja** para poder particionarse. En caso de que se llegue a un nodo que no sea hoja pero número de instancias es menor al requerido, entonces el algoritmo no ramifica y lo convierte en hoja.\n"
   ]
  },
  {
   "cell_type": "code",
   "execution_count": 5,
   "metadata": {
    "collapsed": true
   },
   "outputs": [],
   "source": [
    "def bruteTree(X_train, y_train, X_test, y_test):\n",
    "    \"\"\"Obtener la mejor configuración para un clasificador de\n",
    "    árbol de predicción mediante búsqueda por fuerza bruta.\"\"\"\n",
    "    # Puntuación inicial\n",
    "    mejorScore = 0\n",
    "    mejorconf = None\n",
    "\n",
    "    # Iterar configuraciones\n",
    "    for i, j in [(i, j) for i in [None] + list(range(1,20,2)) for j in list(range(2,20,3))]:\n",
    "        model = tree.DecisionTreeClassifier(max_depth = i, min_samples_split = j)\n",
    "        # Validacion cruzada para testear parametros\n",
    "        scores = cross_val_score(model, X_train, y_train, cv = 5, scoring=\"f1\")\n",
    "        score = scores.mean()\n",
    "        # Actualizar puntuación\n",
    "        if (score > mejorScore):\n",
    "            mejorScore = score\n",
    "            mejorconf = (i,j)\n",
    "    # Devolve mejor configuración\n",
    "    return mejorconf"
   ]
  },
  {
   "cell_type": "code",
   "execution_count": 8,
   "metadata": {
    "collapsed": true
   },
   "outputs": [],
   "source": [
    "#bruteTree(X_train, y_train, X_test, y_test)\n",
    "# Resultados: (None, 2)"
   ]
  },
  {
   "cell_type": "markdown",
   "metadata": {},
   "source": [
    "Vemos que ha tomado los valores por defecto de este modelo. Ahora, vamos a intentar seleccionar algunas variables en lugar de utilizar todas."
   ]
  },
  {
   "cell_type": "code",
   "execution_count": 6,
   "metadata": {
    "collapsed": true
   },
   "outputs": [],
   "source": [
    "from sklearn.feature_selection import chi2\n",
    "from sklearn.feature_selection import SelectKBest\n",
    "\n",
    "def bestNAtts(X_train, y_train, X_test, y_test):\n",
    "    n_atts = 0\n",
    "    best_K = None\n",
    "    best_score = 0\n",
    "    for i in range(len(X_train.columns)):\n",
    "        n_atts = i + 1\n",
    "        X_train_transformed = SelectKBest(chi2, k=n_atts).fit_transform(X_train,y_train)\n",
    "        model = tree.DecisionTreeClassifier()\n",
    "        scores = cross_val_score(model, X_train_transformed, y_train, cv = 10, scoring=\"f1\")\n",
    "        score = scores.mean()\n",
    "        if (score > best_score):\n",
    "            print(\"Mejora con \", n_atts, \"atributos, consiguiendo un F1-Score en la validación cruzada de \", score)\n",
    "            best_score = scores.mean()\n",
    "            best_K = n_atts\n",
    "    return best_K, best_score"
   ]
  },
  {
   "cell_type": "code",
   "execution_count": 8,
   "metadata": {
    "collapsed": true
   },
   "outputs": [],
   "source": [
    "# bestNAtts(X_train, y_train, X_test, y_test)\n",
    "# Resultado: 69"
   ]
  },
  {
   "cell_type": "code",
   "execution_count": 14,
   "metadata": {},
   "outputs": [
    {
     "data": {
      "text/plain": [
       "(0.3108320251177394, 0.2900036616623947, 0.3000568289448759, 0.629745797052462)"
      ]
     },
     "execution_count": 14,
     "metadata": {},
     "output_type": "execute_result"
    }
   ],
   "source": [
    "# Dado un modelo, realiza la validacion cruzada\n",
    "transformer = SelectKBest(chi2, k=69)\n",
    "X_train_transformed = transformer.fit_transform(X_train,y_train)\n",
    "X_test_transformed = transformer.transform(X_test)\n",
    "model = tree.DecisionTreeClassifier()\n",
    "tryModel(model, X_train_transformed, y_train, X_test_transformed, y_test)"
   ]
  },
  {
   "cell_type": "markdown",
   "metadata": {},
   "source": [
    "#### 3.1) Undersampling"
   ]
  },
  {
   "cell_type": "markdown",
   "metadata": {},
   "source": [
    "Vamos a eliminar parte de los casos positivos de entrenamiento para intentar tener un mejor modelo."
   ]
  },
  {
   "cell_type": "code",
   "execution_count": 7,
   "metadata": {
    "collapsed": true
   },
   "outputs": [],
   "source": [
    "def undersampling(df, frac_negatives = 0.5):\n",
    "    # Positive cases\n",
    "    train_df_positive = df[df[label]]\n",
    "    # Negative cases -> Delete some cases\n",
    "    train_df_negative = df[~df[label]]\n",
    "    train_df_negative = train_df_negative.sample(frac = frac_negatives)\n",
    "    # Join negative and positives cases\n",
    "    train_df_undersampling = train_df_positive.append(train_df_negative).sample(frac=1)\n",
    "    # Separate in attributes and label\n",
    "    X_undersampling = train_df_undersampling.drop(label, 1)\n",
    "    y_undersampling = train_df_undersampling[label]\n",
    "\n",
    "    return X_undersampling, y_undersampling"
   ]
  },
  {
   "cell_type": "code",
   "execution_count": 35,
   "metadata": {},
   "outputs": [
    {
     "name": "stdout",
     "output_type": "stream",
     "text": [
      "Eligiendo 90.0 % de los datos negativos. Precisión 0.2905 ;Recall 0.2929 ;F1 0.2917 ;ROC  0.6295\n",
      "Eligiendo 80.0 % de los datos negativos. Precisión 0.279 ;Recall 0.3197 ;F1 0.298 ;ROC  0.6402\n",
      "Eligiendo 70.0 % de los datos negativos. Precisión 0.2821 ;Recall 0.3398 ;F1 0.3083 ;ROC  0.6494\n"
     ]
    },
    {
     "data": {
      "text/plain": [
       "0.7"
      ]
     },
     "execution_count": 35,
     "metadata": {},
     "output_type": "execute_result"
    }
   ],
   "source": [
    "def bestNegFrac(df):\n",
    "    # Dividir conjunto de entrenamiento en otro conjunto de entrenamiento y test\n",
    "    _X_train, _X_test, _y_train, _y_test = train_test_split(classes_df_atts, classes_df_label, test_size=0.33, stratify=classes_df_label)\n",
    "    _train_df = _X_train.copy()\n",
    "    _train_df[label] = _y_train.copy()\n",
    "    _test_df = _X_test.copy()\n",
    "    _test_df[label] = _y_test.copy()\n",
    "    \n",
    "    # Para cada porcentaje de casos negativos entrenar y ver score\n",
    "    frac_negatives = [0.9, 0.8, 0.7, 0.6, 0.5, 0.4, 0.3, 0.25, 0.2, 0.15, 0.1, 0.05, 0.025, 0]\n",
    "    best_frac = None\n",
    "    best_score = 0\n",
    "    for frac in frac_negatives:\n",
    "        _X_under, _y_under = undersampling(_train_df, frac_negatives = frac)\n",
    "        model = tree.DecisionTreeClassifier()\n",
    "        p, r, s, a = tryModel(model, _X_under, _y_under, _X_test, _y_test)\n",
    "        score = s\n",
    "        if (score > best_score):\n",
    "            print(\"Eligiendo\", frac*100, '% de los datos negativos. Precisión',round(p,4),';Recall',round(r,4),';F1',round(s,4),';ROC ',round(a,4))\n",
    "            best_frac = frac\n",
    "            best_score = score\n",
    "    return best_frac\n",
    "bestNegFrac(train_df)"
   ]
  },
  {
   "cell_type": "code",
   "execution_count": 36,
   "metadata": {},
   "outputs": [
    {
     "name": "stdout",
     "output_type": "stream",
     "text": [
      "Clases sin bugs (negativos):  81792\n",
      "Clases con bugs (positivos):  5544\n",
      "Proporcion de clases con bugs:  6.35 %\n"
     ]
    }
   ],
   "source": [
    "X_undersampling, y_undersampling = undersampling(train_df, frac_negatives = 0.7)\n",
    "print(\"Clases sin bugs (negativos): \",len(y_undersampling[~y_undersampling]))\n",
    "print(\"Clases con bugs (positivos): \", len(y_undersampling[y_undersampling]))\n",
    "print(\"Proporcion de clases con bugs: \", round(len(y_undersampling[y_undersampling])/len(y_undersampling)*100,2),'%')"
   ]
  },
  {
   "cell_type": "code",
   "execution_count": 37,
   "metadata": {},
   "outputs": [
    {
     "data": {
      "text/plain": [
       "(0.2605612998522895,\n",
       " 0.32295862321493957,\n",
       " 0.2884238064094179,\n",
       " 0.6397333819103316)"
      ]
     },
     "execution_count": 37,
     "metadata": {},
     "output_type": "execute_result"
    }
   ],
   "source": [
    "# Dado un modelo, realiza la validacion cruzada\n",
    "model = tree.DecisionTreeClassifier()\n",
    "tryModel(model, X_undersampling, y_undersampling, X_test, y_test)"
   ]
  },
  {
   "cell_type": "markdown",
   "metadata": {},
   "source": [
    "#### 3.2) Replicar casos positivos"
   ]
  },
  {
   "cell_type": "markdown",
   "metadata": {},
   "source": [
    "Ahora vamos a intentar lo inverso: aumentar el número de casos positivos."
   ]
  },
  {
   "cell_type": "code",
   "execution_count": 8,
   "metadata": {
    "collapsed": true
   },
   "outputs": [],
   "source": [
    "def oversampling(df, frac_positives = 2):\n",
    "    # Positive cases -> Add some cases\n",
    "    train_df_positive = df[df[label]]\n",
    "    train_df_positive = train_df_positive.append(train_df_positive.sample(frac=frac_positives-1))\n",
    "    # Negative cases \n",
    "    train_df_negative = df[~df[label]]\n",
    "    # Join negative and positives cases\n",
    "    train_df_undersampling = train_df_positive.append(train_df_negative).sample(frac=1)\n",
    "    # Separate in attributes and label\n",
    "    X_undersampling = train_df_undersampling.drop(label, 1)\n",
    "    y_undersampling = train_df_undersampling[label]\n",
    "\n",
    "    return X_undersampling, y_undersampling"
   ]
  },
  {
   "cell_type": "code",
   "execution_count": 41,
   "metadata": {},
   "outputs": [
    {
     "name": "stdout",
     "output_type": "stream",
     "text": [
      "Eligiendo 100 % de los datos positivos. Precisión 0.3047 Recall 0.2896 F1 0.297 ROC  0.6291\n",
      "Eligiendo 110 % de los datos positivos. Precisión 0.3139 Recall 0.3017 F1 0.3077 ROC  0.6352\n",
      "Eligiendo 140 % de los datos positivos. Precisión 0.3102 Recall 0.3149 F1 0.3126 ROC  0.6408\n"
     ]
    },
    {
     "data": {
      "text/plain": [
       "1.4"
      ]
     },
     "execution_count": 41,
     "metadata": {},
     "output_type": "execute_result"
    }
   ],
   "source": [
    "def bestPosFrac(df):\n",
    "    # Dividir conjunto de entrenamiento en otro conjunto de entrenamiento y test\n",
    "    _X_train, _X_test, _y_train, _y_test = train_test_split(classes_df_atts, classes_df_label, test_size=0.33, stratify=classes_df_label)\n",
    "    _train_df = _X_train.copy()\n",
    "    _train_df[label] = _y_train.copy()\n",
    "    _test_df = _X_test.copy()\n",
    "    _test_df[label] = _y_test.copy()\n",
    "    \n",
    "    # Para cada porcentaje de casos positivos entrenar y ver score\n",
    "    frac_positives = [1, 1.1, 1.2, 1.3, 1.4, 1.5, 1.6, 1.7, 1.8, 1.9, 2]\n",
    "    best_frac = None\n",
    "    best_score = 0\n",
    "    for frac in frac_positives:\n",
    "        _X_under, _y_under = oversampling(_train_df, frac_positives = frac)\n",
    "        model = tree.DecisionTreeClassifier()\n",
    "        p, r, s, a = tryModel(model, _X_under, _y_under, _X_test, _y_test)\n",
    "        score = s\n",
    "        if (score > best_score):\n",
    "            print(\"Eligiendo\", round(frac*100), '% de los datos positivos. Precisión',round(p,4),'Recall',round(r,4),'F1',round(s,4),'ROC ',round(a,4))\n",
    "            best_frac = frac\n",
    "            best_score = score\n",
    "    return best_frac\n",
    "bestPosFrac(train_df)"
   ]
  },
  {
   "cell_type": "code",
   "execution_count": 42,
   "metadata": {},
   "outputs": [
    {
     "name": "stdout",
     "output_type": "stream",
     "text": [
      "Clases sin bugs (negativos):  116845\n",
      "Clases con bugs (positivos):  7762\n",
      "Proporcion de clases con bugs:  6.23 %\n"
     ]
    }
   ],
   "source": [
    "X_oversampling, y_oversampling = oversampling(train_df, frac_positives = 1.4)\n",
    "print(\"Clases sin bugs (negativos): \",len(y_oversampling[~y_oversampling]))\n",
    "print(\"Clases con bugs (positivos): \", len(y_oversampling[y_oversampling]))\n",
    "print(\"Proporcion de clases con bugs: \", round(len(y_oversampling[y_oversampling])/len(y_oversampling)*100,2),'%')\n"
   ]
  },
  {
   "cell_type": "code",
   "execution_count": 43,
   "metadata": {},
   "outputs": [
    {
     "data": {
      "text/plain": [
       "(0.29933481152993346,\n",
       " 0.2965946539729037,\n",
       " 0.2979584329593526,\n",
       " 0.6318249807196624)"
      ]
     },
     "execution_count": 43,
     "metadata": {},
     "output_type": "execute_result"
    }
   ],
   "source": [
    "# Dado un modelo, realiza la validacion cruzada\n",
    "model = tree.DecisionTreeClassifier()\n",
    "tryModel(model, X_oversampling, y_oversampling, X_test, y_test)"
   ]
  },
  {
   "cell_type": "code",
   "execution_count": 56,
   "metadata": {},
   "outputs": [
    {
     "data": {
      "text/plain": [
       "(0.2776782515227517,\n",
       " 0.28377883559135847,\n",
       " 0.28069540021731254,\n",
       " 0.6243745179677005)"
      ]
     },
     "execution_count": 56,
     "metadata": {},
     "output_type": "execute_result"
    }
   ],
   "source": [
    "max_depth, min_samples = bruteTree(X_oversampling, y_oversampling, X_test, y_test)\n",
    "model = tree.DecisionTreeClassifier(max_depth = max_depth, min_samples_split = min_samples)\n",
    "tryModel(model, X_oversampling, y_oversampling, X_test, y_test)"
   ]
  },
  {
   "cell_type": "markdown",
   "metadata": {},
   "source": [
    "#### 3.4) Combinar ambas opciones"
   ]
  },
  {
   "cell_type": "markdown",
   "metadata": {},
   "source": [
    "Ahora vamos a bajar el número de casos negativos y subir el de positivos de manera simultánea."
   ]
  },
  {
   "cell_type": "code",
   "execution_count": 9,
   "metadata": {
    "collapsed": true
   },
   "outputs": [],
   "source": [
    "def overundersampling(df, frac_positives = 2, frac_negatives = 0.5):\n",
    "    # Positive cases -> Add some cases\n",
    "    train_df_positive = df[df[label]]\n",
    "    train_df_positive = train_df_positive.append(train_df_positive.sample(frac=frac_positives-1))\n",
    "    # Negative cases -> Delete some cases\n",
    "    train_df_negative = df[~df[label]]\n",
    "    train_df_negative = train_df_negative.sample(frac = frac_negatives)\n",
    "    # Join negative and positives cases\n",
    "    train_df_overundersampling = train_df_positive.append(train_df_negative).sample(frac=1)\n",
    "    # Separate in attributes and label\n",
    "    X_overundersampling = train_df_overundersampling.drop(label, 1)\n",
    "    y_overundersampling = train_df_overundersampling[label]\n",
    "\n",
    "    return X_overundersampling, y_overundersampling"
   ]
  },
  {
   "cell_type": "code",
   "execution_count": 61,
   "metadata": {},
   "outputs": [
    {
     "name": "stdout",
     "output_type": "stream",
     "text": [
      "Eligiendo 100 % de los datos positivos y 100 % de negativos: Precisión 0.3018 Recall 0.2992 F1 0.3005 ROC 0.6332\n",
      "Eligiendo 100 % de los datos positivos y 80 % de negativos: Precisión 0.2831 Recall 0.3255 F1 0.3028 ROC 0.6432\n",
      "Eligiendo 110 % de los datos positivos y 80 % de negativos: Precisión 0.2822 Recall 0.3317 F1 0.3049 ROC 0.6458\n",
      "Eligiendo 140 % de los datos positivos y 100 % de negativos: Precisión 0.3093 Recall 0.3101 F1 0.3097 ROC 0.6386\n",
      "Eligiendo 150 % de los datos positivos y 80 % de negativos: Precisión 0.2862 Recall 0.3435 F1 0.3123 ROC 0.6514\n"
     ]
    },
    {
     "data": {
      "text/plain": [
       "(1.5, 0.8)"
      ]
     },
     "execution_count": 61,
     "metadata": {},
     "output_type": "execute_result"
    }
   ],
   "source": [
    "def bestFracs(df):\n",
    "    # Dividir conjunto de entrenamiento en otro conjunto de entrenamiento y test\n",
    "    _X_train, _X_test, _y_train, _y_test = train_test_split(classes_df_atts, classes_df_label, test_size=0.33, stratify=classes_df_label)\n",
    "    _train_df = _X_train.copy()\n",
    "    _train_df[label] = _y_train.copy()\n",
    "    _test_df = _X_test.copy()\n",
    "    _test_df[label] = _y_test.copy()\n",
    "    \n",
    "    # Para cada porcentaje de casos positivos entrenar y ver score\n",
    "    frac_positives = [1, 1.1, 1.2, 1.3, 1.4, 1.5, 1.6, 1.7, 1.8, 1.9, 2]\n",
    "    frac_negatives = [1, 0.9, 0.8, 0.7, 0.6, 0.5, 0.4, 0.3, 0.25, 0.2, 0.15, 0.1, 0.05, 0.025, 0]\n",
    "    \n",
    "    best_frac = None\n",
    "    best_score = 0\n",
    "    for frac in frac_positives:\n",
    "        for frac2 in frac_negatives:\n",
    "            _X_overunder, _y_overunder = overundersampling(_train_df, frac_positives = frac, frac_negatives=frac2)\n",
    "            model = tree.DecisionTreeClassifier()\n",
    "            p, r, s, a = tryModel(model, _X_overunder, _y_overunder, _X_test, _y_test)\n",
    "            score = s\n",
    "            if (score > best_score):\n",
    "                print(\"Eligiendo\", round(frac*100), '% de los datos positivos y',round(frac2*100),'% de negativos: Precisión',round(p,4),'Recall',round(r,4),'F1',round(s,4),'ROC',round(a,4))\n",
    "                best_frac = (frac, frac2)\n",
    "                best_score = score\n",
    "    return best_frac\n",
    "bestFracs(train_df)"
   ]
  },
  {
   "cell_type": "code",
   "execution_count": 62,
   "metadata": {},
   "outputs": [
    {
     "name": "stdout",
     "output_type": "stream",
     "text": [
      "Clases sin bugs (negativos):  93476\n",
      "Clases con bugs (positivos):  8316\n",
      "Proporcion de clases con bugs:  8.17 %\n"
     ]
    }
   ],
   "source": [
    "X_overundersampling, y_overundersampling = overundersampling(train_df, frac_positives = 1.5, frac_negatives = 0.8)\n",
    "print(\"Clases sin bugs (negativos): \",len(y_overundersampling[~y_overundersampling]))\n",
    "print(\"Clases con bugs (positivos): \", len(y_overundersampling[y_overundersampling]))\n",
    "print(\"Proporcion de clases con bugs: \", round(len(y_overundersampling[y_overundersampling])/len(y_overundersampling)*100,2),'%')\n"
   ]
  },
  {
   "cell_type": "code",
   "execution_count": 63,
   "metadata": {},
   "outputs": [
    {
     "data": {
      "text/plain": [
       "(0.2732861973562865,\n",
       " 0.3255217868912486,\n",
       " 0.29712566844919786,\n",
       " 0.642222588290197)"
      ]
     },
     "execution_count": 63,
     "metadata": {},
     "output_type": "execute_result"
    }
   ],
   "source": [
    "# Dado un modelo, realiza la validacion cruzada\n",
    "model = tree.DecisionTreeClassifier()\n",
    "tryModel(model, X_overundersampling, y_overundersampling, X_test, y_test)"
   ]
  },
  {
   "cell_type": "markdown",
   "metadata": {
    "collapsed": true
   },
   "source": [
    "### 4) Regresión Lasso"
   ]
  },
  {
   "cell_type": "code",
   "execution_count": 23,
   "metadata": {
    "collapsed": true
   },
   "outputs": [],
   "source": [
    "def evalLasso(model, X_train, y_train, X_test, y_test, threshold):\n",
    "    clf = model.fit(X_train, y_train)\n",
    "    prediction = clf.predict(X_test)\n",
    "    prediction = prediction >= threshold\n",
    "    precision = precision_score(y_test,prediction)\n",
    "    recall = recall_score(y_test,prediction)\n",
    "    f1 = f1_score(y_test,prediction)\n",
    "    roc = roc_auc_score(y_test, prediction)\n",
    "    return precision, recall, f1, roc"
   ]
  },
  {
   "cell_type": "code",
   "execution_count": 9,
   "metadata": {},
   "outputs": [
    {
     "data": {
      "text/plain": [
       "(0.4329896907216495,\n",
       " 0.015378982057854266,\n",
       " 0.029702970297029705,\n",
       " 0.5072116539800487)"
      ]
     },
     "execution_count": 9,
     "metadata": {},
     "output_type": "execute_result"
    }
   ],
   "source": [
    "model = linear_model.Lasso(alpha=0.01)\n",
    "evalLasso(model, X_train, y_train, X_test, y_test, 0.5)"
   ]
  },
  {
   "cell_type": "markdown",
   "metadata": {},
   "source": [
    "Vamos a intentar optimizar el valor de alfa y el umbral a partir del cual consideramos que una clase es positiva (ya que usar un valor distinto del 0.5 que es el valor común puede darnos resultados mejores)"
   ]
  },
  {
   "cell_type": "code",
   "execution_count": 11,
   "metadata": {
    "collapsed": true
   },
   "outputs": [],
   "source": [
    "def bestLasso(X_train, y_train, X_test, y_test):\n",
    "    alphas = [0.001, 0.01] + [x for x in np.arange(0.1, 1.1, 0.1)]\n",
    "    thresholds = [x for x in np.arange(0,1.1,0.1)]\n",
    "    bestConfig = None\n",
    "    bestScore = 0\n",
    "    for alpha in alphas:\n",
    "        for threshold in thresholds:\n",
    "            model = linear_model.Lasso(alpha=alpha)\n",
    "            _, _, score, _ = evalLasso(model, X_train, y_train, X_test, y_test, threshold)\n",
    "            if (score > bestScore):\n",
    "                print(\"Alpha \", alpha, \" + Threshold \", threshold, \" Score \", score)\n",
    "                bestScore = score\n",
    "                bestConfig = (alpha, threshold)\n",
    "                \n",
    "    return bestConfig, bestScore"
   ]
  },
  {
   "cell_type": "code",
   "execution_count": 18,
   "metadata": {
    "collapsed": true
   },
   "outputs": [],
   "source": [
    "# bestLasso(X_train, y_train, X_test, y_test)"
   ]
  },
  {
   "cell_type": "code",
   "execution_count": 19,
   "metadata": {},
   "outputs": [
    {
     "data": {
      "text/plain": [
       "(0.1917129560126107,\n",
       " 0.46759428780666423,\n",
       " 0.2719335604770017,\n",
       " 0.6870212407913098)"
      ]
     },
     "execution_count": 19,
     "metadata": {},
     "output_type": "execute_result"
    }
   ],
   "source": [
    "model = linear_model.Lasso(alpha=0.001)\n",
    "evalLasso(model, X_train, y_train, X_test, y_test, 0.1)"
   ]
  },
  {
   "cell_type": "code",
   "execution_count": 21,
   "metadata": {},
   "outputs": [
    {
     "data": {
      "image/png": "[encoded data removed]",
      "text/plain": [
       "<matplotlib.figure.Figure at 0x20207ec9d68>"
      ]
     },
     "metadata": {},
     "output_type": "display_data"
    }
   ],
   "source": [
    "def printRecallPrecision():\n",
    "    alpha = 0.001\n",
    "    thresholds = [0.001, 0.005, 0.01, 0.025, 0.05, 0.075, 0.1, 0.125, 0.15, 0.175, 0.2, 0.25, 0.3, 0.35, 0.4, 0.45, 0.5, 0.55, 0.6, 0.65, 0.7]\n",
    "    precisions = []\n",
    "    recalls = []\n",
    "    for threshold in thresholds:\n",
    "        model = linear_model.Lasso(alpha=alpha)\n",
    "        precision, recall, score, roc = evalLasso(model, X_train, y_train, X_test, y_test, threshold)\n",
    "        precisions.append(precision)\n",
    "        recalls.append(recall)\n",
    "        \n",
    "    plt.plot(thresholds, precisions, color='green')\n",
    "    plt.plot(thresholds, recalls, color='orange')\n",
    "    plt.xlabel('Thresholds')\n",
    "    plt.ylabel('Precision and recall')\n",
    "    plt.show();\n",
    "printRecallPrecision()"
   ]
  },
  {
   "cell_type": "markdown",
   "metadata": {},
   "source": [
    "Vemos como, si tomamos como clases con Bugs aquellas con una probabilidad mayor que 0.1, en función del valor de la regularización escogida, iremos bajando el recall pero aumentando la precisión a medida que lo aumentemos. Aquí habría que valorar si es conveniente asegurar una buen precisión, para que siempre que avisemos sea por un fallo muy posible; o tenemos en cuenta los dos criterios."
   ]
  },
  {
   "cell_type": "code",
   "execution_count": 37,
   "metadata": {},
   "outputs": [
    {
     "data": {
      "text/plain": [
       "(0.11285395370696745,\n",
       " 0.7034053460270963,\n",
       " 0.19450210094669165,\n",
       " 0.7205059952842299)"
      ]
     },
     "execution_count": 37,
     "metadata": {},
     "output_type": "execute_result"
    }
   ],
   "source": [
    "model = linear_model.Lasso(alpha=0.01)\n",
    "evalLasso(model, X_train, y_train, X_test, y_test, 0.05)"
   ]
  },
  {
   "cell_type": "code",
   "execution_count": 23,
   "metadata": {},
   "outputs": [
    {
     "data": {
      "text/plain": [
       "(0.07086773280988395,\n",
       " 0.8989381179055291,\n",
       " 0.13137826773339042,\n",
       " 0.6698301300027898)"
      ]
     },
     "execution_count": 23,
     "metadata": {},
     "output_type": "execute_result"
    }
   ],
   "source": [
    "model = linear_model.Lasso(alpha=0.01)\n",
    "evalLasso(model, X_train, y_train, X_test, y_test, 0.025)"
   ]
  },
  {
   "cell_type": "code",
   "execution_count": 24,
   "metadata": {},
   "outputs": [
    {
     "data": {
      "text/plain": [
       "(0.47368421052631576,\n",
       " 0.013181984621017943,\n",
       " 0.025650160313501962,\n",
       " 0.5062434744567793)"
      ]
     },
     "execution_count": 24,
     "metadata": {},
     "output_type": "execute_result"
    }
   ],
   "source": [
    "model = linear_model.Lasso(alpha=0.1)\n",
    "evalLasso(model, X_train, y_train, X_test, y_test, 0.4)"
   ]
  },
  {
   "cell_type": "code",
   "execution_count": 22,
   "metadata": {},
   "outputs": [
    {
     "data": {
      "text/plain": [
       "(0.11897889808222692,\n",
       " 0.6792383742218967,\n",
       " 0.20248881126514573,\n",
       " 0.7202815561401573)"
      ]
     },
     "execution_count": 22,
     "metadata": {},
     "output_type": "execute_result"
    }
   ],
   "source": [
    "X_transformed, y_transformed = undersampling(train_df, frac_negatives=0.5)\n",
    "model = linear_model.Lasso(alpha=0.01)\n",
    "evalLasso(model, X_transformed, y_transformed, X_test, y_test, 0.1)"
   ]
  },
  {
   "cell_type": "code",
   "execution_count": 26,
   "metadata": {},
   "outputs": [
    {
     "data": {
      "text/plain": [
       "(0.15024232633279483,\n",
       " 0.5789088246063713,\n",
       " 0.23856948845631507,\n",
       " 0.7117667961019033)"
      ]
     },
     "execution_count": 26,
     "metadata": {},
     "output_type": "execute_result"
    }
   ],
   "source": [
    "X_transformed, y_transformed = oversampling(train_df, frac_positives=1.5)\n",
    "model = linear_model.Lasso(alpha=0.01)\n",
    "evalLasso(model, X_transformed, y_transformed, X_test, y_test, 0.1)"
   ]
  },
  {
   "cell_type": "code",
   "execution_count": 36,
   "metadata": {},
   "outputs": [
    {
     "data": {
      "text/plain": [
       "(0.12694593829606568,\n",
       " 0.6569022336140607,\n",
       " 0.212773527842021,\n",
       " 0.7212592348240934)"
      ]
     },
     "execution_count": 36,
     "metadata": {},
     "output_type": "execute_result"
    }
   ],
   "source": [
    "X_transformed, y_transformed = overundersampling(train_df, frac_positives = 1.5, frac_negatives=0.5)\n",
    "model = linear_model.Lasso(alpha=0.01)\n",
    "evalLasso(model, X_transformed, y_transformed, X_test, y_test, 0.15)"
   ]
  },
  {
   "cell_type": "markdown",
   "metadata": {
    "collapsed": true
   },
   "source": [
    "### 5) SVM"
   ]
  },
  {
   "cell_type": "code",
   "execution_count": 78,
   "metadata": {},
   "outputs": [
    {
     "data": {
      "text/plain": [
       "(0.43333333333333335,\n",
       " 0.04760161113145368,\n",
       " 0.08578027053777632,\n",
       " 0.5223238546873754)"
      ]
     },
     "execution_count": 78,
     "metadata": {},
     "output_type": "execute_result"
    }
   ],
   "source": [
    "# Tarda mucho en ejecutarse\n",
    "# model = svm.SVC()\n",
    "# tryModel(model, X_train, y_train, X_test, y_test)\n",
    "# Resultados: (0.43333333333333335, 0.04760161113145368, 0.08578027053777632, 0.5223238546873754)"
   ]
  },
  {
   "cell_type": "markdown",
   "metadata": {},
   "source": [
    "Se puede ver que no clasifica casi datos como positivos."
   ]
  },
  {
   "cell_type": "code",
   "execution_count": 14,
   "metadata": {},
   "outputs": [
    {
     "data": {
      "text/plain": [
       "(0.37449392712550605,\n",
       " 0.06774075430245331,\n",
       " 0.11472868217054263,\n",
       " 0.5311858017311645)"
      ]
     },
     "execution_count": 14,
     "metadata": {},
     "output_type": "execute_result"
    }
   ],
   "source": [
    "# model = svm.SVC()\n",
    "# tryModel(model, X_undersampling, y_undersampling, X_test, y_test)\n",
    "# Reultados: (0.37449392712550605, 0.06774075430245331, 0.11472868217054263, 0.5311858017311645)"
   ]
  },
  {
   "cell_type": "code",
   "execution_count": 15,
   "metadata": {},
   "outputs": [
    {
     "data": {
      "text/plain": [
       "(0.3569553805774278,\n",
       " 0.09959721713658001,\n",
       " 0.15574005153163473,\n",
       " 0.5455415148601007)"
      ]
     },
     "execution_count": 15,
     "metadata": {},
     "output_type": "execute_result"
    }
   ],
   "source": [
    "# model = svm.SVC()\n",
    "# tryModel(model, X_oversampling, y_oversampling, X_test, y_test)\n",
    "# Resultados: (0.3569553805774278, 0.09959721713658001, 0.15574005153163473, 0.5455415148601007)"
   ]
  },
  {
   "cell_type": "code",
   "execution_count": 16,
   "metadata": {},
   "outputs": [
    {
     "data": {
      "text/plain": [
       "(0.29074074074074074,\n",
       " 0.11497619919443428,\n",
       " 0.16478614536866967,\n",
       " 0.5508331326982927)"
      ]
     },
     "execution_count": 16,
     "metadata": {},
     "output_type": "execute_result"
    }
   ],
   "source": [
    "# model = svm.SVC()\n",
    "# tryModel(model, X_overundersampling, y_overundersampling, X_test, y_test)\n",
    "# Resultados: (0.29074074074074074, 0.11497619919443428, 0.16478614536866967, 0.5508331326982927)"
   ]
  },
  {
   "cell_type": "markdown",
   "metadata": {},
   "source": [
    "### 6) XGBoost"
   ]
  },
  {
   "cell_type": "code",
   "execution_count": 29,
   "metadata": {},
   "outputs": [
    {
     "name": "stderr",
     "output_type": "stream",
     "text": [
      "C:\\Users\\Diego\\Anaconda3\\lib\\site-packages\\sklearn\\preprocessing\\label.py:151: DeprecationWarning: The truth value of an empty array is ambiguous. Returning False, but in future this will result in an error. Use `array.size > 0` to check that an array is not empty.\n",
      "  if diff:\n"
     ]
    },
    {
     "data": {
      "text/plain": [
       "(0.6666666666666666,\n",
       " 0.016843647015745148,\n",
       " 0.032857142857142856,\n",
       " 0.508222000741978)"
      ]
     },
     "execution_count": 29,
     "metadata": {},
     "output_type": "execute_result"
    }
   ],
   "source": [
    "from xgboost import XGBClassifier\n",
    "model = XGBClassifier()\n",
    "tryModel(model, X_train, y_train, X_test, y_test)"
   ]
  },
  {
   "cell_type": "code",
   "execution_count": null,
   "metadata": {
    "collapsed": true
   },
   "outputs": [],
   "source": []
  }
 ],
 "metadata": {
  "kernelspec": {
   "display_name": "Python 3",
   "language": "python",
   "name": "python3"
  },
  "language_info": {
   "codemirror_mode": {
    "name": "ipython",
    "version": 3
   },
   "file_extension": ".py",
   "mimetype": "text/x-python",
   "name": "python",
   "nbconvert_exporter": "python",
   "pygments_lexer": "ipython3",
   "version": "3.6.2"
  }
 },
 "nbformat": 4,
 "nbformat_minor": 2
}
