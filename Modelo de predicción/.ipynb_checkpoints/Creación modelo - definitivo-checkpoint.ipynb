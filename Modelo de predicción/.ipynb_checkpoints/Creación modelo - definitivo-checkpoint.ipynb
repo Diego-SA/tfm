{
 "cells": [
  {
   "cell_type": "markdown",
   "metadata": {
    "pycharm": {}
   },
   "source": [
    "# TFM: Selección del modelo de predicción\n",
    "## Diego Sanz Alonso"
   ]
  },
  {
   "cell_type": "markdown",
   "metadata": {
    "pycharm": {}
   },
   "source": [
    "### 1) Importar librerías y creación de funciones auxiliares"
   ]
  },
  {
   "cell_type": "code",
   "execution_count": 4,
   "metadata": {
    "pycharm": {
     "is_executing": false
    }
   },
   "outputs": [],
   "source": [
    "#Only show warnings once\n",
    "import warnings\n",
    "warnings.filterwarnings(action='ignore')"
   ]
  },
  {
   "cell_type": "code",
   "execution_count": 7,
   "metadata": {
    "pycharm": {
     "is_executing": false
    }
   },
   "outputs": [],
   "source": [
    "import numpy as np\n",
    "import pandas as pd\n",
    "from sklearn.model_selection import train_test_split\n",
    "from sklearn.model_selection import cross_val_score\n",
    "from sklearn.model_selection import cross_val_predict\n",
    "from sklearn import neighbors, tree\n",
    "from sklearn import linear_model\n",
    "from sklearn import svm\n",
    "import pickle\n",
    "from math import ceil\n",
    "\n",
    "from sklearn.metrics import accuracy_score\n",
    "from sklearn.metrics import precision_score\n",
    "from sklearn.metrics import recall_score\n",
    "from sklearn.metrics import f1_score\n",
    "from sklearn.metrics import roc_auc_score\n",
    "from sklearn.utils import check_array\n",
    "\n",
    "import matplotlib as mpl\n",
    "import matplotlib.pyplot as plt\n",
    "\n",
    "import seaborn as sns\n",
    "sns.set(color_codes=True)"
   ]
  },
  {
   "cell_type": "markdown",
   "metadata": {
    "pycharm": {}
   },
   "source": [
    "### 2) Leer datos y crear conjunto de entrenamiento y test"
   ]
  },
  {
   "cell_type": "code",
   "execution_count": 65,
   "metadata": {
    "pycharm": {
     "is_executing": false
    }
   },
   "outputs": [
    {
     "name": "stdout",
     "output_type": "stream",
     "text": [
      "Reading data\n",
      "E:\\Dropbox\\DOCENCIA\\TFM\\Diego Fermin\\tfm-repositorio\\Modelo de predicción\\datasets\\dataframes\\\n",
      "elasticsearch_classes.csv\n",
      "Clases sin bugs (negativos):  65497\n",
      "Clases con bugs (positivos):  4313\n",
      "Proporcion de clases con bugs:  6.59 %\n",
      "2890\n",
      "1423\n"
     ]
    }
   ],
   "source": [
    "import os\n",
    "#print(os.getcwd())\n",
    "input_data =  os.getcwd()+os.sep+\"datasets\"+os.sep+\"dataframes\"+os.sep\n",
    "df_file = \"elasticsearch_classes.csv\"\n",
    "\n",
    "print(\"Reading data\")\n",
    "print(input_data)\n",
    "print(df_file)\n",
    "\n",
    "# Classes dataframe\n",
    "classes_df = pd.read_csv(input_data + df_file,engine='python')\n",
    "\n",
    "classes_df['Has bugs'] = np.where(classes_df[\"Number of bugs\"]>0, 1, 0)\n",
    "classes_df.drop([\"Number of bugs\"], axis=1, inplace=True)\n",
    "\n",
    "label = 'Has bugs'\n",
    "classes_df_atts = classes_df.drop([label], axis = 1)\n",
    "serie = pd.Series(classes_df[label].copy())\n",
    "classes_df_label = pd.DataFrame(serie)\n",
    "\n",
    "\n",
    "pos=np.count_nonzero(classes_df_label)\n",
    "neg=len(classes_df_label)-pos\n",
    "print(\"Clases sin bugs (negativos): \",neg)\n",
    "print(\"Clases con bugs (positivos): \",pos)\n",
    "print(\"Proporcion de clases con bugs: \", round((pos/neg)*100,2),'%')\n",
    "\n",
    "\n",
    "# Train / Test split\n",
    "X_train, X_test, y_train, y_test = train_test_split(classes_df_atts, classes_df_label, test_size=0.33, stratify=classes_df_label)\n",
    "\n",
    "# Train and test df\n",
    "train_df = X_train.copy()\n",
    "train_df[label] = y_train\n",
    "\n",
    "test_df = X_test.copy()\n",
    "test_df[label] = y_test\n"
   ]
  },
  {
   "cell_type": "markdown",
   "metadata": {
    "pycharm": {}
   },
   "source": [
    "### 3) Árbol de decisión"
   ]
  },
  {
   "cell_type": "code",
   "execution_count": 66,
   "metadata": {
    "pycharm": {
     "is_executing": false
    }
   },
   "outputs": [],
   "source": [
    "def tryModel(model, X_train, y_train, X_test, y_test):\n",
    "    \n",
    "    clf = model.fit(X_train, y_train)\n",
    "    prediction = clf.predict(X_test)\n",
    "    precision = precision_score(np.array(y_test),prediction)\n",
    "    recall = recall_score(y_test,prediction)\n",
    "    f1 = f1_score(y_test,prediction)\n",
    "    roc = roc_auc_score(y_test, prediction)\n",
    "    return precision, recall, f1, roc"
   ]
  },
  {
   "cell_type": "code",
   "execution_count": 67,
   "metadata": {
    "pycharm": {
     "is_executing": false
    }
   },
   "outputs": [
    {
     "data": {
      "text/plain": [
       "(0.3225806451612903,\n",
       " 0.32326071679550245,\n",
       " 0.3229203229203229,\n",
       " 0.6392847650597914)"
      ]
     },
     "execution_count": 67,
     "metadata": {},
     "output_type": "execute_result"
    }
   ],
   "source": [
    "# Dado un modelo, realiza la validacion cruzada\n",
    "model = tree.DecisionTreeClassifier()\n",
    "tryModel(model, X_train, y_train, X_test, y_test)"
   ]
  },
  {
   "cell_type": "markdown",
   "metadata": {
    "pycharm": {}
   },
   "source": [
    "Vamos a intentar optimizar 2 de los muchos parámetros que puede tener el árbol de decisión:\n",
    "\n",
    "* **Profundidad máxima** que pueda alcanzar el árbol. Por defecto el árbol se expande entero (**None**), pero debemos evitar ramificar demasiadas hojas y controlar el sobreajuste.\n",
    "* **Número mínimo de ejemplos que debe tener en una hoja** para poder particionarse. En caso de que se llegue a un nodo que no sea hoja pero número de instancias es menor al requerido, entonces el algoritmo no ramifica y lo convierte en hoja.\n"
   ]
  },
  {
   "cell_type": "code",
   "execution_count": 10,
   "metadata": {
    "pycharm": {
     "is_executing": false
    }
   },
   "outputs": [],
   "source": [
    "def bruteTree(X_train, y_train, X_test, y_test):\n",
    "    \"\"\"Obtener la mejor configuración para un clasificador de\n",
    "    árbol de predicción mediante búsqueda por fuerza bruta.\"\"\"\n",
    "    # Puntuación inicial\n",
    "    mejorScore = 0\n",
    "    mejorconf = None\n",
    "\n",
    "    # Iterar configuraciones\n",
    "    for i, j in [(i, j) for i in [None] + list(range(1,20,2)) for j in list(range(2,20,3))]:\n",
    "        temp_tree = tree.DecisionTreeClassifier(max_depth = i, min_samples_split = j)\n",
    "        # Validacion cruzada para testear parametros\n",
    "        scores = cross_val_score(temp_tree, X_train, y_train, cv = 5, scoring=\"f1\")\n",
    "        score = scores.mean()\n",
    "        # Actualizar puntuación\n",
    "        if (score > mejorScore):\n",
    "            mejorScore = score\n",
    "            mejorconf = (i,j)\n",
    "    # Devolve mejor configuración\n",
    "    return mejorconf"
   ]
  },
  {
   "cell_type": "code",
   "execution_count": 9,
   "metadata": {
    "collapsed": true,
    "pycharm": {
     "is_executing": false
    }
   },
   "outputs": [
    {
     "name": "stderr",
     "output_type": "stream",
     "text": [
      "E:\\Dropbox\\DOCENCIA\\TFM\\Diego Fermin\\tfm-repositorio\\env\\lib\\site-packages\\sklearn\\metrics\\classification.py:1143: UndefinedMetricWarning: F-score is ill-defined and being set to 0.0 due to no predicted samples.\n",
      "  'precision', 'predicted', average, warn_for)\n",
      "E:\\Dropbox\\DOCENCIA\\TFM\\Diego Fermin\\tfm-repositorio\\env\\lib\\site-packages\\sklearn\\metrics\\classification.py:1143: UndefinedMetricWarning: F-score is ill-defined and being set to 0.0 due to no predicted samples.\n",
      "  'precision', 'predicted', average, warn_for)\n",
      "E:\\Dropbox\\DOCENCIA\\TFM\\Diego Fermin\\tfm-repositorio\\env\\lib\\site-packages\\sklearn\\metrics\\classification.py:1143: UndefinedMetricWarning: F-score is ill-defined and being set to 0.0 due to no predicted samples.\n",
      "  'precision', 'predicted', average, warn_for)\n",
      "E:\\Dropbox\\DOCENCIA\\TFM\\Diego Fermin\\tfm-repositorio\\env\\lib\\site-packages\\sklearn\\metrics\\classification.py:1143: UndefinedMetricWarning: F-score is ill-defined and being set to 0.0 due to no predicted samples.\n",
      "  'precision', 'predicted', average, warn_for)\n",
      "E:\\Dropbox\\DOCENCIA\\TFM\\Diego Fermin\\tfm-repositorio\\env\\lib\\site-packages\\sklearn\\metrics\\classification.py:1143: UndefinedMetricWarning: F-score is ill-defined and being set to 0.0 due to no predicted samples.\n",
      "  'precision', 'predicted', average, warn_for)\n",
      "E:\\Dropbox\\DOCENCIA\\TFM\\Diego Fermin\\tfm-repositorio\\env\\lib\\site-packages\\sklearn\\metrics\\classification.py:1143: UndefinedMetricWarning: F-score is ill-defined and being set to 0.0 due to no predicted samples.\n",
      "  'precision', 'predicted', average, warn_for)\n",
      "E:\\Dropbox\\DOCENCIA\\TFM\\Diego Fermin\\tfm-repositorio\\env\\lib\\site-packages\\sklearn\\metrics\\classification.py:1143: UndefinedMetricWarning: F-score is ill-defined and being set to 0.0 due to no predicted samples.\n",
      "  'precision', 'predicted', average, warn_for)\n",
      "E:\\Dropbox\\DOCENCIA\\TFM\\Diego Fermin\\tfm-repositorio\\env\\lib\\site-packages\\sklearn\\metrics\\classification.py:1143: UndefinedMetricWarning: F-score is ill-defined and being set to 0.0 due to no predicted samples.\n",
      "  'precision', 'predicted', average, warn_for)\n",
      "E:\\Dropbox\\DOCENCIA\\TFM\\Diego Fermin\\tfm-repositorio\\env\\lib\\site-packages\\sklearn\\metrics\\classification.py:1143: UndefinedMetricWarning: F-score is ill-defined and being set to 0.0 due to no predicted samples.\n",
      "  'precision', 'predicted', average, warn_for)\n",
      "E:\\Dropbox\\DOCENCIA\\TFM\\Diego Fermin\\tfm-repositorio\\env\\lib\\site-packages\\sklearn\\metrics\\classification.py:1143: UndefinedMetricWarning: F-score is ill-defined and being set to 0.0 due to no predicted samples.\n",
      "  'precision', 'predicted', average, warn_for)\n",
      "E:\\Dropbox\\DOCENCIA\\TFM\\Diego Fermin\\tfm-repositorio\\env\\lib\\site-packages\\sklearn\\metrics\\classification.py:1143: UndefinedMetricWarning: F-score is ill-defined and being set to 0.0 due to no predicted samples.\n",
      "  'precision', 'predicted', average, warn_for)\n",
      "E:\\Dropbox\\DOCENCIA\\TFM\\Diego Fermin\\tfm-repositorio\\env\\lib\\site-packages\\sklearn\\metrics\\classification.py:1143: UndefinedMetricWarning: F-score is ill-defined and being set to 0.0 due to no predicted samples.\n",
      "  'precision', 'predicted', average, warn_for)\n",
      "E:\\Dropbox\\DOCENCIA\\TFM\\Diego Fermin\\tfm-repositorio\\env\\lib\\site-packages\\sklearn\\metrics\\classification.py:1143: UndefinedMetricWarning: F-score is ill-defined and being set to 0.0 due to no predicted samples.\n",
      "  'precision', 'predicted', average, warn_for)\n",
      "E:\\Dropbox\\DOCENCIA\\TFM\\Diego Fermin\\tfm-repositorio\\env\\lib\\site-packages\\sklearn\\metrics\\classification.py:1143: UndefinedMetricWarning: F-score is ill-defined and being set to 0.0 due to no predicted samples.\n",
      "  'precision', 'predicted', average, warn_for)\n",
      "E:\\Dropbox\\DOCENCIA\\TFM\\Diego Fermin\\tfm-repositorio\\env\\lib\\site-packages\\sklearn\\metrics\\classification.py:1143: UndefinedMetricWarning: F-score is ill-defined and being set to 0.0 due to no predicted samples.\n",
      "  'precision', 'predicted', average, warn_for)\n",
      "E:\\Dropbox\\DOCENCIA\\TFM\\Diego Fermin\\tfm-repositorio\\env\\lib\\site-packages\\sklearn\\metrics\\classification.py:1143: UndefinedMetricWarning: F-score is ill-defined and being set to 0.0 due to no predicted samples.\n",
      "  'precision', 'predicted', average, warn_for)\n",
      "E:\\Dropbox\\DOCENCIA\\TFM\\Diego Fermin\\tfm-repositorio\\env\\lib\\site-packages\\sklearn\\metrics\\classification.py:1143: UndefinedMetricWarning: F-score is ill-defined and being set to 0.0 due to no predicted samples.\n",
      "  'precision', 'predicted', average, warn_for)\n",
      "E:\\Dropbox\\DOCENCIA\\TFM\\Diego Fermin\\tfm-repositorio\\env\\lib\\site-packages\\sklearn\\metrics\\classification.py:1143: UndefinedMetricWarning: F-score is ill-defined and being set to 0.0 due to no predicted samples.\n",
      "  'precision', 'predicted', average, warn_for)\n",
      "E:\\Dropbox\\DOCENCIA\\TFM\\Diego Fermin\\tfm-repositorio\\env\\lib\\site-packages\\sklearn\\metrics\\classification.py:1143: UndefinedMetricWarning: F-score is ill-defined and being set to 0.0 due to no predicted samples.\n",
      "  'precision', 'predicted', average, warn_for)\n",
      "E:\\Dropbox\\DOCENCIA\\TFM\\Diego Fermin\\tfm-repositorio\\env\\lib\\site-packages\\sklearn\\metrics\\classification.py:1143: UndefinedMetricWarning: F-score is ill-defined and being set to 0.0 due to no predicted samples.\n",
      "  'precision', 'predicted', average, warn_for)\n",
      "E:\\Dropbox\\DOCENCIA\\TFM\\Diego Fermin\\tfm-repositorio\\env\\lib\\site-packages\\sklearn\\metrics\\classification.py:1143: UndefinedMetricWarning: F-score is ill-defined and being set to 0.0 due to no predicted samples.\n",
      "  'precision', 'predicted', average, warn_for)\n",
      "E:\\Dropbox\\DOCENCIA\\TFM\\Diego Fermin\\tfm-repositorio\\env\\lib\\site-packages\\sklearn\\metrics\\classification.py:1143: UndefinedMetricWarning: F-score is ill-defined and being set to 0.0 due to no predicted samples.\n",
      "  'precision', 'predicted', average, warn_for)\n",
      "E:\\Dropbox\\DOCENCIA\\TFM\\Diego Fermin\\tfm-repositorio\\env\\lib\\site-packages\\sklearn\\metrics\\classification.py:1143: UndefinedMetricWarning: F-score is ill-defined and being set to 0.0 due to no predicted samples.\n",
      "  'precision', 'predicted', average, warn_for)\n",
      "E:\\Dropbox\\DOCENCIA\\TFM\\Diego Fermin\\tfm-repositorio\\env\\lib\\site-packages\\sklearn\\metrics\\classification.py:1143: UndefinedMetricWarning: F-score is ill-defined and being set to 0.0 due to no predicted samples.\n",
      "  'precision', 'predicted', average, warn_for)\n",
      "E:\\Dropbox\\DOCENCIA\\TFM\\Diego Fermin\\tfm-repositorio\\env\\lib\\site-packages\\sklearn\\metrics\\classification.py:1143: UndefinedMetricWarning: F-score is ill-defined and being set to 0.0 due to no predicted samples.\n",
      "  'precision', 'predicted', average, warn_for)\n",
      "E:\\Dropbox\\DOCENCIA\\TFM\\Diego Fermin\\tfm-repositorio\\env\\lib\\site-packages\\sklearn\\metrics\\classification.py:1143: UndefinedMetricWarning: F-score is ill-defined and being set to 0.0 due to no predicted samples.\n",
      "  'precision', 'predicted', average, warn_for)\n",
      "E:\\Dropbox\\DOCENCIA\\TFM\\Diego Fermin\\tfm-repositorio\\env\\lib\\site-packages\\sklearn\\metrics\\classification.py:1143: UndefinedMetricWarning: F-score is ill-defined and being set to 0.0 due to no predicted samples.\n",
      "  'precision', 'predicted', average, warn_for)\n",
      "E:\\Dropbox\\DOCENCIA\\TFM\\Diego Fermin\\tfm-repositorio\\env\\lib\\site-packages\\sklearn\\metrics\\classification.py:1143: UndefinedMetricWarning: F-score is ill-defined and being set to 0.0 due to no predicted samples.\n",
      "  'precision', 'predicted', average, warn_for)\n",
      "E:\\Dropbox\\DOCENCIA\\TFM\\Diego Fermin\\tfm-repositorio\\env\\lib\\site-packages\\sklearn\\metrics\\classification.py:1143: UndefinedMetricWarning: F-score is ill-defined and being set to 0.0 due to no predicted samples.\n",
      "  'precision', 'predicted', average, warn_for)\n",
      "E:\\Dropbox\\DOCENCIA\\TFM\\Diego Fermin\\tfm-repositorio\\env\\lib\\site-packages\\sklearn\\metrics\\classification.py:1143: UndefinedMetricWarning: F-score is ill-defined and being set to 0.0 due to no predicted samples.\n",
      "  'precision', 'predicted', average, warn_for)\n",
      "E:\\Dropbox\\DOCENCIA\\TFM\\Diego Fermin\\tfm-repositorio\\env\\lib\\site-packages\\sklearn\\metrics\\classification.py:1143: UndefinedMetricWarning: F-score is ill-defined and being set to 0.0 due to no predicted samples.\n",
      "  'precision', 'predicted', average, warn_for)\n",
      "E:\\Dropbox\\DOCENCIA\\TFM\\Diego Fermin\\tfm-repositorio\\env\\lib\\site-packages\\sklearn\\metrics\\classification.py:1143: UndefinedMetricWarning: F-score is ill-defined and being set to 0.0 due to no predicted samples.\n",
      "  'precision', 'predicted', average, warn_for)\n",
      "E:\\Dropbox\\DOCENCIA\\TFM\\Diego Fermin\\tfm-repositorio\\env\\lib\\site-packages\\sklearn\\metrics\\classification.py:1143: UndefinedMetricWarning: F-score is ill-defined and being set to 0.0 due to no predicted samples.\n",
      "  'precision', 'predicted', average, warn_for)\n",
      "E:\\Dropbox\\DOCENCIA\\TFM\\Diego Fermin\\tfm-repositorio\\env\\lib\\site-packages\\sklearn\\metrics\\classification.py:1143: UndefinedMetricWarning: F-score is ill-defined and being set to 0.0 due to no predicted samples.\n",
      "  'precision', 'predicted', average, warn_for)\n",
      "E:\\Dropbox\\DOCENCIA\\TFM\\Diego Fermin\\tfm-repositorio\\env\\lib\\site-packages\\sklearn\\metrics\\classification.py:1143: UndefinedMetricWarning: F-score is ill-defined and being set to 0.0 due to no predicted samples.\n",
      "  'precision', 'predicted', average, warn_for)\n",
      "E:\\Dropbox\\DOCENCIA\\TFM\\Diego Fermin\\tfm-repositorio\\env\\lib\\site-packages\\sklearn\\metrics\\classification.py:1143: UndefinedMetricWarning: F-score is ill-defined and being set to 0.0 due to no predicted samples.\n",
      "  'precision', 'predicted', average, warn_for)\n",
      "E:\\Dropbox\\DOCENCIA\\TFM\\Diego Fermin\\tfm-repositorio\\env\\lib\\site-packages\\sklearn\\metrics\\classification.py:1143: UndefinedMetricWarning: F-score is ill-defined and being set to 0.0 due to no predicted samples.\n",
      "  'precision', 'predicted', average, warn_for)\n",
      "E:\\Dropbox\\DOCENCIA\\TFM\\Diego Fermin\\tfm-repositorio\\env\\lib\\site-packages\\sklearn\\metrics\\classification.py:1143: UndefinedMetricWarning: F-score is ill-defined and being set to 0.0 due to no predicted samples.\n",
      "  'precision', 'predicted', average, warn_for)\n",
      "E:\\Dropbox\\DOCENCIA\\TFM\\Diego Fermin\\tfm-repositorio\\env\\lib\\site-packages\\sklearn\\metrics\\classification.py:1143: UndefinedMetricWarning: F-score is ill-defined and being set to 0.0 due to no predicted samples.\n",
      "  'precision', 'predicted', average, warn_for)\n",
      "E:\\Dropbox\\DOCENCIA\\TFM\\Diego Fermin\\tfm-repositorio\\env\\lib\\site-packages\\sklearn\\metrics\\classification.py:1143: UndefinedMetricWarning: F-score is ill-defined and being set to 0.0 due to no predicted samples.\n",
      "  'precision', 'predicted', average, warn_for)\n",
      "E:\\Dropbox\\DOCENCIA\\TFM\\Diego Fermin\\tfm-repositorio\\env\\lib\\site-packages\\sklearn\\metrics\\classification.py:1143: UndefinedMetricWarning: F-score is ill-defined and being set to 0.0 due to no predicted samples.\n",
      "  'precision', 'predicted', average, warn_for)\n",
      "E:\\Dropbox\\DOCENCIA\\TFM\\Diego Fermin\\tfm-repositorio\\env\\lib\\site-packages\\sklearn\\metrics\\classification.py:1143: UndefinedMetricWarning: F-score is ill-defined and being set to 0.0 due to no predicted samples.\n",
      "  'precision', 'predicted', average, warn_for)\n",
      "E:\\Dropbox\\DOCENCIA\\TFM\\Diego Fermin\\tfm-repositorio\\env\\lib\\site-packages\\sklearn\\metrics\\classification.py:1143: UndefinedMetricWarning: F-score is ill-defined and being set to 0.0 due to no predicted samples.\n",
      "  'precision', 'predicted', average, warn_for)\n",
      "E:\\Dropbox\\DOCENCIA\\TFM\\Diego Fermin\\tfm-repositorio\\env\\lib\\site-packages\\sklearn\\metrics\\classification.py:1143: UndefinedMetricWarning: F-score is ill-defined and being set to 0.0 due to no predicted samples.\n",
      "  'precision', 'predicted', average, warn_for)\n",
      "E:\\Dropbox\\DOCENCIA\\TFM\\Diego Fermin\\tfm-repositorio\\env\\lib\\site-packages\\sklearn\\metrics\\classification.py:1143: UndefinedMetricWarning: F-score is ill-defined and being set to 0.0 due to no predicted samples.\n",
      "  'precision', 'predicted', average, warn_for)\n",
      "E:\\Dropbox\\DOCENCIA\\TFM\\Diego Fermin\\tfm-repositorio\\env\\lib\\site-packages\\sklearn\\metrics\\classification.py:1143: UndefinedMetricWarning: F-score is ill-defined and being set to 0.0 due to no predicted samples.\n",
      "  'precision', 'predicted', average, warn_for)\n",
      "E:\\Dropbox\\DOCENCIA\\TFM\\Diego Fermin\\tfm-repositorio\\env\\lib\\site-packages\\sklearn\\metrics\\classification.py:1143: UndefinedMetricWarning: F-score is ill-defined and being set to 0.0 due to no predicted samples.\n",
      "  'precision', 'predicted', average, warn_for)\n",
      "E:\\Dropbox\\DOCENCIA\\TFM\\Diego Fermin\\tfm-repositorio\\env\\lib\\site-packages\\sklearn\\metrics\\classification.py:1143: UndefinedMetricWarning: F-score is ill-defined and being set to 0.0 due to no predicted samples.\n",
      "  'precision', 'predicted', average, warn_for)\n",
      "E:\\Dropbox\\DOCENCIA\\TFM\\Diego Fermin\\tfm-repositorio\\env\\lib\\site-packages\\sklearn\\metrics\\classification.py:1143: UndefinedMetricWarning: F-score is ill-defined and being set to 0.0 due to no predicted samples.\n",
      "  'precision', 'predicted', average, warn_for)\n",
      "E:\\Dropbox\\DOCENCIA\\TFM\\Diego Fermin\\tfm-repositorio\\env\\lib\\site-packages\\sklearn\\metrics\\classification.py:1143: UndefinedMetricWarning: F-score is ill-defined and being set to 0.0 due to no predicted samples.\n",
      "  'precision', 'predicted', average, warn_for)\n",
      "E:\\Dropbox\\DOCENCIA\\TFM\\Diego Fermin\\tfm-repositorio\\env\\lib\\site-packages\\sklearn\\metrics\\classification.py:1143: UndefinedMetricWarning: F-score is ill-defined and being set to 0.0 due to no predicted samples.\n",
      "  'precision', 'predicted', average, warn_for)\n",
      "E:\\Dropbox\\DOCENCIA\\TFM\\Diego Fermin\\tfm-repositorio\\env\\lib\\site-packages\\sklearn\\metrics\\classification.py:1143: UndefinedMetricWarning: F-score is ill-defined and being set to 0.0 due to no predicted samples.\n",
      "  'precision', 'predicted', average, warn_for)\n",
      "E:\\Dropbox\\DOCENCIA\\TFM\\Diego Fermin\\tfm-repositorio\\env\\lib\\site-packages\\sklearn\\metrics\\classification.py:1143: UndefinedMetricWarning: F-score is ill-defined and being set to 0.0 due to no predicted samples.\n",
      "  'precision', 'predicted', average, warn_for)\n",
      "E:\\Dropbox\\DOCENCIA\\TFM\\Diego Fermin\\tfm-repositorio\\env\\lib\\site-packages\\sklearn\\metrics\\classification.py:1143: UndefinedMetricWarning: F-score is ill-defined and being set to 0.0 due to no predicted samples.\n",
      "  'precision', 'predicted', average, warn_for)\n",
      "E:\\Dropbox\\DOCENCIA\\TFM\\Diego Fermin\\tfm-repositorio\\env\\lib\\site-packages\\sklearn\\metrics\\classification.py:1143: UndefinedMetricWarning: F-score is ill-defined and being set to 0.0 due to no predicted samples.\n",
      "  'precision', 'predicted', average, warn_for)\n",
      "E:\\Dropbox\\DOCENCIA\\TFM\\Diego Fermin\\tfm-repositorio\\env\\lib\\site-packages\\sklearn\\metrics\\classification.py:1143: UndefinedMetricWarning: F-score is ill-defined and being set to 0.0 due to no predicted samples.\n",
      "  'precision', 'predicted', average, warn_for)\n",
      "E:\\Dropbox\\DOCENCIA\\TFM\\Diego Fermin\\tfm-repositorio\\env\\lib\\site-packages\\sklearn\\metrics\\classification.py:1143: UndefinedMetricWarning: F-score is ill-defined and being set to 0.0 due to no predicted samples.\n",
      "  'precision', 'predicted', average, warn_for)\n",
      "E:\\Dropbox\\DOCENCIA\\TFM\\Diego Fermin\\tfm-repositorio\\env\\lib\\site-packages\\sklearn\\metrics\\classification.py:1143: UndefinedMetricWarning: F-score is ill-defined and being set to 0.0 due to no predicted samples.\n",
      "  'precision', 'predicted', average, warn_for)\n",
      "E:\\Dropbox\\DOCENCIA\\TFM\\Diego Fermin\\tfm-repositorio\\env\\lib\\site-packages\\sklearn\\metrics\\classification.py:1143: UndefinedMetricWarning: F-score is ill-defined and being set to 0.0 due to no predicted samples.\n",
      "  'precision', 'predicted', average, warn_for)\n",
      "E:\\Dropbox\\DOCENCIA\\TFM\\Diego Fermin\\tfm-repositorio\\env\\lib\\site-packages\\sklearn\\metrics\\classification.py:1143: UndefinedMetricWarning: F-score is ill-defined and being set to 0.0 due to no predicted samples.\n",
      "  'precision', 'predicted', average, warn_for)\n"
     ]
    },
    {
     "data": {
      "text/plain": [
       "(None, 2)"
      ]
     },
     "execution_count": 9,
     "metadata": {},
     "output_type": "execute_result"
    }
   ],
   "source": [
    "#bruteTree(X_train, y_train, X_test, y_test)\n",
    "# Resultados: (None, 2)"
   ]
  },
  {
   "cell_type": "markdown",
   "metadata": {
    "pycharm": {}
   },
   "source": [
    "Vemos que ha tomado los valores por defecto de este modelo. Ahora, vamos a intentar seleccionar algunas variables en lugar de utilizar todas.\n",
    "\n",
    "\n",
    "\n"
   ]
  },
  {
   "cell_type": "code",
   "execution_count": 30,
   "metadata": {
    "pycharm": {}
   },
   "outputs": [
    {
     "name": "stdout",
     "output_type": "stream",
     "text": [
      "Atributos en X: 106\n",
      "Atributos tras selección: 20\n",
      "Ranking: [ 19  45  47  16  48  49  23  55   4  53  27 100  75  20  88  82  86  65\n",
      "  83 103]\n",
      "(0.3177501826150475, 0.3056921995783556, 0.3116045845272207, 0.6312407331456433)\n",
      "(0.31409727947238253, 0.26774420238931834, 0.2890743550834598, 0.6146262071396048)\n"
     ]
    },
    {
     "data": {
      "image/png": "[encoded data removed]",
      "text/plain": [
       "<Figure size 1152x144 with 1 Axes>"
      ]
     },
     "metadata": {
      "needs_background": "light"
     },
     "output_type": "display_data"
    }
   ],
   "source": [
    "#PABLO\n",
    "#SELECTED K BEST WITH ANOVA\n",
    "\n",
    "from sklearn.feature_selection import SelectKBest\n",
    "from sklearn.model_selection import train_test_split\n",
    "from sklearn.feature_selection import f_classif\n",
    "%matplotlib inline\n",
    "import pylab\n",
    "\n",
    "K = 20\n",
    "ranking = SelectKBest(score_func=f_classif,k=K)\n",
    "ranking.fit(X_train, y_train)\n",
    "X_t_proyec = ranking.transform(X_train)\n",
    "X_T_proyec = ranking.transform(X_test)\n",
    "print(\"Atributos en X: {}\".format(X_train.shape[1]))\n",
    "print(\"Atributos tras selección: {}\".format(X_t_proyec.shape[1]))\n",
    "\n",
    "# ver qué variables han sido seleccionadas\n",
    "print(\"Ranking: {}\".format(np.argsort(ranking.scores_)[::-1][:K]))\n",
    "seleccionados = ranking.get_support()\n",
    "pylab.matshow(seleccionados.reshape(1,-1), cmap='prism')\n",
    "pylab.xlabel(\"Índice de la variable\")\n",
    "\n",
    "#validar\n",
    "model = tree.DecisionTreeClassifier()\n",
    "#model = linear_model.LogisticRegression()\n",
    "antes=tryModel(model, X_train, y_train, X_test, y_test)\n",
    "despues=tryModel(model, X_t_proyec, y_train, X_T_proyec, y_test)\n",
    "print(antes)\n",
    "print(despues)"
   ]
  },
  {
   "cell_type": "code",
   "execution_count": 31,
   "metadata": {
    "pycharm": {}
   },
   "outputs": [
    {
     "name": "stdout",
     "output_type": "stream",
     "text": [
      "Atributos en X: 106\n",
      "Atributos tras selección: 20\n",
      "Ranking: [ 82  93  75  83  55 100  80  42  53   4   9  43  27 103  67  88  65  90\n",
      "  22  20]\n",
      "(0.3170197224251278, 0.3049894588896697, 0.3108882521489971, 0.6308662307170996)\n",
      "(0.2972972972972973, 0.23963457484188336, 0.26536964980544747, 0.6011728275551078)\n"
     ]
    },
    {
     "data": {
      "image/png": "[encoded data removed]",
      "text/plain": [
       "<Figure size 1152x144 with 1 Axes>"
      ]
     },
     "metadata": {
      "needs_background": "light"
     },
     "output_type": "display_data"
    }
   ],
   "source": [
    "#PABLO\n",
    "#SELECTED K BEST WITH MI\n",
    "from  sklearn.feature_selection import mutual_info_classif\n",
    "from sklearn.feature_selection import SelectKBest\n",
    "from sklearn.model_selection import train_test_split\n",
    "from sklearn.feature_selection import f_classif\n",
    "%matplotlib inline\n",
    "import pylab\n",
    "\n",
    "K = 20\n",
    "ranking_MI = SelectKBest(score_func=mutual_info_classif, k=K)\n",
    "ranking_MI.fit(X_train, y_train)\n",
    "X_seleccionMI = ranking_MI.transform(X_train)\n",
    "X_t_proyec = ranking_MI.transform(X_train)\n",
    "X_T_proyec = ranking_MI.transform(X_test)\n",
    "print(\"Atributos en X: {}\".format(X_train.shape[1]))\n",
    "print(\"Atributos tras selección: {}\".format(X_t_proyec.shape[1]))\n",
    "\n",
    "# ver qué variables han sido seleccionadas\n",
    "print(\"Ranking: {}\".format(np.argsort(ranking_MI.scores_)[::-1][:K]))\n",
    "seleccionados = ranking_MI.get_support()\n",
    "pylab.matshow(seleccionados.reshape(1,-1), cmap='prism')\n",
    "pylab.xlabel(\"Índice de la variable\")\n",
    "\n",
    "#validar\n",
    "model = tree.DecisionTreeClassifier()\n",
    "#model = linear_model.LogisticRegression()\n",
    "antes=tryModel(model, X_train, y_train, X_test, y_test)\n",
    "despues=tryModel(model, X_t_proyec, y_train, X_T_proyec, y_test)\n",
    "print(antes)\n",
    "print(despues)"
   ]
  },
  {
   "cell_type": "code",
   "execution_count": 32,
   "metadata": {
    "pycharm": {}
   },
   "outputs": [
    {
     "ename": "ValueError",
     "evalue": "Supported target types are: ('binary', 'multiclass'). Got 'unknown' instead.",
     "output_type": "error",
     "traceback": [
      "\u001b[1;31m---------------------------------------------------------------------------\u001b[0m",
      "\u001b[1;31mValueError\u001b[0m                                Traceback (most recent call last)",
      "\u001b[1;32m<ipython-input-32-41975fa90e54>\u001b[0m in \u001b[0;36m<module>\u001b[1;34m\u001b[0m\n\u001b[0;32m     20\u001b[0m \u001b[1;32mfor\u001b[0m \u001b[0mp\u001b[0m \u001b[1;32min\u001b[0m \u001b[0mporcentajes\u001b[0m\u001b[1;33m:\u001b[0m\u001b[1;33m\u001b[0m\u001b[1;33m\u001b[0m\u001b[0m\n\u001b[0;32m     21\u001b[0m     \u001b[0mpipe\u001b[0m\u001b[1;33m.\u001b[0m\u001b[0mset_params\u001b[0m\u001b[1;33m(\u001b[0m\u001b[0mseleccion__percentile\u001b[0m\u001b[1;33m=\u001b[0m\u001b[0mp\u001b[0m\u001b[1;33m)\u001b[0m\u001b[1;33m\u001b[0m\u001b[1;33m\u001b[0m\u001b[0m\n\u001b[1;32m---> 22\u001b[1;33m     \u001b[0mthis_scores\u001b[0m \u001b[1;33m=\u001b[0m \u001b[0mcross_val_score\u001b[0m\u001b[1;33m(\u001b[0m\u001b[0mpipe\u001b[0m\u001b[1;33m,\u001b[0m \u001b[0mclasses_df_atts\u001b[0m\u001b[1;33m,\u001b[0m \u001b[0mclasses_df_label\u001b[0m\u001b[1;33m,\u001b[0m \u001b[0mcv\u001b[0m\u001b[1;33m=\u001b[0m\u001b[0mStratifiedKFold\u001b[0m\u001b[1;33m(\u001b[0m\u001b[1;36m5\u001b[0m\u001b[1;33m)\u001b[0m\u001b[1;33m,\u001b[0m\u001b[0mscoring\u001b[0m\u001b[1;33m=\u001b[0m\u001b[1;34m\"f1\"\u001b[0m\u001b[1;33m,\u001b[0m\u001b[0mn_jobs\u001b[0m\u001b[1;33m=\u001b[0m\u001b[1;33m-\u001b[0m\u001b[1;36m1\u001b[0m\u001b[1;33m)\u001b[0m\u001b[1;33m\u001b[0m\u001b[1;33m\u001b[0m\u001b[0m\n\u001b[0m\u001b[0;32m     23\u001b[0m     \u001b[0mscore_means\u001b[0m\u001b[1;33m.\u001b[0m\u001b[0mappend\u001b[0m\u001b[1;33m(\u001b[0m\u001b[0mthis_scores\u001b[0m\u001b[1;33m.\u001b[0m\u001b[0mmean\u001b[0m\u001b[1;33m(\u001b[0m\u001b[1;33m)\u001b[0m\u001b[1;33m)\u001b[0m\u001b[1;33m\u001b[0m\u001b[1;33m\u001b[0m\u001b[0m\n\u001b[0;32m     24\u001b[0m     \u001b[0mscore_stds\u001b[0m\u001b[1;33m.\u001b[0m\u001b[0mappend\u001b[0m\u001b[1;33m(\u001b[0m\u001b[0mthis_scores\u001b[0m\u001b[1;33m.\u001b[0m\u001b[0mstd\u001b[0m\u001b[1;33m(\u001b[0m\u001b[1;33m)\u001b[0m\u001b[1;33m)\u001b[0m\u001b[1;33m\u001b[0m\u001b[1;33m\u001b[0m\u001b[0m\n",
      "\u001b[1;32mE:\\Dropbox\\DOCENCIA\\TFM\\Diego Fermin\\tfm-repositorio\\env\\lib\\site-packages\\sklearn\\model_selection\\_validation.py\u001b[0m in \u001b[0;36mcross_val_score\u001b[1;34m(estimator, X, y, groups, scoring, cv, n_jobs, verbose, fit_params, pre_dispatch, error_score)\u001b[0m\n\u001b[0;32m    400\u001b[0m                                 \u001b[0mfit_params\u001b[0m\u001b[1;33m=\u001b[0m\u001b[0mfit_params\u001b[0m\u001b[1;33m,\u001b[0m\u001b[1;33m\u001b[0m\u001b[1;33m\u001b[0m\u001b[0m\n\u001b[0;32m    401\u001b[0m                                 \u001b[0mpre_dispatch\u001b[0m\u001b[1;33m=\u001b[0m\u001b[0mpre_dispatch\u001b[0m\u001b[1;33m,\u001b[0m\u001b[1;33m\u001b[0m\u001b[1;33m\u001b[0m\u001b[0m\n\u001b[1;32m--> 402\u001b[1;33m                                 error_score=error_score)\n\u001b[0m\u001b[0;32m    403\u001b[0m     \u001b[1;32mreturn\u001b[0m \u001b[0mcv_results\u001b[0m\u001b[1;33m[\u001b[0m\u001b[1;34m'test_score'\u001b[0m\u001b[1;33m]\u001b[0m\u001b[1;33m\u001b[0m\u001b[1;33m\u001b[0m\u001b[0m\n\u001b[0;32m    404\u001b[0m \u001b[1;33m\u001b[0m\u001b[0m\n",
      "\u001b[1;32mE:\\Dropbox\\DOCENCIA\\TFM\\Diego Fermin\\tfm-repositorio\\env\\lib\\site-packages\\sklearn\\model_selection\\_validation.py\u001b[0m in \u001b[0;36mcross_validate\u001b[1;34m(estimator, X, y, groups, scoring, cv, n_jobs, verbose, fit_params, pre_dispatch, return_train_score, return_estimator, error_score)\u001b[0m\n\u001b[0;32m    238\u001b[0m             \u001b[0mreturn_times\u001b[0m\u001b[1;33m=\u001b[0m\u001b[1;32mTrue\u001b[0m\u001b[1;33m,\u001b[0m \u001b[0mreturn_estimator\u001b[0m\u001b[1;33m=\u001b[0m\u001b[0mreturn_estimator\u001b[0m\u001b[1;33m,\u001b[0m\u001b[1;33m\u001b[0m\u001b[1;33m\u001b[0m\u001b[0m\n\u001b[0;32m    239\u001b[0m             error_score=error_score)\n\u001b[1;32m--> 240\u001b[1;33m         for train, test in cv.split(X, y, groups))\n\u001b[0m\u001b[0;32m    241\u001b[0m \u001b[1;33m\u001b[0m\u001b[0m\n\u001b[0;32m    242\u001b[0m     \u001b[0mzipped_scores\u001b[0m \u001b[1;33m=\u001b[0m \u001b[0mlist\u001b[0m\u001b[1;33m(\u001b[0m\u001b[0mzip\u001b[0m\u001b[1;33m(\u001b[0m\u001b[1;33m*\u001b[0m\u001b[0mscores\u001b[0m\u001b[1;33m)\u001b[0m\u001b[1;33m)\u001b[0m\u001b[1;33m\u001b[0m\u001b[1;33m\u001b[0m\u001b[0m\n",
      "\u001b[1;32mE:\\Dropbox\\DOCENCIA\\TFM\\Diego Fermin\\tfm-repositorio\\env\\lib\\site-packages\\sklearn\\externals\\joblib\\parallel.py\u001b[0m in \u001b[0;36m__call__\u001b[1;34m(self, iterable)\u001b[0m\n\u001b[0;32m    915\u001b[0m             \u001b[1;31m# remaining jobs.\u001b[0m\u001b[1;33m\u001b[0m\u001b[1;33m\u001b[0m\u001b[1;33m\u001b[0m\u001b[0m\n\u001b[0;32m    916\u001b[0m             \u001b[0mself\u001b[0m\u001b[1;33m.\u001b[0m\u001b[0m_iterating\u001b[0m \u001b[1;33m=\u001b[0m \u001b[1;32mFalse\u001b[0m\u001b[1;33m\u001b[0m\u001b[1;33m\u001b[0m\u001b[0m\n\u001b[1;32m--> 917\u001b[1;33m             \u001b[1;32mif\u001b[0m \u001b[0mself\u001b[0m\u001b[1;33m.\u001b[0m\u001b[0mdispatch_one_batch\u001b[0m\u001b[1;33m(\u001b[0m\u001b[0miterator\u001b[0m\u001b[1;33m)\u001b[0m\u001b[1;33m:\u001b[0m\u001b[1;33m\u001b[0m\u001b[1;33m\u001b[0m\u001b[0m\n\u001b[0m\u001b[0;32m    918\u001b[0m                 \u001b[0mself\u001b[0m\u001b[1;33m.\u001b[0m\u001b[0m_iterating\u001b[0m \u001b[1;33m=\u001b[0m \u001b[0mself\u001b[0m\u001b[1;33m.\u001b[0m\u001b[0m_original_iterator\u001b[0m \u001b[1;32mis\u001b[0m \u001b[1;32mnot\u001b[0m \u001b[1;32mNone\u001b[0m\u001b[1;33m\u001b[0m\u001b[1;33m\u001b[0m\u001b[0m\n\u001b[0;32m    919\u001b[0m \u001b[1;33m\u001b[0m\u001b[0m\n",
      "\u001b[1;32mE:\\Dropbox\\DOCENCIA\\TFM\\Diego Fermin\\tfm-repositorio\\env\\lib\\site-packages\\sklearn\\externals\\joblib\\parallel.py\u001b[0m in \u001b[0;36mdispatch_one_batch\u001b[1;34m(self, iterator)\u001b[0m\n\u001b[0;32m    752\u001b[0m             tasks = BatchedCalls(itertools.islice(iterator, batch_size),\n\u001b[0;32m    753\u001b[0m                                  \u001b[0mself\u001b[0m\u001b[1;33m.\u001b[0m\u001b[0m_backend\u001b[0m\u001b[1;33m.\u001b[0m\u001b[0mget_nested_backend\u001b[0m\u001b[1;33m(\u001b[0m\u001b[1;33m)\u001b[0m\u001b[1;33m,\u001b[0m\u001b[1;33m\u001b[0m\u001b[1;33m\u001b[0m\u001b[0m\n\u001b[1;32m--> 754\u001b[1;33m                                  self._pickle_cache)\n\u001b[0m\u001b[0;32m    755\u001b[0m             \u001b[1;32mif\u001b[0m \u001b[0mlen\u001b[0m\u001b[1;33m(\u001b[0m\u001b[0mtasks\u001b[0m\u001b[1;33m)\u001b[0m \u001b[1;33m==\u001b[0m \u001b[1;36m0\u001b[0m\u001b[1;33m:\u001b[0m\u001b[1;33m\u001b[0m\u001b[1;33m\u001b[0m\u001b[0m\n\u001b[0;32m    756\u001b[0m                 \u001b[1;31m# No more tasks available in the iterator: tell caller to stop.\u001b[0m\u001b[1;33m\u001b[0m\u001b[1;33m\u001b[0m\u001b[1;33m\u001b[0m\u001b[0m\n",
      "\u001b[1;32mE:\\Dropbox\\DOCENCIA\\TFM\\Diego Fermin\\tfm-repositorio\\env\\lib\\site-packages\\sklearn\\externals\\joblib\\parallel.py\u001b[0m in \u001b[0;36m__init__\u001b[1;34m(self, iterator_slice, backend_and_jobs, pickle_cache)\u001b[0m\n\u001b[0;32m    208\u001b[0m \u001b[1;33m\u001b[0m\u001b[0m\n\u001b[0;32m    209\u001b[0m     \u001b[1;32mdef\u001b[0m \u001b[0m__init__\u001b[0m\u001b[1;33m(\u001b[0m\u001b[0mself\u001b[0m\u001b[1;33m,\u001b[0m \u001b[0miterator_slice\u001b[0m\u001b[1;33m,\u001b[0m \u001b[0mbackend_and_jobs\u001b[0m\u001b[1;33m,\u001b[0m \u001b[0mpickle_cache\u001b[0m\u001b[1;33m=\u001b[0m\u001b[1;32mNone\u001b[0m\u001b[1;33m)\u001b[0m\u001b[1;33m:\u001b[0m\u001b[1;33m\u001b[0m\u001b[1;33m\u001b[0m\u001b[0m\n\u001b[1;32m--> 210\u001b[1;33m         \u001b[0mself\u001b[0m\u001b[1;33m.\u001b[0m\u001b[0mitems\u001b[0m \u001b[1;33m=\u001b[0m \u001b[0mlist\u001b[0m\u001b[1;33m(\u001b[0m\u001b[0miterator_slice\u001b[0m\u001b[1;33m)\u001b[0m\u001b[1;33m\u001b[0m\u001b[1;33m\u001b[0m\u001b[0m\n\u001b[0m\u001b[0;32m    211\u001b[0m         \u001b[0mself\u001b[0m\u001b[1;33m.\u001b[0m\u001b[0m_size\u001b[0m \u001b[1;33m=\u001b[0m \u001b[0mlen\u001b[0m\u001b[1;33m(\u001b[0m\u001b[0mself\u001b[0m\u001b[1;33m.\u001b[0m\u001b[0mitems\u001b[0m\u001b[1;33m)\u001b[0m\u001b[1;33m\u001b[0m\u001b[1;33m\u001b[0m\u001b[0m\n\u001b[0;32m    212\u001b[0m         \u001b[1;32mif\u001b[0m \u001b[0misinstance\u001b[0m\u001b[1;33m(\u001b[0m\u001b[0mbackend_and_jobs\u001b[0m\u001b[1;33m,\u001b[0m \u001b[0mtuple\u001b[0m\u001b[1;33m)\u001b[0m\u001b[1;33m:\u001b[0m\u001b[1;33m\u001b[0m\u001b[1;33m\u001b[0m\u001b[0m\n",
      "\u001b[1;32mE:\\Dropbox\\DOCENCIA\\TFM\\Diego Fermin\\tfm-repositorio\\env\\lib\\site-packages\\sklearn\\model_selection\\_validation.py\u001b[0m in \u001b[0;36m<genexpr>\u001b[1;34m(.0)\u001b[0m\n\u001b[0;32m    233\u001b[0m                         pre_dispatch=pre_dispatch)\n\u001b[0;32m    234\u001b[0m     scores = parallel(\n\u001b[1;32m--> 235\u001b[1;33m         delayed(_fit_and_score)(\n\u001b[0m\u001b[0;32m    236\u001b[0m             \u001b[0mclone\u001b[0m\u001b[1;33m(\u001b[0m\u001b[0mestimator\u001b[0m\u001b[1;33m)\u001b[0m\u001b[1;33m,\u001b[0m \u001b[0mX\u001b[0m\u001b[1;33m,\u001b[0m \u001b[0my\u001b[0m\u001b[1;33m,\u001b[0m \u001b[0mscorers\u001b[0m\u001b[1;33m,\u001b[0m \u001b[0mtrain\u001b[0m\u001b[1;33m,\u001b[0m \u001b[0mtest\u001b[0m\u001b[1;33m,\u001b[0m \u001b[0mverbose\u001b[0m\u001b[1;33m,\u001b[0m \u001b[1;32mNone\u001b[0m\u001b[1;33m,\u001b[0m\u001b[1;33m\u001b[0m\u001b[1;33m\u001b[0m\u001b[0m\n\u001b[0;32m    237\u001b[0m             \u001b[0mfit_params\u001b[0m\u001b[1;33m,\u001b[0m \u001b[0mreturn_train_score\u001b[0m\u001b[1;33m=\u001b[0m\u001b[0mreturn_train_score\u001b[0m\u001b[1;33m,\u001b[0m\u001b[1;33m\u001b[0m\u001b[1;33m\u001b[0m\u001b[0m\n",
      "\u001b[1;32mE:\\Dropbox\\DOCENCIA\\TFM\\Diego Fermin\\tfm-repositorio\\env\\lib\\site-packages\\sklearn\\model_selection\\_split.py\u001b[0m in \u001b[0;36msplit\u001b[1;34m(self, X, y, groups)\u001b[0m\n\u001b[0;32m    329\u001b[0m                 .format(self.n_splits, n_samples))\n\u001b[0;32m    330\u001b[0m \u001b[1;33m\u001b[0m\u001b[0m\n\u001b[1;32m--> 331\u001b[1;33m         \u001b[1;32mfor\u001b[0m \u001b[0mtrain\u001b[0m\u001b[1;33m,\u001b[0m \u001b[0mtest\u001b[0m \u001b[1;32min\u001b[0m \u001b[0msuper\u001b[0m\u001b[1;33m(\u001b[0m\u001b[0m_BaseKFold\u001b[0m\u001b[1;33m,\u001b[0m \u001b[0mself\u001b[0m\u001b[1;33m)\u001b[0m\u001b[1;33m.\u001b[0m\u001b[0msplit\u001b[0m\u001b[1;33m(\u001b[0m\u001b[0mX\u001b[0m\u001b[1;33m,\u001b[0m \u001b[0my\u001b[0m\u001b[1;33m,\u001b[0m \u001b[0mgroups\u001b[0m\u001b[1;33m)\u001b[0m\u001b[1;33m:\u001b[0m\u001b[1;33m\u001b[0m\u001b[1;33m\u001b[0m\u001b[0m\n\u001b[0m\u001b[0;32m    332\u001b[0m             \u001b[1;32myield\u001b[0m \u001b[0mtrain\u001b[0m\u001b[1;33m,\u001b[0m \u001b[0mtest\u001b[0m\u001b[1;33m\u001b[0m\u001b[1;33m\u001b[0m\u001b[0m\n\u001b[0;32m    333\u001b[0m \u001b[1;33m\u001b[0m\u001b[0m\n",
      "\u001b[1;32mE:\\Dropbox\\DOCENCIA\\TFM\\Diego Fermin\\tfm-repositorio\\env\\lib\\site-packages\\sklearn\\model_selection\\_split.py\u001b[0m in \u001b[0;36msplit\u001b[1;34m(self, X, y, groups)\u001b[0m\n\u001b[0;32m     98\u001b[0m         \u001b[0mX\u001b[0m\u001b[1;33m,\u001b[0m \u001b[0my\u001b[0m\u001b[1;33m,\u001b[0m \u001b[0mgroups\u001b[0m \u001b[1;33m=\u001b[0m \u001b[0mindexable\u001b[0m\u001b[1;33m(\u001b[0m\u001b[0mX\u001b[0m\u001b[1;33m,\u001b[0m \u001b[0my\u001b[0m\u001b[1;33m,\u001b[0m \u001b[0mgroups\u001b[0m\u001b[1;33m)\u001b[0m\u001b[1;33m\u001b[0m\u001b[1;33m\u001b[0m\u001b[0m\n\u001b[0;32m     99\u001b[0m         \u001b[0mindices\u001b[0m \u001b[1;33m=\u001b[0m \u001b[0mnp\u001b[0m\u001b[1;33m.\u001b[0m\u001b[0marange\u001b[0m\u001b[1;33m(\u001b[0m\u001b[0m_num_samples\u001b[0m\u001b[1;33m(\u001b[0m\u001b[0mX\u001b[0m\u001b[1;33m)\u001b[0m\u001b[1;33m)\u001b[0m\u001b[1;33m\u001b[0m\u001b[1;33m\u001b[0m\u001b[0m\n\u001b[1;32m--> 100\u001b[1;33m         \u001b[1;32mfor\u001b[0m \u001b[0mtest_index\u001b[0m \u001b[1;32min\u001b[0m \u001b[0mself\u001b[0m\u001b[1;33m.\u001b[0m\u001b[0m_iter_test_masks\u001b[0m\u001b[1;33m(\u001b[0m\u001b[0mX\u001b[0m\u001b[1;33m,\u001b[0m \u001b[0my\u001b[0m\u001b[1;33m,\u001b[0m \u001b[0mgroups\u001b[0m\u001b[1;33m)\u001b[0m\u001b[1;33m:\u001b[0m\u001b[1;33m\u001b[0m\u001b[1;33m\u001b[0m\u001b[0m\n\u001b[0m\u001b[0;32m    101\u001b[0m             \u001b[0mtrain_index\u001b[0m \u001b[1;33m=\u001b[0m \u001b[0mindices\u001b[0m\u001b[1;33m[\u001b[0m\u001b[0mnp\u001b[0m\u001b[1;33m.\u001b[0m\u001b[0mlogical_not\u001b[0m\u001b[1;33m(\u001b[0m\u001b[0mtest_index\u001b[0m\u001b[1;33m)\u001b[0m\u001b[1;33m]\u001b[0m\u001b[1;33m\u001b[0m\u001b[1;33m\u001b[0m\u001b[0m\n\u001b[0;32m    102\u001b[0m             \u001b[0mtest_index\u001b[0m \u001b[1;33m=\u001b[0m \u001b[0mindices\u001b[0m\u001b[1;33m[\u001b[0m\u001b[0mtest_index\u001b[0m\u001b[1;33m]\u001b[0m\u001b[1;33m\u001b[0m\u001b[1;33m\u001b[0m\u001b[0m\n",
      "\u001b[1;32mE:\\Dropbox\\DOCENCIA\\TFM\\Diego Fermin\\tfm-repositorio\\env\\lib\\site-packages\\sklearn\\model_selection\\_split.py\u001b[0m in \u001b[0;36m_iter_test_masks\u001b[1;34m(self, X, y, groups)\u001b[0m\n\u001b[0;32m    679\u001b[0m \u001b[1;33m\u001b[0m\u001b[0m\n\u001b[0;32m    680\u001b[0m     \u001b[1;32mdef\u001b[0m \u001b[0m_iter_test_masks\u001b[0m\u001b[1;33m(\u001b[0m\u001b[0mself\u001b[0m\u001b[1;33m,\u001b[0m \u001b[0mX\u001b[0m\u001b[1;33m,\u001b[0m \u001b[0my\u001b[0m\u001b[1;33m=\u001b[0m\u001b[1;32mNone\u001b[0m\u001b[1;33m,\u001b[0m \u001b[0mgroups\u001b[0m\u001b[1;33m=\u001b[0m\u001b[1;32mNone\u001b[0m\u001b[1;33m)\u001b[0m\u001b[1;33m:\u001b[0m\u001b[1;33m\u001b[0m\u001b[1;33m\u001b[0m\u001b[0m\n\u001b[1;32m--> 681\u001b[1;33m         \u001b[0mtest_folds\u001b[0m \u001b[1;33m=\u001b[0m \u001b[0mself\u001b[0m\u001b[1;33m.\u001b[0m\u001b[0m_make_test_folds\u001b[0m\u001b[1;33m(\u001b[0m\u001b[0mX\u001b[0m\u001b[1;33m,\u001b[0m \u001b[0my\u001b[0m\u001b[1;33m)\u001b[0m\u001b[1;33m\u001b[0m\u001b[1;33m\u001b[0m\u001b[0m\n\u001b[0m\u001b[0;32m    682\u001b[0m         \u001b[1;32mfor\u001b[0m \u001b[0mi\u001b[0m \u001b[1;32min\u001b[0m \u001b[0mrange\u001b[0m\u001b[1;33m(\u001b[0m\u001b[0mself\u001b[0m\u001b[1;33m.\u001b[0m\u001b[0mn_splits\u001b[0m\u001b[1;33m)\u001b[0m\u001b[1;33m:\u001b[0m\u001b[1;33m\u001b[0m\u001b[1;33m\u001b[0m\u001b[0m\n\u001b[0;32m    683\u001b[0m             \u001b[1;32myield\u001b[0m \u001b[0mtest_folds\u001b[0m \u001b[1;33m==\u001b[0m \u001b[0mi\u001b[0m\u001b[1;33m\u001b[0m\u001b[1;33m\u001b[0m\u001b[0m\n",
      "\u001b[1;32mE:\\Dropbox\\DOCENCIA\\TFM\\Diego Fermin\\tfm-repositorio\\env\\lib\\site-packages\\sklearn\\model_selection\\_split.py\u001b[0m in \u001b[0;36m_make_test_folds\u001b[1;34m(self, X, y)\u001b[0m\n\u001b[0;32m    634\u001b[0m             raise ValueError(\n\u001b[0;32m    635\u001b[0m                 'Supported target types are: {}. Got {!r} instead.'.format(\n\u001b[1;32m--> 636\u001b[1;33m                     allowed_target_types, type_of_target_y))\n\u001b[0m\u001b[0;32m    637\u001b[0m \u001b[1;33m\u001b[0m\u001b[0m\n\u001b[0;32m    638\u001b[0m         \u001b[0my\u001b[0m \u001b[1;33m=\u001b[0m \u001b[0mcolumn_or_1d\u001b[0m\u001b[1;33m(\u001b[0m\u001b[0my\u001b[0m\u001b[1;33m)\u001b[0m\u001b[1;33m\u001b[0m\u001b[1;33m\u001b[0m\u001b[0m\n",
      "\u001b[1;31mValueError\u001b[0m: Supported target types are: ('binary', 'multiclass'). Got 'unknown' instead."
     ]
    }
   ],
   "source": [
    "#PABLO\n",
    "#CV REGRESION LOGISTICA, F1 VS NUM VARIABLES con anova\n",
    "import pylab\n",
    "from sklearn.feature_selection import f_classif, SelectPercentile\n",
    "from sklearn.linear_model import LogisticRegression\n",
    "from sklearn.model_selection import cross_val_score\n",
    "from sklearn.model_selection import StratifiedKFold\n",
    "\n",
    "from sklearn.pipeline import Pipeline\n",
    "\n",
    "\n",
    "seleccion = SelectPercentile(f_classif)\n",
    "pipe = Pipeline([('seleccion', seleccion), \n",
    "                 ('lr', LogisticRegression())])\n",
    "\n",
    "score_means = list()\n",
    "score_stds = list()\n",
    "porcentajes = list(np.linspace(10,100,5))\n",
    "\n",
    "for p in porcentajes:\n",
    "    pipe.set_params(seleccion__percentile=p)\n",
    "    this_scores = cross_val_score(pipe, classes_df_atts, classes_df_label, cv=StratifiedKFold(5),scoring=\"f1\",n_jobs=-1)\n",
    "    score_means.append(this_scores.mean())\n",
    "    score_stds.append(this_scores.std())\n",
    "\n",
    "pylab.errorbar(porcentajes, \n",
    "               score_means, np.array(score_stds))\n",
    "\n",
    "pylab.title('Bondad de LR aumentando el número de variables')\n",
    "pylab.xlabel('Porcentaje')\n",
    "pylab.ylabel('F1-measure')"
   ]
  },
  {
   "cell_type": "code",
   "execution_count": 6,
   "metadata": {
    "collapsed": true,
    "pycharm": {}
   },
   "outputs": [],
   "source": [
    "\n",
    "\n",
    "\n",
    "\n",
    "\n",
    "from sklearn.feature_selection import chi2\n",
    "from sklearn.feature_selection import SelectKBest\n",
    "\n",
    "def bestNAtts(X_train, y_train, X_test, y_test):\n",
    "    n_atts = 0\n",
    "    best_K = None\n",
    "    best_score = 0\n",
    "    for i in range(len(X_train.columns)):\n",
    "        n_atts = i + 1\n",
    "        X_train_transformed = SelectKBest(chi2, k=n_atts).fit_transform(X_train,y_train)\n",
    "        model = tree.DecisionTreeClassifier()\n",
    "        scores = cross_val_score(model, X_train_transformed, y_train, cv = 10, scoring=\"f1\")\n",
    "        score = scores.mean()\n",
    "        if (score > best_score):\n",
    "            print(\"Mejora con \", n_atts, \"atributos, consiguiendo un F1-Score en la validación cruzada de \", score)\n",
    "            best_score = scores.mean()\n",
    "            best_K = n_atts\n",
    "    return best_K, best_score"
   ]
  },
  {
   "cell_type": "code",
   "execution_count": 8,
   "metadata": {
    "collapsed": true,
    "pycharm": {}
   },
   "outputs": [],
   "source": [
    "# bestNAtts(X_train, y_train, X_test, y_test)\n",
    "# Resultado: 69"
   ]
  },
  {
   "cell_type": "code",
   "execution_count": 14,
   "metadata": {
    "pycharm": {}
   },
   "outputs": [
    {
     "data": {
      "text/plain": [
       "(0.3108320251177394, 0.2900036616623947, 0.3000568289448759, 0.629745797052462)"
      ]
     },
     "execution_count": 14,
     "metadata": {},
     "output_type": "execute_result"
    }
   ],
   "source": [
    "# Dado un modelo, realiza la validacion cruzada\n",
    "transformer = SelectKBest(chi2, k=69)\n",
    "X_train_transformed = transformer.fit_transform(X_train,y_train)\n",
    "X_test_transformed = transformer.transform(X_test)\n",
    "model = tree.DecisionTreeClassifier()\n",
    "tryModel(model, X_train_transformed, y_train, X_test_transformed, y_test)"
   ]
  },
  {
   "cell_type": "markdown",
   "metadata": {
    "pycharm": {}
   },
   "source": [
    "#### 3.1) Undersampling"
   ]
  },
  {
   "cell_type": "markdown",
   "metadata": {
    "pycharm": {}
   },
   "source": [
    "Vamos a eliminar parte de los casos positivos de entrenamiento para intentar tener un mejor modelo."
   ]
  },
  {
   "cell_type": "code",
   "execution_count": 7,
   "metadata": {
    "collapsed": true,
    "pycharm": {}
   },
   "outputs": [],
   "source": [
    "def undersampling(df, frac_negatives = 0.5):\n",
    "    # Positive cases\n",
    "    train_df_positive = df[df[label]]\n",
    "    # Negative cases -> Delete some cases\n",
    "    train_df_negative = df[~df[label]]\n",
    "    train_df_negative = train_df_negative.sample(frac = frac_negatives)\n",
    "    # Join negative and positives cases\n",
    "    train_df_undersampling = train_df_positive.append(train_df_negative).sample(frac=1)\n",
    "    # Separate in attributes and label\n",
    "    X_undersampling = train_df_undersampling.drop(label, 1)\n",
    "    y_undersampling = train_df_undersampling[label]\n",
    "\n",
    "    return X_undersampling, y_undersampling"
   ]
  },
  {
   "cell_type": "code",
   "execution_count": 35,
   "metadata": {
    "pycharm": {}
   },
   "outputs": [
    {
     "name": "stdout",
     "output_type": "stream",
     "text": [
      "Eligiendo 90.0 % de los datos negativos. Precisión 0.2905 ;Recall 0.2929 ;F1 0.2917 ;ROC  0.6295\n",
      "Eligiendo 80.0 % de los datos negativos. Precisión 0.279 ;Recall 0.3197 ;F1 0.298 ;ROC  0.6402\n",
      "Eligiendo 70.0 % de los datos negativos. Precisión 0.2821 ;Recall 0.3398 ;F1 0.3083 ;ROC  0.6494\n"
     ]
    },
    {
     "data": {
      "text/plain": [
       "0.7"
      ]
     },
     "execution_count": 35,
     "metadata": {},
     "output_type": "execute_result"
    }
   ],
   "source": [
    "def bestNegFrac(df):\n",
    "    # Dividir conjunto de entrenamiento en otro conjunto de entrenamiento y test\n",
    "    _X_train, _X_test, _y_train, _y_test = train_test_split(classes_df_atts, classes_df_label, test_size=0.33, stratify=classes_df_label)\n",
    "    _train_df = _X_train.copy()\n",
    "    _train_df[label] = _y_train.copy()\n",
    "    _test_df = _X_test.copy()\n",
    "    _test_df[label] = _y_test.copy()\n",
    "    \n",
    "    # Para cada porcentaje de casos negativos entrenar y ver score\n",
    "    frac_negatives = [0.9, 0.8, 0.7, 0.6, 0.5, 0.4, 0.3, 0.25, 0.2, 0.15, 0.1, 0.05, 0.025, 0]\n",
    "    best_frac = None\n",
    "    best_score = 0\n",
    "    for frac in frac_negatives:\n",
    "        _X_under, _y_under = undersampling(_train_df, frac_negatives = frac)\n",
    "        model = tree.DecisionTreeClassifier()\n",
    "        p, r, s, a = tryModel(model, _X_under, _y_under, _X_test, _y_test)\n",
    "        score = s\n",
    "        if (score > best_score):\n",
    "            print(\"Eligiendo\", frac*100, '% de los datos negativos. Precisión',round(p,4),';Recall',round(r,4),';F1',round(s,4),';ROC ',round(a,4))\n",
    "            best_frac = frac\n",
    "            best_score = score\n",
    "    return best_frac\n",
    "bestNegFrac(train_df)"
   ]
  },
  {
   "cell_type": "code",
   "execution_count": 36,
   "metadata": {
    "pycharm": {}
   },
   "outputs": [
    {
     "name": "stdout",
     "output_type": "stream",
     "text": [
      "Clases sin bugs (negativos):  81792\n",
      "Clases con bugs (positivos):  5544\n",
      "Proporcion de clases con bugs:  6.35 %\n"
     ]
    }
   ],
   "source": [
    "X_undersampling, y_undersampling = undersampling(train_df, frac_negatives = 0.7)\n",
    "print(\"Clases sin bugs (negativos): \",len(y_undersampling[~y_undersampling]))\n",
    "print(\"Clases con bugs (positivos): \", len(y_undersampling[y_undersampling]))\n",
    "print(\"Proporcion de clases con bugs: \", round(len(y_undersampling[y_undersampling])/len(y_undersampling)*100,2),'%')"
   ]
  },
  {
   "cell_type": "code",
   "execution_count": 37,
   "metadata": {
    "pycharm": {}
   },
   "outputs": [
    {
     "data": {
      "text/plain": [
       "(0.2605612998522895,\n",
       " 0.32295862321493957,\n",
       " 0.2884238064094179,\n",
       " 0.6397333819103316)"
      ]
     },
     "execution_count": 37,
     "metadata": {},
     "output_type": "execute_result"
    }
   ],
   "source": [
    "# Dado un modelo, realiza la validacion cruzada\n",
    "model = tree.DecisionTreeClassifier()\n",
    "tryModel(model, X_undersampling, y_undersampling, X_test, y_test)"
   ]
  },
  {
   "cell_type": "markdown",
   "metadata": {
    "pycharm": {}
   },
   "source": [
    "#### 3.2) Replicar casos positivos"
   ]
  },
  {
   "cell_type": "markdown",
   "metadata": {
    "pycharm": {}
   },
   "source": [
    "Ahora vamos a intentar lo inverso: aumentar el número de casos positivos."
   ]
  },
  {
   "cell_type": "code",
   "execution_count": 8,
   "metadata": {
    "collapsed": true,
    "pycharm": {}
   },
   "outputs": [],
   "source": [
    "def oversampling(df, frac_positives = 2):\n",
    "    # Positive cases -> Add some cases\n",
    "    train_df_positive = df[df[label]]\n",
    "    train_df_positive = train_df_positive.append(train_df_positive.sample(frac=frac_positives-1))\n",
    "    # Negative cases \n",
    "    train_df_negative = df[~df[label]]\n",
    "    # Join negative and positives cases\n",
    "    train_df_undersampling = train_df_positive.append(train_df_negative).sample(frac=1)\n",
    "    # Separate in attributes and label\n",
    "    X_undersampling = train_df_undersampling.drop(label, 1)\n",
    "    y_undersampling = train_df_undersampling[label]\n",
    "\n",
    "    return X_undersampling, y_undersampling"
   ]
  },
  {
   "cell_type": "code",
   "execution_count": 41,
   "metadata": {
    "pycharm": {}
   },
   "outputs": [
    {
     "name": "stdout",
     "output_type": "stream",
     "text": [
      "Eligiendo 100 % de los datos positivos. Precisión 0.3047 Recall 0.2896 F1 0.297 ROC  0.6291\n",
      "Eligiendo 110 % de los datos positivos. Precisión 0.3139 Recall 0.3017 F1 0.3077 ROC  0.6352\n",
      "Eligiendo 140 % de los datos positivos. Precisión 0.3102 Recall 0.3149 F1 0.3126 ROC  0.6408\n"
     ]
    },
    {
     "data": {
      "text/plain": [
       "1.4"
      ]
     },
     "execution_count": 41,
     "metadata": {},
     "output_type": "execute_result"
    }
   ],
   "source": [
    "def bestPosFrac(df):\n",
    "    # Dividir conjunto de entrenamiento en otro conjunto de entrenamiento y test\n",
    "    _X_train, _X_test, _y_train, _y_test = train_test_split(classes_df_atts, classes_df_label, test_size=0.33, stratify=classes_df_label)\n",
    "    _train_df = _X_train.copy()\n",
    "    _train_df[label] = _y_train.copy()\n",
    "    _test_df = _X_test.copy()\n",
    "    _test_df[label] = _y_test.copy()\n",
    "    \n",
    "    # Para cada porcentaje de casos positivos entrenar y ver score\n",
    "    frac_positives = [1, 1.1, 1.2, 1.3, 1.4, 1.5, 1.6, 1.7, 1.8, 1.9, 2]\n",
    "    best_frac = None\n",
    "    best_score = 0\n",
    "    for frac in frac_positives:\n",
    "        _X_under, _y_under = oversampling(_train_df, frac_positives = frac)\n",
    "        model = tree.DecisionTreeClassifier()\n",
    "        p, r, s, a = tryModel(model, _X_under, _y_under, _X_test, _y_test)\n",
    "        score = s\n",
    "        if (score > best_score):\n",
    "            print(\"Eligiendo\", round(frac*100), '% de los datos positivos. Precisión',round(p,4),'Recall',round(r,4),'F1',round(s,4),'ROC ',round(a,4))\n",
    "            best_frac = frac\n",
    "            best_score = score\n",
    "    return best_frac\n",
    "bestPosFrac(train_df)"
   ]
  },
  {
   "cell_type": "code",
   "execution_count": 42,
   "metadata": {
    "pycharm": {}
   },
   "outputs": [
    {
     "name": "stdout",
     "output_type": "stream",
     "text": [
      "Clases sin bugs (negativos):  116845\n",
      "Clases con bugs (positivos):  7762\n",
      "Proporcion de clases con bugs:  6.23 %\n"
     ]
    }
   ],
   "source": [
    "X_oversampling, y_oversampling = oversampling(train_df, frac_positives = 1.4)\n",
    "print(\"Clases sin bugs (negativos): \",len(y_oversampling[~y_oversampling]))\n",
    "print(\"Clases con bugs (positivos): \", len(y_oversampling[y_oversampling]))\n",
    "print(\"Proporcion de clases con bugs: \", round(len(y_oversampling[y_oversampling])/len(y_oversampling)*100,2),'%')\n"
   ]
  },
  {
   "cell_type": "code",
   "execution_count": 43,
   "metadata": {
    "pycharm": {}
   },
   "outputs": [
    {
     "data": {
      "text/plain": [
       "(0.29933481152993346,\n",
       " 0.2965946539729037,\n",
       " 0.2979584329593526,\n",
       " 0.6318249807196624)"
      ]
     },
     "execution_count": 43,
     "metadata": {},
     "output_type": "execute_result"
    }
   ],
   "source": [
    "# Dado un modelo, realiza la validacion cruzada\n",
    "model = tree.DecisionTreeClassifier()\n",
    "tryModel(model, X_oversampling, y_oversampling, X_test, y_test)"
   ]
  },
  {
   "cell_type": "code",
   "execution_count": 56,
   "metadata": {
    "pycharm": {}
   },
   "outputs": [
    {
     "data": {
      "text/plain": [
       "(0.2776782515227517,\n",
       " 0.28377883559135847,\n",
       " 0.28069540021731254,\n",
       " 0.6243745179677005)"
      ]
     },
     "execution_count": 56,
     "metadata": {},
     "output_type": "execute_result"
    }
   ],
   "source": [
    "max_depth, min_samples = bruteTree(X_oversampling, y_oversampling, X_test, y_test)\n",
    "model = tree.DecisionTreeClassifier(max_depth = max_depth, min_samples_split = min_samples)\n",
    "tryModel(model, X_oversampling, y_oversampling, X_test, y_test)"
   ]
  },
  {
   "cell_type": "markdown",
   "metadata": {
    "pycharm": {}
   },
   "source": [
    "#### 3.4) Combinar ambas opciones"
   ]
  },
  {
   "cell_type": "markdown",
   "metadata": {
    "pycharm": {}
   },
   "source": [
    "Ahora vamos a bajar el número de casos negativos y subir el de positivos de manera simultánea."
   ]
  },
  {
   "cell_type": "code",
   "execution_count": 9,
   "metadata": {
    "collapsed": true,
    "pycharm": {}
   },
   "outputs": [],
   "source": [
    "def overundersampling(df, frac_positives = 2, frac_negatives = 0.5):\n",
    "    # Positive cases -> Add some cases\n",
    "    train_df_positive = df[df[label]]\n",
    "    train_df_positive = train_df_positive.append(train_df_positive.sample(frac=frac_positives-1))\n",
    "    # Negative cases -> Delete some cases\n",
    "    train_df_negative = df[~df[label]]\n",
    "    train_df_negative = train_df_negative.sample(frac = frac_negatives)\n",
    "    # Join negative and positives cases\n",
    "    train_df_overundersampling = train_df_positive.append(train_df_negative).sample(frac=1)\n",
    "    # Separate in attributes and label\n",
    "    X_overundersampling = train_df_overundersampling.drop(label, 1)\n",
    "    y_overundersampling = train_df_overundersampling[label]\n",
    "\n",
    "    return X_overundersampling, y_overundersampling"
   ]
  },
  {
   "cell_type": "code",
   "execution_count": 61,
   "metadata": {
    "pycharm": {}
   },
   "outputs": [
    {
     "name": "stdout",
     "output_type": "stream",
     "text": [
      "Eligiendo 100 % de los datos positivos y 100 % de negativos: Precisión 0.3018 Recall 0.2992 F1 0.3005 ROC 0.6332\n",
      "Eligiendo 100 % de los datos positivos y 80 % de negativos: Precisión 0.2831 Recall 0.3255 F1 0.3028 ROC 0.6432\n",
      "Eligiendo 110 % de los datos positivos y 80 % de negativos: Precisión 0.2822 Recall 0.3317 F1 0.3049 ROC 0.6458\n",
      "Eligiendo 140 % de los datos positivos y 100 % de negativos: Precisión 0.3093 Recall 0.3101 F1 0.3097 ROC 0.6386\n",
      "Eligiendo 150 % de los datos positivos y 80 % de negativos: Precisión 0.2862 Recall 0.3435 F1 0.3123 ROC 0.6514\n"
     ]
    },
    {
     "data": {
      "text/plain": [
       "(1.5, 0.8)"
      ]
     },
     "execution_count": 61,
     "metadata": {},
     "output_type": "execute_result"
    }
   ],
   "source": [
    "def bestFracs(df):\n",
    "    # Dividir conjunto de entrenamiento en otro conjunto de entrenamiento y test\n",
    "    _X_train, _X_test, _y_train, _y_test = train_test_split(classes_df_atts, classes_df_label, test_size=0.33, stratify=classes_df_label)\n",
    "    _train_df = _X_train.copy()\n",
    "    _train_df[label] = _y_train.copy()\n",
    "    _test_df = _X_test.copy()\n",
    "    _test_df[label] = _y_test.copy()\n",
    "    \n",
    "    # Para cada porcentaje de casos positivos entrenar y ver score\n",
    "    frac_positives = [1, 1.1, 1.2, 1.3, 1.4, 1.5, 1.6, 1.7, 1.8, 1.9, 2]\n",
    "    frac_negatives = [1, 0.9, 0.8, 0.7, 0.6, 0.5, 0.4, 0.3, 0.25, 0.2, 0.15, 0.1, 0.05, 0.025, 0]\n",
    "    \n",
    "    best_frac = None\n",
    "    best_score = 0\n",
    "    for frac in frac_positives:\n",
    "        for frac2 in frac_negatives:\n",
    "            _X_overunder, _y_overunder = overundersampling(_train_df, frac_positives = frac, frac_negatives=frac2)\n",
    "            model = tree.DecisionTreeClassifier()\n",
    "            p, r, s, a = tryModel(model, _X_overunder, _y_overunder, _X_test, _y_test)\n",
    "            score = s\n",
    "            if (score > best_score):\n",
    "                print(\"Eligiendo\", round(frac*100), '% de los datos positivos y',round(frac2*100),'% de negativos: Precisión',round(p,4),'Recall',round(r,4),'F1',round(s,4),'ROC',round(a,4))\n",
    "                best_frac = (frac, frac2)\n",
    "                best_score = score\n",
    "    return best_frac\n",
    "bestFracs(train_df)"
   ]
  },
  {
   "cell_type": "code",
   "execution_count": 62,
   "metadata": {
    "pycharm": {}
   },
   "outputs": [
    {
     "name": "stdout",
     "output_type": "stream",
     "text": [
      "Clases sin bugs (negativos):  93476\n",
      "Clases con bugs (positivos):  8316\n",
      "Proporcion de clases con bugs:  8.17 %\n"
     ]
    }
   ],
   "source": [
    "X_overundersampling, y_overundersampling = overundersampling(train_df, frac_positives = 1.5, frac_negatives = 0.8)\n",
    "print(\"Clases sin bugs (negativos): \",len(y_overundersampling[~y_overundersampling]))\n",
    "print(\"Clases con bugs (positivos): \", len(y_overundersampling[y_overundersampling]))\n",
    "print(\"Proporcion de clases con bugs: \", round(len(y_overundersampling[y_overundersampling])/len(y_overundersampling)*100,2),'%')\n"
   ]
  },
  {
   "cell_type": "code",
   "execution_count": 63,
   "metadata": {
    "pycharm": {}
   },
   "outputs": [
    {
     "data": {
      "text/plain": [
       "(0.2732861973562865,\n",
       " 0.3255217868912486,\n",
       " 0.29712566844919786,\n",
       " 0.642222588290197)"
      ]
     },
     "execution_count": 63,
     "metadata": {},
     "output_type": "execute_result"
    }
   ],
   "source": [
    "# Dado un modelo, realiza la validacion cruzada\n",
    "model = tree.DecisionTreeClassifier()\n",
    "tryModel(model, X_overundersampling, y_overundersampling, X_test, y_test)"
   ]
  },
  {
   "cell_type": "markdown",
   "metadata": {
    "collapsed": true,
    "pycharm": {}
   },
   "source": [
    "### 4) Regresión Lasso"
   ]
  },
  {
   "cell_type": "code",
   "execution_count": 23,
   "metadata": {
    "collapsed": true,
    "pycharm": {}
   },
   "outputs": [],
   "source": [
    "def evalLasso(model, X_train, y_train, X_test, y_test, threshold):\n",
    "    clf = model.fit(X_train, y_train)\n",
    "    prediction = clf.predict(X_test)\n",
    "    prediction = prediction >= threshold\n",
    "    precision = precision_score(y_test,prediction)\n",
    "    recall = recall_score(y_test,prediction)\n",
    "    f1 = f1_score(y_test,prediction)\n",
    "    roc = roc_auc_score(y_test, prediction)\n",
    "    return precision, recall, f1, roc"
   ]
  },
  {
   "cell_type": "code",
   "execution_count": 9,
   "metadata": {
    "pycharm": {}
   },
   "outputs": [
    {
     "data": {
      "text/plain": [
       "(0.4329896907216495,\n",
       " 0.015378982057854266,\n",
       " 0.029702970297029705,\n",
       " 0.5072116539800487)"
      ]
     },
     "execution_count": 9,
     "metadata": {},
     "output_type": "execute_result"
    }
   ],
   "source": [
    "model = linear_model.Lasso(alpha=0.01)\n",
    "evalLasso(model, X_train, y_train, X_test, y_test, 0.5)"
   ]
  },
  {
   "cell_type": "markdown",
   "metadata": {
    "pycharm": {}
   },
   "source": [
    "Vamos a intentar optimizar el valor de alfa y el umbral a partir del cual consideramos que una clase es positiva (ya que usar un valor distinto del 0.5 que es el valor común puede darnos resultados mejores)"
   ]
  },
  {
   "cell_type": "code",
   "execution_count": 11,
   "metadata": {
    "collapsed": true,
    "pycharm": {}
   },
   "outputs": [],
   "source": [
    "def bestLasso(X_train, y_train, X_test, y_test):\n",
    "    alphas = [0.001, 0.01] + [x for x in np.arange(0.1, 1.1, 0.1)]\n",
    "    thresholds = [x for x in np.arange(0,1.1,0.1)]\n",
    "    bestConfig = None\n",
    "    bestScore = 0\n",
    "    for alpha in alphas:\n",
    "        for threshold in thresholds:\n",
    "            model = linear_model.Lasso(alpha=alpha)\n",
    "            _, _, score, _ = evalLasso(model, X_train, y_train, X_test, y_test, threshold)\n",
    "            if (score > bestScore):\n",
    "                print(\"Alpha \", alpha, \" + Threshold \", threshold, \" Score \", score)\n",
    "                bestScore = score\n",
    "                bestConfig = (alpha, threshold)\n",
    "                \n",
    "    return bestConfig, bestScore"
   ]
  },
  {
   "cell_type": "code",
   "execution_count": 18,
   "metadata": {
    "collapsed": true,
    "pycharm": {}
   },
   "outputs": [],
   "source": [
    "# bestLasso(X_train, y_train, X_test, y_test)"
   ]
  },
  {
   "cell_type": "code",
   "execution_count": 19,
   "metadata": {
    "pycharm": {}
   },
   "outputs": [
    {
     "data": {
      "text/plain": [
       "(0.1917129560126107,\n",
       " 0.46759428780666423,\n",
       " 0.2719335604770017,\n",
       " 0.6870212407913098)"
      ]
     },
     "execution_count": 19,
     "metadata": {},
     "output_type": "execute_result"
    }
   ],
   "source": [
    "model = linear_model.Lasso(alpha=0.001)\n",
    "evalLasso(model, X_train, y_train, X_test, y_test, 0.1)"
   ]
  },
  {
   "cell_type": "code",
   "execution_count": 21,
   "metadata": {
    "pycharm": {}
   },
   "outputs": [
    {
     "data": {
      "image/png": "[encoded data removed]",
      "text/plain": [
       "<matplotlib.figure.Figure at 0x20207ec9d68>"
      ]
     },
     "metadata": {},
     "output_type": "display_data"
    }
   ],
   "source": [
    "def printRecallPrecision():\n",
    "    alpha = 0.001\n",
    "    thresholds = [0.001, 0.005, 0.01, 0.025, 0.05, 0.075, 0.1, 0.125, 0.15, 0.175, 0.2, 0.25, 0.3, 0.35, 0.4, 0.45, 0.5, 0.55, 0.6, 0.65, 0.7]\n",
    "    precisions = []\n",
    "    recalls = []\n",
    "    for threshold in thresholds:\n",
    "        model = linear_model.Lasso(alpha=alpha)\n",
    "        precision, recall, score, roc = evalLasso(model, X_train, y_train, X_test, y_test, threshold)\n",
    "        precisions.append(precision)\n",
    "        recalls.append(recall)\n",
    "        \n",
    "    plt.plot(thresholds, precisions, color='green')\n",
    "    plt.plot(thresholds, recalls, color='orange')\n",
    "    plt.xlabel('Thresholds')\n",
    "    plt.ylabel('Precision and recall')\n",
    "    plt.show();\n",
    "printRecallPrecision()"
   ]
  },
  {
   "cell_type": "markdown",
   "metadata": {
    "pycharm": {}
   },
   "source": [
    "Vemos como, si tomamos como clases con Bugs aquellas con una probabilidad mayor que 0.1, en función del valor de la regularización escogida, iremos bajando el recall pero aumentando la precisión a medida que lo aumentemos. Aquí habría que valorar si es conveniente asegurar una buen precisión, para que siempre que avisemos sea por un fallo muy posible; o tenemos en cuenta los dos criterios."
   ]
  },
  {
   "cell_type": "code",
   "execution_count": 37,
   "metadata": {
    "pycharm": {}
   },
   "outputs": [
    {
     "data": {
      "text/plain": [
       "(0.11285395370696745,\n",
       " 0.7034053460270963,\n",
       " 0.19450210094669165,\n",
       " 0.7205059952842299)"
      ]
     },
     "execution_count": 37,
     "metadata": {},
     "output_type": "execute_result"
    }
   ],
   "source": [
    "model = linear_model.Lasso(alpha=0.01)\n",
    "evalLasso(model, X_train, y_train, X_test, y_test, 0.05)"
   ]
  },
  {
   "cell_type": "code",
   "execution_count": 23,
   "metadata": {
    "pycharm": {}
   },
   "outputs": [
    {
     "data": {
      "text/plain": [
       "(0.07086773280988395,\n",
       " 0.8989381179055291,\n",
       " 0.13137826773339042,\n",
       " 0.6698301300027898)"
      ]
     },
     "execution_count": 23,
     "metadata": {},
     "output_type": "execute_result"
    }
   ],
   "source": [
    "model = linear_model.Lasso(alpha=0.01)\n",
    "evalLasso(model, X_train, y_train, X_test, y_test, 0.025)"
   ]
  },
  {
   "cell_type": "code",
   "execution_count": 24,
   "metadata": {
    "pycharm": {}
   },
   "outputs": [
    {
     "data": {
      "text/plain": [
       "(0.47368421052631576,\n",
       " 0.013181984621017943,\n",
       " 0.025650160313501962,\n",
       " 0.5062434744567793)"
      ]
     },
     "execution_count": 24,
     "metadata": {},
     "output_type": "execute_result"
    }
   ],
   "source": [
    "model = linear_model.Lasso(alpha=0.1)\n",
    "evalLasso(model, X_train, y_train, X_test, y_test, 0.4)"
   ]
  },
  {
   "cell_type": "code",
   "execution_count": 22,
   "metadata": {
    "pycharm": {}
   },
   "outputs": [
    {
     "data": {
      "text/plain": [
       "(0.11897889808222692,\n",
       " 0.6792383742218967,\n",
       " 0.20248881126514573,\n",
       " 0.7202815561401573)"
      ]
     },
     "execution_count": 22,
     "metadata": {},
     "output_type": "execute_result"
    }
   ],
   "source": [
    "X_transformed, y_transformed = undersampling(train_df, frac_negatives=0.5)\n",
    "model = linear_model.Lasso(alpha=0.01)\n",
    "evalLasso(model, X_transformed, y_transformed, X_test, y_test, 0.1)"
   ]
  },
  {
   "cell_type": "code",
   "execution_count": 26,
   "metadata": {
    "pycharm": {}
   },
   "outputs": [
    {
     "data": {
      "text/plain": [
       "(0.15024232633279483,\n",
       " 0.5789088246063713,\n",
       " 0.23856948845631507,\n",
       " 0.7117667961019033)"
      ]
     },
     "execution_count": 26,
     "metadata": {},
     "output_type": "execute_result"
    }
   ],
   "source": [
    "X_transformed, y_transformed = oversampling(train_df, frac_positives=1.5)\n",
    "model = linear_model.Lasso(alpha=0.01)\n",
    "evalLasso(model, X_transformed, y_transformed, X_test, y_test, 0.1)"
   ]
  },
  {
   "cell_type": "code",
   "execution_count": 36,
   "metadata": {
    "pycharm": {}
   },
   "outputs": [
    {
     "data": {
      "text/plain": [
       "(0.12694593829606568,\n",
       " 0.6569022336140607,\n",
       " 0.212773527842021,\n",
       " 0.7212592348240934)"
      ]
     },
     "execution_count": 36,
     "metadata": {},
     "output_type": "execute_result"
    }
   ],
   "source": [
    "X_transformed, y_transformed = overundersampling(train_df, frac_positives = 1.5, frac_negatives=0.5)\n",
    "model = linear_model.Lasso(alpha=0.01)\n",
    "evalLasso(model, X_transformed, y_transformed, X_test, y_test, 0.15)"
   ]
  },
  {
   "cell_type": "markdown",
   "metadata": {
    "collapsed": true,
    "pycharm": {}
   },
   "source": [
    "### 5) SVM"
   ]
  },
  {
   "cell_type": "code",
   "execution_count": 78,
   "metadata": {
    "pycharm": {}
   },
   "outputs": [
    {
     "data": {
      "text/plain": [
       "(0.43333333333333335,\n",
       " 0.04760161113145368,\n",
       " 0.08578027053777632,\n",
       " 0.5223238546873754)"
      ]
     },
     "execution_count": 78,
     "metadata": {},
     "output_type": "execute_result"
    }
   ],
   "source": [
    "# Tarda mucho en ejecutarse\n",
    "# model = svm.SVC()\n",
    "# tryModel(model, X_train, y_train, X_test, y_test)\n",
    "# Resultados: (0.43333333333333335, 0.04760161113145368, 0.08578027053777632, 0.5223238546873754)"
   ]
  },
  {
   "cell_type": "markdown",
   "metadata": {
    "pycharm": {}
   },
   "source": [
    "Se puede ver que no clasifica casi datos como positivos."
   ]
  },
  {
   "cell_type": "code",
   "execution_count": 14,
   "metadata": {
    "pycharm": {}
   },
   "outputs": [
    {
     "data": {
      "text/plain": [
       "(0.37449392712550605,\n",
       " 0.06774075430245331,\n",
       " 0.11472868217054263,\n",
       " 0.5311858017311645)"
      ]
     },
     "execution_count": 14,
     "metadata": {},
     "output_type": "execute_result"
    }
   ],
   "source": [
    "# model = svm.SVC()\n",
    "# tryModel(model, X_undersampling, y_undersampling, X_test, y_test)\n",
    "# Reultados: (0.37449392712550605, 0.06774075430245331, 0.11472868217054263, 0.5311858017311645)"
   ]
  },
  {
   "cell_type": "code",
   "execution_count": 15,
   "metadata": {
    "pycharm": {}
   },
   "outputs": [
    {
     "data": {
      "text/plain": [
       "(0.3569553805774278,\n",
       " 0.09959721713658001,\n",
       " 0.15574005153163473,\n",
       " 0.5455415148601007)"
      ]
     },
     "execution_count": 15,
     "metadata": {},
     "output_type": "execute_result"
    }
   ],
   "source": [
    "# model = svm.SVC()\n",
    "# tryModel(model, X_oversampling, y_oversampling, X_test, y_test)\n",
    "# Resultados: (0.3569553805774278, 0.09959721713658001, 0.15574005153163473, 0.5455415148601007)"
   ]
  },
  {
   "cell_type": "code",
   "execution_count": 16,
   "metadata": {
    "pycharm": {}
   },
   "outputs": [
    {
     "data": {
      "text/plain": [
       "(0.29074074074074074,\n",
       " 0.11497619919443428,\n",
       " 0.16478614536866967,\n",
       " 0.5508331326982927)"
      ]
     },
     "execution_count": 16,
     "metadata": {},
     "output_type": "execute_result"
    }
   ],
   "source": [
    "# model = svm.SVC()\n",
    "# tryModel(model, X_overundersampling, y_overundersampling, X_test, y_test)\n",
    "# Resultados: (0.29074074074074074, 0.11497619919443428, 0.16478614536866967, 0.5508331326982927)"
   ]
  },
  {
   "cell_type": "markdown",
   "metadata": {
    "pycharm": {}
   },
   "source": [
    "### 6) XGBoost"
   ]
  },
  {
   "cell_type": "code",
   "execution_count": 3,
   "metadata": {
    "pycharm": {
     "is_executing": false
    }
   },
   "outputs": [
    {
     "ename": "ModuleNotFoundError",
     "evalue": "No module named 'xgboost'",
     "output_type": "error",
     "traceback": [
      "\u001b[1;31m---------------------------------------------------------------------------\u001b[0m",
      "\u001b[1;31mModuleNotFoundError\u001b[0m                       Traceback (most recent call last)",
      "\u001b[1;32m<ipython-input-3-83661f389c58>\u001b[0m in \u001b[0;36m<module>\u001b[1;34m\u001b[0m\n\u001b[1;32m----> 1\u001b[1;33m \u001b[1;32mfrom\u001b[0m \u001b[0mxgboost\u001b[0m \u001b[1;32mimport\u001b[0m \u001b[0mXGBClassifier\u001b[0m\u001b[1;33m\u001b[0m\u001b[1;33m\u001b[0m\u001b[0m\n\u001b[0m\u001b[0;32m      2\u001b[0m \u001b[0mmodel\u001b[0m \u001b[1;33m=\u001b[0m \u001b[0mXGBClassifier\u001b[0m\u001b[1;33m(\u001b[0m\u001b[1;33m)\u001b[0m\u001b[1;33m\u001b[0m\u001b[1;33m\u001b[0m\u001b[0m\n\u001b[0;32m      3\u001b[0m \u001b[0mtryModel\u001b[0m\u001b[1;33m(\u001b[0m\u001b[0mmodel\u001b[0m\u001b[1;33m,\u001b[0m \u001b[0mX_train\u001b[0m\u001b[1;33m,\u001b[0m \u001b[0my_train\u001b[0m\u001b[1;33m,\u001b[0m \u001b[0mX_test\u001b[0m\u001b[1;33m,\u001b[0m \u001b[0my_test\u001b[0m\u001b[1;33m)\u001b[0m\u001b[1;33m\u001b[0m\u001b[1;33m\u001b[0m\u001b[0m\n",
      "\u001b[1;31mModuleNotFoundError\u001b[0m: No module named 'xgboost'"
     ]
    }
   ],
   "source": [
    "from xgboost import XGBClassifier\n",
    "model = XGBClassifier()\n",
    "tryModel(model, X_train, y_train, X_test, y_test)"
   ]
  },
  {
   "cell_type": "code",
   "execution_count": null,
   "metadata": {
    "collapsed": true,
    "pycharm": {}
   },
   "outputs": [],
   "source": []
  }
 ],
 "metadata": {
  "kernelspec": {
   "display_name": "PyCharm (tfm-repositorio)",
   "language": "python",
   "name": "pycharm-7e82875a"
  },
  "language_info": {
   "codemirror_mode": {
    "name": "ipython",
    "version": 3
   },
   "file_extension": ".py",
   "mimetype": "text/x-python",
   "name": "python",
   "nbconvert_exporter": "python",
   "pygments_lexer": "ipython3",
   "version": "3.7.2"
  }
 },
 "nbformat": 4,
 "nbformat_minor": 2
}
