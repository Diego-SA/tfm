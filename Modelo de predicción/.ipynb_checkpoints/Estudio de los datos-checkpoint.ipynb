{
 "cells": [
  {
   "cell_type": "markdown",
   "metadata": {},
   "source": [
    "# TFM: Estudio de los datos del conjunto de entrenamiento\n",
    "## Diego Sanz Alonso"
   ]
  },
  {
   "cell_type": "markdown",
   "metadata": {},
   "source": [
    "En esta libreta se van a analizar las características a nivel de clase que nos proporciona SourceMeter para ver si es necesario eliminar alguna, binarizarlas, cambiar la escala de las mismas, etc."
   ]
  },
  {
   "cell_type": "markdown",
   "metadata": {},
   "source": [
    "### 1) Importar librerías y creación de funciones auxiliares"
   ]
  },
  {
   "cell_type": "code",
   "execution_count": null,
   "metadata": {
    "collapsed": true
   },
   "outputs": [],
   "source": [
    "import numpy as np\n",
    "import pandas as pd\n",
    "from sklearn.model_selection import train_test_split\n",
    "from sklearn.model_selection import cross_val_score\n",
    "from sklearn import neighbors, tree\n",
    "from sklearn.ensemble import RandomForestClassifier\n",
    "import pickle\n",
    "from math import ceil\n",
    "\n",
    "from sklearn.metrics import accuracy_score\n",
    "from sklearn.metrics import precision_score\n",
    "from sklearn.metrics import recall_score\n",
    "from sklearn.metrics import f1_score\n",
    "from sklearn.metrics import roc_auc_score\n",
    "\n",
    "import matplotlib as mpl\n",
    "import matplotlib.pyplot as plt\n",
    "\n",
    "import seaborn as sns\n",
    "sns.set(color_codes=True)"
   ]
  },
  {
   "cell_type": "code",
   "execution_count": null,
   "metadata": {
    "collapsed": true
   },
   "outputs": [],
   "source": [
    "# Configuracion para seaborn\n",
    "%matplotlib inline\n",
    "mpl.rcParams[\"figure.figsize\"] = \"8, 4\"\n",
    "import warnings\n",
    "warnings.simplefilter(\"ignore\")"
   ]
  },
  {
   "cell_type": "markdown",
   "metadata": {},
   "source": [
    "### 2) Leer datos y crear conjunto de entrenamiento y test"
   ]
  },
  {
   "cell_type": "code",
   "execution_count": 3,
   "metadata": {},
   "outputs": [
    {
     "name": "stdout",
     "output_type": "stream",
     "text": [
      "Total de casos:  182671\n",
      "Clases sin bugs (negativos):  174396\n",
      "Clases con bugs (positivos):  8275\n",
      "Proporcion de clases con bugs:  4.53 %\n"
     ]
    }
   ],
   "source": [
    "input_data = \"datasets/dataframes/\"\n",
    "\n",
    "# Classes dataframe\n",
    "classes_df = pd.read_csv(input_data + \"classes.csv\")\n",
    "\n",
    "# Atts and label(binary -> False: no bugs, True: bugs)\n",
    "classes_df_atts = classes_df.drop([\"Number of bugs\"], axis = 1)\n",
    "classes_df_label = classes_df[\"Number of bugs\"] > 0\n",
    "\n",
    "print(\"Total de casos: \", len(classes_df))\n",
    "print(\"Clases sin bugs (negativos): \",len(classes_df_label[~classes_df_label]))\n",
    "print(\"Clases con bugs (positivos): \", len(classes_df_label[classes_df_label]))\n",
    "print(\"Proporcion de clases con bugs: \", round(len(classes_df_label[classes_df_label])/len(classes_df_label)*100,2),'%')"
   ]
  },
  {
   "cell_type": "code",
   "execution_count": 4,
   "metadata": {},
   "outputs": [
    {
     "name": "stdout",
     "output_type": "stream",
     "text": [
      "Lista completa de características\n"
     ]
    },
    {
     "data": {
      "text/plain": [
       "'Line, Column, EndLine, EndColumn, CC, CCL, CCO, CI, CLC, CLLC, LDC, LLDC, LCOM5, NL, NLE, WMC, CBO, CBOI, NII, NOI, RFC, AD, CD, CLOC, DLOC, PDA, PUA, TCD, TCLOC, DIT, NOA, NOC, NOD, NOP, LLOC, LOC, NA, NG, NLA, NLG, NLM, NLPA, NLPM, NLS, NM, NOS, NPA, NPM, NS, TLLOC, TLOC, TNA, TNG, TNLA, TNLG, TNLM, TNLPA, TNLPM, TNLS, TNM, TNOS, TNPA, TNPM, TNS, WarningBlocker, WarningCritical, WarningInfo, WarningMajor, WarningMinor, Android Rules, Basic Rules, Brace Rules, Clone Implementation Rules, Clone Metric Rules, Code Size Rules, Cohesion Metric Rules, Comment Rules, Complexity Metric Rules, Controversial Rules, Coupling Metric Rules, Coupling Rules, Design Rules, Documentation Metric Rules, Empty Code Rules, Finalizer Rules, Import Statement Rules, Inheritance Metric Rules, J2EE Rules, JUnit Rules, Jakarta Commons Logging Rules, Java Logging Rules, JavaBean Rules, MigratingToJUnit4 Rules, Migration Rules, Migration13 Rules, Migration14 Rules, Migration15 Rules, Naming Rules, Optimization Rules, Security Code Guideline Rules, Size Metric Rules, Strict Exception Rules, String and StringBuffer Rules, Type Resolution Rules, Unnecessary and Unused Code Rules, Vulnerability Rules, Number of bugs'"
      ]
     },
     "execution_count": 4,
     "metadata": {},
     "output_type": "execute_result"
    }
   ],
   "source": [
    "atts = \"\"\n",
    "for att in classes_df.columns:\n",
    "    atts = atts + \", \" + att\n",
    "print(\"Lista completa de características\")\n",
    "atts[2:]"
   ]
  },
  {
   "cell_type": "code",
   "execution_count": 5,
   "metadata": {},
   "outputs": [
    {
     "name": "stdout",
     "output_type": "stream",
     "text": [
      "Número de variables inicial:  106\n"
     ]
    }
   ],
   "source": [
    "print(\"Número de variables inicial: \", len(classes_df.columns) - 1)"
   ]
  },
  {
   "cell_type": "markdown",
   "metadata": {},
   "source": [
    "### 1) Number of bugs"
   ]
  },
  {
   "cell_type": "code",
   "execution_count": 6,
   "metadata": {},
   "outputs": [
    {
     "data": {
      "image/png": "[encoded data removed]",
      "text/plain": [
       "<matplotlib.figure.Figure at 0x1b6db52bef0>"
      ]
     },
     "metadata": {},
     "output_type": "display_data"
    }
   ],
   "source": [
    "sns.countplot(data=classes_df, x=\"Number of bugs\");"
   ]
  },
  {
   "cell_type": "markdown",
   "metadata": {},
   "source": [
    "Se puede ver como la gran mayoría de las clases no tiene bugs, por lo que la variable clase la haremos binaria, de forma que indiquemos si tiene bugs o no, no la cantidad de bugs que tiene."
   ]
  },
  {
   "cell_type": "code",
   "execution_count": 7,
   "metadata": {},
   "outputs": [
    {
     "data": {
      "image/png": "[encoded data removed]",
      "text/plain": [
       "<matplotlib.figure.Figure at 0x1b6dc4e3390>"
      ]
     },
     "metadata": {},
     "output_type": "display_data"
    }
   ],
   "source": [
    "classes_df[\"Has bugs\"] = classes_df[\"Number of bugs\"] > 0\n",
    "classes_df = classes_df.drop([\"Number of bugs\"], 1)\n",
    "sns.countplot(data = classes_df, x = \"Has bugs\");"
   ]
  },
  {
   "cell_type": "markdown",
   "metadata": {},
   "source": [
    "### 2) Atributos Line, Column, EndLine y EndColumn"
   ]
  },
  {
   "cell_type": "code",
   "execution_count": 8,
   "metadata": {},
   "outputs": [
    {
     "data": {
      "text/html": [
       "<div>\n",
       "<style>\n",
       "    .dataframe thead tr:only-child th {\n",
       "        text-align: right;\n",
       "    }\n",
       "\n",
       "    .dataframe thead th {\n",
       "        text-align: left;\n",
       "    }\n",
       "\n",
       "    .dataframe tbody tr th {\n",
       "        vertical-align: top;\n",
       "    }\n",
       "</style>\n",
       "<table border=\"1\" class=\"dataframe\">\n",
       "  <thead>\n",
       "    <tr style=\"text-align: right;\">\n",
       "      <th></th>\n",
       "      <th>Line</th>\n",
       "      <th>Column</th>\n",
       "      <th>EndLine</th>\n",
       "      <th>EndColumn</th>\n",
       "    </tr>\n",
       "  </thead>\n",
       "  <tbody>\n",
       "    <tr>\n",
       "      <th>count</th>\n",
       "      <td>182671.000000</td>\n",
       "      <td>182671.000000</td>\n",
       "      <td>182671.000000</td>\n",
       "      <td>182671.000000</td>\n",
       "    </tr>\n",
       "    <tr>\n",
       "      <th>mean</th>\n",
       "      <td>156.067975</td>\n",
       "      <td>15.655233</td>\n",
       "      <td>237.213104</td>\n",
       "      <td>5.180406</td>\n",
       "    </tr>\n",
       "    <tr>\n",
       "      <th>std</th>\n",
       "      <td>366.735787</td>\n",
       "      <td>31.875233</td>\n",
       "      <td>402.877656</td>\n",
       "      <td>6.033586</td>\n",
       "    </tr>\n",
       "    <tr>\n",
       "      <th>min</th>\n",
       "      <td>1.000000</td>\n",
       "      <td>1.000000</td>\n",
       "      <td>4.000000</td>\n",
       "      <td>2.000000</td>\n",
       "    </tr>\n",
       "    <tr>\n",
       "      <th>25%</th>\n",
       "      <td>30.000000</td>\n",
       "      <td>1.000000</td>\n",
       "      <td>68.000000</td>\n",
       "      <td>2.000000</td>\n",
       "    </tr>\n",
       "    <tr>\n",
       "      <th>50%</th>\n",
       "      <td>43.000000</td>\n",
       "      <td>1.000000</td>\n",
       "      <td>123.000000</td>\n",
       "      <td>2.000000</td>\n",
       "    </tr>\n",
       "    <tr>\n",
       "      <th>75%</th>\n",
       "      <td>133.000000</td>\n",
       "      <td>5.000000</td>\n",
       "      <td>250.000000</td>\n",
       "      <td>6.000000</td>\n",
       "    </tr>\n",
       "    <tr>\n",
       "      <th>max</th>\n",
       "      <td>13502.000000</td>\n",
       "      <td>365.000000</td>\n",
       "      <td>13518.000000</td>\n",
       "      <td>191.000000</td>\n",
       "    </tr>\n",
       "  </tbody>\n",
       "</table>\n",
       "</div>"
      ],
      "text/plain": [
       "                Line         Column        EndLine      EndColumn\n",
       "count  182671.000000  182671.000000  182671.000000  182671.000000\n",
       "mean      156.067975      15.655233     237.213104       5.180406\n",
       "std       366.735787      31.875233     402.877656       6.033586\n",
       "min         1.000000       1.000000       4.000000       2.000000\n",
       "25%        30.000000       1.000000      68.000000       2.000000\n",
       "50%        43.000000       1.000000     123.000000       2.000000\n",
       "75%       133.000000       5.000000     250.000000       6.000000\n",
       "max     13502.000000     365.000000   13518.000000     191.000000"
      ]
     },
     "execution_count": 8,
     "metadata": {},
     "output_type": "execute_result"
    }
   ],
   "source": [
    "classes_df[[\"Line\", \"Column\", \"EndLine\", \"EndColumn\"]].describe()"
   ]
  },
  {
   "cell_type": "code",
   "execution_count": 9,
   "metadata": {},
   "outputs": [
    {
     "data": {
      "text/html": [
       "<div>\n",
       "<style>\n",
       "    .dataframe thead tr:only-child th {\n",
       "        text-align: right;\n",
       "    }\n",
       "\n",
       "    .dataframe thead th {\n",
       "        text-align: left;\n",
       "    }\n",
       "\n",
       "    .dataframe tbody tr th {\n",
       "        vertical-align: top;\n",
       "    }\n",
       "</style>\n",
       "<table border=\"1\" class=\"dataframe\">\n",
       "  <thead>\n",
       "    <tr style=\"text-align: right;\">\n",
       "      <th></th>\n",
       "      <th>Line</th>\n",
       "      <th>Column</th>\n",
       "      <th>EndLine</th>\n",
       "      <th>EndColumn</th>\n",
       "    </tr>\n",
       "  </thead>\n",
       "  <tbody>\n",
       "    <tr>\n",
       "      <th>139868</th>\n",
       "      <td>26</td>\n",
       "      <td>1</td>\n",
       "      <td>33</td>\n",
       "      <td>2</td>\n",
       "    </tr>\n",
       "    <tr>\n",
       "      <th>178005</th>\n",
       "      <td>9</td>\n",
       "      <td>1</td>\n",
       "      <td>22</td>\n",
       "      <td>2</td>\n",
       "    </tr>\n",
       "    <tr>\n",
       "      <th>68027</th>\n",
       "      <td>81</td>\n",
       "      <td>5</td>\n",
       "      <td>87</td>\n",
       "      <td>6</td>\n",
       "    </tr>\n",
       "    <tr>\n",
       "      <th>151607</th>\n",
       "      <td>342</td>\n",
       "      <td>5</td>\n",
       "      <td>348</td>\n",
       "      <td>6</td>\n",
       "    </tr>\n",
       "    <tr>\n",
       "      <th>21138</th>\n",
       "      <td>92</td>\n",
       "      <td>5</td>\n",
       "      <td>116</td>\n",
       "      <td>6</td>\n",
       "    </tr>\n",
       "    <tr>\n",
       "      <th>30034</th>\n",
       "      <td>40</td>\n",
       "      <td>1</td>\n",
       "      <td>147</td>\n",
       "      <td>2</td>\n",
       "    </tr>\n",
       "    <tr>\n",
       "      <th>16739</th>\n",
       "      <td>377</td>\n",
       "      <td>9</td>\n",
       "      <td>386</td>\n",
       "      <td>10</td>\n",
       "    </tr>\n",
       "    <tr>\n",
       "      <th>16003</th>\n",
       "      <td>83</td>\n",
       "      <td>133</td>\n",
       "      <td>98</td>\n",
       "      <td>10</td>\n",
       "    </tr>\n",
       "    <tr>\n",
       "      <th>61518</th>\n",
       "      <td>34</td>\n",
       "      <td>1</td>\n",
       "      <td>208</td>\n",
       "      <td>2</td>\n",
       "    </tr>\n",
       "    <tr>\n",
       "      <th>86474</th>\n",
       "      <td>3517</td>\n",
       "      <td>5</td>\n",
       "      <td>3521</td>\n",
       "      <td>6</td>\n",
       "    </tr>\n",
       "  </tbody>\n",
       "</table>\n",
       "</div>"
      ],
      "text/plain": [
       "        Line  Column  EndLine  EndColumn\n",
       "139868    26       1       33          2\n",
       "178005     9       1       22          2\n",
       "68027     81       5       87          6\n",
       "151607   342       5      348          6\n",
       "21138     92       5      116          6\n",
       "30034     40       1      147          2\n",
       "16739    377       9      386         10\n",
       "16003     83     133       98         10\n",
       "61518     34       1      208          2\n",
       "86474   3517       5     3521          6"
      ]
     },
     "execution_count": 9,
     "metadata": {},
     "output_type": "execute_result"
    }
   ],
   "source": [
    "classes_df.sample(n=10)[[\"Line\", \"Column\", \"EndLine\", \"EndColumn\"]]"
   ]
  },
  {
   "cell_type": "code",
   "execution_count": 10,
   "metadata": {},
   "outputs": [
    {
     "data": {
      "image/png": "[encoded data removed]",
      "text/plain": [
       "<matplotlib.figure.Figure at 0x1b6dce03eb8>"
      ]
     },
     "metadata": {},
     "output_type": "display_data"
    }
   ],
   "source": [
    "# Histograma multiple\n",
    "g = sns.FacetGrid(pd.melt(classes_df[[\"Line\", \"Column\", \"EndLine\", \"EndColumn\"]]), col=\"variable\", sharey=False, sharex=False, col_wrap=2)\n",
    "g.map(sns.distplot, \"value\");"
   ]
  },
  {
   "cell_type": "code",
   "execution_count": 11,
   "metadata": {},
   "outputs": [
    {
     "data": {
      "image/png": "[encoded data removed]",
      "text/plain": [
       "<matplotlib.figure.Figure at 0x1b6dce036a0>"
      ]
     },
     "metadata": {},
     "output_type": "display_data"
    }
   ],
   "source": [
    "classes_df[\"column_diff\"] = classes_df[\"EndColumn\"] - classes_df[\"Column\"]\n",
    "sns.distplot(classes_df[\"column_diff\"]);\n",
    "classes_df = classes_df.drop(\"column_diff\", 1)"
   ]
  },
  {
   "cell_type": "markdown",
   "metadata": {},
   "source": [
    "Vemos como para estas variables, que indican la posición de la clase dentro de cada archivo (imagino, en la documentación no lo especifica), suelen ser valores pequeños (ya que los archivos no suelen tener muchas líneas de código). En cuanto a las columnas, vemos como casi siempre la diferencia suele ser 1. No parece que las características Line y EndLine vayan a dar mucha información ya que hay otras variables que expresan mejor estas características."
   ]
  },
  {
   "cell_type": "markdown",
   "metadata": {},
   "source": [
    "### 3) Métricas relacionadas con código clonado"
   ]
  },
  {
   "cell_type": "markdown",
   "metadata": {},
   "source": [
    "#### 3.1) CC"
   ]
  },
  {
   "cell_type": "markdown",
   "metadata": {},
   "source": [
    "Esta variable marca la cobertura de clonado (*Clone coverage*), que indica el ratio de código duplicado en cada clase."
   ]
  },
  {
   "cell_type": "code",
   "execution_count": 12,
   "metadata": {},
   "outputs": [
    {
     "data": {
      "image/png": "[encoded data removed]",
      "text/plain": [
       "<matplotlib.figure.Figure at 0x1b6dc47b9b0>"
      ]
     },
     "metadata": {},
     "output_type": "display_data"
    }
   ],
   "source": [
    "sns.distplot(classes_df[\"CC\"]);"
   ]
  },
  {
   "cell_type": "code",
   "execution_count": 13,
   "metadata": {},
   "outputs": [
    {
     "name": "stdout",
     "output_type": "stream",
     "text": [
      "Clases sin código clonado:  137230\n",
      "Clases con TODO el código clonado:  11493\n",
      "Clases con algo de código clonado:  33948\n"
     ]
    }
   ],
   "source": [
    "print(\"Clases sin código clonado: \", len(classes_df[(classes_df[\"CC\"] == 0)]))\n",
    "print(\"Clases con TODO el código clonado: \", len(classes_df[(classes_df[\"CC\"] == 1)]))\n",
    "print(\"Clases con algo de código clonado: \", len(classes_df[(classes_df[\"CC\"] > 0) & (classes_df[\"CC\"] < 1)]))"
   ]
  },
  {
   "cell_type": "markdown",
   "metadata": {},
   "source": [
    "Se puede ver que hay una gran cantidad de clases que no son clones de ninguna otra."
   ]
  },
  {
   "cell_type": "markdown",
   "metadata": {},
   "source": [
    "#### 3.2) CCL"
   ]
  },
  {
   "cell_type": "markdown",
   "metadata": {},
   "source": [
    "Esta variable representa el número de clases clones que tiene cada una de las clases (según la doc de SourceMeter \"number of clone classes having at least one clone instance in the source code element.\")"
   ]
  },
  {
   "cell_type": "code",
   "execution_count": 14,
   "metadata": {},
   "outputs": [
    {
     "data": {
      "text/plain": [
       "count    182671.000000\n",
       "mean          0.911995\n",
       "std           4.913028\n",
       "min           0.000000\n",
       "25%           0.000000\n",
       "50%           0.000000\n",
       "75%           0.000000\n",
       "max         479.000000\n",
       "Name: CCL, dtype: float64"
      ]
     },
     "execution_count": 14,
     "metadata": {},
     "output_type": "execute_result"
    }
   ],
   "source": [
    "classes_df[\"CCL\"].describe()"
   ]
  },
  {
   "cell_type": "code",
   "execution_count": 15,
   "metadata": {},
   "outputs": [
    {
     "name": "stdout",
     "output_type": "stream",
     "text": [
      "Valores mayores: [331, 332, 332, 332, 478, 478, 478, 479, 479, 479]\n"
     ]
    }
   ],
   "source": [
    "print(\"Valores mayores:\", list(np.sort(classes_df[\"CCL\"])[-10:]))"
   ]
  },
  {
   "cell_type": "markdown",
   "metadata": {},
   "source": [
    "Se puede ver por los percentiles que el 75% de los valores son 0, por lo que las clases no suelen tener copias."
   ]
  },
  {
   "cell_type": "markdown",
   "metadata": {},
   "source": [
    "#### 3.3) CCO"
   ]
  },
  {
   "cell_type": "markdown",
   "metadata": {},
   "source": [
    "Complejidad ciclomática del código duplicado."
   ]
  },
  {
   "cell_type": "code",
   "execution_count": 16,
   "metadata": {},
   "outputs": [
    {
     "data": {
      "text/plain": [
       "count    182671.000000\n",
       "mean          5.101204\n",
       "std          98.964455\n",
       "min           0.000000\n",
       "25%           0.000000\n",
       "50%           0.000000\n",
       "75%           0.000000\n",
       "max       19402.000000\n",
       "Name: CCO, dtype: float64"
      ]
     },
     "execution_count": 16,
     "metadata": {},
     "output_type": "execute_result"
    }
   ],
   "source": [
    "classes_df[\"CCO\"].describe()"
   ]
  },
  {
   "cell_type": "code",
   "execution_count": 17,
   "metadata": {},
   "outputs": [
    {
     "data": {
      "text/plain": [
       "count    45407.000000\n",
       "mean        20.521990\n",
       "std        197.699269\n",
       "min          1.000000\n",
       "25%          2.000000\n",
       "50%          5.000000\n",
       "75%         12.000000\n",
       "max      19402.000000\n",
       "Name: CCO, dtype: float64"
      ]
     },
     "execution_count": 17,
     "metadata": {},
     "output_type": "execute_result"
    }
   ],
   "source": [
    "classes_df[classes_df[\"CCO\"]>0][\"CCO\"].describe()"
   ]
  },
  {
   "cell_type": "code",
   "execution_count": 18,
   "metadata": {},
   "outputs": [
    {
     "name": "stdout",
     "output_type": "stream",
     "text": [
      "Valores mayores: [6319, 6319, 6319, 10040, 10040, 10040, 10041, 10041, 10041, 19402]\n"
     ]
    }
   ],
   "source": [
    "print(\"Valores mayores:\", list(np.sort(classes_df[\"CCO\"])[-10:]))"
   ]
  },
  {
   "cell_type": "markdown",
   "metadata": {},
   "source": [
    "Se puede ver por los percentiles que el 75% o más de los valores son 0, y entre los restantes la mayoría tienen un valor pequeño (entre 1 y 12), y luego hay algunos casos excepcionales hasta llegar a los 19402 del valor máximo."
   ]
  },
  {
   "cell_type": "markdown",
   "metadata": {},
   "source": [
    "#### 3.4) CI"
   ]
  },
  {
   "cell_type": "markdown",
   "metadata": {},
   "source": [
    "Número de instancias clone de la clase (según la doc de SourceMeter \"number of clone instances in the source code element\"). No sé en qué se diferencia de CCL pero los valores son distintos, aunque cuando uno es 0 el otro también."
   ]
  },
  {
   "cell_type": "code",
   "execution_count": 19,
   "metadata": {},
   "outputs": [
    {
     "data": {
      "text/plain": [
       "0"
      ]
     },
     "execution_count": 19,
     "metadata": {},
     "output_type": "execute_result"
    }
   ],
   "source": [
    "# Clases que tengan CI con valor 0 y CCL con otro valor y viceversa\n",
    "len(classes_df[((classes_df[\"CI\"] == 0) & (classes_df[\"CCL\"] != 0) | (classes_df[\"CI\"] != 0) & (classes_df[\"CCL\"] == 0))])"
   ]
  },
  {
   "cell_type": "code",
   "execution_count": 20,
   "metadata": {},
   "outputs": [
    {
     "data": {
      "text/plain": [
       "count    182671.000000\n",
       "mean          1.458644\n",
       "std          16.737440\n",
       "min           0.000000\n",
       "25%           0.000000\n",
       "50%           0.000000\n",
       "75%           0.000000\n",
       "max        2188.000000\n",
       "Name: CI, dtype: float64"
      ]
     },
     "execution_count": 20,
     "metadata": {},
     "output_type": "execute_result"
    }
   ],
   "source": [
    "classes_df[\"CI\"].describe()"
   ]
  },
  {
   "cell_type": "code",
   "execution_count": 21,
   "metadata": {},
   "outputs": [
    {
     "data": {
      "text/plain": [
       "count    45407.000000\n",
       "mean         5.868082\n",
       "std         33.183515\n",
       "min          1.000000\n",
       "25%          1.000000\n",
       "50%          2.000000\n",
       "75%          4.000000\n",
       "max       2188.000000\n",
       "Name: CI, dtype: float64"
      ]
     },
     "execution_count": 21,
     "metadata": {},
     "output_type": "execute_result"
    }
   ],
   "source": [
    "classes_df[classes_df[\"CI\"]>0][\"CI\"].describe()"
   ]
  },
  {
   "cell_type": "code",
   "execution_count": 22,
   "metadata": {},
   "outputs": [
    {
     "name": "stdout",
     "output_type": "stream",
     "text": [
      "Valores mayores: [1138, 1138, 1138, 1523, 2187, 2187, 2187, 2188, 2188, 2188]\n"
     ]
    }
   ],
   "source": [
    "print(\"Valores mayores:\", list(np.sort(classes_df[\"CI\"])[-10:]))"
   ]
  },
  {
   "cell_type": "markdown",
   "metadata": {},
   "source": [
    "Se puede ver por los percentiles que el 75% o más de los valores son 0, y entre los restantes la mayoría tienen un valor pequeño (entre 1 y 4), y luego hay algunos casos excepcionales hasta llegar a los 2188 del valor máximo."
   ]
  },
  {
   "cell_type": "markdown",
   "metadata": {},
   "source": [
    "#### 3.5) CLC"
   ]
  },
  {
   "cell_type": "markdown",
   "metadata": {},
   "source": [
    "Clone Line Coverage, igual que el CC pero expresado a niveld e líneas de código."
   ]
  },
  {
   "cell_type": "code",
   "execution_count": 23,
   "metadata": {},
   "outputs": [
    {
     "data": {
      "image/png": "[encoded data removed]",
      "text/plain": [
       "<matplotlib.figure.Figure at 0x1b6dc44aac8>"
      ]
     },
     "metadata": {},
     "output_type": "display_data"
    }
   ],
   "source": [
    "sns.distplot(classes_df[\"CLC\"]);"
   ]
  },
  {
   "cell_type": "code",
   "execution_count": 24,
   "metadata": {},
   "outputs": [
    {
     "name": "stdout",
     "output_type": "stream",
     "text": [
      "Clases sin código clonado:  137203\n",
      "Clases con TODO el código clonado:  11493\n",
      "Clases con algo de código clonado:  33975\n"
     ]
    }
   ],
   "source": [
    "print(\"Clases sin código clonado: \", len(classes_df[(classes_df[\"CLC\"] == 0)]))\n",
    "print(\"Clases con TODO el código clonado: \", len(classes_df[(classes_df[\"CLC\"] == 1)]))\n",
    "print(\"Clases con algo de código clonado: \", len(classes_df[(classes_df[\"CLC\"] > 0) & (classes_df[\"CLC\"] < 1)]))"
   ]
  },
  {
   "cell_type": "markdown",
   "metadata": {},
   "source": [
    "Tiene unos valores muy similares a CC."
   ]
  },
  {
   "cell_type": "code",
   "execution_count": 25,
   "metadata": {},
   "outputs": [
    {
     "data": {
      "text/plain": [
       "0.9887326535999934"
      ]
     },
     "execution_count": 25,
     "metadata": {},
     "output_type": "execute_result"
    }
   ],
   "source": [
    "classes_df[\"CC\"].corr(classes_df[\"CLC\"])"
   ]
  },
  {
   "cell_type": "markdown",
   "metadata": {},
   "source": [
    "Se puede apreciar una correlación muy fuerte entre ellas."
   ]
  },
  {
   "cell_type": "markdown",
   "metadata": {},
   "source": [
    "#### 3.6) CLLC"
   ]
  },
  {
   "cell_type": "markdown",
   "metadata": {},
   "source": [
    "Clone Logical Line Coverage, igual que CLC pero en términos de líneas lógicas."
   ]
  },
  {
   "cell_type": "code",
   "execution_count": 26,
   "metadata": {},
   "outputs": [
    {
     "data": {
      "image/png": "[encoded data removed]",
      "text/plain": [
       "<matplotlib.figure.Figure at 0x1b680949b00>"
      ]
     },
     "metadata": {},
     "output_type": "display_data"
    }
   ],
   "source": [
    "sns.distplot(classes_df[\"CLLC\"]);"
   ]
  },
  {
   "cell_type": "code",
   "execution_count": 27,
   "metadata": {},
   "outputs": [
    {
     "name": "stdout",
     "output_type": "stream",
     "text": [
      "Clases sin código clonado:  137203\n",
      "Clases con TODO el código clonado:  11493\n",
      "Clases con algo de código clonado:  33975\n"
     ]
    }
   ],
   "source": [
    "print(\"Clases sin código clonado: \", len(classes_df[(classes_df[\"CLLC\"] == 0)]))\n",
    "print(\"Clases con TODO el código clonado: \", len(classes_df[(classes_df[\"CLLC\"] == 1)]))\n",
    "print(\"Clases con algo de código clonado: \", len(classes_df[(classes_df[\"CLLC\"] > 0) & (classes_df[\"CLC\"] < 1)]))"
   ]
  },
  {
   "cell_type": "markdown",
   "metadata": {},
   "source": [
    "Tiene unos valores muy similares a CLC."
   ]
  },
  {
   "cell_type": "code",
   "execution_count": 28,
   "metadata": {},
   "outputs": [
    {
     "data": {
      "text/plain": [
       "0.9968355087686628"
      ]
     },
     "execution_count": 28,
     "metadata": {},
     "output_type": "execute_result"
    }
   ],
   "source": [
    "classes_df[\"CLC\"].corr(classes_df[\"CLLC\"])"
   ]
  },
  {
   "cell_type": "markdown",
   "metadata": {},
   "source": [
    "Se puede apreciar una correlación muy fuerte entre ellas."
   ]
  },
  {
   "cell_type": "markdown",
   "metadata": {},
   "source": [
    "#### 3.7) LDC"
   ]
  },
  {
   "cell_type": "markdown",
   "metadata": {},
   "source": [
    "Esta columna expresa las líneas de código duplicadas. En ella se puede ver como casi todos los valores son 0, como en el resto de casos, y que entre los valores que no son 0 hay algo más de diferencia en los valores, ya que ahora estamos viendo términos absolutos."
   ]
  },
  {
   "cell_type": "code",
   "execution_count": 29,
   "metadata": {},
   "outputs": [
    {
     "data": {
      "text/plain": [
       "count    182671.000000\n",
       "mean         11.946198\n",
       "std          99.178620\n",
       "min           0.000000\n",
       "25%           0.000000\n",
       "50%           0.000000\n",
       "75%           0.000000\n",
       "max       12504.000000\n",
       "Name: LDC, dtype: float64"
      ]
     },
     "execution_count": 29,
     "metadata": {},
     "output_type": "execute_result"
    }
   ],
   "source": [
    "classes_df[\"LDC\"].describe()"
   ]
  },
  {
   "cell_type": "code",
   "execution_count": 30,
   "metadata": {},
   "outputs": [
    {
     "data": {
      "text/plain": [
       "count    45468.000000\n",
       "mean        47.994722\n",
       "std        194.393734\n",
       "min          1.000000\n",
       "25%         11.000000\n",
       "50%         20.000000\n",
       "75%         40.000000\n",
       "max      12504.000000\n",
       "Name: LDC, dtype: float64"
      ]
     },
     "execution_count": 30,
     "metadata": {},
     "output_type": "execute_result"
    }
   ],
   "source": [
    "classes_df[classes_df[\"LDC\"]>0][\"LDC\"].describe()"
   ]
  },
  {
   "cell_type": "markdown",
   "metadata": {},
   "source": [
    "#### 3.8) LLDC"
   ]
  },
  {
   "cell_type": "markdown",
   "metadata": {},
   "source": [
    "Esta columna expresa las líneas lógicas de código duplicadas. En ella se puede ver como casi todos los valores son 0, como en el resto de casos, y que entre los valores que no son 0 hay algo más de diferencia en los valores, ya que ahora estamos viendo términos absolutos."
   ]
  },
  {
   "cell_type": "code",
   "execution_count": 31,
   "metadata": {},
   "outputs": [
    {
     "data": {
      "text/plain": [
       "count    182671.000000\n",
       "mean         10.573731\n",
       "std          84.477130\n",
       "min           0.000000\n",
       "25%           0.000000\n",
       "50%           0.000000\n",
       "75%           0.000000\n",
       "max       10627.000000\n",
       "Name: LLDC, dtype: float64"
      ]
     },
     "execution_count": 31,
     "metadata": {},
     "output_type": "execute_result"
    }
   ],
   "source": [
    "classes_df[\"LLDC\"].describe()"
   ]
  },
  {
   "cell_type": "code",
   "execution_count": 32,
   "metadata": {},
   "outputs": [
    {
     "data": {
      "text/plain": [
       "count    45468.000000\n",
       "mean        42.480734\n",
       "std        165.275404\n",
       "min          1.000000\n",
       "25%         10.000000\n",
       "50%         17.000000\n",
       "75%         36.000000\n",
       "max      10627.000000\n",
       "Name: LLDC, dtype: float64"
      ]
     },
     "execution_count": 32,
     "metadata": {},
     "output_type": "execute_result"
    }
   ],
   "source": [
    "classes_df[classes_df[\"LLDC\"]>0][\"LLDC\"].describe()"
   ]
  },
  {
   "cell_type": "code",
   "execution_count": 33,
   "metadata": {},
   "outputs": [
    {
     "data": {
      "text/plain": [
       "0.9982873536482735"
      ]
     },
     "execution_count": 33,
     "metadata": {},
     "output_type": "execute_result"
    }
   ],
   "source": [
    "classes_df[\"LLDC\"].corr(classes_df[\"LDC\"])"
   ]
  },
  {
   "cell_type": "markdown",
   "metadata": {},
   "source": [
    "#### Resumen características relacionadas con clones"
   ]
  },
  {
   "cell_type": "code",
   "execution_count": 34,
   "metadata": {},
   "outputs": [
    {
     "data": {
      "text/html": [
       "<div>\n",
       "<style>\n",
       "    .dataframe thead tr:only-child th {\n",
       "        text-align: right;\n",
       "    }\n",
       "\n",
       "    .dataframe thead th {\n",
       "        text-align: left;\n",
       "    }\n",
       "\n",
       "    .dataframe tbody tr th {\n",
       "        vertical-align: top;\n",
       "    }\n",
       "</style>\n",
       "<table border=\"1\" class=\"dataframe\">\n",
       "  <thead>\n",
       "    <tr style=\"text-align: right;\">\n",
       "      <th></th>\n",
       "      <th>CC</th>\n",
       "      <th>CCL</th>\n",
       "      <th>CCO</th>\n",
       "      <th>CI</th>\n",
       "      <th>CLC</th>\n",
       "      <th>CLLC</th>\n",
       "      <th>LDC</th>\n",
       "      <th>LLDC</th>\n",
       "    </tr>\n",
       "  </thead>\n",
       "  <tbody>\n",
       "    <tr>\n",
       "      <th>CC</th>\n",
       "      <td>1.000000</td>\n",
       "      <td>0.300056</td>\n",
       "      <td>0.066408</td>\n",
       "      <td>0.142756</td>\n",
       "      <td>0.988733</td>\n",
       "      <td>0.994107</td>\n",
       "      <td>0.173474</td>\n",
       "      <td>0.177751</td>\n",
       "    </tr>\n",
       "    <tr>\n",
       "      <th>CCL</th>\n",
       "      <td>0.300056</td>\n",
       "      <td>1.000000</td>\n",
       "      <td>0.757366</td>\n",
       "      <td>0.878553</td>\n",
       "      <td>0.287792</td>\n",
       "      <td>0.299171</td>\n",
       "      <td>0.831812</td>\n",
       "      <td>0.832695</td>\n",
       "    </tr>\n",
       "    <tr>\n",
       "      <th>CCO</th>\n",
       "      <td>0.066408</td>\n",
       "      <td>0.757366</td>\n",
       "      <td>1.000000</td>\n",
       "      <td>0.845005</td>\n",
       "      <td>0.062153</td>\n",
       "      <td>0.067584</td>\n",
       "      <td>0.709092</td>\n",
       "      <td>0.714487</td>\n",
       "    </tr>\n",
       "    <tr>\n",
       "      <th>CI</th>\n",
       "      <td>0.142756</td>\n",
       "      <td>0.878553</td>\n",
       "      <td>0.845005</td>\n",
       "      <td>1.000000</td>\n",
       "      <td>0.138115</td>\n",
       "      <td>0.143090</td>\n",
       "      <td>0.925978</td>\n",
       "      <td>0.924259</td>\n",
       "    </tr>\n",
       "    <tr>\n",
       "      <th>CLC</th>\n",
       "      <td>0.988733</td>\n",
       "      <td>0.287792</td>\n",
       "      <td>0.062153</td>\n",
       "      <td>0.138115</td>\n",
       "      <td>1.000000</td>\n",
       "      <td>0.996836</td>\n",
       "      <td>0.161427</td>\n",
       "      <td>0.164766</td>\n",
       "    </tr>\n",
       "    <tr>\n",
       "      <th>CLLC</th>\n",
       "      <td>0.994107</td>\n",
       "      <td>0.299171</td>\n",
       "      <td>0.067584</td>\n",
       "      <td>0.143090</td>\n",
       "      <td>0.996836</td>\n",
       "      <td>1.000000</td>\n",
       "      <td>0.170454</td>\n",
       "      <td>0.174839</td>\n",
       "    </tr>\n",
       "    <tr>\n",
       "      <th>LDC</th>\n",
       "      <td>0.173474</td>\n",
       "      <td>0.831812</td>\n",
       "      <td>0.709092</td>\n",
       "      <td>0.925978</td>\n",
       "      <td>0.161427</td>\n",
       "      <td>0.170454</td>\n",
       "      <td>1.000000</td>\n",
       "      <td>0.998287</td>\n",
       "    </tr>\n",
       "    <tr>\n",
       "      <th>LLDC</th>\n",
       "      <td>0.177751</td>\n",
       "      <td>0.832695</td>\n",
       "      <td>0.714487</td>\n",
       "      <td>0.924259</td>\n",
       "      <td>0.164766</td>\n",
       "      <td>0.174839</td>\n",
       "      <td>0.998287</td>\n",
       "      <td>1.000000</td>\n",
       "    </tr>\n",
       "  </tbody>\n",
       "</table>\n",
       "</div>"
      ],
      "text/plain": [
       "            CC       CCL       CCO        CI       CLC      CLLC       LDC  \\\n",
       "CC    1.000000  0.300056  0.066408  0.142756  0.988733  0.994107  0.173474   \n",
       "CCL   0.300056  1.000000  0.757366  0.878553  0.287792  0.299171  0.831812   \n",
       "CCO   0.066408  0.757366  1.000000  0.845005  0.062153  0.067584  0.709092   \n",
       "CI    0.142756  0.878553  0.845005  1.000000  0.138115  0.143090  0.925978   \n",
       "CLC   0.988733  0.287792  0.062153  0.138115  1.000000  0.996836  0.161427   \n",
       "CLLC  0.994107  0.299171  0.067584  0.143090  0.996836  1.000000  0.170454   \n",
       "LDC   0.173474  0.831812  0.709092  0.925978  0.161427  0.170454  1.000000   \n",
       "LLDC  0.177751  0.832695  0.714487  0.924259  0.164766  0.174839  0.998287   \n",
       "\n",
       "          LLDC  \n",
       "CC    0.177751  \n",
       "CCL   0.832695  \n",
       "CCO   0.714487  \n",
       "CI    0.924259  \n",
       "CLC   0.164766  \n",
       "CLLC  0.174839  \n",
       "LDC   0.998287  \n",
       "LLDC  1.000000  "
      ]
     },
     "execution_count": 34,
     "metadata": {},
     "output_type": "execute_result"
    }
   ],
   "source": [
    "classes_df[[\"CC\",\"CCL\", \"CCO\", \"CI\", \"CLC\", \"CLLC\", \"LDC\", \"LLDC\"]].corr()"
   ]
  },
  {
   "cell_type": "markdown",
   "metadata": {},
   "source": [
    "Se puede ver que CC tiene una alta correlación con CLC y CLLC, y que LDC y LLDC también tienen un valor muy alto, por lo que sería conveniente eliminar algunas de estas columnas para eliminar ruido. También hay una correlación alta entre CCL, CCO y CI, aunque no es tan fuerte como los otros casos."
   ]
  },
  {
   "cell_type": "code",
   "execution_count": 35,
   "metadata": {
    "collapsed": true
   },
   "outputs": [],
   "source": [
    "classes_df = classes_df.drop([\"CLC\", \"CLLC\", \"LLDC\"], 1)"
   ]
  },
  {
   "cell_type": "markdown",
   "metadata": {},
   "source": [
    "### 4) Métricas de cohesión"
   ]
  },
  {
   "cell_type": "markdown",
   "metadata": {},
   "source": [
    "#### 4.1) LCOM5"
   ]
  },
  {
   "cell_type": "markdown",
   "metadata": {},
   "source": [
    "*Lack of cohesion in Methods 5*, indica el número de funcionalidades de la clase. Medida calculada a partir de un grafo no dirigido."
   ]
  },
  {
   "cell_type": "code",
   "execution_count": 36,
   "metadata": {},
   "outputs": [
    {
     "data": {
      "text/plain": [
       "count    182671.000000\n",
       "mean          1.613825\n",
       "std           2.704235\n",
       "min           0.000000\n",
       "25%           1.000000\n",
       "50%           1.000000\n",
       "75%           2.000000\n",
       "max         138.000000\n",
       "Name: LCOM5, dtype: float64"
      ]
     },
     "execution_count": 36,
     "metadata": {},
     "output_type": "execute_result"
    }
   ],
   "source": [
    "classes_df[\"LCOM5\"].describe()"
   ]
  },
  {
   "cell_type": "code",
   "execution_count": 37,
   "metadata": {},
   "outputs": [
    {
     "data": {
      "image/png": "[encoded data removed]",
      "text/plain": [
       "<matplotlib.figure.Figure at 0x1b680b9ab70>"
      ]
     },
     "metadata": {},
     "output_type": "display_data"
    }
   ],
   "source": [
    "sns.countplot(data = classes_df[classes_df[\"LCOM5\"] < 10], x = \"LCOM5\");"
   ]
  },
  {
   "cell_type": "markdown",
   "metadata": {},
   "source": [
    "Se puede ver como la mayoría de valores tienen el valor 1. Después una cantidad notable tienen el valor 0 y 2, y después el número va descendiendo paulatinamente a medida que crece el valor. Hay algunos valores más altos de lo habitual, llegando hasta los 138 del valor máximo."
   ]
  },
  {
   "cell_type": "markdown",
   "metadata": {},
   "source": [
    "### 5) Métricas de complejidad"
   ]
  },
  {
   "cell_type": "markdown",
   "metadata": {},
   "source": [
    "#### 5.1) NL"
   ]
  },
  {
   "cell_type": "markdown",
   "metadata": {},
   "source": [
    "*Nesting Level*, indica el grado de anidamiento máximo de cada clase."
   ]
  },
  {
   "cell_type": "code",
   "execution_count": 38,
   "metadata": {},
   "outputs": [
    {
     "data": {
      "text/plain": [
       "count    182671.000000\n",
       "mean          1.160622\n",
       "std           2.005519\n",
       "min           0.000000\n",
       "25%           0.000000\n",
       "50%           1.000000\n",
       "75%           2.000000\n",
       "max          80.000000\n",
       "Name: NL, dtype: float64"
      ]
     },
     "execution_count": 38,
     "metadata": {},
     "output_type": "execute_result"
    }
   ],
   "source": [
    "classes_df[\"NL\"].describe()"
   ]
  },
  {
   "cell_type": "code",
   "execution_count": 39,
   "metadata": {},
   "outputs": [
    {
     "data": {
      "image/png": "[encoded data removed]",
      "text/plain": [
       "<matplotlib.figure.Figure at 0x1b681232e48>"
      ]
     },
     "metadata": {},
     "output_type": "display_data"
    }
   ],
   "source": [
    "sns.countplot(data = classes_df[classes_df[\"NL\"] < 10], x = \"NL\");"
   ]
  },
  {
   "cell_type": "markdown",
   "metadata": {},
   "source": [
    "En este caso la gran mayoría son 0 o valores muy bajos, aunque en algunos casos llega incluso a 80."
   ]
  },
  {
   "cell_type": "markdown",
   "metadata": {},
   "source": [
    "#### 5.2) NLE"
   ]
  },
  {
   "cell_type": "markdown",
   "metadata": {},
   "source": [
    "*Nesting Level Else-if*, igual que NL pero los bloques if-else-if cuenta la primera instrucción."
   ]
  },
  {
   "cell_type": "code",
   "execution_count": 40,
   "metadata": {},
   "outputs": [
    {
     "data": {
      "text/plain": [
       "count    182671.000000\n",
       "mean          1.012733\n",
       "std           1.368315\n",
       "min           0.000000\n",
       "25%           0.000000\n",
       "50%           1.000000\n",
       "75%           2.000000\n",
       "max          23.000000\n",
       "Name: NLE, dtype: float64"
      ]
     },
     "execution_count": 40,
     "metadata": {},
     "output_type": "execute_result"
    }
   ],
   "source": [
    "classes_df[\"NLE\"].describe()"
   ]
  },
  {
   "cell_type": "code",
   "execution_count": 41,
   "metadata": {},
   "outputs": [
    {
     "data": {
      "image/png": "[encoded data removed]",
      "text/plain": [
       "<matplotlib.figure.Figure at 0x1b6812866a0>"
      ]
     },
     "metadata": {},
     "output_type": "display_data"
    }
   ],
   "source": [
    "sns.countplot(data = classes_df[classes_df[\"NLE\"] < 10], x = \"NLE\");"
   ]
  },
  {
   "cell_type": "code",
   "execution_count": 42,
   "metadata": {},
   "outputs": [
    {
     "data": {
      "text/plain": [
       "0.8158867512155551"
      ]
     },
     "execution_count": 42,
     "metadata": {},
     "output_type": "execute_result"
    }
   ],
   "source": [
    "classes_df[\"NL\"].corr(classes_df[\"NLE\"])"
   ]
  },
  {
   "cell_type": "markdown",
   "metadata": {},
   "source": [
    "En este caso la gran mayoría son 0 o valores muy bajos, aunque en algunos casos llega incluso a 23. Está correlacionada con la anterior."
   ]
  },
  {
   "cell_type": "markdown",
   "metadata": {},
   "source": [
    "#### 5.3) WMC"
   ]
  },
  {
   "cell_type": "markdown",
   "metadata": {},
   "source": [
    "*Weigthed Methods per Class*, número de caminos independientes de una clase. Se calcula como la suma de la complejidad ciclomática de los métodos locales y bloques de init."
   ]
  },
  {
   "cell_type": "code",
   "execution_count": 43,
   "metadata": {},
   "outputs": [
    {
     "data": {
      "text/plain": [
       "count    182671.000000\n",
       "mean         11.413684\n",
       "std          28.459880\n",
       "min           0.000000\n",
       "25%           2.000000\n",
       "50%           4.000000\n",
       "75%          11.000000\n",
       "max        4474.000000\n",
       "Name: WMC, dtype: float64"
      ]
     },
     "execution_count": 43,
     "metadata": {},
     "output_type": "execute_result"
    }
   ],
   "source": [
    "classes_df[\"WMC\"].describe()"
   ]
  },
  {
   "cell_type": "code",
   "execution_count": 44,
   "metadata": {},
   "outputs": [
    {
     "data": {
      "image/png": "[encoded data removed]",
      "text/plain": [
       "<matplotlib.figure.Figure at 0x1b6812d4f28>"
      ]
     },
     "metadata": {},
     "output_type": "display_data"
    }
   ],
   "source": [
    "sns.countplot(data = classes_df[classes_df[\"WMC\"] < 20], x = \"WMC\");"
   ]
  },
  {
   "cell_type": "markdown",
   "metadata": {},
   "source": [
    "Se puede ver como el número de casos va descendiendo a medida que aumenta el valor de esta variable, con la excepción del 0 que tiene un valor bastante menor que el 1. En algunos casos puede llegar a grandes números, como el 4474 del máximo."
   ]
  },
  {
   "cell_type": "markdown",
   "metadata": {},
   "source": [
    "### 6) Métricas de acoplamiento"
   ]
  },
  {
   "cell_type": "markdown",
   "metadata": {},
   "source": [
    "#### 6.1) CBO"
   ]
  },
  {
   "cell_type": "markdown",
   "metadata": {},
   "source": [
    "*Coupling between Object classes*, número de usos de otras clases. Clases con este valor muy alto serán muy dependientes de otros módulos, y por tanto más difíciles de testear y utilizar, además de muy sensibles a cambios."
   ]
  },
  {
   "cell_type": "code",
   "execution_count": 45,
   "metadata": {},
   "outputs": [
    {
     "data": {
      "text/plain": [
       "count    182671.000000\n",
       "mean          5.983353\n",
       "std           7.889404\n",
       "min           0.000000\n",
       "25%           2.000000\n",
       "50%           4.000000\n",
       "75%           7.000000\n",
       "max         187.000000\n",
       "Name: CBO, dtype: float64"
      ]
     },
     "execution_count": 45,
     "metadata": {},
     "output_type": "execute_result"
    }
   ],
   "source": [
    "classes_df[\"CBO\"].describe()"
   ]
  },
  {
   "cell_type": "code",
   "execution_count": 46,
   "metadata": {},
   "outputs": [
    {
     "data": {
      "image/png": "[encoded data removed]",
      "text/plain": [
       "<matplotlib.figure.Figure at 0x1b6d9d19278>"
      ]
     },
     "metadata": {},
     "output_type": "display_data"
    }
   ],
   "source": [
    "sns.countplot(data = classes_df[classes_df[\"CBO\"] < 20], x = \"CBO\");"
   ]
  },
  {
   "cell_type": "markdown",
   "metadata": {},
   "source": [
    "El número de casos es menor a medida que incrementamos el valor."
   ]
  },
  {
   "cell_type": "markdown",
   "metadata": {},
   "source": [
    "#### 6.2) CBOI"
   ]
  },
  {
   "cell_type": "markdown",
   "metadata": {},
   "source": [
    "*Coupling between Object classes Inverse*, número clases que utilizan esta clase. Clases con este valor muy alto tienen un gran impacto en el sistema, por lo que hay que tratarlas cuidadosamente."
   ]
  },
  {
   "cell_type": "code",
   "execution_count": 47,
   "metadata": {},
   "outputs": [
    {
     "data": {
      "text/plain": [
       "count    182671.000000\n",
       "mean          3.983199\n",
       "std          17.151177\n",
       "min           0.000000\n",
       "25%           0.000000\n",
       "50%           1.000000\n",
       "75%           2.000000\n",
       "max        1453.000000\n",
       "Name: CBOI, dtype: float64"
      ]
     },
     "execution_count": 47,
     "metadata": {},
     "output_type": "execute_result"
    }
   ],
   "source": [
    "classes_df[\"CBOI\"].describe()"
   ]
  },
  {
   "cell_type": "code",
   "execution_count": 48,
   "metadata": {},
   "outputs": [
    {
     "data": {
      "image/png": "[encoded data removed]",
      "text/plain": [
       "<matplotlib.figure.Figure at 0x1b68130aeb8>"
      ]
     },
     "metadata": {},
     "output_type": "display_data"
    }
   ],
   "source": [
    "sns.countplot(data = classes_df[classes_df[\"CBOI\"] < 20], x = \"CBOI\");"
   ]
  },
  {
   "cell_type": "markdown",
   "metadata": {},
   "source": [
    "El número de casos es menor a medida que incrementamos el valor. Al contrario que con la variable CBO, hay más casos con valor 0, lo que quiere decir que hay clases que no son utilizadas por ninguna otra."
   ]
  },
  {
   "cell_type": "markdown",
   "metadata": {},
   "source": [
    "#### 6.3) NII"
   ]
  },
  {
   "cell_type": "markdown",
   "metadata": {},
   "source": [
    "*Number of Incoming Invocations*, número de métodos e inicialización de atributos que llaman a métodos locales de la clase."
   ]
  },
  {
   "cell_type": "code",
   "execution_count": 49,
   "metadata": {},
   "outputs": [
    {
     "data": {
      "text/plain": [
       "count    182671.000000\n",
       "mean          5.289652\n",
       "std          34.461061\n",
       "min           0.000000\n",
       "25%           0.000000\n",
       "50%           0.000000\n",
       "75%           2.000000\n",
       "max        2735.000000\n",
       "Name: NII, dtype: float64"
      ]
     },
     "execution_count": 49,
     "metadata": {},
     "output_type": "execute_result"
    }
   ],
   "source": [
    "classes_df[\"NII\"].describe()"
   ]
  },
  {
   "cell_type": "code",
   "execution_count": 50,
   "metadata": {},
   "outputs": [
    {
     "data": {
      "image/png": "[encoded data removed]",
      "text/plain": [
       "<matplotlib.figure.Figure at 0x1b681264f98>"
      ]
     },
     "metadata": {},
     "output_type": "display_data"
    }
   ],
   "source": [
    "sns.countplot(data = classes_df[classes_df[\"NII\"] < 20], x = \"NII\");"
   ]
  },
  {
   "cell_type": "markdown",
   "metadata": {},
   "source": [
    "Como en las otras métricas de acoplamiento, predominan valores bajos."
   ]
  },
  {
   "cell_type": "markdown",
   "metadata": {},
   "source": [
    "#### 6.4) NOI"
   ]
  },
  {
   "cell_type": "markdown",
   "metadata": {},
   "source": [
    "*Number of Outgoing Invocations*, número de métodos e inicialización de atributos llamados de otras clases."
   ]
  },
  {
   "cell_type": "code",
   "execution_count": 51,
   "metadata": {},
   "outputs": [
    {
     "data": {
      "text/plain": [
       "count    182671.000000\n",
       "mean          6.786310\n",
       "std          13.531436\n",
       "min           0.000000\n",
       "25%           0.000000\n",
       "50%           2.000000\n",
       "75%           7.000000\n",
       "max         381.000000\n",
       "Name: NOI, dtype: float64"
      ]
     },
     "execution_count": 51,
     "metadata": {},
     "output_type": "execute_result"
    }
   ],
   "source": [
    "classes_df[\"NOI\"].describe()"
   ]
  },
  {
   "cell_type": "code",
   "execution_count": 52,
   "metadata": {},
   "outputs": [
    {
     "data": {
      "image/png": "[encoded data removed]",
      "text/plain": [
       "<matplotlib.figure.Figure at 0x1b6dd19b780>"
      ]
     },
     "metadata": {},
     "output_type": "display_data"
    }
   ],
   "source": [
    "sns.countplot(data = classes_df[classes_df[\"NOI\"] < 20], x = \"NOI\");"
   ]
  },
  {
   "cell_type": "markdown",
   "metadata": {},
   "source": [
    "Como en las otras métricas de acoplamiento, predominan valores bajos."
   ]
  },
  {
   "cell_type": "markdown",
   "metadata": {},
   "source": [
    "#### 6.5) RFC"
   ]
  },
  {
   "cell_type": "markdown",
   "metadata": {},
   "source": [
    "*Response set For Class*, variable que construyen como NLM (*Number of Local Methods*) + NOI (*Number of Outgoing Methods*)"
   ]
  },
  {
   "cell_type": "code",
   "execution_count": 53,
   "metadata": {},
   "outputs": [
    {
     "data": {
      "text/plain": [
       "count    182671.000000\n",
       "mean         12.559191\n",
       "std          20.169143\n",
       "min           0.000000\n",
       "25%           2.000000\n",
       "50%           6.000000\n",
       "75%          14.000000\n",
       "max         847.000000\n",
       "Name: RFC, dtype: float64"
      ]
     },
     "execution_count": 53,
     "metadata": {},
     "output_type": "execute_result"
    }
   ],
   "source": [
    "classes_df[\"RFC\"].describe()"
   ]
  },
  {
   "cell_type": "code",
   "execution_count": 54,
   "metadata": {},
   "outputs": [
    {
     "data": {
      "image/png": "[encoded data removed]",
      "text/plain": [
       "<matplotlib.figure.Figure at 0x1b6dc53e470>"
      ]
     },
     "metadata": {},
     "output_type": "display_data"
    }
   ],
   "source": [
    "sns.countplot(data = classes_df[classes_df[\"RFC\"] < 20], x = \"RFC\");"
   ]
  },
  {
   "cell_type": "markdown",
   "metadata": {},
   "source": [
    "En este caso vemos como el valor predominante es el 2, descenciendo el valor a medida que nos alejamos de él."
   ]
  },
  {
   "cell_type": "markdown",
   "metadata": {},
   "source": [
    "#### Comparación de correlación métricas de acoplamiento"
   ]
  },
  {
   "cell_type": "code",
   "execution_count": 55,
   "metadata": {},
   "outputs": [
    {
     "data": {
      "text/html": [
       "<div>\n",
       "<style>\n",
       "    .dataframe thead tr:only-child th {\n",
       "        text-align: right;\n",
       "    }\n",
       "\n",
       "    .dataframe thead th {\n",
       "        text-align: left;\n",
       "    }\n",
       "\n",
       "    .dataframe tbody tr th {\n",
       "        vertical-align: top;\n",
       "    }\n",
       "</style>\n",
       "<table border=\"1\" class=\"dataframe\">\n",
       "  <thead>\n",
       "    <tr style=\"text-align: right;\">\n",
       "      <th></th>\n",
       "      <th>CBO</th>\n",
       "      <th>CBOI</th>\n",
       "      <th>NII</th>\n",
       "      <th>NOI</th>\n",
       "      <th>RFC</th>\n",
       "    </tr>\n",
       "  </thead>\n",
       "  <tbody>\n",
       "    <tr>\n",
       "      <th>CBO</th>\n",
       "      <td>1.000000</td>\n",
       "      <td>0.133385</td>\n",
       "      <td>0.153157</td>\n",
       "      <td>0.830632</td>\n",
       "      <td>0.759148</td>\n",
       "    </tr>\n",
       "    <tr>\n",
       "      <th>CBOI</th>\n",
       "      <td>0.133385</td>\n",
       "      <td>1.000000</td>\n",
       "      <td>0.774136</td>\n",
       "      <td>0.133740</td>\n",
       "      <td>0.231623</td>\n",
       "    </tr>\n",
       "    <tr>\n",
       "      <th>NII</th>\n",
       "      <td>0.153157</td>\n",
       "      <td>0.774136</td>\n",
       "      <td>1.000000</td>\n",
       "      <td>0.165981</td>\n",
       "      <td>0.266118</td>\n",
       "    </tr>\n",
       "    <tr>\n",
       "      <th>NOI</th>\n",
       "      <td>0.830632</td>\n",
       "      <td>0.133740</td>\n",
       "      <td>0.165981</td>\n",
       "      <td>1.000000</td>\n",
       "      <td>0.910171</td>\n",
       "    </tr>\n",
       "    <tr>\n",
       "      <th>RFC</th>\n",
       "      <td>0.759148</td>\n",
       "      <td>0.231623</td>\n",
       "      <td>0.266118</td>\n",
       "      <td>0.910171</td>\n",
       "      <td>1.000000</td>\n",
       "    </tr>\n",
       "  </tbody>\n",
       "</table>\n",
       "</div>"
      ],
      "text/plain": [
       "           CBO      CBOI       NII       NOI       RFC\n",
       "CBO   1.000000  0.133385  0.153157  0.830632  0.759148\n",
       "CBOI  0.133385  1.000000  0.774136  0.133740  0.231623\n",
       "NII   0.153157  0.774136  1.000000  0.165981  0.266118\n",
       "NOI   0.830632  0.133740  0.165981  1.000000  0.910171\n",
       "RFC   0.759148  0.231623  0.266118  0.910171  1.000000"
      ]
     },
     "execution_count": 55,
     "metadata": {},
     "output_type": "execute_result"
    }
   ],
   "source": [
    "classes_df[[\"CBO\",\"CBOI\", \"NII\", \"NOI\", \"RFC\"]].corr()"
   ]
  },
  {
   "cell_type": "markdown",
   "metadata": {},
   "source": [
    "Vemos como la correlación más fuerte se encuentra entre NOI y RFC, lo cual tiene sentido si tenemos en cuenta que RFC se construye a partir de NOI y de otro atributo."
   ]
  },
  {
   "cell_type": "markdown",
   "metadata": {},
   "source": [
    "### 7) Métricas de documentación"
   ]
  },
  {
   "cell_type": "markdown",
   "metadata": {},
   "source": [
    "#### 7.1) AD"
   ]
  },
  {
   "cell_type": "markdown",
   "metadata": {},
   "source": [
    "*API Documentation*, ratio de métodos públicos documentados en la clase,"
   ]
  },
  {
   "cell_type": "code",
   "execution_count": 56,
   "metadata": {},
   "outputs": [
    {
     "data": {
      "image/png": "[encoded data removed]",
      "text/plain": [
       "<matplotlib.figure.Figure at 0x1b680b3a780>"
      ]
     },
     "metadata": {},
     "output_type": "display_data"
    }
   ],
   "source": [
    "classes_df[\"AD_round\"] = classes_df[\"AD\"].apply(lambda x: round(x,1))\n",
    "sns.countplot(data = classes_df, x = \"AD_round\");\n",
    "classes_df = classes_df.drop(\"AD_round\", 1)"
   ]
  },
  {
   "cell_type": "markdown",
   "metadata": {},
   "source": [
    "Se puede ver como la mayoría e clases no están comentadas."
   ]
  },
  {
   "cell_type": "markdown",
   "metadata": {},
   "source": [
    "#### 7.2) CD"
   ]
  },
  {
   "cell_type": "markdown",
   "metadata": {},
   "source": [
    "*Comment Density*, ratio de líneas comentadas de código (CLOC) con respecto a la suma de CLOC y de las líneas lógicas de código (LLOC)."
   ]
  },
  {
   "cell_type": "code",
   "execution_count": 57,
   "metadata": {},
   "outputs": [
    {
     "data": {
      "image/png": "[encoded data removed]",
      "text/plain": [
       "<matplotlib.figure.Figure at 0x1b6db945e10>"
      ]
     },
     "metadata": {},
     "output_type": "display_data"
    }
   ],
   "source": [
    "sns.distplot(classes_df[\"CD\"]);"
   ]
  },
  {
   "cell_type": "code",
   "execution_count": 58,
   "metadata": {},
   "outputs": [
    {
     "data": {
      "text/plain": [
       "0.8166688093353043"
      ]
     },
     "execution_count": 58,
     "metadata": {},
     "output_type": "execute_result"
    }
   ],
   "source": [
    "classes_df[\"AD\"].corr(classes_df[\"CD\"])"
   ]
  },
  {
   "cell_type": "markdown",
   "metadata": {},
   "source": [
    "#### 7.3) CLOC"
   ]
  },
  {
   "cell_type": "markdown",
   "metadata": {},
   "source": [
    "*Comment Lines of Code*, número de líneas de código comentadas."
   ]
  },
  {
   "cell_type": "code",
   "execution_count": 59,
   "metadata": {},
   "outputs": [
    {
     "data": {
      "text/plain": [
       "count    182671.000000\n",
       "mean          8.465306\n",
       "std          35.207994\n",
       "min           0.000000\n",
       "25%           0.000000\n",
       "50%           1.000000\n",
       "75%           5.000000\n",
       "max        1573.000000\n",
       "Name: CLOC, dtype: float64"
      ]
     },
     "execution_count": 59,
     "metadata": {},
     "output_type": "execute_result"
    }
   ],
   "source": [
    "classes_df[\"CLOC\"].describe()"
   ]
  },
  {
   "cell_type": "code",
   "execution_count": 60,
   "metadata": {},
   "outputs": [
    {
     "data": {
      "image/png": "[encoded data removed]",
      "text/plain": [
       "<matplotlib.figure.Figure at 0x1b6db989ba8>"
      ]
     },
     "metadata": {},
     "output_type": "display_data"
    }
   ],
   "source": [
    "sns.countplot(data = classes_df[classes_df[\"CLOC\"] < 20], x = \"CLOC\");"
   ]
  },
  {
   "cell_type": "markdown",
   "metadata": {},
   "source": [
    "Destaca que al margen de las clases sin comentar, haya más clases con 3 líneas comentadas que 1 ó 2."
   ]
  },
  {
   "cell_type": "markdown",
   "metadata": {},
   "source": [
    "#### 7.4) DLOC"
   ]
  },
  {
   "cell_type": "markdown",
   "metadata": {},
   "source": [
    "*Documentation Lines of Code*, número de líneas de documentación."
   ]
  },
  {
   "cell_type": "code",
   "execution_count": 61,
   "metadata": {},
   "outputs": [
    {
     "data": {
      "text/plain": [
       "count    182671.000000\n",
       "mean          6.669915\n",
       "std          30.981154\n",
       "min           0.000000\n",
       "25%           0.000000\n",
       "50%           0.000000\n",
       "75%           3.000000\n",
       "max        1573.000000\n",
       "Name: DLOC, dtype: float64"
      ]
     },
     "execution_count": 61,
     "metadata": {},
     "output_type": "execute_result"
    }
   ],
   "source": [
    "classes_df[\"DLOC\"].describe()"
   ]
  },
  {
   "cell_type": "code",
   "execution_count": 62,
   "metadata": {},
   "outputs": [
    {
     "data": {
      "image/png": "[encoded data removed]",
      "text/plain": [
       "<matplotlib.figure.Figure at 0x1b681225a58>"
      ]
     },
     "metadata": {},
     "output_type": "display_data"
    }
   ],
   "source": [
    "sns.countplot(data = classes_df[classes_df[\"DLOC\"] < 20], x = \"DLOC\");"
   ]
  },
  {
   "cell_type": "code",
   "execution_count": 63,
   "metadata": {},
   "outputs": [
    {
     "data": {
      "text/plain": [
       "0.9536340893926952"
      ]
     },
     "execution_count": 63,
     "metadata": {},
     "output_type": "execute_result"
    }
   ],
   "source": [
    "classes_df[\"CLOC\"].corr(classes_df[\"DLOC\"])"
   ]
  },
  {
   "cell_type": "markdown",
   "metadata": {},
   "source": [
    "Este atributo y el anterior están fuertemente correlacionados."
   ]
  },
  {
   "cell_type": "markdown",
   "metadata": {},
   "source": [
    "#### 7.5) PDA"
   ]
  },
  {
   "cell_type": "markdown",
   "metadata": {},
   "source": [
    "*Public Documented API*, número de métodos públicos comentados en la clase."
   ]
  },
  {
   "cell_type": "code",
   "execution_count": 64,
   "metadata": {},
   "outputs": [
    {
     "data": {
      "text/plain": [
       "count    182671.000000\n",
       "mean          1.048793\n",
       "std           3.811576\n",
       "min           0.000000\n",
       "25%           0.000000\n",
       "50%           0.000000\n",
       "75%           1.000000\n",
       "max         193.000000\n",
       "Name: PDA, dtype: float64"
      ]
     },
     "execution_count": 64,
     "metadata": {},
     "output_type": "execute_result"
    }
   ],
   "source": [
    "classes_df[\"PDA\"].describe()"
   ]
  },
  {
   "cell_type": "code",
   "execution_count": 65,
   "metadata": {},
   "outputs": [
    {
     "data": {
      "image/png": "[encoded data removed]",
      "text/plain": [
       "<matplotlib.figure.Figure at 0x1b6812d3978>"
      ]
     },
     "metadata": {},
     "output_type": "display_data"
    }
   ],
   "source": [
    "sns.countplot(data = classes_df[classes_df[\"PDA\"] < 20], x = \"PDA\");"
   ]
  },
  {
   "cell_type": "markdown",
   "metadata": {},
   "source": [
    "En general las clases suelen tener uno o ningún comentario."
   ]
  },
  {
   "cell_type": "markdown",
   "metadata": {},
   "source": [
    "#### 7.6) PUA"
   ]
  },
  {
   "cell_type": "markdown",
   "metadata": {},
   "source": [
    "*Public Undocumented API*, número de métodos públicos no comentados en la clase."
   ]
  },
  {
   "cell_type": "code",
   "execution_count": 66,
   "metadata": {},
   "outputs": [
    {
     "data": {
      "text/plain": [
       "count    182671.000000\n",
       "mean          4.659492\n",
       "std           7.326164\n",
       "min           0.000000\n",
       "25%           2.000000\n",
       "50%           3.000000\n",
       "75%           5.000000\n",
       "max         203.000000\n",
       "Name: PUA, dtype: float64"
      ]
     },
     "execution_count": 66,
     "metadata": {},
     "output_type": "execute_result"
    }
   ],
   "source": [
    "classes_df[\"PUA\"].describe()"
   ]
  },
  {
   "cell_type": "code",
   "execution_count": 67,
   "metadata": {},
   "outputs": [
    {
     "data": {
      "image/png": "[encoded data removed]",
      "text/plain": [
       "<matplotlib.figure.Figure at 0x1b68120bfd0>"
      ]
     },
     "metadata": {},
     "output_type": "display_data"
    }
   ],
   "source": [
    "sns.countplot(data = classes_df[classes_df[\"PUA\"] < 20], x = \"PUA\");"
   ]
  },
  {
   "cell_type": "markdown",
   "metadata": {},
   "source": [
    "Sigue una distribución normal con media 2. Ya que antes hemos visto que la mayoría de clases no tenían métodos comentados, este valor se puede deber a que las clases tengan solo un getter y un setter, y ninguno esté comentado."
   ]
  },
  {
   "cell_type": "markdown",
   "metadata": {},
   "source": [
    "#### 7.7) TCD"
   ]
  },
  {
   "cell_type": "markdown",
   "metadata": {},
   "source": [
    "*Total comment Density*, ratio de líneas comentadas en la clase con respecto a la suma de ese valor y el número total de líneas lógicas de código."
   ]
  },
  {
   "cell_type": "code",
   "execution_count": 68,
   "metadata": {},
   "outputs": [
    {
     "data": {
      "image/png": "[encoded data removed]",
      "text/plain": [
       "<matplotlib.figure.Figure at 0x1b6808e6278>"
      ]
     },
     "metadata": {},
     "output_type": "display_data"
    }
   ],
   "source": [
    "classes_df[\"TCD_round\"] = classes_df[\"TCD\"].apply(lambda x: round(x,1))\n",
    "sns.countplot(data = classes_df, x = \"TCD_round\");\n",
    "classes_df = classes_df.drop(\"TCD_round\", 1)"
   ]
  },
  {
   "cell_type": "markdown",
   "metadata": {},
   "source": [
    "#### 7.8) TCLOC"
   ]
  },
  {
   "cell_type": "markdown",
   "metadata": {},
   "source": [
    "*Total Comment Lines of Code*, líneas de código en la clase."
   ]
  },
  {
   "cell_type": "code",
   "execution_count": 69,
   "metadata": {},
   "outputs": [
    {
     "data": {
      "text/plain": [
       "count    182671.000000\n",
       "mean          9.084162\n",
       "std          38.851837\n",
       "min           0.000000\n",
       "25%           0.000000\n",
       "50%           1.000000\n",
       "75%           5.000000\n",
       "max        1831.000000\n",
       "Name: TCLOC, dtype: float64"
      ]
     },
     "execution_count": 69,
     "metadata": {},
     "output_type": "execute_result"
    }
   ],
   "source": [
    "classes_df[\"TCLOC\"].describe()"
   ]
  },
  {
   "cell_type": "code",
   "execution_count": 70,
   "metadata": {},
   "outputs": [
    {
     "data": {
      "image/png": "[encoded data removed]",
      "text/plain": [
       "<matplotlib.figure.Figure at 0x1b6dd22e208>"
      ]
     },
     "metadata": {},
     "output_type": "display_data"
    }
   ],
   "source": [
    "sns.countplot(data = classes_df[classes_df[\"TCLOC\"] < 20], x = \"TCLOC\");"
   ]
  },
  {
   "cell_type": "markdown",
   "metadata": {},
   "source": [
    "#### Correlación de las métricas de documentación"
   ]
  },
  {
   "cell_type": "code",
   "execution_count": 71,
   "metadata": {},
   "outputs": [
    {
     "data": {
      "text/html": [
       "<div>\n",
       "<style>\n",
       "    .dataframe thead tr:only-child th {\n",
       "        text-align: right;\n",
       "    }\n",
       "\n",
       "    .dataframe thead th {\n",
       "        text-align: left;\n",
       "    }\n",
       "\n",
       "    .dataframe tbody tr th {\n",
       "        vertical-align: top;\n",
       "    }\n",
       "</style>\n",
       "<table border=\"1\" class=\"dataframe\">\n",
       "  <thead>\n",
       "    <tr style=\"text-align: right;\">\n",
       "      <th></th>\n",
       "      <th>AD</th>\n",
       "      <th>CD</th>\n",
       "      <th>CLOC</th>\n",
       "      <th>DLOC</th>\n",
       "      <th>PDA</th>\n",
       "      <th>PUA</th>\n",
       "      <th>TCD</th>\n",
       "      <th>TCLOC</th>\n",
       "    </tr>\n",
       "  </thead>\n",
       "  <tbody>\n",
       "    <tr>\n",
       "      <th>AD</th>\n",
       "      <td>1.000000</td>\n",
       "      <td>0.816669</td>\n",
       "      <td>0.369780</td>\n",
       "      <td>0.398732</td>\n",
       "      <td>0.481327</td>\n",
       "      <td>-0.165810</td>\n",
       "      <td>0.803721</td>\n",
       "      <td>0.357244</td>\n",
       "    </tr>\n",
       "    <tr>\n",
       "      <th>CD</th>\n",
       "      <td>0.816669</td>\n",
       "      <td>1.000000</td>\n",
       "      <td>0.407582</td>\n",
       "      <td>0.414201</td>\n",
       "      <td>0.411691</td>\n",
       "      <td>-0.113732</td>\n",
       "      <td>0.985649</td>\n",
       "      <td>0.391529</td>\n",
       "    </tr>\n",
       "    <tr>\n",
       "      <th>CLOC</th>\n",
       "      <td>0.369780</td>\n",
       "      <td>0.407582</td>\n",
       "      <td>1.000000</td>\n",
       "      <td>0.953634</td>\n",
       "      <td>0.730212</td>\n",
       "      <td>0.091229</td>\n",
       "      <td>0.400687</td>\n",
       "      <td>0.982978</td>\n",
       "    </tr>\n",
       "    <tr>\n",
       "      <th>DLOC</th>\n",
       "      <td>0.398732</td>\n",
       "      <td>0.414201</td>\n",
       "      <td>0.953634</td>\n",
       "      <td>1.000000</td>\n",
       "      <td>0.786555</td>\n",
       "      <td>0.034692</td>\n",
       "      <td>0.407346</td>\n",
       "      <td>0.938852</td>\n",
       "    </tr>\n",
       "    <tr>\n",
       "      <th>PDA</th>\n",
       "      <td>0.481327</td>\n",
       "      <td>0.411691</td>\n",
       "      <td>0.730212</td>\n",
       "      <td>0.786555</td>\n",
       "      <td>1.000000</td>\n",
       "      <td>0.064108</td>\n",
       "      <td>0.408377</td>\n",
       "      <td>0.698136</td>\n",
       "    </tr>\n",
       "    <tr>\n",
       "      <th>PUA</th>\n",
       "      <td>-0.165810</td>\n",
       "      <td>-0.113732</td>\n",
       "      <td>0.091229</td>\n",
       "      <td>0.034692</td>\n",
       "      <td>0.064108</td>\n",
       "      <td>1.000000</td>\n",
       "      <td>-0.110559</td>\n",
       "      <td>0.086700</td>\n",
       "    </tr>\n",
       "    <tr>\n",
       "      <th>TCD</th>\n",
       "      <td>0.803721</td>\n",
       "      <td>0.985649</td>\n",
       "      <td>0.400687</td>\n",
       "      <td>0.407346</td>\n",
       "      <td>0.408377</td>\n",
       "      <td>-0.110559</td>\n",
       "      <td>1.000000</td>\n",
       "      <td>0.385054</td>\n",
       "    </tr>\n",
       "    <tr>\n",
       "      <th>TCLOC</th>\n",
       "      <td>0.357244</td>\n",
       "      <td>0.391529</td>\n",
       "      <td>0.982978</td>\n",
       "      <td>0.938852</td>\n",
       "      <td>0.698136</td>\n",
       "      <td>0.086700</td>\n",
       "      <td>0.385054</td>\n",
       "      <td>1.000000</td>\n",
       "    </tr>\n",
       "  </tbody>\n",
       "</table>\n",
       "</div>"
      ],
      "text/plain": [
       "             AD        CD      CLOC      DLOC       PDA       PUA       TCD  \\\n",
       "AD     1.000000  0.816669  0.369780  0.398732  0.481327 -0.165810  0.803721   \n",
       "CD     0.816669  1.000000  0.407582  0.414201  0.411691 -0.113732  0.985649   \n",
       "CLOC   0.369780  0.407582  1.000000  0.953634  0.730212  0.091229  0.400687   \n",
       "DLOC   0.398732  0.414201  0.953634  1.000000  0.786555  0.034692  0.407346   \n",
       "PDA    0.481327  0.411691  0.730212  0.786555  1.000000  0.064108  0.408377   \n",
       "PUA   -0.165810 -0.113732  0.091229  0.034692  0.064108  1.000000 -0.110559   \n",
       "TCD    0.803721  0.985649  0.400687  0.407346  0.408377 -0.110559  1.000000   \n",
       "TCLOC  0.357244  0.391529  0.982978  0.938852  0.698136  0.086700  0.385054   \n",
       "\n",
       "          TCLOC  \n",
       "AD     0.357244  \n",
       "CD     0.391529  \n",
       "CLOC   0.982978  \n",
       "DLOC   0.938852  \n",
       "PDA    0.698136  \n",
       "PUA    0.086700  \n",
       "TCD    0.385054  \n",
       "TCLOC  1.000000  "
      ]
     },
     "execution_count": 71,
     "metadata": {},
     "output_type": "execute_result"
    }
   ],
   "source": [
    " classes_df[[\"AD\", \"CD\", \"CLOC\", \"DLOC\", \"PDA\", \"PUA\", \"TCD\", \"TCLOC\"]].corr()"
   ]
  },
  {
   "cell_type": "markdown",
   "metadata": {},
   "source": [
    "Se puede ver como las variables CLOC (Líneas de código comentadas) y TCLOC (Total de líneas comentadas están muy correlacionadas, por lo que podemos eliminar una de ellas. Nos quedaremos con TCLOC porque es un caso más general (en la doc de SourceMeter indica que incluye líneas de código en clases locales y anónimas, lo que en el otro casos no.\n",
    "\n",
    "Además, hay un índice de correlación entre CD y TCD de 0.9856, por lo que también podríamos eliminar 1.\n",
    "\n",
    "Hay otras variables que mantienen cierta correlación, pero no es tan fuerte como en los casos mencionados antes, por lo que conservaremos todas las demás variables."
   ]
  },
  {
   "cell_type": "code",
   "execution_count": 72,
   "metadata": {
    "collapsed": true
   },
   "outputs": [],
   "source": [
    "classes_df = classes_df.drop([\"CLOC\", \"TCD\"], 1)"
   ]
  },
  {
   "cell_type": "markdown",
   "metadata": {},
   "source": [
    "### 8) Métricas de herencia (inheritance)"
   ]
  },
  {
   "cell_type": "markdown",
   "metadata": {},
   "source": [
    "#### 8.1) DIT"
   ]
  },
  {
   "cell_type": "markdown",
   "metadata": {},
   "source": [
    "*Depth of inheritance tree*, tamaño del camino de la clase al ancestro más lejano en su árbol de herencia."
   ]
  },
  {
   "cell_type": "code",
   "execution_count": 73,
   "metadata": {},
   "outputs": [
    {
     "data": {
      "image/png": "[encoded data removed]",
      "text/plain": [
       "<matplotlib.figure.Figure at 0x1b680a3ddd8>"
      ]
     },
     "metadata": {},
     "output_type": "display_data"
    }
   ],
   "source": [
    "sns.countplot(data = classes_df, x = \"DIT\");"
   ]
  },
  {
   "cell_type": "markdown",
   "metadata": {},
   "source": [
    "Vemos que el valor suele ser bajo, llegando como mucho a 10."
   ]
  },
  {
   "cell_type": "markdown",
   "metadata": {},
   "source": [
    "#### 8.2) NOA"
   ]
  },
  {
   "cell_type": "markdown",
   "metadata": {},
   "source": [
    "*Number of Ancestors*, número de clases, interfaces, enumeraciones y anotaciones que la clase hereda directa o indirectamente."
   ]
  },
  {
   "cell_type": "code",
   "execution_count": 74,
   "metadata": {},
   "outputs": [
    {
     "data": {
      "image/png": "[encoded data removed]",
      "text/plain": [
       "<matplotlib.figure.Figure at 0x1b680bf3390>"
      ]
     },
     "metadata": {},
     "output_type": "display_data"
    }
   ],
   "source": [
    "sns.countplot(data = classes_df, x = \"NOA\");"
   ]
  },
  {
   "cell_type": "markdown",
   "metadata": {},
   "source": [
    "Predominan valores bajos."
   ]
  },
  {
   "cell_type": "markdown",
   "metadata": {},
   "source": [
    "#### 8.3) NOC"
   ]
  },
  {
   "cell_type": "markdown",
   "metadata": {},
   "source": [
    "*Number of Childrens*, número de clases, interfaces, enumeraciones y anotaciones que derivan de la clase directamente."
   ]
  },
  {
   "cell_type": "code",
   "execution_count": 75,
   "metadata": {},
   "outputs": [
    {
     "data": {
      "text/plain": [
       "count    182671.000000\n",
       "mean          0.365986\n",
       "std           3.316665\n",
       "min           0.000000\n",
       "25%           0.000000\n",
       "50%           0.000000\n",
       "75%           0.000000\n",
       "max         318.000000\n",
       "Name: NOC, dtype: float64"
      ]
     },
     "execution_count": 75,
     "metadata": {},
     "output_type": "execute_result"
    }
   ],
   "source": [
    "classes_df[\"NOC\"].describe()"
   ]
  },
  {
   "cell_type": "code",
   "execution_count": 76,
   "metadata": {},
   "outputs": [
    {
     "data": {
      "image/png": "[encoded data removed]",
      "text/plain": [
       "<matplotlib.figure.Figure at 0x1b6fc0167f0>"
      ]
     },
     "metadata": {},
     "output_type": "display_data"
    }
   ],
   "source": [
    "sns.countplot(data = classes_df[classes_df[\"NOC\"] < 10], x = \"NOC\");"
   ]
  },
  {
   "cell_type": "code",
   "execution_count": 77,
   "metadata": {},
   "outputs": [
    {
     "name": "stdout",
     "output_type": "stream",
     "text": [
      "Casos distintos de 0: 14481\n"
     ]
    }
   ],
   "source": [
    "print(\"Casos distintos de 0:\", len(classes_df[classes_df[\"NOC\"] > 0]))"
   ]
  },
  {
   "cell_type": "markdown",
   "metadata": {},
   "source": [
    "Casi todos los valores son 0."
   ]
  },
  {
   "cell_type": "markdown",
   "metadata": {},
   "source": [
    "#### 8.4) NOD"
   ]
  },
  {
   "cell_type": "markdown",
   "metadata": {},
   "source": [
    "*Number of Descendant*, número de clases, interfaces, enumeraciones y anotaciones que derivan de la clase directa o indirectamente."
   ]
  },
  {
   "cell_type": "code",
   "execution_count": 78,
   "metadata": {},
   "outputs": [
    {
     "data": {
      "text/plain": [
       "count    182671.000000\n",
       "mean          0.620799\n",
       "std           7.481181\n",
       "min           0.000000\n",
       "25%           0.000000\n",
       "50%           0.000000\n",
       "75%           0.000000\n",
       "max         811.000000\n",
       "Name: NOD, dtype: float64"
      ]
     },
     "execution_count": 78,
     "metadata": {},
     "output_type": "execute_result"
    }
   ],
   "source": [
    "classes_df[\"NOD\"].describe()"
   ]
  },
  {
   "cell_type": "code",
   "execution_count": 79,
   "metadata": {},
   "outputs": [
    {
     "data": {
      "image/png": "[encoded data removed]",
      "text/plain": [
       "<matplotlib.figure.Figure at 0x1b680b5a828>"
      ]
     },
     "metadata": {},
     "output_type": "display_data"
    }
   ],
   "source": [
    "sns.countplot(data = classes_df[classes_df[\"NOD\"] < 10], x = \"NOD\");"
   ]
  },
  {
   "cell_type": "code",
   "execution_count": 80,
   "metadata": {},
   "outputs": [
    {
     "name": "stdout",
     "output_type": "stream",
     "text": [
      "Casos distintos de 0: 14481\n"
     ]
    }
   ],
   "source": [
    "print(\"Casos distintos de 0:\", len(classes_df[classes_df[\"NOD\"] > 0]))"
   ]
  },
  {
   "cell_type": "code",
   "execution_count": 81,
   "metadata": {},
   "outputs": [
    {
     "data": {
      "text/plain": [
       "0.7294551292164381"
      ]
     },
     "execution_count": 81,
     "metadata": {},
     "output_type": "execute_result"
    }
   ],
   "source": [
    "classes_df[\"NOC\"].corr(classes_df[\"NOD\"])"
   ]
  },
  {
   "cell_type": "markdown",
   "metadata": {},
   "source": [
    "El valor también suele ser 0. Sin embargo, no tienen una correlación tan fuerte como podría parecer a priori."
   ]
  },
  {
   "cell_type": "markdown",
   "metadata": {},
   "source": [
    "#### 8.5) NOP"
   ]
  },
  {
   "cell_type": "markdown",
   "metadata": {},
   "source": [
    "*Number of Parents*, número de clases, interfaces, enumeraciones y anotaciones de las que la clase deriva directamente."
   ]
  },
  {
   "cell_type": "code",
   "execution_count": 82,
   "metadata": {},
   "outputs": [
    {
     "data": {
      "text/plain": [
       "count    182671.000000\n",
       "mean          0.673960\n",
       "std           0.630434\n",
       "min           0.000000\n",
       "25%           0.000000\n",
       "50%           1.000000\n",
       "75%           1.000000\n",
       "max          56.000000\n",
       "Name: NOP, dtype: float64"
      ]
     },
     "execution_count": 82,
     "metadata": {},
     "output_type": "execute_result"
    }
   ],
   "source": [
    "classes_df[\"NOP\"].describe()"
   ]
  },
  {
   "cell_type": "code",
   "execution_count": 83,
   "metadata": {},
   "outputs": [
    {
     "data": {
      "image/png": "[encoded data removed]",
      "text/plain": [
       "<matplotlib.figure.Figure at 0x1b6dd22ec88>"
      ]
     },
     "metadata": {},
     "output_type": "display_data"
    }
   ],
   "source": [
    "sns.countplot(data = classes_df[classes_df[\"NOP\"] < 10], x = \"NOP\");"
   ]
  },
  {
   "cell_type": "markdown",
   "metadata": {},
   "source": [
    "En este caso vemos como hay bastantes más valores distintos de 0."
   ]
  },
  {
   "cell_type": "markdown",
   "metadata": {},
   "source": [
    "### 9) Métricas de tamaño"
   ]
  },
  {
   "cell_type": "markdown",
   "metadata": {},
   "source": [
    "#### 9.1) LLOC"
   ]
  },
  {
   "cell_type": "markdown",
   "metadata": {},
   "source": [
    "*Logical Lines of Code*, número de líneas lógicas de código."
   ]
  },
  {
   "cell_type": "code",
   "execution_count": 84,
   "metadata": {},
   "outputs": [
    {
     "data": {
      "text/plain": [
       "count    182671.000000\n",
       "mean         55.412375\n",
       "std         135.243090\n",
       "min           1.000000\n",
       "25%          10.000000\n",
       "50%          22.000000\n",
       "75%          55.000000\n",
       "max       11362.000000\n",
       "Name: LLOC, dtype: float64"
      ]
     },
     "execution_count": 84,
     "metadata": {},
     "output_type": "execute_result"
    }
   ],
   "source": [
    "classes_df[\"LLOC\"].describe()"
   ]
  },
  {
   "cell_type": "markdown",
   "metadata": {},
   "source": [
    "#### 9.2) LOC"
   ]
  },
  {
   "cell_type": "markdown",
   "metadata": {},
   "source": [
    "*Lines of Code*, número de líneas de código."
   ]
  },
  {
   "cell_type": "code",
   "execution_count": 85,
   "metadata": {},
   "outputs": [
    {
     "data": {
      "text/plain": [
       "count    182671.000000\n",
       "mean         71.945301\n",
       "std         174.302778\n",
       "min           1.000000\n",
       "25%          12.000000\n",
       "50%          28.000000\n",
       "75%          70.000000\n",
       "max       13460.000000\n",
       "Name: LOC, dtype: float64"
      ]
     },
     "execution_count": 85,
     "metadata": {},
     "output_type": "execute_result"
    }
   ],
   "source": [
    "classes_df[\"LOC\"].describe()"
   ]
  },
  {
   "cell_type": "code",
   "execution_count": 86,
   "metadata": {},
   "outputs": [
    {
     "data": {
      "text/plain": [
       "0.9842082245504903"
      ]
     },
     "execution_count": 86,
     "metadata": {},
     "output_type": "execute_result"
    }
   ],
   "source": [
    "classes_df[\"LLOC\"].corr(classes_df[\"LOC\"])"
   ]
  },
  {
   "cell_type": "markdown",
   "metadata": {},
   "source": [
    "Se aprecia una correlación bastante fuerte entre estas dos variables."
   ]
  },
  {
   "cell_type": "markdown",
   "metadata": {},
   "source": [
    "#### 9.3) NA"
   ]
  },
  {
   "cell_type": "markdown",
   "metadata": {},
   "source": [
    "*Number of attributes*, número de atributos de la clase, incluyendo heredadas."
   ]
  },
  {
   "cell_type": "code",
   "execution_count": 87,
   "metadata": {},
   "outputs": [
    {
     "data": {
      "text/plain": [
       "count    182671.000000\n",
       "mean          4.696345\n",
       "std           8.202217\n",
       "min           0.000000\n",
       "25%           0.000000\n",
       "50%           2.000000\n",
       "75%           5.000000\n",
       "max         287.000000\n",
       "Name: NA, dtype: float64"
      ]
     },
     "execution_count": 87,
     "metadata": {},
     "output_type": "execute_result"
    }
   ],
   "source": [
    "classes_df[\"NA\"].describe()"
   ]
  },
  {
   "cell_type": "code",
   "execution_count": 88,
   "metadata": {},
   "outputs": [
    {
     "data": {
      "image/png": "[encoded data removed]",
      "text/plain": [
       "<matplotlib.figure.Figure at 0x1b6db92c6d8>"
      ]
     },
     "metadata": {},
     "output_type": "display_data"
    }
   ],
   "source": [
    "sns.countplot(data = classes_df[classes_df[\"NA\"] < 20], x = \"NA\");"
   ]
  },
  {
   "cell_type": "markdown",
   "metadata": {},
   "source": [
    "La distribución sigue una tendencia descendente."
   ]
  },
  {
   "cell_type": "markdown",
   "metadata": {},
   "source": [
    "#### 9.4) NG"
   ]
  },
  {
   "cell_type": "markdown",
   "metadata": {},
   "source": [
    "*Number of getters*, número de funciones get en la clase. Incluye heredadas."
   ]
  },
  {
   "cell_type": "code",
   "execution_count": 89,
   "metadata": {},
   "outputs": [
    {
     "data": {
      "text/plain": [
       "count    182671.000000\n",
       "mean          2.062544\n",
       "std           5.059134\n",
       "min           0.000000\n",
       "25%           0.000000\n",
       "50%           0.000000\n",
       "75%           2.000000\n",
       "max         224.000000\n",
       "Name: NG, dtype: float64"
      ]
     },
     "execution_count": 89,
     "metadata": {},
     "output_type": "execute_result"
    }
   ],
   "source": [
    "classes_df[\"NG\"].describe()"
   ]
  },
  {
   "cell_type": "code",
   "execution_count": 90,
   "metadata": {},
   "outputs": [
    {
     "data": {
      "image/png": "[encoded data removed]",
      "text/plain": [
       "<matplotlib.figure.Figure at 0x1b6813451d0>"
      ]
     },
     "metadata": {},
     "output_type": "display_data"
    }
   ],
   "source": [
    "sns.countplot(data = classes_df[classes_df[\"NG\"] < 20], x = \"NG\");"
   ]
  },
  {
   "cell_type": "markdown",
   "metadata": {},
   "source": [
    "En este caso el número de valores a 0 es mucho mayor,el resto de valores siguen una tendencia descendente."
   ]
  },
  {
   "cell_type": "markdown",
   "metadata": {},
   "source": [
    "#### 9.5) NLA"
   ]
  },
  {
   "cell_type": "markdown",
   "metadata": {},
   "source": [
    "*Number of local attributes*, número de atributos locales de la clase."
   ]
  },
  {
   "cell_type": "code",
   "execution_count": 91,
   "metadata": {},
   "outputs": [
    {
     "data": {
      "text/plain": [
       "count    182671.000000\n",
       "mean          2.074336\n",
       "std           4.430673\n",
       "min           0.000000\n",
       "25%           0.000000\n",
       "50%           1.000000\n",
       "75%           3.000000\n",
       "max         213.000000\n",
       "Name: NLA, dtype: float64"
      ]
     },
     "execution_count": 91,
     "metadata": {},
     "output_type": "execute_result"
    }
   ],
   "source": [
    "classes_df[\"NLA\"].describe()"
   ]
  },
  {
   "cell_type": "code",
   "execution_count": 92,
   "metadata": {},
   "outputs": [
    {
     "data": {
      "image/png": "[encoded data removed]",
      "text/plain": [
       "<matplotlib.figure.Figure at 0x1b680b6db70>"
      ]
     },
     "metadata": {},
     "output_type": "display_data"
    }
   ],
   "source": [
    "sns.countplot(data = classes_df[classes_df[\"NLA\"] < 20], x = \"NLA\");"
   ]
  },
  {
   "cell_type": "markdown",
   "metadata": {},
   "source": [
    "La distribución sigue una tendencia descendente."
   ]
  },
  {
   "cell_type": "markdown",
   "metadata": {},
   "source": [
    "#### 9.6) NLG"
   ]
  },
  {
   "cell_type": "markdown",
   "metadata": {},
   "source": [
    "*Number of local getters*, número de funciones get locales en la clase."
   ]
  },
  {
   "cell_type": "code",
   "execution_count": 93,
   "metadata": {},
   "outputs": [
    {
     "data": {
      "text/plain": [
       "count    182671.000000\n",
       "mean          0.899858\n",
       "std           2.971409\n",
       "min           0.000000\n",
       "25%           0.000000\n",
       "50%           0.000000\n",
       "75%           1.000000\n",
       "max         224.000000\n",
       "Name: NLG, dtype: float64"
      ]
     },
     "execution_count": 93,
     "metadata": {},
     "output_type": "execute_result"
    }
   ],
   "source": [
    "classes_df[\"NLG\"].describe()"
   ]
  },
  {
   "cell_type": "code",
   "execution_count": 94,
   "metadata": {},
   "outputs": [
    {
     "data": {
      "image/png": "[encoded data removed]",
      "text/plain": [
       "<matplotlib.figure.Figure at 0x1b6dc48cdd8>"
      ]
     },
     "metadata": {},
     "output_type": "display_data"
    }
   ],
   "source": [
    "sns.countplot(data = classes_df[classes_df[\"NLG\"] < 20], x = \"NLG\");"
   ]
  },
  {
   "cell_type": "markdown",
   "metadata": {},
   "source": [
    "En este caso el número de valores a 0 es mucho mayor,el resto de valores siguen una tendencia descendente."
   ]
  },
  {
   "cell_type": "markdown",
   "metadata": {},
   "source": [
    "#### 9.7) NLM"
   ]
  },
  {
   "cell_type": "markdown",
   "metadata": {},
   "source": [
    "*Number of local methods*, número de métodos de la clase."
   ]
  },
  {
   "cell_type": "code",
   "execution_count": 95,
   "metadata": {},
   "outputs": [
    {
     "data": {
      "text/plain": [
       "count    182671.000000\n",
       "mean          5.772881\n",
       "std           9.648370\n",
       "min           0.000000\n",
       "25%           1.000000\n",
       "50%           3.000000\n",
       "75%           6.000000\n",
       "max         715.000000\n",
       "Name: NLM, dtype: float64"
      ]
     },
     "execution_count": 95,
     "metadata": {},
     "output_type": "execute_result"
    }
   ],
   "source": [
    "classes_df[\"NLM\"].describe()"
   ]
  },
  {
   "cell_type": "code",
   "execution_count": 96,
   "metadata": {},
   "outputs": [
    {
     "data": {
      "image/png": "[encoded data removed]",
      "text/plain": [
       "<matplotlib.figure.Figure at 0x1b6dce6cc50>"
      ]
     },
     "metadata": {},
     "output_type": "display_data"
    }
   ],
   "source": [
    "sns.countplot(data = classes_df[classes_df[\"NLM\"] < 20], x = \"NLM\");"
   ]
  },
  {
   "cell_type": "markdown",
   "metadata": {},
   "source": [
    "Aquí no hay tantos valores con 0, y a partir del valro 1 sigue una tendencia descendente."
   ]
  },
  {
   "cell_type": "markdown",
   "metadata": {},
   "source": [
    "#### 9.8) NLPA"
   ]
  },
  {
   "cell_type": "markdown",
   "metadata": {},
   "source": [
    "*Number of local public attributes*, número de atributos locales públicos de la clase."
   ]
  },
  {
   "cell_type": "code",
   "execution_count": 97,
   "metadata": {},
   "outputs": [
    {
     "data": {
      "text/plain": [
       "count    182671.000000\n",
       "mean          0.311226\n",
       "std           2.529541\n",
       "min           0.000000\n",
       "25%           0.000000\n",
       "50%           0.000000\n",
       "75%           0.000000\n",
       "max         211.000000\n",
       "Name: NLPA, dtype: float64"
      ]
     },
     "execution_count": 97,
     "metadata": {},
     "output_type": "execute_result"
    }
   ],
   "source": [
    "classes_df[\"NLPA\"].describe()"
   ]
  },
  {
   "cell_type": "code",
   "execution_count": 98,
   "metadata": {},
   "outputs": [
    {
     "data": {
      "image/png": "[encoded data removed]",
      "text/plain": [
       "<matplotlib.figure.Figure at 0x1b680aedd68>"
      ]
     },
     "metadata": {},
     "output_type": "display_data"
    }
   ],
   "source": [
    "sns.countplot(data = classes_df[classes_df[\"NLPA\"] < 20], x = \"NLPA\");"
   ]
  },
  {
   "cell_type": "markdown",
   "metadata": {},
   "source": [
    "En este caso vemos como más del 75% de las clases tienen 0 atributos públicos locales."
   ]
  },
  {
   "cell_type": "markdown",
   "metadata": {},
   "source": [
    "#### 9.9) NLPM"
   ]
  },
  {
   "cell_type": "markdown",
   "metadata": {},
   "source": [
    "*Number of local public methods*, número de métodos locales de la clase."
   ]
  },
  {
   "cell_type": "code",
   "execution_count": 99,
   "metadata": {},
   "outputs": [
    {
     "data": {
      "text/plain": [
       "count    182671.000000\n",
       "mean          4.705832\n",
       "std           8.471481\n",
       "min           0.000000\n",
       "25%           1.000000\n",
       "50%           2.000000\n",
       "75%           5.000000\n",
       "max         225.000000\n",
       "Name: NLPM, dtype: float64"
      ]
     },
     "execution_count": 99,
     "metadata": {},
     "output_type": "execute_result"
    }
   ],
   "source": [
    "classes_df[\"NLPM\"].describe()"
   ]
  },
  {
   "cell_type": "code",
   "execution_count": 100,
   "metadata": {},
   "outputs": [
    {
     "data": {
      "image/png": "[encoded data removed]",
      "text/plain": [
       "<matplotlib.figure.Figure at 0x1b6dc4edf60>"
      ]
     },
     "metadata": {},
     "output_type": "display_data"
    }
   ],
   "source": [
    "sns.countplot(data = classes_df[classes_df[\"NLPM\"] < 20], x = \"NLPM\");"
   ]
  },
  {
   "cell_type": "markdown",
   "metadata": {},
   "source": [
    "#### 9.10) NLS"
   ]
  },
  {
   "cell_type": "markdown",
   "metadata": {},
   "source": [
    "*Number of local setter*, número de métodos set locales de la clase."
   ]
  },
  {
   "cell_type": "code",
   "execution_count": 101,
   "metadata": {},
   "outputs": [
    {
     "data": {
      "text/plain": [
       "count    182671.000000\n",
       "mean          0.359756\n",
       "std           2.019450\n",
       "min           0.000000\n",
       "25%           0.000000\n",
       "50%           0.000000\n",
       "75%           0.000000\n",
       "max          97.000000\n",
       "Name: NLS, dtype: float64"
      ]
     },
     "execution_count": 101,
     "metadata": {},
     "output_type": "execute_result"
    }
   ],
   "source": [
    "classes_df[\"NLS\"].describe()"
   ]
  },
  {
   "cell_type": "code",
   "execution_count": 102,
   "metadata": {},
   "outputs": [
    {
     "data": {
      "image/png": "[encoded data removed]",
      "text/plain": [
       "<matplotlib.figure.Figure at 0x1b68090b7f0>"
      ]
     },
     "metadata": {},
     "output_type": "display_data"
    }
   ],
   "source": [
    "sns.distplot(classes_df[\"NLS\"]);"
   ]
  },
  {
   "cell_type": "markdown",
   "metadata": {},
   "source": [
    "Casi todas las clases no tienen funciones set locales."
   ]
  },
  {
   "cell_type": "markdown",
   "metadata": {},
   "source": [
    "#### 9.11) NM"
   ]
  },
  {
   "cell_type": "markdown",
   "metadata": {},
   "source": [
    "*Number of methods*, número de métodos de la clase."
   ]
  },
  {
   "cell_type": "code",
   "execution_count": 103,
   "metadata": {},
   "outputs": [
    {
     "data": {
      "text/plain": [
       "count    182671.000000\n",
       "mean         13.266725\n",
       "std          22.430704\n",
       "min           0.000000\n",
       "25%           2.000000\n",
       "50%           5.000000\n",
       "75%          15.000000\n",
       "max         715.000000\n",
       "Name: NM, dtype: float64"
      ]
     },
     "execution_count": 103,
     "metadata": {},
     "output_type": "execute_result"
    }
   ],
   "source": [
    "classes_df[\"NM\"].describe()"
   ]
  },
  {
   "cell_type": "code",
   "execution_count": 104,
   "metadata": {},
   "outputs": [
    {
     "data": {
      "image/png": "[encoded data removed]",
      "text/plain": [
       "<matplotlib.figure.Figure at 0x1b6812ba588>"
      ]
     },
     "metadata": {},
     "output_type": "display_data"
    }
   ],
   "source": [
    "sns.countplot(data = classes_df[classes_df[\"NM\"] < 20], x = \"NM\");"
   ]
  },
  {
   "cell_type": "markdown",
   "metadata": {},
   "source": [
    "#### 9.12) NOS"
   ]
  },
  {
   "cell_type": "markdown",
   "metadata": {},
   "source": [
    "*Number of statements*, número de declaraciones en la clase."
   ]
  },
  {
   "cell_type": "code",
   "execution_count": 105,
   "metadata": {},
   "outputs": [
    {
     "data": {
      "text/plain": [
       "count    182671.000000\n",
       "mean         28.068867\n",
       "std          96.065919\n",
       "min           0.000000\n",
       "25%           2.000000\n",
       "50%           8.000000\n",
       "75%          25.000000\n",
       "max        9509.000000\n",
       "Name: NOS, dtype: float64"
      ]
     },
     "execution_count": 105,
     "metadata": {},
     "output_type": "execute_result"
    }
   ],
   "source": [
    "classes_df[\"NOS\"].describe()"
   ]
  },
  {
   "cell_type": "code",
   "execution_count": 106,
   "metadata": {},
   "outputs": [
    {
     "data": {
      "image/png": "[encoded data removed]",
      "text/plain": [
       "<matplotlib.figure.Figure at 0x1b680a6e128>"
      ]
     },
     "metadata": {},
     "output_type": "display_data"
    }
   ],
   "source": [
    "sns.countplot(data = classes_df[classes_df[\"NOS\"] < 30], x = \"NOS\");"
   ]
  },
  {
   "cell_type": "markdown",
   "metadata": {},
   "source": [
    "#### 9.13) NPA"
   ]
  },
  {
   "cell_type": "markdown",
   "metadata": {},
   "source": [
    "*Number of public attributes*, número de atributos públicos en la clase."
   ]
  },
  {
   "cell_type": "code",
   "execution_count": 107,
   "metadata": {},
   "outputs": [
    {
     "data": {
      "text/plain": [
       "count    182671.000000\n",
       "mean          1.195203\n",
       "std           4.889841\n",
       "min           0.000000\n",
       "25%           0.000000\n",
       "50%           0.000000\n",
       "75%           0.000000\n",
       "max         265.000000\n",
       "Name: NPA, dtype: float64"
      ]
     },
     "execution_count": 107,
     "metadata": {},
     "output_type": "execute_result"
    }
   ],
   "source": [
    "classes_df[\"NPA\"].describe()"
   ]
  },
  {
   "cell_type": "code",
   "execution_count": 108,
   "metadata": {},
   "outputs": [
    {
     "data": {
      "image/png": "[encoded data removed]",
      "text/plain": [
       "<matplotlib.figure.Figure at 0x1b680ae7f60>"
      ]
     },
     "metadata": {},
     "output_type": "display_data"
    }
   ],
   "source": [
    "sns.countplot(data = classes_df[classes_df[\"NPA\"] < 20], x = \"NPA\");"
   ]
  },
  {
   "cell_type": "markdown",
   "metadata": {},
   "source": [
    "#### 9.14) NPM"
   ]
  },
  {
   "cell_type": "markdown",
   "metadata": {},
   "source": [
    "*Number of public methods*, número de métodos públicos de la clase."
   ]
  },
  {
   "cell_type": "code",
   "execution_count": 109,
   "metadata": {},
   "outputs": [
    {
     "data": {
      "text/plain": [
       "count    182671.000000\n",
       "mean         10.072234\n",
       "std          17.155129\n",
       "min           0.000000\n",
       "25%           1.000000\n",
       "50%           4.000000\n",
       "75%          11.000000\n",
       "max         261.000000\n",
       "Name: NPM, dtype: float64"
      ]
     },
     "execution_count": 109,
     "metadata": {},
     "output_type": "execute_result"
    }
   ],
   "source": [
    "classes_df[\"NPM\"].describe()"
   ]
  },
  {
   "cell_type": "code",
   "execution_count": 110,
   "metadata": {},
   "outputs": [
    {
     "data": {
      "image/png": "[encoded data removed]",
      "text/plain": [
       "<matplotlib.figure.Figure at 0x1b680aeff60>"
      ]
     },
     "metadata": {},
     "output_type": "display_data"
    }
   ],
   "source": [
    "sns.countplot(data = classes_df[classes_df[\"NPM\"] < 20], x = \"NPM\");"
   ]
  },
  {
   "cell_type": "markdown",
   "metadata": {},
   "source": [
    "#### 9.15) NS"
   ]
  },
  {
   "cell_type": "markdown",
   "metadata": {},
   "source": [
    "*Number of setters*, número de métodos set de la clase."
   ]
  },
  {
   "cell_type": "code",
   "execution_count": 111,
   "metadata": {},
   "outputs": [
    {
     "data": {
      "text/plain": [
       "count    182671.000000\n",
       "mean          0.853212\n",
       "std           3.002555\n",
       "min           0.000000\n",
       "25%           0.000000\n",
       "50%           0.000000\n",
       "75%           0.000000\n",
       "max          97.000000\n",
       "Name: NS, dtype: float64"
      ]
     },
     "execution_count": 111,
     "metadata": {},
     "output_type": "execute_result"
    }
   ],
   "source": [
    "classes_df[\"NS\"].describe()"
   ]
  },
  {
   "cell_type": "code",
   "execution_count": 112,
   "metadata": {},
   "outputs": [
    {
     "data": {
      "image/png": "[encoded data removed]",
      "text/plain": [
       "<matplotlib.figure.Figure at 0x1b680a59f60>"
      ]
     },
     "metadata": {},
     "output_type": "display_data"
    }
   ],
   "source": [
    "sns.distplot(classes_df[\"NS\"]);"
   ]
  },
  {
   "cell_type": "markdown",
   "metadata": {},
   "source": [
    "Casi todas las clases no tienen funciones set."
   ]
  },
  {
   "cell_type": "markdown",
   "metadata": {},
   "source": [
    "#### 9.17) TLLOC y TLOC"
   ]
  },
  {
   "cell_type": "markdown",
   "metadata": {},
   "source": [
    "*Total logical lines of code* y *Total lines of code*, número de líneas de código. Se diferencian coon LLOC y LOC en que también incluye clases anidadas anónimas y clases locales."
   ]
  },
  {
   "cell_type": "code",
   "execution_count": 113,
   "metadata": {},
   "outputs": [
    {
     "data": {
      "text/plain": [
       "0.953460788331944"
      ]
     },
     "execution_count": 113,
     "metadata": {},
     "output_type": "execute_result"
    }
   ],
   "source": [
    "classes_df[\"LLOC\"].corr(classes_df[\"TLLOC\"])"
   ]
  },
  {
   "cell_type": "code",
   "execution_count": 114,
   "metadata": {},
   "outputs": [
    {
     "data": {
      "text/plain": [
       "0.9602585973838352"
      ]
     },
     "execution_count": 114,
     "metadata": {},
     "output_type": "execute_result"
    }
   ],
   "source": [
    "classes_df[\"LOC\"].corr(classes_df[\"TLOC\"])"
   ]
  },
  {
   "cell_type": "markdown",
   "metadata": {},
   "source": [
    "Debido a que expresan casi lo mismo que LLOC y LOC (se puede ver como están fuertemente correlacionadas con su par), podemos eliminarlas ya que no nos dan muchas más información."
   ]
  },
  {
   "cell_type": "code",
   "execution_count": 115,
   "metadata": {
    "collapsed": true
   },
   "outputs": [],
   "source": [
    "classes_df = classes_df.drop([\"TLLOC\", \"TLOC\"], 1)"
   ]
  },
  {
   "cell_type": "markdown",
   "metadata": {},
   "source": [
    "#### 9.18) NLA"
   ]
  },
  {
   "cell_type": "markdown",
   "metadata": {},
   "source": [
    "*Number of local attributes*, número de atributos locales de la clase."
   ]
  },
  {
   "cell_type": "code",
   "execution_count": 116,
   "metadata": {},
   "outputs": [
    {
     "data": {
      "text/plain": [
       "count    182671.000000\n",
       "mean          2.074336\n",
       "std           4.430673\n",
       "min           0.000000\n",
       "25%           0.000000\n",
       "50%           1.000000\n",
       "75%           3.000000\n",
       "max         213.000000\n",
       "Name: NLA, dtype: float64"
      ]
     },
     "execution_count": 116,
     "metadata": {},
     "output_type": "execute_result"
    }
   ],
   "source": [
    "classes_df[\"NLA\"].describe()"
   ]
  },
  {
   "cell_type": "code",
   "execution_count": 117,
   "metadata": {},
   "outputs": [
    {
     "data": {
      "image/png": "[encoded data removed]",
      "text/plain": [
       "<matplotlib.figure.Figure at 0x1b681257048>"
      ]
     },
     "metadata": {},
     "output_type": "display_data"
    }
   ],
   "source": [
    "sns.countplot(data = classes_df[classes_df[\"NLA\"] < 20], x = \"NLA\");"
   ]
  },
  {
   "cell_type": "markdown",
   "metadata": {},
   "source": [
    "El número de valores a 0 es bastante inferior que en el caso de NLPA (atributos públicos)."
   ]
  },
  {
   "cell_type": "markdown",
   "metadata": {},
   "source": [
    "#### 9.19) TNG"
   ]
  },
  {
   "cell_type": "markdown",
   "metadata": {},
   "source": [
    "*Total number getters*, número de funciones get en la clase."
   ]
  },
  {
   "cell_type": "code",
   "execution_count": 118,
   "metadata": {},
   "outputs": [
    {
     "data": {
      "text/plain": [
       "count    182671.000000\n",
       "mean          2.402456\n",
       "std           8.182219\n",
       "min           0.000000\n",
       "25%           0.000000\n",
       "50%           0.000000\n",
       "75%           2.000000\n",
       "max        1099.000000\n",
       "Name: TNG, dtype: float64"
      ]
     },
     "execution_count": 118,
     "metadata": {},
     "output_type": "execute_result"
    }
   ],
   "source": [
    "classes_df[\"TNG\"].describe()"
   ]
  },
  {
   "cell_type": "code",
   "execution_count": 119,
   "metadata": {},
   "outputs": [
    {
     "data": {
      "image/png": "[encoded data removed]",
      "text/plain": [
       "<matplotlib.figure.Figure at 0x1b6f02ed828>"
      ]
     },
     "metadata": {},
     "output_type": "display_data"
    }
   ],
   "source": [
    "sns.countplot(data = classes_df[classes_df[\"TNG\"] < 20], x = \"TNG\");"
   ]
  },
  {
   "cell_type": "code",
   "execution_count": 120,
   "metadata": {},
   "outputs": [
    {
     "name": "stdout",
     "output_type": "stream",
     "text": [
      "Lista completa de características\n"
     ]
    },
    {
     "data": {
      "text/plain": [
       "' \"LLOC\", \"LOC\", \"NA\", \"NG\", \"NLA\", \"NLG\", \"NLM\", \"NLPA\", \"NLPM\", \"NLS\", \"NM\", \"NOS\", \"NPA\", \"NPM\", \"NS\", \"TNA\", \"TNG\", \"TNLA\", \"TNLG\", \"TNLM\", \"TNLPA\", \"TNLPM\", \"TNLS\", \"TNM'"
      ]
     },
     "execution_count": 120,
     "metadata": {},
     "output_type": "execute_result"
    }
   ],
   "source": [
    "atts = \"\"\n",
    "for att in classes_df.columns[29:53]:\n",
    "    atts = atts + '\", \"' + att\n",
    "print(\"Lista completa de características\")\n",
    "atts[2:]"
   ]
  },
  {
   "cell_type": "markdown",
   "metadata": {},
   "source": [
    "#### 9.20) TNLA"
   ]
  },
  {
   "cell_type": "markdown",
   "metadata": {},
   "source": [
    "*Total number of local attributes*, número de atributos locales en la clase, incluyendo atributos de clases anidadas, anónimas y locales."
   ]
  },
  {
   "cell_type": "code",
   "execution_count": 121,
   "metadata": {},
   "outputs": [
    {
     "data": {
      "text/plain": [
       "0.8574851107916474"
      ]
     },
     "execution_count": 121,
     "metadata": {},
     "output_type": "execute_result"
    }
   ],
   "source": [
    "classes_df[\"TNLA\"].corr(classes_df[\"NLA\"])"
   ]
  },
  {
   "cell_type": "code",
   "execution_count": 122,
   "metadata": {},
   "outputs": [
    {
     "data": {
      "text/plain": [
       "count    182671.000000\n",
       "mean          2.545073\n",
       "std           5.915054\n",
       "min           0.000000\n",
       "25%           0.000000\n",
       "50%           1.000000\n",
       "75%           3.000000\n",
       "max         238.000000\n",
       "Name: TNLA, dtype: float64"
      ]
     },
     "execution_count": 122,
     "metadata": {},
     "output_type": "execute_result"
    }
   ],
   "source": [
    "classes_df[\"TNLA\"].describe()"
   ]
  },
  {
   "cell_type": "code",
   "execution_count": 123,
   "metadata": {},
   "outputs": [
    {
     "data": {
      "image/png": "[encoded data removed]",
      "text/plain": [
       "<matplotlib.figure.Figure at 0x1b6efcdf710>"
      ]
     },
     "metadata": {},
     "output_type": "display_data"
    }
   ],
   "source": [
    "sns.countplot(data = classes_df[classes_df[\"TNLA\"] < 20], x = \"TNLA\");"
   ]
  },
  {
   "cell_type": "markdown",
   "metadata": {},
   "source": [
    "#### 9.20) TNLG"
   ]
  },
  {
   "cell_type": "markdown",
   "metadata": {},
   "source": [
    "*Total number of local getters*, número de funciones get en la clase, incluyendo getters de clases anidadas, anónimas y locales."
   ]
  },
  {
   "cell_type": "code",
   "execution_count": 124,
   "metadata": {},
   "outputs": [
    {
     "data": {
      "text/plain": [
       "0.9190317027893011"
      ]
     },
     "execution_count": 124,
     "metadata": {},
     "output_type": "execute_result"
    }
   ],
   "source": [
    "classes_df[\"TNLG\"].corr(classes_df[\"NLG\"])"
   ]
  },
  {
   "cell_type": "code",
   "execution_count": 125,
   "metadata": {},
   "outputs": [
    {
     "data": {
      "text/plain": [
       "count    182671.000000\n",
       "mean          1.027777\n",
       "std           3.345582\n",
       "min           0.000000\n",
       "25%           0.000000\n",
       "50%           0.000000\n",
       "75%           1.000000\n",
       "max         224.000000\n",
       "Name: TNLG, dtype: float64"
      ]
     },
     "execution_count": 125,
     "metadata": {},
     "output_type": "execute_result"
    }
   ],
   "source": [
    "classes_df[\"TNLG\"].describe()"
   ]
  },
  {
   "cell_type": "code",
   "execution_count": 126,
   "metadata": {},
   "outputs": [
    {
     "data": {
      "image/png": "[encoded data removed]",
      "text/plain": [
       "<matplotlib.figure.Figure at 0x1b6db8f89b0>"
      ]
     },
     "metadata": {},
     "output_type": "display_data"
    }
   ],
   "source": [
    "sns.countplot(data = classes_df[classes_df[\"TNLG\"] < 20], x = \"TNLG\");"
   ]
  },
  {
   "cell_type": "markdown",
   "metadata": {},
   "source": [
    "#### 9.21) TNLM"
   ]
  },
  {
   "cell_type": "markdown",
   "metadata": {},
   "source": [
    "*Total number of local methods*, número de métodos locales en la clase, incluyendo métodos de clases anidadas, anónimas y locales."
   ]
  },
  {
   "cell_type": "code",
   "execution_count": 127,
   "metadata": {},
   "outputs": [
    {
     "data": {
      "text/plain": [
       "0.8755574511108437"
      ]
     },
     "execution_count": 127,
     "metadata": {},
     "output_type": "execute_result"
    }
   ],
   "source": [
    "classes_df[\"TNLM\"].corr(classes_df[\"NLM\"])"
   ]
  },
  {
   "cell_type": "code",
   "execution_count": 128,
   "metadata": {},
   "outputs": [
    {
     "data": {
      "text/plain": [
       "count    182671.000000\n",
       "mean          6.928139\n",
       "std          12.640786\n",
       "min           0.000000\n",
       "25%           1.000000\n",
       "50%           3.000000\n",
       "75%           8.000000\n",
       "max         715.000000\n",
       "Name: TNLM, dtype: float64"
      ]
     },
     "execution_count": 128,
     "metadata": {},
     "output_type": "execute_result"
    }
   ],
   "source": [
    "classes_df[\"TNLM\"].describe()"
   ]
  },
  {
   "cell_type": "code",
   "execution_count": 129,
   "metadata": {},
   "outputs": [
    {
     "data": {
      "image/png": "[encoded data removed]",
      "text/plain": [
       "<matplotlib.figure.Figure at 0x1b6dd067c18>"
      ]
     },
     "metadata": {},
     "output_type": "display_data"
    }
   ],
   "source": [
    "sns.countplot(data = classes_df[classes_df[\"TNLM\"] < 20], x = \"TNLM\");"
   ]
  },
  {
   "cell_type": "markdown",
   "metadata": {},
   "source": [
    "#### 9.22) TNLPA"
   ]
  },
  {
   "cell_type": "markdown",
   "metadata": {},
   "source": [
    "*Total number of local public attributes*, número de atributos públicos locales en la clase, incluyendo atributos de clases anidadas, anónimas y locales."
   ]
  },
  {
   "cell_type": "code",
   "execution_count": 130,
   "metadata": {},
   "outputs": [
    {
     "data": {
      "text/plain": [
       "0.8251948508653979"
      ]
     },
     "execution_count": 130,
     "metadata": {},
     "output_type": "execute_result"
    }
   ],
   "source": [
    "classes_df[\"TNLPA\"].corr(classes_df[\"NLPA\"])"
   ]
  },
  {
   "cell_type": "code",
   "execution_count": 131,
   "metadata": {},
   "outputs": [
    {
     "data": {
      "text/plain": [
       "count    182671.000000\n",
       "mean          0.429515\n",
       "std           3.170616\n",
       "min           0.000000\n",
       "25%           0.000000\n",
       "50%           0.000000\n",
       "75%           0.000000\n",
       "max         235.000000\n",
       "Name: TNLPA, dtype: float64"
      ]
     },
     "execution_count": 131,
     "metadata": {},
     "output_type": "execute_result"
    }
   ],
   "source": [
    "classes_df[\"TNLPA\"].describe()"
   ]
  },
  {
   "cell_type": "code",
   "execution_count": 132,
   "metadata": {},
   "outputs": [
    {
     "data": {
      "image/png": "[encoded data removed]",
      "text/plain": [
       "<matplotlib.figure.Figure at 0x1b6809fae48>"
      ]
     },
     "metadata": {},
     "output_type": "display_data"
    }
   ],
   "source": [
    "sns.countplot(data = classes_df[classes_df[\"TNLPA\"] < 20], x = \"TNLPA\");"
   ]
  },
  {
   "cell_type": "markdown",
   "metadata": {},
   "source": [
    "#### 9.23) TNLPM"
   ]
  },
  {
   "cell_type": "markdown",
   "metadata": {},
   "source": [
    "*Total number of local public methods*, número de métodos públicos locales en la clase, incluyendo métodos de clases anidadas, anónimas y locales. Esta característica es casi idéntica a TNLM (Número de métodos locales), por lo que se puede eliminar."
   ]
  },
  {
   "cell_type": "code",
   "execution_count": 133,
   "metadata": {},
   "outputs": [
    {
     "data": {
      "text/plain": [
       "0.9570841799287519"
      ]
     },
     "execution_count": 133,
     "metadata": {},
     "output_type": "execute_result"
    }
   ],
   "source": [
    "classes_df[\"TNLPM\"].corr(classes_df[\"TNLM\"])"
   ]
  },
  {
   "cell_type": "code",
   "execution_count": 134,
   "metadata": {
    "collapsed": true
   },
   "outputs": [],
   "source": [
    "classes_df = classes_df.drop(\"TNLPM\", 1)"
   ]
  },
  {
   "cell_type": "markdown",
   "metadata": {},
   "source": [
    "#### 9.24) TNLS"
   ]
  },
  {
   "cell_type": "markdown",
   "metadata": {},
   "source": [
    "*Total number of local setters*, número de funciones set locales en la clase, incluyendo funciones de clases anidadas, anónimas y locales. Esta característica es casi idéntica a NLS (Número de setters locales), así que se puede eliminar."
   ]
  },
  {
   "cell_type": "code",
   "execution_count": 135,
   "metadata": {},
   "outputs": [
    {
     "data": {
      "text/plain": [
       "0.979777496933896"
      ]
     },
     "execution_count": 135,
     "metadata": {},
     "output_type": "execute_result"
    }
   ],
   "source": [
    "classes_df[\"TNLS\"].corr(classes_df[\"NLS\"])"
   ]
  },
  {
   "cell_type": "code",
   "execution_count": 136,
   "metadata": {
    "collapsed": true
   },
   "outputs": [],
   "source": [
    "classes_df = classes_df.drop(\"TNLS\", 1)"
   ]
  },
  {
   "cell_type": "markdown",
   "metadata": {},
   "source": [
    "#### 9.25) TNM"
   ]
  },
  {
   "cell_type": "markdown",
   "metadata": {},
   "source": [
    "*Total number of methods*, número de métodos de la clase, incluyendo heredados."
   ]
  },
  {
   "cell_type": "code",
   "execution_count": 137,
   "metadata": {},
   "outputs": [
    {
     "data": {
      "text/plain": [
       "count    182671.000000\n",
       "mean         16.010407\n",
       "std          41.203958\n",
       "min           0.000000\n",
       "25%           2.000000\n",
       "50%           6.000000\n",
       "75%          17.000000\n",
       "max        4602.000000\n",
       "Name: TNM, dtype: float64"
      ]
     },
     "execution_count": 137,
     "metadata": {},
     "output_type": "execute_result"
    }
   ],
   "source": [
    "classes_df[\"TNM\"].describe()"
   ]
  },
  {
   "cell_type": "code",
   "execution_count": 138,
   "metadata": {},
   "outputs": [
    {
     "data": {
      "image/png": "[encoded data removed]",
      "text/plain": [
       "<matplotlib.figure.Figure at 0x1b6dc4e6320>"
      ]
     },
     "metadata": {},
     "output_type": "display_data"
    }
   ],
   "source": [
    "sns.countplot(data = classes_df[classes_df[\"TNM\"] < 30], x = \"TNM\");"
   ]
  },
  {
   "cell_type": "markdown",
   "metadata": {},
   "source": [
    "#### 9.26) TNOS"
   ]
  },
  {
   "cell_type": "markdown",
   "metadata": {},
   "source": [
    "*Total number of statements*, número de declaraciones en la clase. Al ser casi idéntica a NOS (Número de declaraciones), se puede eliminar."
   ]
  },
  {
   "cell_type": "code",
   "execution_count": 139,
   "metadata": {},
   "outputs": [
    {
     "data": {
      "text/plain": [
       "0.9752421352975511"
      ]
     },
     "execution_count": 139,
     "metadata": {},
     "output_type": "execute_result"
    }
   ],
   "source": [
    "classes_df[\"NOS\"].corr(classes_df[\"TNOS\"])"
   ]
  },
  {
   "cell_type": "code",
   "execution_count": 140,
   "metadata": {
    "collapsed": true
   },
   "outputs": [],
   "source": [
    "classes_df = classes_df.drop(\"TNOS\", 1)"
   ]
  },
  {
   "cell_type": "markdown",
   "metadata": {},
   "source": [
    "#### 9.27) TNPA"
   ]
  },
  {
   "cell_type": "markdown",
   "metadata": {},
   "source": [
    "*Number of public attributes*, número de atributos públicos en la clase, incluyendo heredados."
   ]
  },
  {
   "cell_type": "code",
   "execution_count": 141,
   "metadata": {},
   "outputs": [
    {
     "data": {
      "text/plain": [
       "0.9169834455548495"
      ]
     },
     "execution_count": 141,
     "metadata": {},
     "output_type": "execute_result"
    }
   ],
   "source": [
    "classes_df[\"NPA\"].corr(classes_df[\"TNPA\"])"
   ]
  },
  {
   "cell_type": "code",
   "execution_count": 142,
   "metadata": {},
   "outputs": [
    {
     "data": {
      "text/plain": [
       "count    182671.000000\n",
       "mean          1.376349\n",
       "std           5.411447\n",
       "min           0.000000\n",
       "25%           0.000000\n",
       "50%           0.000000\n",
       "75%           0.000000\n",
       "max         265.000000\n",
       "Name: TNPA, dtype: float64"
      ]
     },
     "execution_count": 142,
     "metadata": {},
     "output_type": "execute_result"
    }
   ],
   "source": [
    "classes_df[\"TNPA\"].describe()"
   ]
  },
  {
   "cell_type": "code",
   "execution_count": 143,
   "metadata": {},
   "outputs": [
    {
     "data": {
      "image/png": "[encoded data removed]",
      "text/plain": [
       "<matplotlib.figure.Figure at 0x1b6dc50de48>"
      ]
     },
     "metadata": {},
     "output_type": "display_data"
    }
   ],
   "source": [
    "sns.countplot(data = classes_df[classes_df[\"TNPA\"] < 20], x = \"TNPA\");"
   ]
  },
  {
   "cell_type": "markdown",
   "metadata": {},
   "source": [
    "#### 9.28) TNPM"
   ]
  },
  {
   "cell_type": "markdown",
   "metadata": {},
   "source": [
    "*Total number of public methods*. Al ser casi idéntica a TNM (Número de métodos totales), se puede eliminar."
   ]
  },
  {
   "cell_type": "code",
   "execution_count": 144,
   "metadata": {},
   "outputs": [
    {
     "data": {
      "text/plain": [
       "0.9742937461125778"
      ]
     },
     "execution_count": 144,
     "metadata": {},
     "output_type": "execute_result"
    }
   ],
   "source": [
    "classes_df[\"TNPM\"].corr(classes_df[\"TNM\"])"
   ]
  },
  {
   "cell_type": "code",
   "execution_count": 145,
   "metadata": {
    "collapsed": true
   },
   "outputs": [],
   "source": [
    "classes_df = classes_df.drop(\"TNPM\", 1)"
   ]
  },
  {
   "cell_type": "markdown",
   "metadata": {},
   "source": [
    "#### 9.29) TNS"
   ]
  },
  {
   "cell_type": "markdown",
   "metadata": {},
   "source": [
    "*Total number of setters*, incluyendo heredados."
   ]
  },
  {
   "cell_type": "code",
   "execution_count": 146,
   "metadata": {},
   "outputs": [
    {
     "data": {
      "text/plain": [
       "0.7895323826818113"
      ]
     },
     "execution_count": 146,
     "metadata": {},
     "output_type": "execute_result"
    }
   ],
   "source": [
    "classes_df[\"TNS\"].corr(classes_df[\"NS\"])"
   ]
  },
  {
   "cell_type": "code",
   "execution_count": 147,
   "metadata": {},
   "outputs": [
    {
     "data": {
      "text/plain": [
       "count    182671.000000\n",
       "mean          0.958351\n",
       "std           3.806823\n",
       "min           0.000000\n",
       "25%           0.000000\n",
       "50%           0.000000\n",
       "75%           0.000000\n",
       "max         409.000000\n",
       "Name: TNS, dtype: float64"
      ]
     },
     "execution_count": 147,
     "metadata": {},
     "output_type": "execute_result"
    }
   ],
   "source": [
    "classes_df[\"TNS\"].describe()"
   ]
  },
  {
   "cell_type": "code",
   "execution_count": 148,
   "metadata": {},
   "outputs": [
    {
     "data": {
      "image/png": "[encoded data removed]",
      "text/plain": [
       "<matplotlib.figure.Figure at 0x1b6dcea15f8>"
      ]
     },
     "metadata": {},
     "output_type": "display_data"
    }
   ],
   "source": [
    "sns.countplot(data = classes_df[classes_df[\"TNS\"] < 20], x = \"TNS\");"
   ]
  },
  {
   "cell_type": "markdown",
   "metadata": {},
   "source": [
    "#### Resumen métricas de tamaño"
   ]
  },
  {
   "cell_type": "code",
   "execution_count": 149,
   "metadata": {},
   "outputs": [
    {
     "data": {
      "text/html": [
       "<div>\n",
       "<style>\n",
       "    .dataframe thead tr:only-child th {\n",
       "        text-align: right;\n",
       "    }\n",
       "\n",
       "    .dataframe thead th {\n",
       "        text-align: left;\n",
       "    }\n",
       "\n",
       "    .dataframe tbody tr th {\n",
       "        vertical-align: top;\n",
       "    }\n",
       "</style>\n",
       "<table border=\"1\" class=\"dataframe\">\n",
       "  <thead>\n",
       "    <tr style=\"text-align: right;\">\n",
       "      <th></th>\n",
       "      <th>LLOC</th>\n",
       "      <th>LOC</th>\n",
       "      <th>NA</th>\n",
       "      <th>NLG</th>\n",
       "      <th>NLM</th>\n",
       "      <th>NLPA</th>\n",
       "      <th>NLPM</th>\n",
       "      <th>NM</th>\n",
       "      <th>NOS</th>\n",
       "      <th>NPA</th>\n",
       "      <th>NPM</th>\n",
       "      <th>NS</th>\n",
       "      <th>TNA</th>\n",
       "      <th>TNLA</th>\n",
       "      <th>TNLG</th>\n",
       "      <th>TNLM</th>\n",
       "      <th>TNLPA</th>\n",
       "      <th>TNM</th>\n",
       "      <th>TNPA</th>\n",
       "      <th>TNS</th>\n",
       "    </tr>\n",
       "  </thead>\n",
       "  <tbody>\n",
       "    <tr>\n",
       "      <th>LLOC</th>\n",
       "      <td>1.000000</td>\n",
       "      <td>0.984208</td>\n",
       "      <td>NaN</td>\n",
       "      <td>NaN</td>\n",
       "      <td>NaN</td>\n",
       "      <td>NaN</td>\n",
       "      <td>NaN</td>\n",
       "      <td>NaN</td>\n",
       "      <td>0.967288</td>\n",
       "      <td>NaN</td>\n",
       "      <td>NaN</td>\n",
       "      <td>NaN</td>\n",
       "      <td>NaN</td>\n",
       "      <td>NaN</td>\n",
       "      <td>NaN</td>\n",
       "      <td>NaN</td>\n",
       "      <td>NaN</td>\n",
       "      <td>NaN</td>\n",
       "      <td>NaN</td>\n",
       "      <td>NaN</td>\n",
       "    </tr>\n",
       "    <tr>\n",
       "      <th>LOC</th>\n",
       "      <td>0.984208</td>\n",
       "      <td>1.000000</td>\n",
       "      <td>NaN</td>\n",
       "      <td>NaN</td>\n",
       "      <td>NaN</td>\n",
       "      <td>NaN</td>\n",
       "      <td>NaN</td>\n",
       "      <td>NaN</td>\n",
       "      <td>0.941284</td>\n",
       "      <td>NaN</td>\n",
       "      <td>NaN</td>\n",
       "      <td>NaN</td>\n",
       "      <td>NaN</td>\n",
       "      <td>NaN</td>\n",
       "      <td>NaN</td>\n",
       "      <td>NaN</td>\n",
       "      <td>NaN</td>\n",
       "      <td>NaN</td>\n",
       "      <td>NaN</td>\n",
       "      <td>NaN</td>\n",
       "    </tr>\n",
       "    <tr>\n",
       "      <th>NA</th>\n",
       "      <td>NaN</td>\n",
       "      <td>NaN</td>\n",
       "      <td>1.000000</td>\n",
       "      <td>NaN</td>\n",
       "      <td>NaN</td>\n",
       "      <td>NaN</td>\n",
       "      <td>NaN</td>\n",
       "      <td>NaN</td>\n",
       "      <td>NaN</td>\n",
       "      <td>NaN</td>\n",
       "      <td>NaN</td>\n",
       "      <td>NaN</td>\n",
       "      <td>0.904334</td>\n",
       "      <td>NaN</td>\n",
       "      <td>NaN</td>\n",
       "      <td>NaN</td>\n",
       "      <td>NaN</td>\n",
       "      <td>NaN</td>\n",
       "      <td>NaN</td>\n",
       "      <td>NaN</td>\n",
       "    </tr>\n",
       "    <tr>\n",
       "      <th>NLG</th>\n",
       "      <td>NaN</td>\n",
       "      <td>NaN</td>\n",
       "      <td>NaN</td>\n",
       "      <td>1.000000</td>\n",
       "      <td>NaN</td>\n",
       "      <td>NaN</td>\n",
       "      <td>NaN</td>\n",
       "      <td>NaN</td>\n",
       "      <td>NaN</td>\n",
       "      <td>NaN</td>\n",
       "      <td>NaN</td>\n",
       "      <td>NaN</td>\n",
       "      <td>NaN</td>\n",
       "      <td>NaN</td>\n",
       "      <td>0.919032</td>\n",
       "      <td>NaN</td>\n",
       "      <td>NaN</td>\n",
       "      <td>NaN</td>\n",
       "      <td>NaN</td>\n",
       "      <td>NaN</td>\n",
       "    </tr>\n",
       "    <tr>\n",
       "      <th>NLM</th>\n",
       "      <td>NaN</td>\n",
       "      <td>NaN</td>\n",
       "      <td>NaN</td>\n",
       "      <td>NaN</td>\n",
       "      <td>1.000000</td>\n",
       "      <td>NaN</td>\n",
       "      <td>0.947573</td>\n",
       "      <td>NaN</td>\n",
       "      <td>NaN</td>\n",
       "      <td>NaN</td>\n",
       "      <td>NaN</td>\n",
       "      <td>NaN</td>\n",
       "      <td>NaN</td>\n",
       "      <td>NaN</td>\n",
       "      <td>NaN</td>\n",
       "      <td>NaN</td>\n",
       "      <td>NaN</td>\n",
       "      <td>NaN</td>\n",
       "      <td>NaN</td>\n",
       "      <td>NaN</td>\n",
       "    </tr>\n",
       "    <tr>\n",
       "      <th>NLPA</th>\n",
       "      <td>NaN</td>\n",
       "      <td>NaN</td>\n",
       "      <td>NaN</td>\n",
       "      <td>NaN</td>\n",
       "      <td>NaN</td>\n",
       "      <td>1.0</td>\n",
       "      <td>NaN</td>\n",
       "      <td>NaN</td>\n",
       "      <td>NaN</td>\n",
       "      <td>NaN</td>\n",
       "      <td>NaN</td>\n",
       "      <td>NaN</td>\n",
       "      <td>NaN</td>\n",
       "      <td>NaN</td>\n",
       "      <td>NaN</td>\n",
       "      <td>NaN</td>\n",
       "      <td>NaN</td>\n",
       "      <td>NaN</td>\n",
       "      <td>NaN</td>\n",
       "      <td>NaN</td>\n",
       "    </tr>\n",
       "    <tr>\n",
       "      <th>NLPM</th>\n",
       "      <td>NaN</td>\n",
       "      <td>NaN</td>\n",
       "      <td>NaN</td>\n",
       "      <td>NaN</td>\n",
       "      <td>0.947573</td>\n",
       "      <td>NaN</td>\n",
       "      <td>1.000000</td>\n",
       "      <td>NaN</td>\n",
       "      <td>NaN</td>\n",
       "      <td>NaN</td>\n",
       "      <td>NaN</td>\n",
       "      <td>NaN</td>\n",
       "      <td>NaN</td>\n",
       "      <td>NaN</td>\n",
       "      <td>NaN</td>\n",
       "      <td>NaN</td>\n",
       "      <td>NaN</td>\n",
       "      <td>NaN</td>\n",
       "      <td>NaN</td>\n",
       "      <td>NaN</td>\n",
       "    </tr>\n",
       "    <tr>\n",
       "      <th>NM</th>\n",
       "      <td>NaN</td>\n",
       "      <td>NaN</td>\n",
       "      <td>NaN</td>\n",
       "      <td>NaN</td>\n",
       "      <td>NaN</td>\n",
       "      <td>NaN</td>\n",
       "      <td>NaN</td>\n",
       "      <td>1.00000</td>\n",
       "      <td>NaN</td>\n",
       "      <td>NaN</td>\n",
       "      <td>0.95678</td>\n",
       "      <td>NaN</td>\n",
       "      <td>NaN</td>\n",
       "      <td>NaN</td>\n",
       "      <td>NaN</td>\n",
       "      <td>NaN</td>\n",
       "      <td>NaN</td>\n",
       "      <td>NaN</td>\n",
       "      <td>NaN</td>\n",
       "      <td>NaN</td>\n",
       "    </tr>\n",
       "    <tr>\n",
       "      <th>NOS</th>\n",
       "      <td>0.967288</td>\n",
       "      <td>0.941284</td>\n",
       "      <td>NaN</td>\n",
       "      <td>NaN</td>\n",
       "      <td>NaN</td>\n",
       "      <td>NaN</td>\n",
       "      <td>NaN</td>\n",
       "      <td>NaN</td>\n",
       "      <td>1.000000</td>\n",
       "      <td>NaN</td>\n",
       "      <td>NaN</td>\n",
       "      <td>NaN</td>\n",
       "      <td>NaN</td>\n",
       "      <td>NaN</td>\n",
       "      <td>NaN</td>\n",
       "      <td>NaN</td>\n",
       "      <td>NaN</td>\n",
       "      <td>NaN</td>\n",
       "      <td>NaN</td>\n",
       "      <td>NaN</td>\n",
       "    </tr>\n",
       "    <tr>\n",
       "      <th>NPA</th>\n",
       "      <td>NaN</td>\n",
       "      <td>NaN</td>\n",
       "      <td>NaN</td>\n",
       "      <td>NaN</td>\n",
       "      <td>NaN</td>\n",
       "      <td>NaN</td>\n",
       "      <td>NaN</td>\n",
       "      <td>NaN</td>\n",
       "      <td>NaN</td>\n",
       "      <td>1.000000</td>\n",
       "      <td>NaN</td>\n",
       "      <td>NaN</td>\n",
       "      <td>NaN</td>\n",
       "      <td>NaN</td>\n",
       "      <td>NaN</td>\n",
       "      <td>NaN</td>\n",
       "      <td>NaN</td>\n",
       "      <td>NaN</td>\n",
       "      <td>0.916983</td>\n",
       "      <td>NaN</td>\n",
       "    </tr>\n",
       "    <tr>\n",
       "      <th>NPM</th>\n",
       "      <td>NaN</td>\n",
       "      <td>NaN</td>\n",
       "      <td>NaN</td>\n",
       "      <td>NaN</td>\n",
       "      <td>NaN</td>\n",
       "      <td>NaN</td>\n",
       "      <td>NaN</td>\n",
       "      <td>0.95678</td>\n",
       "      <td>NaN</td>\n",
       "      <td>NaN</td>\n",
       "      <td>1.00000</td>\n",
       "      <td>NaN</td>\n",
       "      <td>NaN</td>\n",
       "      <td>NaN</td>\n",
       "      <td>NaN</td>\n",
       "      <td>NaN</td>\n",
       "      <td>NaN</td>\n",
       "      <td>NaN</td>\n",
       "      <td>NaN</td>\n",
       "      <td>NaN</td>\n",
       "    </tr>\n",
       "    <tr>\n",
       "      <th>NS</th>\n",
       "      <td>NaN</td>\n",
       "      <td>NaN</td>\n",
       "      <td>NaN</td>\n",
       "      <td>NaN</td>\n",
       "      <td>NaN</td>\n",
       "      <td>NaN</td>\n",
       "      <td>NaN</td>\n",
       "      <td>NaN</td>\n",
       "      <td>NaN</td>\n",
       "      <td>NaN</td>\n",
       "      <td>NaN</td>\n",
       "      <td>1.0</td>\n",
       "      <td>NaN</td>\n",
       "      <td>NaN</td>\n",
       "      <td>NaN</td>\n",
       "      <td>NaN</td>\n",
       "      <td>NaN</td>\n",
       "      <td>NaN</td>\n",
       "      <td>NaN</td>\n",
       "      <td>NaN</td>\n",
       "    </tr>\n",
       "    <tr>\n",
       "      <th>TNA</th>\n",
       "      <td>NaN</td>\n",
       "      <td>NaN</td>\n",
       "      <td>0.904334</td>\n",
       "      <td>NaN</td>\n",
       "      <td>NaN</td>\n",
       "      <td>NaN</td>\n",
       "      <td>NaN</td>\n",
       "      <td>NaN</td>\n",
       "      <td>NaN</td>\n",
       "      <td>NaN</td>\n",
       "      <td>NaN</td>\n",
       "      <td>NaN</td>\n",
       "      <td>1.000000</td>\n",
       "      <td>NaN</td>\n",
       "      <td>NaN</td>\n",
       "      <td>NaN</td>\n",
       "      <td>NaN</td>\n",
       "      <td>NaN</td>\n",
       "      <td>NaN</td>\n",
       "      <td>NaN</td>\n",
       "    </tr>\n",
       "    <tr>\n",
       "      <th>TNLA</th>\n",
       "      <td>NaN</td>\n",
       "      <td>NaN</td>\n",
       "      <td>NaN</td>\n",
       "      <td>NaN</td>\n",
       "      <td>NaN</td>\n",
       "      <td>NaN</td>\n",
       "      <td>NaN</td>\n",
       "      <td>NaN</td>\n",
       "      <td>NaN</td>\n",
       "      <td>NaN</td>\n",
       "      <td>NaN</td>\n",
       "      <td>NaN</td>\n",
       "      <td>NaN</td>\n",
       "      <td>1.0</td>\n",
       "      <td>NaN</td>\n",
       "      <td>NaN</td>\n",
       "      <td>NaN</td>\n",
       "      <td>NaN</td>\n",
       "      <td>NaN</td>\n",
       "      <td>NaN</td>\n",
       "    </tr>\n",
       "    <tr>\n",
       "      <th>TNLG</th>\n",
       "      <td>NaN</td>\n",
       "      <td>NaN</td>\n",
       "      <td>NaN</td>\n",
       "      <td>0.919032</td>\n",
       "      <td>NaN</td>\n",
       "      <td>NaN</td>\n",
       "      <td>NaN</td>\n",
       "      <td>NaN</td>\n",
       "      <td>NaN</td>\n",
       "      <td>NaN</td>\n",
       "      <td>NaN</td>\n",
       "      <td>NaN</td>\n",
       "      <td>NaN</td>\n",
       "      <td>NaN</td>\n",
       "      <td>1.000000</td>\n",
       "      <td>NaN</td>\n",
       "      <td>NaN</td>\n",
       "      <td>NaN</td>\n",
       "      <td>NaN</td>\n",
       "      <td>NaN</td>\n",
       "    </tr>\n",
       "    <tr>\n",
       "      <th>TNLM</th>\n",
       "      <td>NaN</td>\n",
       "      <td>NaN</td>\n",
       "      <td>NaN</td>\n",
       "      <td>NaN</td>\n",
       "      <td>NaN</td>\n",
       "      <td>NaN</td>\n",
       "      <td>NaN</td>\n",
       "      <td>NaN</td>\n",
       "      <td>NaN</td>\n",
       "      <td>NaN</td>\n",
       "      <td>NaN</td>\n",
       "      <td>NaN</td>\n",
       "      <td>NaN</td>\n",
       "      <td>NaN</td>\n",
       "      <td>NaN</td>\n",
       "      <td>1.0</td>\n",
       "      <td>NaN</td>\n",
       "      <td>NaN</td>\n",
       "      <td>NaN</td>\n",
       "      <td>NaN</td>\n",
       "    </tr>\n",
       "    <tr>\n",
       "      <th>TNLPA</th>\n",
       "      <td>NaN</td>\n",
       "      <td>NaN</td>\n",
       "      <td>NaN</td>\n",
       "      <td>NaN</td>\n",
       "      <td>NaN</td>\n",
       "      <td>NaN</td>\n",
       "      <td>NaN</td>\n",
       "      <td>NaN</td>\n",
       "      <td>NaN</td>\n",
       "      <td>NaN</td>\n",
       "      <td>NaN</td>\n",
       "      <td>NaN</td>\n",
       "      <td>NaN</td>\n",
       "      <td>NaN</td>\n",
       "      <td>NaN</td>\n",
       "      <td>NaN</td>\n",
       "      <td>1.0</td>\n",
       "      <td>NaN</td>\n",
       "      <td>NaN</td>\n",
       "      <td>NaN</td>\n",
       "    </tr>\n",
       "    <tr>\n",
       "      <th>TNM</th>\n",
       "      <td>NaN</td>\n",
       "      <td>NaN</td>\n",
       "      <td>NaN</td>\n",
       "      <td>NaN</td>\n",
       "      <td>NaN</td>\n",
       "      <td>NaN</td>\n",
       "      <td>NaN</td>\n",
       "      <td>NaN</td>\n",
       "      <td>NaN</td>\n",
       "      <td>NaN</td>\n",
       "      <td>NaN</td>\n",
       "      <td>NaN</td>\n",
       "      <td>NaN</td>\n",
       "      <td>NaN</td>\n",
       "      <td>NaN</td>\n",
       "      <td>NaN</td>\n",
       "      <td>NaN</td>\n",
       "      <td>1.0</td>\n",
       "      <td>NaN</td>\n",
       "      <td>NaN</td>\n",
       "    </tr>\n",
       "    <tr>\n",
       "      <th>TNPA</th>\n",
       "      <td>NaN</td>\n",
       "      <td>NaN</td>\n",
       "      <td>NaN</td>\n",
       "      <td>NaN</td>\n",
       "      <td>NaN</td>\n",
       "      <td>NaN</td>\n",
       "      <td>NaN</td>\n",
       "      <td>NaN</td>\n",
       "      <td>NaN</td>\n",
       "      <td>0.916983</td>\n",
       "      <td>NaN</td>\n",
       "      <td>NaN</td>\n",
       "      <td>NaN</td>\n",
       "      <td>NaN</td>\n",
       "      <td>NaN</td>\n",
       "      <td>NaN</td>\n",
       "      <td>NaN</td>\n",
       "      <td>NaN</td>\n",
       "      <td>1.000000</td>\n",
       "      <td>NaN</td>\n",
       "    </tr>\n",
       "    <tr>\n",
       "      <th>TNS</th>\n",
       "      <td>NaN</td>\n",
       "      <td>NaN</td>\n",
       "      <td>NaN</td>\n",
       "      <td>NaN</td>\n",
       "      <td>NaN</td>\n",
       "      <td>NaN</td>\n",
       "      <td>NaN</td>\n",
       "      <td>NaN</td>\n",
       "      <td>NaN</td>\n",
       "      <td>NaN</td>\n",
       "      <td>NaN</td>\n",
       "      <td>NaN</td>\n",
       "      <td>NaN</td>\n",
       "      <td>NaN</td>\n",
       "      <td>NaN</td>\n",
       "      <td>NaN</td>\n",
       "      <td>NaN</td>\n",
       "      <td>NaN</td>\n",
       "      <td>NaN</td>\n",
       "      <td>1.0</td>\n",
       "    </tr>\n",
       "  </tbody>\n",
       "</table>\n",
       "</div>"
      ],
      "text/plain": [
       "           LLOC       LOC        NA       NLG       NLM  NLPA      NLPM  \\\n",
       "LLOC   1.000000  0.984208       NaN       NaN       NaN   NaN       NaN   \n",
       "LOC    0.984208  1.000000       NaN       NaN       NaN   NaN       NaN   \n",
       "NA          NaN       NaN  1.000000       NaN       NaN   NaN       NaN   \n",
       "NLG         NaN       NaN       NaN  1.000000       NaN   NaN       NaN   \n",
       "NLM         NaN       NaN       NaN       NaN  1.000000   NaN  0.947573   \n",
       "NLPA        NaN       NaN       NaN       NaN       NaN   1.0       NaN   \n",
       "NLPM        NaN       NaN       NaN       NaN  0.947573   NaN  1.000000   \n",
       "NM          NaN       NaN       NaN       NaN       NaN   NaN       NaN   \n",
       "NOS    0.967288  0.941284       NaN       NaN       NaN   NaN       NaN   \n",
       "NPA         NaN       NaN       NaN       NaN       NaN   NaN       NaN   \n",
       "NPM         NaN       NaN       NaN       NaN       NaN   NaN       NaN   \n",
       "NS          NaN       NaN       NaN       NaN       NaN   NaN       NaN   \n",
       "TNA         NaN       NaN  0.904334       NaN       NaN   NaN       NaN   \n",
       "TNLA        NaN       NaN       NaN       NaN       NaN   NaN       NaN   \n",
       "TNLG        NaN       NaN       NaN  0.919032       NaN   NaN       NaN   \n",
       "TNLM        NaN       NaN       NaN       NaN       NaN   NaN       NaN   \n",
       "TNLPA       NaN       NaN       NaN       NaN       NaN   NaN       NaN   \n",
       "TNM         NaN       NaN       NaN       NaN       NaN   NaN       NaN   \n",
       "TNPA        NaN       NaN       NaN       NaN       NaN   NaN       NaN   \n",
       "TNS         NaN       NaN       NaN       NaN       NaN   NaN       NaN   \n",
       "\n",
       "            NM       NOS       NPA      NPM   NS       TNA  TNLA      TNLG  \\\n",
       "LLOC       NaN  0.967288       NaN      NaN  NaN       NaN   NaN       NaN   \n",
       "LOC        NaN  0.941284       NaN      NaN  NaN       NaN   NaN       NaN   \n",
       "NA         NaN       NaN       NaN      NaN  NaN  0.904334   NaN       NaN   \n",
       "NLG        NaN       NaN       NaN      NaN  NaN       NaN   NaN  0.919032   \n",
       "NLM        NaN       NaN       NaN      NaN  NaN       NaN   NaN       NaN   \n",
       "NLPA       NaN       NaN       NaN      NaN  NaN       NaN   NaN       NaN   \n",
       "NLPM       NaN       NaN       NaN      NaN  NaN       NaN   NaN       NaN   \n",
       "NM     1.00000       NaN       NaN  0.95678  NaN       NaN   NaN       NaN   \n",
       "NOS        NaN  1.000000       NaN      NaN  NaN       NaN   NaN       NaN   \n",
       "NPA        NaN       NaN  1.000000      NaN  NaN       NaN   NaN       NaN   \n",
       "NPM    0.95678       NaN       NaN  1.00000  NaN       NaN   NaN       NaN   \n",
       "NS         NaN       NaN       NaN      NaN  1.0       NaN   NaN       NaN   \n",
       "TNA        NaN       NaN       NaN      NaN  NaN  1.000000   NaN       NaN   \n",
       "TNLA       NaN       NaN       NaN      NaN  NaN       NaN   1.0       NaN   \n",
       "TNLG       NaN       NaN       NaN      NaN  NaN       NaN   NaN  1.000000   \n",
       "TNLM       NaN       NaN       NaN      NaN  NaN       NaN   NaN       NaN   \n",
       "TNLPA      NaN       NaN       NaN      NaN  NaN       NaN   NaN       NaN   \n",
       "TNM        NaN       NaN       NaN      NaN  NaN       NaN   NaN       NaN   \n",
       "TNPA       NaN       NaN  0.916983      NaN  NaN       NaN   NaN       NaN   \n",
       "TNS        NaN       NaN       NaN      NaN  NaN       NaN   NaN       NaN   \n",
       "\n",
       "       TNLM  TNLPA  TNM      TNPA  TNS  \n",
       "LLOC    NaN    NaN  NaN       NaN  NaN  \n",
       "LOC     NaN    NaN  NaN       NaN  NaN  \n",
       "NA      NaN    NaN  NaN       NaN  NaN  \n",
       "NLG     NaN    NaN  NaN       NaN  NaN  \n",
       "NLM     NaN    NaN  NaN       NaN  NaN  \n",
       "NLPA    NaN    NaN  NaN       NaN  NaN  \n",
       "NLPM    NaN    NaN  NaN       NaN  NaN  \n",
       "NM      NaN    NaN  NaN       NaN  NaN  \n",
       "NOS     NaN    NaN  NaN       NaN  NaN  \n",
       "NPA     NaN    NaN  NaN  0.916983  NaN  \n",
       "NPM     NaN    NaN  NaN       NaN  NaN  \n",
       "NS      NaN    NaN  NaN       NaN  NaN  \n",
       "TNA     NaN    NaN  NaN       NaN  NaN  \n",
       "TNLA    NaN    NaN  NaN       NaN  NaN  \n",
       "TNLG    NaN    NaN  NaN       NaN  NaN  \n",
       "TNLM    1.0    NaN  NaN       NaN  NaN  \n",
       "TNLPA   NaN    1.0  NaN       NaN  NaN  \n",
       "TNM     NaN    NaN  1.0       NaN  NaN  \n",
       "TNPA    NaN    NaN  NaN  1.000000  NaN  \n",
       "TNS     NaN    NaN  NaN       NaN  1.0  "
      ]
     },
     "execution_count": 149,
     "metadata": {},
     "output_type": "execute_result"
    }
   ],
   "source": [
    "prueba = classes_df[[\"LLOC\", \"LOC\", \"NA\", \"NLG\", \"NLM\", \"NLPA\", \"NLPM\", \"NM\", \"NOS\", \"NPA\", \"NPM\", \"NS\", \"TNA\", \"TNLA\", \"TNLG\", \"TNLM\", \"TNLPA\", \"TNM\", \"TNPA\", \"TNS\"]].corr()\n",
    "prueba[prueba > 0.9]"
   ]
  },
  {
   "cell_type": "markdown",
   "metadata": {},
   "source": [
    "Vemos como entre LLOC y LOC hay una correlación muy fuerte (más del 98%), entre NLPM y NLM hay una correlación de casi el 95%, y entre NM y NPM hay una correlación de más del 95% por lo que eliminaremos una variable de cada par."
   ]
  },
  {
   "cell_type": "code",
   "execution_count": 150,
   "metadata": {
    "collapsed": true
   },
   "outputs": [],
   "source": [
    "classes_df = classes_df.drop([\"LLOC\", \"NLPM\", \"NPM\"], 1)"
   ]
  },
  {
   "cell_type": "markdown",
   "metadata": {},
   "source": [
    "### 10) Warnings"
   ]
  },
  {
   "cell_type": "markdown",
   "metadata": {},
   "source": [
    "#### 10.1) WarningBlocker"
   ]
  },
  {
   "cell_type": "code",
   "execution_count": 151,
   "metadata": {},
   "outputs": [
    {
     "data": {
      "text/plain": [
       "count    182671.000000\n",
       "mean          0.000066\n",
       "std           0.008105\n",
       "min           0.000000\n",
       "25%           0.000000\n",
       "50%           0.000000\n",
       "75%           0.000000\n",
       "max           1.000000\n",
       "Name: WarningBlocker, dtype: float64"
      ]
     },
     "execution_count": 151,
     "metadata": {},
     "output_type": "execute_result"
    }
   ],
   "source": [
    "classes_df[\"WarningBlocker\"].describe()"
   ]
  },
  {
   "cell_type": "code",
   "execution_count": 152,
   "metadata": {},
   "outputs": [
    {
     "data": {
      "image/png": "[encoded data removed]",
      "text/plain": [
       "<matplotlib.figure.Figure at 0x1b6dc4ed470>"
      ]
     },
     "metadata": {},
     "output_type": "display_data"
    }
   ],
   "source": [
    "sns.countplot(data = classes_df, x = \"WarningBlocker\");"
   ]
  },
  {
   "cell_type": "code",
   "execution_count": 153,
   "metadata": {},
   "outputs": [
    {
     "data": {
      "text/plain": [
       "12"
      ]
     },
     "execution_count": 153,
     "metadata": {},
     "output_type": "execute_result"
    }
   ],
   "source": [
    "len(classes_df[classes_df[\"WarningBlocker\"] == 1])"
   ]
  },
  {
   "cell_type": "markdown",
   "metadata": {},
   "source": [
    "Debido a que solo hay 12 casos de los 182671 casos con este valor a 1 lo podemos eliminar."
   ]
  },
  {
   "cell_type": "code",
   "execution_count": 154,
   "metadata": {
    "collapsed": true
   },
   "outputs": [],
   "source": [
    "classes_df = classes_df.drop(\"WarningBlocker\", 1)"
   ]
  },
  {
   "cell_type": "markdown",
   "metadata": {},
   "source": [
    "#### 10.2) WarningCritical"
   ]
  },
  {
   "cell_type": "code",
   "execution_count": 155,
   "metadata": {},
   "outputs": [
    {
     "data": {
      "text/plain": [
       "count    182671.000000\n",
       "mean          0.209924\n",
       "std           1.622087\n",
       "min           0.000000\n",
       "25%           0.000000\n",
       "50%           0.000000\n",
       "75%           0.000000\n",
       "max          92.000000\n",
       "Name: WarningCritical, dtype: float64"
      ]
     },
     "execution_count": 155,
     "metadata": {},
     "output_type": "execute_result"
    }
   ],
   "source": [
    "classes_df[\"WarningCritical\"].describe()"
   ]
  },
  {
   "cell_type": "code",
   "execution_count": 156,
   "metadata": {},
   "outputs": [
    {
     "data": {
      "image/png": "[encoded data removed]",
      "text/plain": [
       "<matplotlib.figure.Figure at 0x1b68090de80>"
      ]
     },
     "metadata": {},
     "output_type": "display_data"
    }
   ],
   "source": [
    "sns.countplot(data = classes_df[classes_df[\"WarningCritical\"] < 20], x = \"WarningCritical\");"
   ]
  },
  {
   "cell_type": "code",
   "execution_count": 157,
   "metadata": {},
   "outputs": [
    {
     "data": {
      "text/plain": [
       "13785"
      ]
     },
     "execution_count": 157,
     "metadata": {},
     "output_type": "execute_result"
    }
   ],
   "source": [
    "len(classes_df[classes_df[\"WarningCritical\"] > 0])"
   ]
  },
  {
   "cell_type": "markdown",
   "metadata": {},
   "source": [
    "#### 10.3) WarningInfo"
   ]
  },
  {
   "cell_type": "code",
   "execution_count": 158,
   "metadata": {},
   "outputs": [
    {
     "data": {
      "text/plain": [
       "count    182671.000000\n",
       "mean         25.498875\n",
       "std          47.716915\n",
       "min           0.000000\n",
       "25%           7.000000\n",
       "50%          13.000000\n",
       "75%          26.000000\n",
       "max        2889.000000\n",
       "Name: WarningInfo, dtype: float64"
      ]
     },
     "execution_count": 158,
     "metadata": {},
     "output_type": "execute_result"
    }
   ],
   "source": [
    "classes_df[\"WarningInfo\"].describe()"
   ]
  },
  {
   "cell_type": "code",
   "execution_count": 159,
   "metadata": {},
   "outputs": [
    {
     "data": {
      "image/png": "[encoded data removed]",
      "text/plain": [
       "<matplotlib.figure.Figure at 0x1b680ac3c50>"
      ]
     },
     "metadata": {},
     "output_type": "display_data"
    }
   ],
   "source": [
    "sns.countplot(data = classes_df[classes_df[\"WarningInfo\"] <= 30], x = \"WarningInfo\");"
   ]
  },
  {
   "cell_type": "markdown",
   "metadata": {},
   "source": [
    "#### 10.4) WarningMajor"
   ]
  },
  {
   "cell_type": "code",
   "execution_count": 160,
   "metadata": {},
   "outputs": [
    {
     "data": {
      "text/plain": [
       "count    182671.000000\n",
       "mean          1.439128\n",
       "std           5.810139\n",
       "min           0.000000\n",
       "25%           0.000000\n",
       "50%           0.000000\n",
       "75%           1.000000\n",
       "max         778.000000\n",
       "Name: WarningMajor, dtype: float64"
      ]
     },
     "execution_count": 160,
     "metadata": {},
     "output_type": "execute_result"
    }
   ],
   "source": [
    "classes_df[\"WarningMajor\"].describe()"
   ]
  },
  {
   "cell_type": "code",
   "execution_count": 161,
   "metadata": {},
   "outputs": [
    {
     "data": {
      "image/png": "[encoded data removed]",
      "text/plain": [
       "<matplotlib.figure.Figure at 0x1b680b5cef0>"
      ]
     },
     "metadata": {},
     "output_type": "display_data"
    }
   ],
   "source": [
    "sns.countplot(data = classes_df[classes_df[\"WarningMajor\"] < 20], x = \"WarningMajor\");"
   ]
  },
  {
   "cell_type": "code",
   "execution_count": 162,
   "metadata": {},
   "outputs": [
    {
     "data": {
      "text/plain": [
       "62252"
      ]
     },
     "execution_count": 162,
     "metadata": {},
     "output_type": "execute_result"
    }
   ],
   "source": [
    "len(classes_df[classes_df[\"WarningMajor\"] > 0])"
   ]
  },
  {
   "cell_type": "markdown",
   "metadata": {},
   "source": [
    "#### 10.5) WarningMinor"
   ]
  },
  {
   "cell_type": "code",
   "execution_count": 163,
   "metadata": {},
   "outputs": [
    {
     "data": {
      "text/plain": [
       "count    182671.000000\n",
       "mean          6.106810\n",
       "std          38.177391\n",
       "min           0.000000\n",
       "25%           0.000000\n",
       "50%           1.000000\n",
       "75%           5.000000\n",
       "max        4541.000000\n",
       "Name: WarningMinor, dtype: float64"
      ]
     },
     "execution_count": 163,
     "metadata": {},
     "output_type": "execute_result"
    }
   ],
   "source": [
    "classes_df[\"WarningMinor\"].describe()"
   ]
  },
  {
   "cell_type": "code",
   "execution_count": 164,
   "metadata": {},
   "outputs": [
    {
     "data": {
      "image/png": "[encoded data removed]",
      "text/plain": [
       "<matplotlib.figure.Figure at 0x1b680a3de48>"
      ]
     },
     "metadata": {},
     "output_type": "display_data"
    }
   ],
   "source": [
    "sns.countplot(data = classes_df[classes_df[\"WarningMinor\"] < 20], x = \"WarningMinor\");"
   ]
  },
  {
   "cell_type": "code",
   "execution_count": 165,
   "metadata": {},
   "outputs": [
    {
     "data": {
      "text/plain": [
       "112334"
      ]
     },
     "execution_count": 165,
     "metadata": {},
     "output_type": "execute_result"
    }
   ],
   "source": [
    "len(classes_df[classes_df[\"WarningMinor\"] > 0])"
   ]
  },
  {
   "cell_type": "markdown",
   "metadata": {},
   "source": [
    "### 11) Rules violation"
   ]
  },
  {
   "cell_type": "code",
   "execution_count": 166,
   "metadata": {
    "collapsed": true
   },
   "outputs": [],
   "source": [
    "def lookRuleAtt(att):\n",
    "    # Descrbie de la variable\n",
    "    print(classes_df[att].describe())\n",
    "    # Numero de casos distintos de 0\n",
    "    l = len(classes_df[classes_df[att] > 0])\n",
    "    ratio = l / len(classes_df)\n",
    "    print(\"Casos distintos de 0: \", l)\n",
    "    # Si representan mas del 5%, imprimir distribucion de los primeros valores\n",
    "    if (ratio >= 0.05):\n",
    "        sns.countplot(data = classes_df[classes_df[att] < 20], x = att);"
   ]
  },
  {
   "cell_type": "markdown",
   "metadata": {},
   "source": [
    "#### 11.1) Android Rules"
   ]
  },
  {
   "cell_type": "code",
   "execution_count": 167,
   "metadata": {},
   "outputs": [
    {
     "name": "stdout",
     "output_type": "stream",
     "text": [
      "count    182671.000000\n",
      "mean          0.000153\n",
      "std           0.017818\n",
      "min           0.000000\n",
      "25%           0.000000\n",
      "50%           0.000000\n",
      "75%           0.000000\n",
      "max           3.000000\n",
      "Name: Android Rules, dtype: float64\n",
      "Casos distintos de 0:  16\n"
     ]
    }
   ],
   "source": [
    "lookRuleAtt(\"Android Rules\")"
   ]
  },
  {
   "cell_type": "markdown",
   "metadata": {},
   "source": [
    "Debido a que solo hay 16 valores distintos de 0 en nuestro conjunto de entrenamiento se puede eliminar este atributo."
   ]
  },
  {
   "cell_type": "code",
   "execution_count": 168,
   "metadata": {
    "collapsed": true
   },
   "outputs": [],
   "source": [
    "classes_df = classes_df.drop(\"Android Rules\", 1)"
   ]
  },
  {
   "cell_type": "markdown",
   "metadata": {},
   "source": [
    "#### 11.2) Basic Rules"
   ]
  },
  {
   "cell_type": "markdown",
   "metadata": {},
   "source": [
    "Violación de conjunto de reglas básicas. "
   ]
  },
  {
   "cell_type": "code",
   "execution_count": 169,
   "metadata": {},
   "outputs": [
    {
     "name": "stdout",
     "output_type": "stream",
     "text": [
      "count    182671.000000\n",
      "mean          0.154261\n",
      "std           6.066099\n",
      "min           0.000000\n",
      "25%           0.000000\n",
      "50%           0.000000\n",
      "75%           0.000000\n",
      "max         925.000000\n",
      "Name: Basic Rules, dtype: float64\n",
      "Casos distintos de 0:  9583\n"
     ]
    },
    {
     "data": {
      "image/png": "[encoded data removed]",
      "text/plain": [
       "<matplotlib.figure.Figure at 0x1b6fce39d30>"
      ]
     },
     "metadata": {},
     "output_type": "display_data"
    }
   ],
   "source": [
    "lookRuleAtt(\"Basic Rules\")"
   ]
  },
  {
   "cell_type": "markdown",
   "metadata": {},
   "source": [
    "#### 11.3) Brace Rules"
   ]
  },
  {
   "cell_type": "markdown",
   "metadata": {},
   "source": [
    "Violación de reglas relacionadas con el uso y colocación de llaves."
   ]
  },
  {
   "cell_type": "code",
   "execution_count": 170,
   "metadata": {},
   "outputs": [
    {
     "name": "stdout",
     "output_type": "stream",
     "text": [
      "count    182671.000000\n",
      "mean          1.228641\n",
      "std          10.216323\n",
      "min           0.000000\n",
      "25%           0.000000\n",
      "50%           0.000000\n",
      "75%           0.000000\n",
      "max        2324.000000\n",
      "Name: Brace Rules, dtype: float64\n",
      "Casos distintos de 0:  21165\n"
     ]
    },
    {
     "data": {
      "image/png": "[encoded data removed]",
      "text/plain": [
       "<matplotlib.figure.Figure at 0x1b681305208>"
      ]
     },
     "metadata": {},
     "output_type": "display_data"
    }
   ],
   "source": [
    "lookRuleAtt(\"Brace Rules\")"
   ]
  },
  {
   "cell_type": "markdown",
   "metadata": {},
   "source": [
    "#### 11.4) Clone Implementation Rules"
   ]
  },
  {
   "cell_type": "code",
   "execution_count": 171,
   "metadata": {},
   "outputs": [
    {
     "name": "stdout",
     "output_type": "stream",
     "text": [
      "count    182671.000000\n",
      "mean          0.004379\n",
      "std           0.079843\n",
      "min           0.000000\n",
      "25%           0.000000\n",
      "50%           0.000000\n",
      "75%           0.000000\n",
      "max           5.000000\n",
      "Name: Clone Implementation Rules, dtype: float64\n",
      "Casos distintos de 0:  634\n"
     ]
    }
   ],
   "source": [
    "lookRuleAtt(\"Clone Implementation Rules\")"
   ]
  },
  {
   "cell_type": "markdown",
   "metadata": {},
   "source": [
    "Al haber muy pocos valores distintos de 0 se puede eliminar."
   ]
  },
  {
   "cell_type": "code",
   "execution_count": 172,
   "metadata": {
    "collapsed": true
   },
   "outputs": [],
   "source": [
    "classes_df = classes_df.drop(\"Clone Implementation Rules\", 1)"
   ]
  },
  {
   "cell_type": "markdown",
   "metadata": {},
   "source": [
    "#### 11.5) Clone Metric Rules"
   ]
  },
  {
   "cell_type": "code",
   "execution_count": 173,
   "metadata": {},
   "outputs": [
    {
     "name": "stdout",
     "output_type": "stream",
     "text": [
      "count    182671.000000\n",
      "mean          6.097366\n",
      "std          21.963008\n",
      "min           0.000000\n",
      "25%           0.000000\n",
      "50%           0.000000\n",
      "75%           0.000000\n",
      "max        1053.000000\n",
      "Name: Clone Metric Rules, dtype: float64\n",
      "Casos distintos de 0:  45457\n"
     ]
    },
    {
     "data": {
      "image/png": "[encoded data removed]",
      "text/plain": [
       "<matplotlib.figure.Figure at 0x1b6dc4287b8>"
      ]
     },
     "metadata": {},
     "output_type": "display_data"
    }
   ],
   "source": [
    "lookRuleAtt(\"Clone Metric Rules\")"
   ]
  },
  {
   "cell_type": "code",
   "execution_count": 174,
   "metadata": {},
   "outputs": [
    {
     "data": {
      "image/png": "[encoded data removed]",
      "text/plain": [
       "<matplotlib.figure.Figure at 0x1b6fce9ae48>"
      ]
     },
     "metadata": {},
     "output_type": "display_data"
    }
   ],
   "source": [
    "sns.countplot(data = classes_df[(classes_df[\"Clone Metric Rules\"] > 0) & (classes_df[\"Clone Metric Rules\"] < 50)], x = \"Clone Metric Rules\");"
   ]
  },
  {
   "cell_type": "markdown",
   "metadata": {},
   "source": [
    "#### 11.6) Code Size Rules"
   ]
  },
  {
   "cell_type": "code",
   "execution_count": 175,
   "metadata": {},
   "outputs": [
    {
     "name": "stdout",
     "output_type": "stream",
     "text": [
      "count    182671.0\n",
      "mean          0.0\n",
      "std           0.0\n",
      "min           0.0\n",
      "25%           0.0\n",
      "50%           0.0\n",
      "75%           0.0\n",
      "max           0.0\n",
      "Name: Code Size Rules, dtype: float64\n",
      "Casos distintos de 0:  0\n"
     ]
    }
   ],
   "source": [
    "lookRuleAtt(\"Code Size Rules\")"
   ]
  },
  {
   "cell_type": "markdown",
   "metadata": {},
   "source": [
    "Todos los valores son 0, se puede eliminar."
   ]
  },
  {
   "cell_type": "code",
   "execution_count": 176,
   "metadata": {
    "collapsed": true
   },
   "outputs": [],
   "source": [
    "classes_df = classes_df.drop(\"Code Size Rules\", 1)"
   ]
  },
  {
   "cell_type": "markdown",
   "metadata": {},
   "source": [
    "#### 11.7) Cohesion Metric Rules"
   ]
  },
  {
   "cell_type": "code",
   "execution_count": 177,
   "metadata": {},
   "outputs": [
    {
     "name": "stdout",
     "output_type": "stream",
     "text": [
      "count    182671.000000\n",
      "mean          0.373743\n",
      "std           0.849635\n",
      "min           0.000000\n",
      "25%           0.000000\n",
      "50%           0.000000\n",
      "75%           1.000000\n",
      "max          48.000000\n",
      "Name: Cohesion Metric Rules, dtype: float64\n",
      "Casos distintos de 0:  55183\n"
     ]
    },
    {
     "data": {
      "image/png": "[encoded data removed]",
      "text/plain": [
       "<matplotlib.figure.Figure at 0x1b6fce9c780>"
      ]
     },
     "metadata": {},
     "output_type": "display_data"
    }
   ],
   "source": [
    "lookRuleAtt(\"Cohesion Metric Rules\")"
   ]
  },
  {
   "cell_type": "markdown",
   "metadata": {},
   "source": [
    "#### 11.8) Comment Rules"
   ]
  },
  {
   "cell_type": "code",
   "execution_count": 178,
   "metadata": {},
   "outputs": [
    {
     "name": "stdout",
     "output_type": "stream",
     "text": [
      "count    182671.0\n",
      "mean          0.0\n",
      "std           0.0\n",
      "min           0.0\n",
      "25%           0.0\n",
      "50%           0.0\n",
      "75%           0.0\n",
      "max           0.0\n",
      "Name: Comment Rules, dtype: float64\n",
      "Casos distintos de 0:  0\n"
     ]
    }
   ],
   "source": [
    "lookRuleAtt(\"Comment Rules\")"
   ]
  },
  {
   "cell_type": "markdown",
   "metadata": {},
   "source": [
    "Al ser todos los valores 0, se puede eliminar."
   ]
  },
  {
   "cell_type": "code",
   "execution_count": 179,
   "metadata": {
    "collapsed": true
   },
   "outputs": [],
   "source": [
    "classes_df = classes_df.drop(\"Comment Rules\", 1)"
   ]
  },
  {
   "cell_type": "markdown",
   "metadata": {},
   "source": [
    "#### 11.9) Complexity Metric Rules"
   ]
  },
  {
   "cell_type": "code",
   "execution_count": 180,
   "metadata": {},
   "outputs": [
    {
     "name": "stdout",
     "output_type": "stream",
     "text": [
      "count    182671.000000\n",
      "mean          0.370513\n",
      "std           1.855223\n",
      "min           0.000000\n",
      "25%           0.000000\n",
      "50%           0.000000\n",
      "75%           0.000000\n",
      "max         203.000000\n",
      "Name: Complexity Metric Rules, dtype: float64\n",
      "Casos distintos de 0:  18414\n"
     ]
    },
    {
     "data": {
      "image/png": "[encoded data removed]",
      "text/plain": [
       "<matplotlib.figure.Figure at 0x1b680bd8908>"
      ]
     },
     "metadata": {},
     "output_type": "display_data"
    }
   ],
   "source": [
    "lookRuleAtt(\"Complexity Metric Rules\")"
   ]
  },
  {
   "cell_type": "markdown",
   "metadata": {},
   "source": [
    "#### 11.10) Controversial Rules"
   ]
  },
  {
   "cell_type": "code",
   "execution_count": 181,
   "metadata": {},
   "outputs": [
    {
     "name": "stdout",
     "output_type": "stream",
     "text": [
      "count    182671.000000\n",
      "mean          0.710107\n",
      "std           3.275399\n",
      "min           0.000000\n",
      "25%           0.000000\n",
      "50%           0.000000\n",
      "75%           0.000000\n",
      "max         296.000000\n",
      "Name: Controversial Rules, dtype: float64\n",
      "Casos distintos de 0:  34396\n"
     ]
    },
    {
     "data": {
      "image/png": "[encoded data removed]",
      "text/plain": [
       "<matplotlib.figure.Figure at 0x1b6fbf85c50>"
      ]
     },
     "metadata": {},
     "output_type": "display_data"
    }
   ],
   "source": [
    "lookRuleAtt(\"Controversial Rules\")"
   ]
  },
  {
   "cell_type": "markdown",
   "metadata": {},
   "source": [
    "#### 11.11) Coupling Metric Rules"
   ]
  },
  {
   "cell_type": "code",
   "execution_count": 182,
   "metadata": {},
   "outputs": [
    {
     "name": "stdout",
     "output_type": "stream",
     "text": [
      "count    182671.000000\n",
      "mean          0.474219\n",
      "std           1.780321\n",
      "min           0.000000\n",
      "25%           0.000000\n",
      "50%           0.000000\n",
      "75%           0.000000\n",
      "max          80.000000\n",
      "Name: Coupling Metric Rules, dtype: float64\n",
      "Casos distintos de 0:  33420\n"
     ]
    },
    {
     "data": {
      "image/png": "[encoded data removed]",
      "text/plain": [
       "<matplotlib.figure.Figure at 0x1b68130a240>"
      ]
     },
     "metadata": {},
     "output_type": "display_data"
    }
   ],
   "source": [
    "lookRuleAtt(\"Coupling Metric Rules\")"
   ]
  },
  {
   "cell_type": "markdown",
   "metadata": {},
   "source": [
    "#### 11.12) Coupling Rules"
   ]
  },
  {
   "cell_type": "code",
   "execution_count": 183,
   "metadata": {},
   "outputs": [
    {
     "name": "stdout",
     "output_type": "stream",
     "text": [
      "count    182671.0\n",
      "mean          0.0\n",
      "std           0.0\n",
      "min           0.0\n",
      "25%           0.0\n",
      "50%           0.0\n",
      "75%           0.0\n",
      "max           0.0\n",
      "Name: Coupling Rules, dtype: float64\n",
      "Casos distintos de 0:  0\n"
     ]
    }
   ],
   "source": [
    "lookRuleAtt(\"Coupling Rules\")"
   ]
  },
  {
   "cell_type": "markdown",
   "metadata": {},
   "source": [
    "Al ser todos los valores 0, se puede eliminar esta variable."
   ]
  },
  {
   "cell_type": "code",
   "execution_count": 184,
   "metadata": {
    "collapsed": true
   },
   "outputs": [],
   "source": [
    "classes_df = classes_df.drop(\"Coupling Rules\", 1)"
   ]
  },
  {
   "cell_type": "markdown",
   "metadata": {},
   "source": [
    "#### 11.13) Design Rules"
   ]
  },
  {
   "cell_type": "code",
   "execution_count": 185,
   "metadata": {},
   "outputs": [
    {
     "name": "stdout",
     "output_type": "stream",
     "text": [
      "count    182671.000000\n",
      "mean          2.093102\n",
      "std           8.393986\n",
      "min           0.000000\n",
      "25%           0.000000\n",
      "50%           0.000000\n",
      "75%           2.000000\n",
      "max         974.000000\n",
      "Name: Design Rules, dtype: float64\n",
      "Casos distintos de 0:  83506\n"
     ]
    },
    {
     "data": {
      "image/png": "[encoded data removed]",
      "text/plain": [
       "<matplotlib.figure.Figure at 0x1b681271f98>"
      ]
     },
     "metadata": {},
     "output_type": "display_data"
    }
   ],
   "source": [
    "lookRuleAtt(\"Design Rules\")"
   ]
  },
  {
   "cell_type": "markdown",
   "metadata": {},
   "source": [
    "#### 11.14) Documentation Metric Rules"
   ]
  },
  {
   "cell_type": "code",
   "execution_count": 186,
   "metadata": {},
   "outputs": [
    {
     "name": "stdout",
     "output_type": "stream",
     "text": [
      "count    182671.000000\n",
      "mean         16.247461\n",
      "std          26.553757\n",
      "min           0.000000\n",
      "25%           5.000000\n",
      "50%           9.000000\n",
      "75%          17.000000\n",
      "max        1435.000000\n",
      "Name: Documentation Metric Rules, dtype: float64\n",
      "Casos distintos de 0:  180230\n"
     ]
    },
    {
     "data": {
      "image/png": "[encoded data removed]",
      "text/plain": [
       "<matplotlib.figure.Figure at 0x1b6808e6668>"
      ]
     },
     "metadata": {},
     "output_type": "display_data"
    }
   ],
   "source": [
    "lookRuleAtt(\"Documentation Metric Rules\")"
   ]
  },
  {
   "cell_type": "markdown",
   "metadata": {},
   "source": [
    "Este tipo de reglas sigue una distribución diferente a las que hemos visto hasta ahora."
   ]
  },
  {
   "cell_type": "markdown",
   "metadata": {},
   "source": [
    "#### 11.15) Empty Code Rules"
   ]
  },
  {
   "cell_type": "code",
   "execution_count": 187,
   "metadata": {},
   "outputs": [
    {
     "name": "stdout",
     "output_type": "stream",
     "text": [
      "count    182671.000000\n",
      "mean          0.040116\n",
      "std           0.617920\n",
      "min           0.000000\n",
      "25%           0.000000\n",
      "50%           0.000000\n",
      "75%           0.000000\n",
      "max         150.000000\n",
      "Name: Empty Code Rules, dtype: float64\n",
      "Casos distintos de 0:  3601\n"
     ]
    }
   ],
   "source": [
    "lookRuleAtt(\"Empty Code Rules\")"
   ]
  },
  {
   "cell_type": "markdown",
   "metadata": {},
   "source": [
    "Al haber tan pocos casos distintos de 0, se puede eliminar."
   ]
  },
  {
   "cell_type": "code",
   "execution_count": 188,
   "metadata": {
    "collapsed": true
   },
   "outputs": [],
   "source": [
    "classes_df = classes_df.drop(\"Empty Code Rules\", 1)"
   ]
  },
  {
   "cell_type": "markdown",
   "metadata": {},
   "source": [
    "#### 11.16) Finalizer Rules"
   ]
  },
  {
   "cell_type": "code",
   "execution_count": 189,
   "metadata": {},
   "outputs": [
    {
     "name": "stdout",
     "output_type": "stream",
     "text": [
      "count    182671.000000\n",
      "mean          0.000422\n",
      "std           0.031475\n",
      "min           0.000000\n",
      "25%           0.000000\n",
      "50%           0.000000\n",
      "75%           0.000000\n",
      "max           7.000000\n",
      "Name: Finalizer Rules, dtype: float64\n",
      "Casos distintos de 0:  56\n"
     ]
    }
   ],
   "source": [
    "lookRuleAtt(\"Finalizer Rules\")"
   ]
  },
  {
   "cell_type": "markdown",
   "metadata": {},
   "source": [
    "Al haber tan pocos casos distintos de 0 se puede eliminar."
   ]
  },
  {
   "cell_type": "code",
   "execution_count": 190,
   "metadata": {
    "collapsed": true
   },
   "outputs": [],
   "source": [
    "classes_df = classes_df.drop(\"Finalizer Rules\", 1)"
   ]
  },
  {
   "cell_type": "markdown",
   "metadata": {},
   "source": [
    "#### 11.17) Import Statement Rules"
   ]
  },
  {
   "cell_type": "code",
   "execution_count": 191,
   "metadata": {},
   "outputs": [
    {
     "name": "stdout",
     "output_type": "stream",
     "text": [
      "count    182671.000000\n",
      "mean          0.064898\n",
      "std           1.248128\n",
      "min           0.000000\n",
      "25%           0.000000\n",
      "50%           0.000000\n",
      "75%           0.000000\n",
      "max         102.000000\n",
      "Name: Import Statement Rules, dtype: float64\n",
      "Casos distintos de 0:  2854\n"
     ]
    }
   ],
   "source": [
    "lookRuleAtt(\"Import Statement Rules\")"
   ]
  },
  {
   "cell_type": "markdown",
   "metadata": {},
   "source": [
    "Al haber tan pocos casos distintos de 0 se puede eliminar."
   ]
  },
  {
   "cell_type": "code",
   "execution_count": 192,
   "metadata": {
    "collapsed": true
   },
   "outputs": [],
   "source": [
    "classes_df = classes_df.drop(\"Import Statement Rules\", 1)"
   ]
  },
  {
   "cell_type": "markdown",
   "metadata": {},
   "source": [
    "#### 11.18) Inheritance Metric Rules"
   ]
  },
  {
   "cell_type": "code",
   "execution_count": 193,
   "metadata": {},
   "outputs": [
    {
     "name": "stdout",
     "output_type": "stream",
     "text": [
      "count    182671.000000\n",
      "mean          0.122603\n",
      "std           0.850055\n",
      "min           0.000000\n",
      "25%           0.000000\n",
      "50%           0.000000\n",
      "75%           0.000000\n",
      "max         146.000000\n",
      "Name: Inheritance Metric Rules, dtype: float64\n",
      "Casos distintos de 0:  16156\n"
     ]
    },
    {
     "data": {
      "image/png": "[encoded data removed]",
      "text/plain": [
       "<matplotlib.figure.Figure at 0x1b6dc50d240>"
      ]
     },
     "metadata": {},
     "output_type": "display_data"
    }
   ],
   "source": [
    "lookRuleAtt(\"Inheritance Metric Rules\")"
   ]
  },
  {
   "cell_type": "markdown",
   "metadata": {},
   "source": [
    "#### 11.19) J2EE Rules"
   ]
  },
  {
   "cell_type": "code",
   "execution_count": 194,
   "metadata": {},
   "outputs": [
    {
     "name": "stdout",
     "output_type": "stream",
     "text": [
      "count    182671.000000\n",
      "mean          0.003164\n",
      "std           0.078866\n",
      "min           0.000000\n",
      "25%           0.000000\n",
      "50%           0.000000\n",
      "75%           0.000000\n",
      "max           6.000000\n",
      "Name: J2EE Rules, dtype: float64\n",
      "Casos distintos de 0:  406\n"
     ]
    }
   ],
   "source": [
    "lookRuleAtt(\"J2EE Rules\")"
   ]
  },
  {
   "cell_type": "markdown",
   "metadata": {},
   "source": [
    "Hay muy pocos casos distintos de 0, se podría eliminar."
   ]
  },
  {
   "cell_type": "code",
   "execution_count": 195,
   "metadata": {
    "collapsed": true
   },
   "outputs": [],
   "source": [
    "classes_df = classes_df.drop(\"J2EE Rules\", 1)"
   ]
  },
  {
   "cell_type": "markdown",
   "metadata": {},
   "source": [
    "#### 11.20) JUnit Rules"
   ]
  },
  {
   "cell_type": "code",
   "execution_count": 196,
   "metadata": {},
   "outputs": [
    {
     "name": "stdout",
     "output_type": "stream",
     "text": [
      "count    182671.000000\n",
      "mean          1.272123\n",
      "std          18.448408\n",
      "min           0.000000\n",
      "25%           0.000000\n",
      "50%           0.000000\n",
      "75%           0.000000\n",
      "max        2320.000000\n",
      "Name: JUnit Rules, dtype: float64\n",
      "Casos distintos de 0:  18760\n"
     ]
    },
    {
     "data": {
      "image/png": "[encoded data removed]",
      "text/plain": [
       "<matplotlib.figure.Figure at 0x1b6dc441cf8>"
      ]
     },
     "metadata": {},
     "output_type": "display_data"
    }
   ],
   "source": [
    "lookRuleAtt(\"JUnit Rules\")"
   ]
  },
  {
   "cell_type": "markdown",
   "metadata": {},
   "source": [
    "#### 11.21) Jakarta Commons Logging Rules"
   ]
  },
  {
   "cell_type": "code",
   "execution_count": 197,
   "metadata": {},
   "outputs": [
    {
     "name": "stdout",
     "output_type": "stream",
     "text": [
      "count    182671.000000\n",
      "mean          0.039776\n",
      "std           0.432509\n",
      "min           0.000000\n",
      "25%           0.000000\n",
      "50%           0.000000\n",
      "75%           0.000000\n",
      "max          17.000000\n",
      "Name: Jakarta Commons Logging Rules, dtype: float64\n",
      "Casos distintos de 0:  3103\n"
     ]
    }
   ],
   "source": [
    "lookRuleAtt(\"Jakarta Commons Logging Rules\")"
   ]
  },
  {
   "cell_type": "markdown",
   "metadata": {},
   "source": [
    "Hay muy pocos valores distintos de 0, se puede eliminar."
   ]
  },
  {
   "cell_type": "code",
   "execution_count": 198,
   "metadata": {
    "collapsed": true
   },
   "outputs": [],
   "source": [
    "classes_df = classes_df.drop(\"Jakarta Commons Logging Rules\", 1)"
   ]
  },
  {
   "cell_type": "markdown",
   "metadata": {},
   "source": [
    "#### 11.22) Java Logging Rules"
   ]
  },
  {
   "cell_type": "code",
   "execution_count": 199,
   "metadata": {},
   "outputs": [
    {
     "name": "stdout",
     "output_type": "stream",
     "text": [
      "count    182671.000000\n",
      "mean          0.141046\n",
      "std           1.160034\n",
      "min           0.000000\n",
      "25%           0.000000\n",
      "50%           0.000000\n",
      "75%           0.000000\n",
      "max          62.000000\n",
      "Name: Java Logging Rules, dtype: float64\n",
      "Casos distintos de 0:  8605\n"
     ]
    }
   ],
   "source": [
    "lookRuleAtt(\"Java Logging Rules\")"
   ]
  },
  {
   "cell_type": "markdown",
   "metadata": {},
   "source": [
    "Hay muy pocos casos distintos de 0, se podría eliminar."
   ]
  },
  {
   "cell_type": "code",
   "execution_count": 200,
   "metadata": {
    "collapsed": true
   },
   "outputs": [],
   "source": [
    "classes_df = classes_df.drop(\"Java Logging Rules\", 1)"
   ]
  },
  {
   "cell_type": "markdown",
   "metadata": {},
   "source": [
    "#### 11.23) JavaBean Rules"
   ]
  },
  {
   "cell_type": "code",
   "execution_count": 201,
   "metadata": {},
   "outputs": [
    {
     "name": "stdout",
     "output_type": "stream",
     "text": [
      "count    182671.000000\n",
      "mean          0.014534\n",
      "std           0.159178\n",
      "min           0.000000\n",
      "25%           0.000000\n",
      "50%           0.000000\n",
      "75%           0.000000\n",
      "max          17.000000\n",
      "Name: JavaBean Rules, dtype: float64\n",
      "Casos distintos de 0:  2207\n"
     ]
    }
   ],
   "source": [
    "lookRuleAtt(\"JavaBean Rules\")"
   ]
  },
  {
   "cell_type": "markdown",
   "metadata": {},
   "source": [
    "Hay muy pocos casos distintos de 0, se podrían eliminar."
   ]
  },
  {
   "cell_type": "code",
   "execution_count": 202,
   "metadata": {
    "collapsed": true
   },
   "outputs": [],
   "source": [
    "classes_df = classes_df.drop(\"JavaBean Rules\", 1)"
   ]
  },
  {
   "cell_type": "markdown",
   "metadata": {},
   "source": [
    "#### 11.24) MigratingToJUnit4 Rules"
   ]
  },
  {
   "cell_type": "code",
   "execution_count": 203,
   "metadata": {},
   "outputs": [
    {
     "name": "stdout",
     "output_type": "stream",
     "text": [
      "count    182671.0\n",
      "mean          0.0\n",
      "std           0.0\n",
      "min           0.0\n",
      "25%           0.0\n",
      "50%           0.0\n",
      "75%           0.0\n",
      "max           0.0\n",
      "Name: MigratingToJUnit4 Rules, dtype: float64\n",
      "Casos distintos de 0:  0\n"
     ]
    }
   ],
   "source": [
    "lookRuleAtt(\"MigratingToJUnit4 Rules\")"
   ]
  },
  {
   "cell_type": "markdown",
   "metadata": {},
   "source": [
    "Todos los valores son 0, hay que eliminar la variable."
   ]
  },
  {
   "cell_type": "code",
   "execution_count": 204,
   "metadata": {
    "collapsed": true
   },
   "outputs": [],
   "source": [
    "classes_df = classes_df.drop(\"MigratingToJUnit4 Rules\", 1)"
   ]
  },
  {
   "cell_type": "markdown",
   "metadata": {},
   "source": [
    "#### 11.25) Migration Rules"
   ]
  },
  {
   "cell_type": "code",
   "execution_count": 205,
   "metadata": {},
   "outputs": [
    {
     "name": "stdout",
     "output_type": "stream",
     "text": [
      "count    182671.000000\n",
      "mean          0.064241\n",
      "std           6.162568\n",
      "min           0.000000\n",
      "25%           0.000000\n",
      "50%           0.000000\n",
      "75%           0.000000\n",
      "max         980.000000\n",
      "Name: Migration Rules, dtype: float64\n",
      "Casos distintos de 0:  711\n"
     ]
    }
   ],
   "source": [
    "lookRuleAtt(\"Migration Rules\")"
   ]
  },
  {
   "cell_type": "markdown",
   "metadata": {},
   "source": [
    "Hay muy pocos valores con un valor distinto de 0, se podría eliminar."
   ]
  },
  {
   "cell_type": "code",
   "execution_count": 206,
   "metadata": {
    "collapsed": true
   },
   "outputs": [],
   "source": [
    "classes_df = classes_df.drop(\"Migration Rules\", 1)"
   ]
  },
  {
   "cell_type": "markdown",
   "metadata": {},
   "source": [
    "#### 11.26) Migration13 Rules"
   ]
  },
  {
   "cell_type": "code",
   "execution_count": 207,
   "metadata": {},
   "outputs": [
    {
     "name": "stdout",
     "output_type": "stream",
     "text": [
      "count    182671.0\n",
      "mean          0.0\n",
      "std           0.0\n",
      "min           0.0\n",
      "25%           0.0\n",
      "50%           0.0\n",
      "75%           0.0\n",
      "max           0.0\n",
      "Name: Migration13 Rules, dtype: float64\n",
      "Casos distintos de 0:  0\n"
     ]
    }
   ],
   "source": [
    "lookRuleAtt(\"Migration13 Rules\")"
   ]
  },
  {
   "cell_type": "markdown",
   "metadata": {},
   "source": [
    "Todos los valores son 0, se puede eliminar."
   ]
  },
  {
   "cell_type": "code",
   "execution_count": 208,
   "metadata": {
    "collapsed": true
   },
   "outputs": [],
   "source": [
    "classes_df = classes_df.drop(\"Migration13 Rules\", 1)"
   ]
  },
  {
   "cell_type": "markdown",
   "metadata": {},
   "source": [
    "#### 11.27) Migration14 Rules"
   ]
  },
  {
   "cell_type": "code",
   "execution_count": 209,
   "metadata": {},
   "outputs": [
    {
     "name": "stdout",
     "output_type": "stream",
     "text": [
      "count    182671.0\n",
      "mean          0.0\n",
      "std           0.0\n",
      "min           0.0\n",
      "25%           0.0\n",
      "50%           0.0\n",
      "75%           0.0\n",
      "max           0.0\n",
      "Name: Migration14 Rules, dtype: float64\n",
      "Casos distintos de 0:  0\n"
     ]
    }
   ],
   "source": [
    "lookRuleAtt(\"Migration14 Rules\")"
   ]
  },
  {
   "cell_type": "markdown",
   "metadata": {},
   "source": [
    "Todos los valores son 0, se pueden eliminar."
   ]
  },
  {
   "cell_type": "code",
   "execution_count": 210,
   "metadata": {
    "collapsed": true
   },
   "outputs": [],
   "source": [
    "classes_df = classes_df.drop(\"Migration14 Rules\", 1)"
   ]
  },
  {
   "cell_type": "markdown",
   "metadata": {},
   "source": [
    "#### 11.28) Migration15 Rules"
   ]
  },
  {
   "cell_type": "code",
   "execution_count": 211,
   "metadata": {},
   "outputs": [
    {
     "name": "stdout",
     "output_type": "stream",
     "text": [
      "count    182671.0\n",
      "mean          0.0\n",
      "std           0.0\n",
      "min           0.0\n",
      "25%           0.0\n",
      "50%           0.0\n",
      "75%           0.0\n",
      "max           0.0\n",
      "Name: Migration15 Rules, dtype: float64\n",
      "Casos distintos de 0:  0\n"
     ]
    }
   ],
   "source": [
    "lookRuleAtt(\"Migration15 Rules\")"
   ]
  },
  {
   "cell_type": "markdown",
   "metadata": {},
   "source": [
    "Todos los valores son 0, se pueden eliminar."
   ]
  },
  {
   "cell_type": "code",
   "execution_count": 212,
   "metadata": {
    "collapsed": true
   },
   "outputs": [],
   "source": [
    "classes_df = classes_df.drop(\"Migration15 Rules\", 1)"
   ]
  },
  {
   "cell_type": "markdown",
   "metadata": {},
   "source": [
    "#### 11.29) Naming Rules"
   ]
  },
  {
   "cell_type": "code",
   "execution_count": 213,
   "metadata": {},
   "outputs": [
    {
     "name": "stdout",
     "output_type": "stream",
     "text": [
      "count    182671.000000\n",
      "mean          0.537918\n",
      "std           3.168406\n",
      "min           0.000000\n",
      "25%           0.000000\n",
      "50%           0.000000\n",
      "75%           0.000000\n",
      "max         727.000000\n",
      "Name: Naming Rules, dtype: float64\n",
      "Casos distintos de 0:  29202\n"
     ]
    },
    {
     "data": {
      "image/png": "[encoded data removed]",
      "text/plain": [
       "<matplotlib.figure.Figure at 0x1b680a9b6d8>"
      ]
     },
     "metadata": {},
     "output_type": "display_data"
    }
   ],
   "source": [
    "lookRuleAtt(\"Naming Rules\")"
   ]
  },
  {
   "cell_type": "markdown",
   "metadata": {},
   "source": [
    "#### 11.30) Optimization Rules"
   ]
  },
  {
   "cell_type": "code",
   "execution_count": 214,
   "metadata": {},
   "outputs": [
    {
     "name": "stdout",
     "output_type": "stream",
     "text": [
      "count    182671.000000\n",
      "mean          0.144703\n",
      "std           0.872831\n",
      "min           0.000000\n",
      "25%           0.000000\n",
      "50%           0.000000\n",
      "75%           0.000000\n",
      "max          58.000000\n",
      "Name: Optimization Rules, dtype: float64\n",
      "Casos distintos de 0:  12629\n"
     ]
    },
    {
     "data": {
      "image/png": "[encoded data removed]",
      "text/plain": [
       "<matplotlib.figure.Figure at 0x1b6fc04cb70>"
      ]
     },
     "metadata": {},
     "output_type": "display_data"
    }
   ],
   "source": [
    "lookRuleAtt(\"Optimization Rules\")"
   ]
  },
  {
   "cell_type": "markdown",
   "metadata": {},
   "source": [
    "#### 11.31) Security Code Guideline Rules"
   ]
  },
  {
   "cell_type": "code",
   "execution_count": 215,
   "metadata": {},
   "outputs": [
    {
     "name": "stdout",
     "output_type": "stream",
     "text": [
      "count    182671.000000\n",
      "mean          0.059035\n",
      "std           0.427777\n",
      "min           0.000000\n",
      "25%           0.000000\n",
      "50%           0.000000\n",
      "75%           0.000000\n",
      "max          20.000000\n",
      "Name: Security Code Guideline Rules, dtype: float64\n",
      "Casos distintos de 0:  5478\n"
     ]
    }
   ],
   "source": [
    "lookRuleAtt(\"Security Code Guideline Rules\")"
   ]
  },
  {
   "cell_type": "markdown",
   "metadata": {},
   "source": [
    "Hay muy pocos casos, podemos eliminar esta variable."
   ]
  },
  {
   "cell_type": "code",
   "execution_count": 216,
   "metadata": {
    "collapsed": true
   },
   "outputs": [],
   "source": [
    "classes_df = classes_df.drop(\"Security Code Guideline Rules\", 1)"
   ]
  },
  {
   "cell_type": "markdown",
   "metadata": {},
   "source": [
    "#### 11.32) Size Metric Rules"
   ]
  },
  {
   "cell_type": "code",
   "execution_count": 217,
   "metadata": {},
   "outputs": [
    {
     "name": "stdout",
     "output_type": "stream",
     "text": [
      "count    182671.000000\n",
      "mean          1.812970\n",
      "std           4.613155\n",
      "min           0.000000\n",
      "25%           0.000000\n",
      "50%           0.000000\n",
      "75%           2.000000\n",
      "max         364.000000\n",
      "Name: Size Metric Rules, dtype: float64\n",
      "Casos distintos de 0:  66108\n"
     ]
    },
    {
     "data": {
      "image/png": "[encoded data removed]",
      "text/plain": [
       "<matplotlib.figure.Figure at 0x1b680a06588>"
      ]
     },
     "metadata": {},
     "output_type": "display_data"
    }
   ],
   "source": [
    "lookRuleAtt(\"Size Metric Rules\")"
   ]
  },
  {
   "cell_type": "markdown",
   "metadata": {},
   "source": [
    "#### 11.33) Strict Exception Rules"
   ]
  },
  {
   "cell_type": "code",
   "execution_count": 218,
   "metadata": {},
   "outputs": [
    {
     "name": "stdout",
     "output_type": "stream",
     "text": [
      "count    182671.000000\n",
      "mean          0.291573\n",
      "std           1.986477\n",
      "min           0.000000\n",
      "25%           0.000000\n",
      "50%           0.000000\n",
      "75%           0.000000\n",
      "max         201.000000\n",
      "Name: Strict Exception Rules, dtype: float64\n",
      "Casos distintos de 0:  21831\n"
     ]
    },
    {
     "data": {
      "image/png": "[encoded data removed]",
      "text/plain": [
       "<matplotlib.figure.Figure at 0x1b6dc41dc50>"
      ]
     },
     "metadata": {},
     "output_type": "display_data"
    }
   ],
   "source": [
    "lookRuleAtt(\"Strict Exception Rules\")"
   ]
  },
  {
   "cell_type": "markdown",
   "metadata": {},
   "source": [
    "#### 11.34) String and StringBuffer Rules"
   ]
  },
  {
   "cell_type": "code",
   "execution_count": 219,
   "metadata": {},
   "outputs": [
    {
     "name": "stdout",
     "output_type": "stream",
     "text": [
      "count    182671.000000\n",
      "mean          0.348583\n",
      "std          10.201343\n",
      "min           0.000000\n",
      "25%           0.000000\n",
      "50%           0.000000\n",
      "75%           0.000000\n",
      "max        4264.000000\n",
      "Name: String and StringBuffer Rules, dtype: float64\n",
      "Casos distintos de 0:  14911\n"
     ]
    },
    {
     "data": {
      "image/png": "[encoded data removed]",
      "text/plain": [
       "<matplotlib.figure.Figure at 0x1b6808add30>"
      ]
     },
     "metadata": {},
     "output_type": "display_data"
    }
   ],
   "source": [
    "lookRuleAtt(\"String and StringBuffer Rules\")"
   ]
  },
  {
   "cell_type": "markdown",
   "metadata": {},
   "source": [
    "#### 11.35) Type Resolution Rules"
   ]
  },
  {
   "cell_type": "code",
   "execution_count": 220,
   "metadata": {},
   "outputs": [
    {
     "name": "stdout",
     "output_type": "stream",
     "text": [
      "count    182671.000000\n",
      "mean          0.441044\n",
      "std           2.172022\n",
      "min           0.000000\n",
      "25%           0.000000\n",
      "50%           0.000000\n",
      "75%           0.000000\n",
      "max         113.000000\n",
      "Name: Type Resolution Rules, dtype: float64\n",
      "Casos distintos de 0:  27268\n"
     ]
    },
    {
     "data": {
      "image/png": "[encoded data removed]",
      "text/plain": [
       "<matplotlib.figure.Figure at 0x1b6dc4805f8>"
      ]
     },
     "metadata": {},
     "output_type": "display_data"
    }
   ],
   "source": [
    "lookRuleAtt(\"Type Resolution Rules\")"
   ]
  },
  {
   "cell_type": "markdown",
   "metadata": {},
   "source": [
    "#### 11.36) Unnecessary and Unused Code Rules"
   ]
  },
  {
   "cell_type": "code",
   "execution_count": 221,
   "metadata": {},
   "outputs": [
    {
     "name": "stdout",
     "output_type": "stream",
     "text": [
      "count    182671.000000\n",
      "mean          0.196107\n",
      "std           6.257042\n",
      "min           0.000000\n",
      "25%           0.000000\n",
      "50%           0.000000\n",
      "75%           0.000000\n",
      "max         941.000000\n",
      "Name: Unnecessary and Unused Code Rules, dtype: float64\n",
      "Casos distintos de 0:  7428\n"
     ]
    }
   ],
   "source": [
    "lookRuleAtt(\"Unnecessary and Unused Code Rules\")"
   ]
  },
  {
   "cell_type": "markdown",
   "metadata": {},
   "source": [
    "Muy pocos casos, podemos descartar la variable."
   ]
  },
  {
   "cell_type": "code",
   "execution_count": 222,
   "metadata": {
    "collapsed": true
   },
   "outputs": [],
   "source": [
    "classes_df = classes_df.drop(\"Unnecessary and Unused Code Rules\", 1)"
   ]
  },
  {
   "cell_type": "markdown",
   "metadata": {},
   "source": [
    "#### 11.37) Vulnerability Rules"
   ]
  },
  {
   "cell_type": "code",
   "execution_count": 223,
   "metadata": {},
   "outputs": [
    {
     "name": "stdout",
     "output_type": "stream",
     "text": [
      "count    182671.000000\n",
      "mean          0.000066\n",
      "std           0.008105\n",
      "min           0.000000\n",
      "25%           0.000000\n",
      "50%           0.000000\n",
      "75%           0.000000\n",
      "max           1.000000\n",
      "Name: Vulnerability Rules, dtype: float64\n",
      "Casos distintos de 0:  12\n"
     ]
    }
   ],
   "source": [
    "lookRuleAtt(\"Vulnerability Rules\")"
   ]
  },
  {
   "cell_type": "markdown",
   "metadata": {},
   "source": [
    "Al haber solo 12 casos podemos eliminar la variable."
   ]
  },
  {
   "cell_type": "code",
   "execution_count": 224,
   "metadata": {
    "collapsed": true
   },
   "outputs": [],
   "source": [
    "classes_df = classes_df.drop(\"Vulnerability Rules\", 1)"
   ]
  },
  {
   "cell_type": "markdown",
   "metadata": {},
   "source": [
    "#### Resumen medidas de violaciones de reglas"
   ]
  },
  {
   "cell_type": "markdown",
   "metadata": {},
   "source": [
    "Lo que se puede ver como regla general es que la gran mayoría de todos los casos son 0. Igual se pueden binarizar las variables o bien crear una variable construida a partir de todas ellas con una unión lógica, para indicar si viola alguna regla o no, en lugar de indicar el tipo del error y el número de errores como hasta ahora."
   ]
  },
  {
   "cell_type": "markdown",
   "metadata": {},
   "source": [
    "### 12) Conclusiones"
   ]
  },
  {
   "cell_type": "code",
   "execution_count": 225,
   "metadata": {},
   "outputs": [
    {
     "name": "stdout",
     "output_type": "stream",
     "text": [
      "Número de variables final:  71\n"
     ]
    }
   ],
   "source": [
    "print(\"Número de variables final: \", len(classes_df.columns) - 1)"
   ]
  },
  {
   "cell_type": "code",
   "execution_count": 228,
   "metadata": {
    "collapsed": true
   },
   "outputs": [],
   "source": [
    "#classes_df.to_csv(input_data + \"classes_processed_v1.csv\", index=False)"
   ]
  }
 ],
 "metadata": {
  "kernelspec": {
   "display_name": "Python 3",
   "language": "python",
   "name": "python3"
  },
  "language_info": {
   "codemirror_mode": {
    "name": "ipython",
    "version": 3
   },
   "file_extension": ".py",
   "mimetype": "text/x-python",
   "name": "python",
   "nbconvert_exporter": "python",
   "pygments_lexer": "ipython3",
   "version": "3.6.2"
  }
 },
 "nbformat": 4,
 "nbformat_minor": 2
}
